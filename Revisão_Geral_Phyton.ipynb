{
  "nbformat": 4,
  "nbformat_minor": 0,
  "metadata": {
    "colab": {
      "provenance": [],
      "authorship_tag": "ABX9TyPxJqKi3eQLXjiJGLlxtMiZ",
      "include_colab_link": true
    },
    "kernelspec": {
      "name": "python3",
      "display_name": "Python 3"
    },
    "language_info": {
      "name": "python"
    }
  },
  "cells": [
    {
      "cell_type": "markdown",
      "metadata": {
        "id": "view-in-github",
        "colab_type": "text"
      },
      "source": [
        "<a href=\"https://colab.research.google.com/github/filipematttos/AnaliseDados/blob/main/Revis%C3%A3o_Geral_Phyton.ipynb\" target=\"_parent\"><img src=\"https://colab.research.google.com/assets/colab-badge.svg\" alt=\"Open In Colab\"/></a>"
      ]
    },
    {
      "cell_type": "markdown",
      "source": [
        "**Trabalhando com váriáveis:**\n",
        "* int = inteiro;\n",
        "* float = decimal;\n",
        "* str = string (texto);\n",
        "* bolean = lógico.\n",
        "\n",
        "**Para criar nome de variáveis:**\n",
        "* começar com letras e não com números;\n",
        "* não conter espaço em branco;\n",
        "* preferencialmente com letras minúsculas."
      ],
      "metadata": {
        "id": "ka5cPWLFDdip"
      }
    },
    {
      "cell_type": "code",
      "source": [
        "nome = 'Rita'"
      ],
      "metadata": {
        "id": "Goeps0HKD9Io"
      },
      "execution_count": null,
      "outputs": []
    },
    {
      "cell_type": "code",
      "source": [
        "print(nome)"
      ],
      "metadata": {
        "colab": {
          "base_uri": "https://localhost:8080/"
        },
        "id": "RL8640sLEOh1",
        "outputId": "cea93e20-28bc-4653-e5f1-663e9cb66664"
      },
      "execution_count": null,
      "outputs": [
        {
          "output_type": "stream",
          "name": "stdout",
          "text": [
            "Rita\n"
          ]
        }
      ]
    },
    {
      "cell_type": "code",
      "source": [
        "nome = 'Lucas'\n",
        "print(nome)"
      ],
      "metadata": {
        "colab": {
          "base_uri": "https://localhost:8080/"
        },
        "id": "rw-UP1XvEPyf",
        "outputId": "99002799-fa8a-4160-e446-063f964d6c65"
      },
      "execution_count": null,
      "outputs": [
        {
          "output_type": "stream",
          "name": "stdout",
          "text": [
            "Lucas\n"
          ]
        }
      ]
    },
    {
      "cell_type": "code",
      "source": [
        "nome_da_pessoa = ('Filipe Matos')"
      ],
      "metadata": {
        "id": "cZR03seCESxN"
      },
      "execution_count": null,
      "outputs": []
    },
    {
      "cell_type": "code",
      "source": [
        "print(nome_da_pessoa)"
      ],
      "metadata": {
        "colab": {
          "base_uri": "https://localhost:8080/"
        },
        "id": "oDTrU6dLEZO2",
        "outputId": "ee81acf8-819c-4159-a87f-7471582c0229"
      },
      "execution_count": null,
      "outputs": [
        {
          "output_type": "stream",
          "name": "stdout",
          "text": [
            "Filipe Matos\n"
          ]
        }
      ]
    },
    {
      "cell_type": "code",
      "source": [
        "123nome = 'Rita' #não aceita criar variável começando com números"
      ],
      "metadata": {
        "colab": {
          "base_uri": "https://localhost:8080/",
          "height": 140
        },
        "id": "J5MdYrBnEcDf",
        "outputId": "c5c2ddd4-53a3-43fd-f10f-a37e4d126d2f"
      },
      "execution_count": null,
      "outputs": [
        {
          "output_type": "error",
          "ename": "SyntaxError",
          "evalue": "ignored",
          "traceback": [
            "\u001b[0;36m  File \u001b[0;32m\"<ipython-input-7-72e8839d6dcf>\"\u001b[0;36m, line \u001b[0;32m1\u001b[0m\n\u001b[0;31m    123nome = 'Rita'\u001b[0m\n\u001b[0m      ^\u001b[0m\n\u001b[0;31mSyntaxError\u001b[0m\u001b[0;31m:\u001b[0m invalid decimal literal\n"
          ]
        }
      ]
    },
    {
      "cell_type": "code",
      "source": [
        "Nome = 'Fil' #aceita, mas não é uma boa prática"
      ],
      "metadata": {
        "id": "plCaiepFEf21"
      },
      "execution_count": null,
      "outputs": []
    },
    {
      "cell_type": "code",
      "source": [
        "print(Nome)"
      ],
      "metadata": {
        "colab": {
          "base_uri": "https://localhost:8080/"
        },
        "id": "PaUmxdqJEzD3",
        "outputId": "9eba27c3-3334-468f-c336-bf077a06b4a0"
      },
      "execution_count": null,
      "outputs": [
        {
          "output_type": "stream",
          "name": "stdout",
          "text": [
            "Fil\n"
          ]
        }
      ]
    },
    {
      "cell_type": "code",
      "source": [
        "numero = 10"
      ],
      "metadata": {
        "id": "hE5PdRYmE0kV"
      },
      "execution_count": null,
      "outputs": []
    },
    {
      "cell_type": "code",
      "source": [
        "print(numero)"
      ],
      "metadata": {
        "colab": {
          "base_uri": "https://localhost:8080/"
        },
        "id": "7yu4-52oE6Cd",
        "outputId": "be50a744-0fdb-4832-8543-9ccd7a88839c"
      },
      "execution_count": null,
      "outputs": [
        {
          "output_type": "stream",
          "name": "stdout",
          "text": [
            "10\n"
          ]
        }
      ]
    },
    {
      "cell_type": "code",
      "source": [
        "nome = 'Mara'\n",
        "print(nome)"
      ],
      "metadata": {
        "colab": {
          "base_uri": "https://localhost:8080/"
        },
        "id": "A7ISaLWVE8a_",
        "outputId": "bd3b5347-0b8c-415f-9ee8-f31dde46936f"
      },
      "execution_count": null,
      "outputs": [
        {
          "output_type": "stream",
          "name": "stdout",
          "text": [
            "Mara\n"
          ]
        }
      ]
    },
    {
      "cell_type": "code",
      "source": [
        "type(numero) #phyton já reconhecer que a variável é inteira"
      ],
      "metadata": {
        "colab": {
          "base_uri": "https://localhost:8080/"
        },
        "id": "LMLXCJwtFCI2",
        "outputId": "ec8eb3ae-b812-4922-9300-6f011829bb43"
      },
      "execution_count": null,
      "outputs": [
        {
          "output_type": "execute_result",
          "data": {
            "text/plain": [
              "int"
            ]
          },
          "metadata": {},
          "execution_count": 15
        }
      ]
    },
    {
      "cell_type": "code",
      "source": [
        "type(nome) #phyton já reconhece que a variável é texto"
      ],
      "metadata": {
        "colab": {
          "base_uri": "https://localhost:8080/"
        },
        "id": "xewB0H-0FErf",
        "outputId": "f104d6c9-50f4-4d2d-91b6-e098556642c8"
      },
      "execution_count": null,
      "outputs": [
        {
          "output_type": "execute_result",
          "data": {
            "text/plain": [
              "str"
            ]
          },
          "metadata": {},
          "execution_count": 16
        }
      ]
    },
    {
      "cell_type": "code",
      "source": [
        "nota = 5.7"
      ],
      "metadata": {
        "id": "IbEgLXU5FF6-"
      },
      "execution_count": null,
      "outputs": []
    },
    {
      "cell_type": "code",
      "source": [
        "type(nota)"
      ],
      "metadata": {
        "colab": {
          "base_uri": "https://localhost:8080/"
        },
        "id": "5ZskPMXuFWJ0",
        "outputId": "852bdcc8-eaec-4a12-8981-61e0d695ece7"
      },
      "execution_count": null,
      "outputs": [
        {
          "output_type": "execute_result",
          "data": {
            "text/plain": [
              "float"
            ]
          },
          "metadata": {},
          "execution_count": 18
        }
      ]
    },
    {
      "cell_type": "code",
      "source": [
        "a = 3\n",
        "b = 4\n",
        "c = a<b\n",
        "d = a>b\n",
        "e = a==b"
      ],
      "metadata": {
        "id": "09IHpor3FXAZ"
      },
      "execution_count": null,
      "outputs": []
    },
    {
      "cell_type": "code",
      "source": [
        "print('Valor de C:', c)\n",
        "print('Valor de D: ', d)\n",
        "print('Valor de A: ', a)"
      ],
      "metadata": {
        "colab": {
          "base_uri": "https://localhost:8080/"
        },
        "id": "y_-MTfSsFjLZ",
        "outputId": "c42a1058-22e3-45b8-dce3-8508822095a2"
      },
      "execution_count": null,
      "outputs": [
        {
          "output_type": "stream",
          "name": "stdout",
          "text": [
            "Valor de C: True\n",
            "Valor de D:  False\n",
            "Valor de A:  3\n"
          ]
        }
      ]
    },
    {
      "cell_type": "code",
      "source": [
        "nome = 'filipe' #para colocar em maiúsculo\n",
        "caixa_alta = nome.upper()\n",
        "print(caixa_alta)"
      ],
      "metadata": {
        "colab": {
          "base_uri": "https://localhost:8080/"
        },
        "id": "1aU98xruFu6n",
        "outputId": "34c7b9ce-46d8-4212-9910-66855cb657ce"
      },
      "execution_count": null,
      "outputs": [
        {
          "output_type": "stream",
          "name": "stdout",
          "text": [
            "FILIPE\n"
          ]
        }
      ]
    },
    {
      "cell_type": "code",
      "source": [
        "print(nome)"
      ],
      "metadata": {
        "colab": {
          "base_uri": "https://localhost:8080/"
        },
        "id": "Fsu7DzRAGI62",
        "outputId": "46877051-0dc8-49d8-b0f7-9f032cf9037f"
      },
      "execution_count": null,
      "outputs": [
        {
          "output_type": "stream",
          "name": "stdout",
          "text": [
            "Filipe\n"
          ]
        }
      ]
    },
    {
      "cell_type": "code",
      "source": [
        "primeira_letra_maiuscula = nome.capitalize()\n",
        "print(primeira_letra_maiuscula)"
      ],
      "metadata": {
        "colab": {
          "base_uri": "https://localhost:8080/"
        },
        "id": "a0izzxQCGKhJ",
        "outputId": "8d36dc20-1010-4fc0-ee55-45b25dc026cb"
      },
      "execution_count": null,
      "outputs": [
        {
          "output_type": "stream",
          "name": "stdout",
          "text": [
            "Filipe\n"
          ]
        }
      ]
    },
    {
      "cell_type": "code",
      "source": [
        "minuscula = nome.lower()"
      ],
      "metadata": {
        "id": "cmIaXYBtGYOJ"
      },
      "execution_count": null,
      "outputs": []
    },
    {
      "cell_type": "code",
      "source": [
        "print(minuscula)"
      ],
      "metadata": {
        "colab": {
          "base_uri": "https://localhost:8080/"
        },
        "id": "yscrK6jdGf9p",
        "outputId": "3c4eac54-fc11-40cb-a319-5807c3647731"
      },
      "execution_count": null,
      "outputs": [
        {
          "output_type": "stream",
          "name": "stdout",
          "text": [
            "filipe\n"
          ]
        }
      ]
    },
    {
      "cell_type": "code",
      "source": [],
      "metadata": {
        "id": "rKSxyvJTGhWZ"
      },
      "execution_count": null,
      "outputs": []
    },
    {
      "cell_type": "markdown",
      "source": [
        "1- **COMANDO INPUT :** Entrada de dados."
      ],
      "metadata": {
        "id": "niprfjY8Gjsf"
      }
    },
    {
      "cell_type": "code",
      "source": [
        "input('Qual seu nome?')"
      ],
      "metadata": {
        "colab": {
          "base_uri": "https://localhost:8080/",
          "height": 53
        },
        "id": "7L6fFlLhGoY9",
        "outputId": "3c4e6d31-5797-4d75-dac6-c6413e960c0d"
      },
      "execution_count": null,
      "outputs": [
        {
          "name": "stdout",
          "output_type": "stream",
          "text": [
            "Qual seu nome?Filipe\n"
          ]
        },
        {
          "output_type": "execute_result",
          "data": {
            "text/plain": [
              "'Filipe'"
            ],
            "application/vnd.google.colaboratory.intrinsic+json": {
              "type": "string"
            }
          },
          "metadata": {},
          "execution_count": 30
        }
      ]
    },
    {
      "cell_type": "code",
      "source": [
        "nome = input('Qual seu nome? ')\n",
        "idade = int(input('Qual sua idade?'))\n",
        "print('Seu nome é:'+ nome)\n",
        "print('Sua idade é :', idade)"
      ],
      "metadata": {
        "colab": {
          "base_uri": "https://localhost:8080/"
        },
        "id": "PIOd8cmrGslB",
        "outputId": "86df00e4-fdc2-4c1a-c472-c49ad39a1793"
      },
      "execution_count": null,
      "outputs": [
        {
          "output_type": "stream",
          "name": "stdout",
          "text": [
            "Qual seu nome? Filipe\n",
            "Qual sua idade?30\n",
            "Seu nome é:Filipe\n",
            "Sua idade é : 30\n"
          ]
        }
      ]
    },
    {
      "cell_type": "code",
      "source": [
        "nome = input('Qual seu nome ?')\n",
        "idade =  int(input('Qual sua idade?'))\n",
        "estado = input('Qual seu estado? ')\n",
        "\n",
        "print('Seu nome é:', nome, 'tem ', idade , 'anos e é do estado do ', estado )"
      ],
      "metadata": {
        "colab": {
          "base_uri": "https://localhost:8080/"
        },
        "id": "R0lZ3dB3G1J0",
        "outputId": "3dc7baef-20ee-4070-a05d-6248823c3f5c"
      },
      "execution_count": null,
      "outputs": [
        {
          "output_type": "stream",
          "name": "stdout",
          "text": [
            "Qual seu nome ?Filipe\n",
            "Qual sua idade?30\n",
            "Qual seu estado? Ceará\n",
            "Seu nome é: Filipe tem  30 anos e é do estado do  Ceará\n"
          ]
        }
      ]
    },
    {
      "cell_type": "code",
      "source": [],
      "metadata": {
        "id": "xQDnohgzIJ9o"
      },
      "execution_count": null,
      "outputs": []
    },
    {
      "cell_type": "markdown",
      "source": [
        "1 - Faça um programa que leia o nome do aluno e solicite 3 notas do mesmo e no final mostre a média:"
      ],
      "metadata": {
        "id": "wydnV5ZLLW9W"
      }
    },
    {
      "cell_type": "code",
      "source": [
        "nome = input('Qual nome do aluno?')\n",
        "nota1 = float(input('Nota 1: '))\n",
        "nota2 = float(input('Nota 2: '))\n",
        "nota3 = float(input('Nota 3: '))\n",
        "\n",
        "media = (nota1 + nota2 + nota3)/3\n",
        "\n",
        "print('O aluno', nome, 'teve média de:', media)"
      ],
      "metadata": {
        "colab": {
          "base_uri": "https://localhost:8080/"
        },
        "id": "DjWIUStKLbt0",
        "outputId": "cbbd4727-b769-421e-b996-8b7849c6d911"
      },
      "execution_count": null,
      "outputs": [
        {
          "output_type": "stream",
          "name": "stdout",
          "text": [
            "Qual nome do aluno?Lucas\n",
            "Nota 1: 7.5\n",
            "Nota 2: 2.3\n",
            "Nota 3: 10\n",
            "O aluno Lucas teve média de: 6.6000000000000005\n"
          ]
        }
      ]
    },
    {
      "cell_type": "code",
      "source": [
        "print(round(media,1))"
      ],
      "metadata": {
        "colab": {
          "base_uri": "https://localhost:8080/"
        },
        "id": "K8jcsRlkMJdt",
        "outputId": "a28dabb8-7ddb-4a26-f2e1-00cc1ab163ef"
      },
      "execution_count": null,
      "outputs": [
        {
          "output_type": "stream",
          "name": "stdout",
          "text": [
            "6.6\n"
          ]
        }
      ]
    },
    {
      "cell_type": "markdown",
      "source": [
        "2 - Faça um programa que solicite nome de 3 irmãos e mostre idade dos 3:"
      ],
      "metadata": {
        "id": "QQcyTkvAMjcp"
      }
    },
    {
      "cell_type": "code",
      "source": [
        "nome1 = input('Nome do primeiro irmão: ')\n",
        "nome2 = input('Nome do segundo irmão: ')\n",
        "nome3 = input('Nome do terceiro irmão: ')\n",
        "idade1 = int(input('Idade do primeiro irmão: '))\n",
        "idade2 = int(input('Idade do segundo irmão: '))\n",
        "idade3 = int(input('Idade do terceiro irmão: '))\n",
        "\n",
        "print('O', nome1, 'tem', idade1, 'anos')\n",
        "print('O', nome2, 'tem', idade2, 'anos')\n",
        "print('O', nome3, 'tem', idade3,'anos')\n"
      ],
      "metadata": {
        "colab": {
          "base_uri": "https://localhost:8080/"
        },
        "id": "YQv_YByYMsFV",
        "outputId": "ef4fde59-53ed-4eeb-dfd1-ca33ebdb9b68"
      },
      "execution_count": null,
      "outputs": [
        {
          "output_type": "stream",
          "name": "stdout",
          "text": [
            "Nome do primeiro irmão: Marinna\n",
            "Nome do segundo irmão: Lucas\n",
            "Nome do terceiro irmão: Filipe\n",
            "Idade do primeiro irmão: 14\n",
            "Idade do segundo irmão: 26\n",
            "Idade do terceiro irmão: 30\n",
            "O Marinna tem 14 anos\n",
            "O Lucas tem 26 anos\n",
            "O Filipe tem 30 anos\n"
          ]
        }
      ]
    },
    {
      "cell_type": "code",
      "source": [
        "nome = 'Filipe'\n",
        "\n",
        "print('Meu nome é: ' + nome)\n",
        "print(f'Meu nome é: { nome }')"
      ],
      "metadata": {
        "colab": {
          "base_uri": "https://localhost:8080/"
        },
        "id": "EV9cUa0PNSPq",
        "outputId": "f60687cb-9227-4325-f717-0b2c8c45fe9c"
      },
      "execution_count": null,
      "outputs": [
        {
          "output_type": "stream",
          "name": "stdout",
          "text": [
            "Meu nome é: Filipe\n",
            "Meu nome é: Filipe\n"
          ]
        }
      ]
    },
    {
      "cell_type": "code",
      "source": [
        "nome = 'Filipe'\n",
        "idade = 30"
      ],
      "metadata": {
        "id": "FAGpXqmUX0aa"
      },
      "execution_count": null,
      "outputs": []
    },
    {
      "cell_type": "code",
      "source": [
        "print(f'Meu nome é {nome} e tenho {idade} anos')"
      ],
      "metadata": {
        "colab": {
          "base_uri": "https://localhost:8080/"
        },
        "id": "uOZ5k5_jYLdJ",
        "outputId": "e2e12693-9daf-4a66-ab61-ccc64588d75e"
      },
      "execution_count": null,
      "outputs": [
        {
          "output_type": "stream",
          "name": "stdout",
          "text": [
            "Meu nome é Filipe e tenho 30 anos\n"
          ]
        }
      ]
    },
    {
      "cell_type": "code",
      "source": [],
      "metadata": {
        "id": "fx4xs1koYQXT"
      },
      "execution_count": null,
      "outputs": []
    },
    {
      "cell_type": "markdown",
      "source": [
        "COMANDO DE DECISÃO IF:\n",
        "Estrutura de comando IF:\n",
        "if <condição>\n",
        "  executar se a condição for verdadeira\n",
        "else:\n",
        "executar se a condição for falsa"
      ],
      "metadata": {
        "id": "jbcMfOcfYTkZ"
      }
    },
    {
      "cell_type": "code",
      "source": [
        "a = 10;\n",
        "if a == 20:\n",
        "  print('CHOCOLATE')\n",
        "else:\n",
        "  print('piroca')"
      ],
      "metadata": {
        "colab": {
          "base_uri": "https://localhost:8080/"
        },
        "id": "1-UyNvhYYosD",
        "outputId": "c40e0436-b4fc-44db-9be6-d72ad3db944f"
      },
      "execution_count": null,
      "outputs": [
        {
          "output_type": "stream",
          "name": "stdout",
          "text": [
            "piroca\n"
          ]
        }
      ]
    },
    {
      "cell_type": "code",
      "source": [
        "idade = 15\n",
        "\n",
        "if idade >=18:\n",
        "  print('Você é maior de idade.')\n",
        "else:\n",
        "  print('Você é menor de idade')"
      ],
      "metadata": {
        "colab": {
          "base_uri": "https://localhost:8080/"
        },
        "id": "5MLX425sYvp2",
        "outputId": "c450835c-c5b1-40ad-c635-de269d331989"
      },
      "execution_count": null,
      "outputs": [
        {
          "output_type": "stream",
          "name": "stdout",
          "text": [
            "Você é menor de idade\n"
          ]
        }
      ]
    },
    {
      "cell_type": "code",
      "source": [],
      "metadata": {
        "id": "wpY394blY7fc"
      },
      "execution_count": null,
      "outputs": []
    },
    {
      "cell_type": "markdown",
      "source": [
        "1 Faça um programa que pergunte nome e idade de um rapaz, se ele for menor de 18 anos imprimir menor de idade, se ele tiver entre 18 e 23 adolescente se tiver maior adulto:"
      ],
      "metadata": {
        "id": "CpXmClfTY8VT"
      }
    },
    {
      "cell_type": "code",
      "source": [
        "nome = input('Qual o nome do rapaz?')\n",
        "idade = int(in~~\n",
        "            put('Qual idade do rapaz?'))\n",
        "\n",
        "if idade<18:\n",
        "  print(f'{nome} é menor de idade')\n",
        "elif idade>=18:\n",
        "  print(f'{nome} é adolescente')\n",
        "else:\n",
        "  print(f'{nome} é adulto')"
      ],
      "metadata": {
        "colab": {
          "base_uri": "https://localhost:8080/"
        },
        "id": "8_J2-OLbZH1G",
        "outputId": "475ec47b-2b80-40fe-e30f-5c795fbf6381"
      },
      "execution_count": null,
      "outputs": [
        {
          "output_type": "stream",
          "name": "stdout",
          "text": [
            "Qual o nome do rapaz?Filipe\n",
            "Qual idade do rapaz?30\n",
            "Filipe é adolescente\n"
          ]
        }
      ]
    },
    {
      "cell_type": "code",
      "source": [],
      "metadata": {
        "id": "xQ0cK9gMbfuv"
      },
      "execution_count": null,
      "outputs": []
    },
    {
      "cell_type": "markdown",
      "source": [
        "1 - Ler dois números inteiros, executar e mostrar o resultado das seguintes operações: adição. subtração, multiplicação e divisão."
      ],
      "metadata": {
        "id": "-ZkdpErwbglS"
      }
    },
    {
      "cell_type": "code",
      "source": [
        "numero1 = int(input('Insira o número1: '))\n",
        "numero2 =int(input('Insira o número2: '))\n",
        "\n",
        "adicao = (numero1+numero2)\n",
        "subtracao = (numero1-numero2)\n",
        "multiplicacao = (numero1*numero2)\n",
        "divisao = (numero1/numero2)\n",
        "\n",
        "print(f'Adição é {adicao}, a subtração é {subtracao}, a multiplicação é {multiplicacao} e a divisão é {divisao}')"
      ],
      "metadata": {
        "colab": {
          "base_uri": "https://localhost:8080/"
        },
        "id": "jzTWDYhAbp45",
        "outputId": "e6b515f1-f791-444b-9e5c-c588a360de22"
      },
      "execution_count": null,
      "outputs": [
        {
          "output_type": "stream",
          "name": "stdout",
          "text": [
            "Insira o número1: 5\n",
            "Insira o número2: 3\n",
            "Adição é 8, a subtração é 2, a multiplicação é 15 e a divisão é 1.6666666666666667\n"
          ]
        }
      ]
    },
    {
      "cell_type": "code",
      "source": [],
      "metadata": {
        "id": "KJNi8VPQZn5e"
      },
      "execution_count": null,
      "outputs": []
    },
    {
      "cell_type": "markdown",
      "source": [
        "2 - Leia a idade de uma pessoa e classifuque-o em\n",
        "criança 0 - 12 anos\n",
        "adolescente 13 a 17 anos\n",
        "adulto - acima de 18 anos"
      ],
      "metadata": {
        "id": "RRYPCNzncXOG"
      }
    },
    {
      "cell_type": "code",
      "source": [
        "idade = int(input('Insira a idade:'))\n",
        "\n",
        "if idade<=12:\n",
        "  print('Criança')\n",
        "elif idade<=17:\n",
        "  print('Adolescente')\n",
        "else:\n",
        "  print('Adulto')"
      ],
      "metadata": {
        "colab": {
          "base_uri": "https://localhost:8080/"
        },
        "id": "UC7gTX7wchJk",
        "outputId": "025012cb-2287-498a-e117-392d0c046872"
      },
      "execution_count": null,
      "outputs": [
        {
          "output_type": "stream",
          "name": "stdout",
          "text": [
            "Insira a idade:30\n",
            "Adulto\n"
          ]
        }
      ]
    },
    {
      "cell_type": "markdown",
      "source": [
        "Comando FOR - Laço repetição\n",
        "\n",
        "Sintaxe: for in < faixa de repetição: instrução"
      ],
      "metadata": {
        "id": "x9AYxVvL9aPQ"
      }
    },
    {
      "cell_type": "code",
      "source": [
        "for contador in range(5):\n",
        "  print('Filipe')"
      ],
      "metadata": {
        "colab": {
          "base_uri": "https://localhost:8080/"
        },
        "id": "0p9BnO3Hc3K6",
        "outputId": "20b3a9c5-c53c-47e5-8fb3-f6135a0e1373"
      },
      "execution_count": null,
      "outputs": [
        {
          "output_type": "stream",
          "name": "stdout",
          "text": [
            "Filipe\n",
            "Filipe\n",
            "Filipe\n",
            "Filipe\n",
            "Filipe\n"
          ]
        }
      ]
    },
    {
      "cell_type": "code",
      "source": [
        "for contador in range(5):\n",
        "  print(contador)"
      ],
      "metadata": {
        "colab": {
          "base_uri": "https://localhost:8080/"
        },
        "id": "Oy-jXPin94R-",
        "outputId": "d5691be1-85d0-4ee8-f57b-0e926b33609f"
      },
      "execution_count": null,
      "outputs": [
        {
          "output_type": "stream",
          "name": "stdout",
          "text": [
            "0\n",
            "1\n",
            "2\n",
            "3\n",
            "4\n"
          ]
        }
      ]
    },
    {
      "cell_type": "code",
      "source": [
        "for contador in range(5):\n",
        "  print('Phyton')\n",
        "  print('chocolate')"
      ],
      "metadata": {
        "colab": {
          "base_uri": "https://localhost:8080/"
        },
        "id": "dRsWVh_9973H",
        "outputId": "143c52d6-610b-4cbc-cd98-11f2956cc0e9"
      },
      "execution_count": null,
      "outputs": [
        {
          "output_type": "stream",
          "name": "stdout",
          "text": [
            "Phyton\n",
            "chocolate\n",
            "Phyton\n",
            "chocolate\n",
            "Phyton\n",
            "chocolate\n",
            "Phyton\n",
            "chocolate\n",
            "Phyton\n",
            "chocolate\n"
          ]
        }
      ]
    },
    {
      "cell_type": "code",
      "source": [
        "for contador in range(5):\n",
        "  print('Phyton')\n",
        "print('chocolate')"
      ],
      "metadata": {
        "colab": {
          "base_uri": "https://localhost:8080/"
        },
        "id": "bcXZlE8K-EON",
        "outputId": "2b271799-26f4-431a-de46-874223806c08"
      },
      "execution_count": null,
      "outputs": [
        {
          "output_type": "stream",
          "name": "stdout",
          "text": [
            "Phyton\n",
            "Phyton\n",
            "Phyton\n",
            "Phyton\n",
            "Phyton\n",
            "chocolate\n"
          ]
        }
      ]
    },
    {
      "cell_type": "code",
      "source": [
        "a =3\n",
        "for contador in range(a):\n",
        "  print('Filipe')"
      ],
      "metadata": {
        "colab": {
          "base_uri": "https://localhost:8080/"
        },
        "id": "a9wJKILN-0dC",
        "outputId": "9bfe6ca0-1045-46d8-c4ff-dca81008faa7"
      },
      "execution_count": null,
      "outputs": [
        {
          "output_type": "stream",
          "name": "stdout",
          "text": [
            "Filipe\n",
            "Filipe\n",
            "Filipe\n"
          ]
        }
      ]
    },
    {
      "cell_type": "code",
      "source": [
        "texto = 'computador'\n",
        "for contador in texto:\n",
        "  print('Phyton')"
      ],
      "metadata": {
        "colab": {
          "base_uri": "https://localhost:8080/"
        },
        "id": "X2L3J-A5_Eeg",
        "outputId": "85ea1185-2487-4c99-ad59-bd05aca8f59c"
      },
      "execution_count": null,
      "outputs": [
        {
          "output_type": "stream",
          "name": "stdout",
          "text": [
            "Phyton\n",
            "Phyton\n",
            "Phyton\n",
            "Phyton\n",
            "Phyton\n",
            "Phyton\n",
            "Phyton\n",
            "Phyton\n",
            "Phyton\n",
            "Phyton\n"
          ]
        }
      ]
    },
    {
      "cell_type": "code",
      "source": [
        "texto = 'computador de mesa'\n",
        "for contador in texto:\n",
        "  print(contador, end=\"\")"
      ],
      "metadata": {
        "colab": {
          "base_uri": "https://localhost:8080/"
        },
        "id": "IJn8wB1P_KBA",
        "outputId": "444cde5c-ad65-40f1-8bb1-a77edea585e4"
      },
      "execution_count": null,
      "outputs": [
        {
          "output_type": "stream",
          "name": "stdout",
          "text": [
            "computador de mesa"
          ]
        }
      ]
    },
    {
      "cell_type": "code",
      "source": [
        "texto = 'computador de mesa'\n",
        "for contador in texto:\n",
        "  print(contador)"
      ],
      "metadata": {
        "colab": {
          "base_uri": "https://localhost:8080/"
        },
        "id": "tXV23D1G_ixH",
        "outputId": "4d92bb4e-5354-43fb-fcf6-b84720a1f8db"
      },
      "execution_count": null,
      "outputs": [
        {
          "output_type": "stream",
          "name": "stdout",
          "text": [
            "c\n",
            "o\n",
            "m\n",
            "p\n",
            "u\n",
            "t\n",
            "a\n",
            "d\n",
            "o\n",
            "r\n",
            " \n",
            "d\n",
            "e\n",
            " \n",
            "m\n",
            "e\n",
            "s\n",
            "a\n"
          ]
        }
      ]
    },
    {
      "cell_type": "code",
      "source": [
        "#WHILE (ENQUANTO) = LAÇO REPETIÇÃO\n",
        "\n",
        "cont = 0 #vairável auxiliar\n",
        "while cont<10:\n",
        "  cont = cont+1\n",
        "  print('Phyton')"
      ],
      "metadata": {
        "colab": {
          "base_uri": "https://localhost:8080/"
        },
        "id": "voWARd0G_0Yh",
        "outputId": "40c832a3-27ab-4590-b8d5-b2bf3c3cc8c0"
      },
      "execution_count": null,
      "outputs": [
        {
          "output_type": "stream",
          "name": "stdout",
          "text": [
            "Phyton\n",
            "Phyton\n",
            "Phyton\n",
            "Phyton\n",
            "Phyton\n",
            "Phyton\n",
            "Phyton\n",
            "Phyton\n",
            "Phyton\n",
            "Phyton\n"
          ]
        }
      ]
    },
    {
      "cell_type": "code",
      "source": [
        "a = 0\n",
        "while a<10:\n",
        "  a+=1\n",
        "  if a==5:\n",
        "    print('Aula')\n",
        "print(a)"
      ],
      "metadata": {
        "colab": {
          "base_uri": "https://localhost:8080/"
        },
        "id": "yig75REzBkNI",
        "outputId": "bd845b3f-6bb4-470b-8b8c-e0b188a41be4"
      },
      "execution_count": null,
      "outputs": [
        {
          "output_type": "stream",
          "name": "stdout",
          "text": [
            "Aula\n",
            "10\n"
          ]
        }
      ]
    },
    {
      "cell_type": "code",
      "source": [
        "a=0\n",
        "while a<10:\n",
        "  a+=1\n",
        "if a==5:\n",
        "    print('Aula')\n"
      ],
      "metadata": {
        "id": "2LUfFP4xCG93"
      },
      "execution_count": null,
      "outputs": []
    },
    {
      "cell_type": "code",
      "source": [
        "a=10\n",
        "b=6\n",
        "if a>5 and b==7:\n",
        "  print('Gato')\n",
        "else:\n",
        "  print('Cachorro')"
      ],
      "metadata": {
        "colab": {
          "base_uri": "https://localhost:8080/"
        },
        "id": "JMhudZ4M2XFt",
        "outputId": "23932a71-8cf3-4526-8b01-8d2693547379"
      },
      "execution_count": null,
      "outputs": [
        {
          "output_type": "stream",
          "name": "stdout",
          "text": [
            "Cachorro\n"
          ]
        }
      ]
    },
    {
      "cell_type": "code",
      "source": [
        "a=0\n",
        "while a<10:\n",
        "  a+=1\n",
        "  if a==5:\n",
        "    a+=1\n",
        "    if a==5:\n",
        "      break"
      ],
      "metadata": {
        "id": "65c3c3Pq3UN-"
      },
      "execution_count": null,
      "outputs": []
    },
    {
      "cell_type": "code",
      "source": [
        "cont = 0\n",
        "while cont<3:\n",
        "  cont+=1\n",
        "  nome = input('Nome:')\n",
        "else:\n",
        "  print('FIM DO PROGRAMA')"
      ],
      "metadata": {
        "colab": {
          "base_uri": "https://localhost:8080/"
        },
        "id": "BdFXtUJn3kyx",
        "outputId": "1b756de4-eaea-4d92-c650-c87437a4f704"
      },
      "execution_count": null,
      "outputs": [
        {
          "output_type": "stream",
          "name": "stdout",
          "text": [
            "Nome:Filipe\n",
            "Nome:Lucas\n",
            "Nome:Mateus\n",
            "FIM DO PROGRAMA\n"
          ]
        }
      ]
    },
    {
      "cell_type": "code",
      "source": [
        "cont = 0\n",
        "while cont<5:\n",
        "  cont+=1\n",
        "  nome=input('Digite o nome ou digite 9 para sair:')\n",
        "  if nome='9':\n",
        "    break\n",
        "print('FIM DO PROGRAMA!!!')"
      ],
      "metadata": {
        "colab": {
          "base_uri": "https://localhost:8080/",
          "height": 140
        },
        "id": "ci7wJPql3xJO",
        "outputId": "21a6e7ad-5d8e-475d-e90c-cb76a65c0736"
      },
      "execution_count": null,
      "outputs": [
        {
          "output_type": "error",
          "ename": "SyntaxError",
          "evalue": "ignored",
          "traceback": [
            "\u001b[0;36m  File \u001b[0;32m\"<ipython-input-23-2f624e33c6bd>\"\u001b[0;36m, line \u001b[0;32m5\u001b[0m\n\u001b[0;31m    if nome='9':\u001b[0m\n\u001b[0m       ^\u001b[0m\n\u001b[0;31mSyntaxError\u001b[0m\u001b[0;31m:\u001b[0m invalid syntax. Maybe you meant '==' or ':=' instead of '='?\n"
          ]
        }
      ]
    },
    {
      "cell_type": "code",
      "source": [
        "}"
      ],
      "metadata": {
        "id": "NjbtGWEI4eRI"
      },
      "execution_count": null,
      "outputs": []
    },
    {
      "cell_type": "markdown",
      "source": [
        "LISTAS: é uma estrutura de dados composta por itens organizados de forma linear, na qual cada um pode ser acessado a partir de um índice, que representa sua posição na coleção (iniciando em zero).\n",
        "Na criação de uma lista utilizamos o colchetes  []\n",
        "Ex: lista =[1,2,3,4,5]\n",
        "Biblioteca: É um conjunto de funções e códigos prontos que facilitam o desenvolvimento dos porgramas. Para usá-lasprecisamos importá-las com o comando import."
      ],
      "metadata": {
        "id": "D7BiUNMR6iwp"
      }
    },
    {
      "cell_type": "code",
      "source": [
        "import math\n",
        "math.sqrt(16)"
      ],
      "metadata": {
        "colab": {
          "base_uri": "https://localhost:8080/"
        },
        "id": "7iFAVU0x7j29",
        "outputId": "0831142e-e089-4b69-c747-7aa801a831c1"
      },
      "execution_count": null,
      "outputs": [
        {
          "output_type": "execute_result",
          "data": {
            "text/plain": [
              "4.0"
            ]
          },
          "metadata": {},
          "execution_count": 24
        }
      ]
    },
    {
      "cell_type": "code",
      "source": [
        "math.pow(4,2)"
      ],
      "metadata": {
        "colab": {
          "base_uri": "https://localhost:8080/"
        },
        "id": "LDQD8BZk7nOP",
        "outputId": "a90883fb-4d13-4024-8650-905ae6a5f5bd"
      },
      "execution_count": null,
      "outputs": [
        {
          "output_type": "execute_result",
          "data": {
            "text/plain": [
              "16.0"
            ]
          },
          "metadata": {},
          "execution_count": 26
        }
      ]
    },
    {
      "cell_type": "code",
      "source": [
        "math.factorial(5)"
      ],
      "metadata": {
        "colab": {
          "base_uri": "https://localhost:8080/"
        },
        "id": "pDPqVa847pVl",
        "outputId": "4b77a038-578b-43ab-b2fa-f0dd00c18c02"
      },
      "execution_count": null,
      "outputs": [
        {
          "output_type": "execute_result",
          "data": {
            "text/plain": [
              "120"
            ]
          },
          "metadata": {},
          "execution_count": 27
        }
      ]
    },
    {
      "cell_type": "code",
      "source": [
        "import random #retora números pseudo aleatórios"
      ],
      "metadata": {
        "id": "_d_m8-y28E6s"
      },
      "execution_count": null,
      "outputs": []
    },
    {
      "cell_type": "code",
      "source": [
        "random.randint(1,100) #retorna nº aleatórios entre 1 e 100"
      ],
      "metadata": {
        "colab": {
          "base_uri": "https://localhost:8080/"
        },
        "id": "LiepK7218MeS",
        "outputId": "75ac4353-319c-4cc1-e733-c2b973bb755a"
      },
      "execution_count": null,
      "outputs": [
        {
          "output_type": "execute_result",
          "data": {
            "text/plain": [
              "35"
            ]
          },
          "metadata": {},
          "execution_count": 29
        }
      ]
    },
    {
      "cell_type": "code",
      "source": [
        "random.choice([12,33,41,19,20]) #sorteia um nº da lista"
      ],
      "metadata": {
        "colab": {
          "base_uri": "https://localhost:8080/"
        },
        "id": "ZxIv66-r8dla",
        "outputId": "32196f1a-5add-40f6-9fa6-d0d94f26b0d5"
      },
      "execution_count": null,
      "outputs": [
        {
          "output_type": "execute_result",
          "data": {
            "text/plain": [
              "12"
            ]
          },
          "metadata": {},
          "execution_count": 30
        }
      ]
    },
    {
      "cell_type": "code",
      "source": [
        "import datetime\n",
        "datetime.date.today()"
      ],
      "metadata": {
        "colab": {
          "base_uri": "https://localhost:8080/"
        },
        "id": "gDrIia7H8k5s",
        "outputId": "ebc4b850-4f4d-4c46-f857-b85081cb398e"
      },
      "execution_count": null,
      "outputs": [
        {
          "output_type": "execute_result",
          "data": {
            "text/plain": [
              "datetime.date(2023, 11, 10)"
            ]
          },
          "metadata": {},
          "execution_count": 33
        }
      ]
    },
    {
      "cell_type": "code",
      "source": [
        "datetime.date.today().day"
      ],
      "metadata": {
        "colab": {
          "base_uri": "https://localhost:8080/"
        },
        "id": "4YIYHMOG84Ge",
        "outputId": "0e3c9584-14dd-4e44-81f7-5e671b579d88"
      },
      "execution_count": null,
      "outputs": [
        {
          "output_type": "execute_result",
          "data": {
            "text/plain": [
              "10"
            ]
          },
          "metadata": {},
          "execution_count": 34
        }
      ]
    },
    {
      "cell_type": "code",
      "source": [
        "datetime.date.today().month"
      ],
      "metadata": {
        "colab": {
          "base_uri": "https://localhost:8080/"
        },
        "id": "TeMdKH1U9J8z",
        "outputId": "17718ec4-a9ac-482d-a53e-88927ecd8b36"
      },
      "execution_count": null,
      "outputs": [
        {
          "output_type": "execute_result",
          "data": {
            "text/plain": [
              "11"
            ]
          },
          "metadata": {},
          "execution_count": 35
        }
      ]
    },
    {
      "cell_type": "code",
      "source": [
        "datetime.date.today().year"
      ],
      "metadata": {
        "colab": {
          "base_uri": "https://localhost:8080/"
        },
        "id": "Mp-wGGyV9SDp",
        "outputId": "38423c22-43d4-495e-ec1e-706d26ff44c9"
      },
      "execution_count": null,
      "outputs": [
        {
          "output_type": "execute_result",
          "data": {
            "text/plain": [
              "2023"
            ]
          },
          "metadata": {},
          "execution_count": 36
        }
      ]
    },
    {
      "cell_type": "code",
      "source": [
        "import time\n",
        "for contador in range(5):\n",
        "  print('Conectando...')\n",
        "  time.sleep(1)"
      ],
      "metadata": {
        "colab": {
          "base_uri": "https://localhost:8080/"
        },
        "id": "yKSD7rHA9WY0",
        "outputId": "6e8e8d32-6e40-46f0-81b8-21c6ff2c65ea"
      },
      "execution_count": null,
      "outputs": [
        {
          "output_type": "stream",
          "name": "stdout",
          "text": [
            "Conectando...\n",
            "Conectando...\n",
            "Conectando...\n",
            "Conectando...\n",
            "Conectando...\n"
          ]
        }
      ]
    },
    {
      "cell_type": "code",
      "source": [],
      "metadata": {
        "id": "y1B6NsKJ9nQE"
      },
      "execution_count": null,
      "outputs": []
    },
    {
      "cell_type": "markdown",
      "source": [
        "LISTA:"
      ],
      "metadata": {
        "id": "eaR_xzxC9vdc"
      }
    },
    {
      "cell_type": "code",
      "source": [
        "lista=[1,2,3,4,5]"
      ],
      "metadata": {
        "id": "ZzRTG1m69xZX"
      },
      "execution_count": null,
      "outputs": []
    },
    {
      "cell_type": "code",
      "source": [
        "print(lista)"
      ],
      "metadata": {
        "colab": {
          "base_uri": "https://localhost:8080/"
        },
        "id": "6HG8wJSp91lS",
        "outputId": "1af44c6f-1bdc-4eaf-ac99-58f1d160efa7"
      },
      "execution_count": null,
      "outputs": [
        {
          "output_type": "stream",
          "name": "stdout",
          "text": [
            "[1, 2, 3, 4, 5]\n"
          ]
        }
      ]
    },
    {
      "cell_type": "code",
      "source": [
        "lista[4]"
      ],
      "metadata": {
        "colab": {
          "base_uri": "https://localhost:8080/"
        },
        "id": "W2I_14j6925u",
        "outputId": "9cc7b349-b61c-4224-826a-54064f8e24d6"
      },
      "execution_count": null,
      "outputs": [
        {
          "output_type": "execute_result",
          "data": {
            "text/plain": [
              "5"
            ]
          },
          "metadata": {},
          "execution_count": 42
        }
      ]
    },
    {
      "cell_type": "code",
      "source": [
        "#inserir elemenrtos na lista\n",
        "lista.append(6)"
      ],
      "metadata": {
        "id": "1qThgxVj96Ay"
      },
      "execution_count": null,
      "outputs": []
    },
    {
      "cell_type": "code",
      "source": [
        "lista"
      ],
      "metadata": {
        "colab": {
          "base_uri": "https://localhost:8080/"
        },
        "id": "nXofBx85-ELw",
        "outputId": "88cd9a83-a2e6-491e-bf55-7180aa205d67"
      },
      "execution_count": null,
      "outputs": [
        {
          "output_type": "execute_result",
          "data": {
            "text/plain": [
              "[1, 2, 3, 4, 5, 6]"
            ]
          },
          "metadata": {},
          "execution_count": 44
        }
      ]
    },
    {
      "cell_type": "code",
      "source": [
        "lista.append(8)"
      ],
      "metadata": {
        "id": "AP06SMCO-FBv"
      },
      "execution_count": null,
      "outputs": []
    },
    {
      "cell_type": "code",
      "source": [
        "lista"
      ],
      "metadata": {
        "colab": {
          "base_uri": "https://localhost:8080/"
        },
        "id": "tu14EEva-IYg",
        "outputId": "2c33b9d0-f082-43c9-9820-d288a7da7030"
      },
      "execution_count": null,
      "outputs": [
        {
          "output_type": "execute_result",
          "data": {
            "text/plain": [
              "[1, 2, 3, 4, 5, 6, 8]"
            ]
          },
          "metadata": {},
          "execution_count": 46
        }
      ]
    },
    {
      "cell_type": "code",
      "source": [
        "lista[2]=100"
      ],
      "metadata": {
        "id": "QaMXAsqU-JPJ"
      },
      "execution_count": null,
      "outputs": []
    },
    {
      "cell_type": "code",
      "source": [
        "lista"
      ],
      "metadata": {
        "colab": {
          "base_uri": "https://localhost:8080/"
        },
        "id": "YYYqyGw4-RUY",
        "outputId": "98b0dff3-12c1-4487-a335-1f58ced2aaff"
      },
      "execution_count": null,
      "outputs": [
        {
          "output_type": "execute_result",
          "data": {
            "text/plain": [
              "[1, 2, 100, 4, 5, 6, 8]"
            ]
          },
          "metadata": {},
          "execution_count": 48
        }
      ]
    },
    {
      "cell_type": "code",
      "source": [
        "lista.insert(2,3)"
      ],
      "metadata": {
        "id": "nhfewJ4G-R9S"
      },
      "execution_count": null,
      "outputs": []
    },
    {
      "cell_type": "code",
      "source": [
        "lista"
      ],
      "metadata": {
        "colab": {
          "base_uri": "https://localhost:8080/"
        },
        "id": "aTVwQI9j-cVU",
        "outputId": "d3dd9946-511e-43f1-a8bc-c1a96d22b90f"
      },
      "execution_count": null,
      "outputs": [
        {
          "output_type": "execute_result",
          "data": {
            "text/plain": [
              "[1, 2, 3, 100, 4, 5, 6, 8]"
            ]
          },
          "metadata": {},
          "execution_count": 50
        }
      ]
    },
    {
      "cell_type": "code",
      "source": [
        "del lista[0]"
      ],
      "metadata": {
        "id": "i1-bbbqz-dLF"
      },
      "execution_count": null,
      "outputs": []
    },
    {
      "cell_type": "code",
      "source": [
        "lista"
      ],
      "metadata": {
        "colab": {
          "base_uri": "https://localhost:8080/"
        },
        "id": "UcnVOIdW-gg6",
        "outputId": "bb30f8a4-46ff-4e08-e939-576aa34f8e15"
      },
      "execution_count": null,
      "outputs": [
        {
          "output_type": "execute_result",
          "data": {
            "text/plain": [
              "[2, 3, 100, 4, 5, 6, 8]"
            ]
          },
          "metadata": {},
          "execution_count": 53
        }
      ]
    },
    {
      "cell_type": "code",
      "source": [
        "lista1=[1,3,5,7,9]\n",
        "lista2=[2,4,6,8,10]"
      ],
      "metadata": {
        "id": "vs79FNju-kpz"
      },
      "execution_count": null,
      "outputs": []
    },
    {
      "cell_type": "code",
      "source": [
        "lista1.append(lista2)"
      ],
      "metadata": {
        "id": "_ODbnszJ-sov"
      },
      "execution_count": null,
      "outputs": []
    },
    {
      "cell_type": "code",
      "source": [
        "lista1"
      ],
      "metadata": {
        "colab": {
          "base_uri": "https://localhost:8080/"
        },
        "id": "e3USCaO6-xUt",
        "outputId": "b037bdf6-1c40-4b3c-ec13-ead32927ed12"
      },
      "execution_count": null,
      "outputs": [
        {
          "output_type": "execute_result",
          "data": {
            "text/plain": [
              "[1, 3, 5, 7, 9, [2, 4, 6, 8, 10]]"
            ]
          },
          "metadata": {},
          "execution_count": 57
        }
      ]
    },
    {
      "cell_type": "code",
      "source": [],
      "metadata": {
        "id": "_TtDcSdd-zOB"
      },
      "execution_count": null,
      "outputs": []
    },
    {
      "cell_type": "markdown",
      "source": [
        "#criando uma lista com o range:"
      ],
      "metadata": {
        "id": "xcnhoiLRA4l6"
      }
    },
    {
      "cell_type": "code",
      "source": [
        "valores = list(range(1,11))"
      ],
      "metadata": {
        "id": "QQLMYVChBQUY"
      },
      "execution_count": null,
      "outputs": []
    },
    {
      "cell_type": "code",
      "source": [
        "valores"
      ],
      "metadata": {
        "colab": {
          "base_uri": "https://localhost:8080/"
        },
        "id": "4IZ7DUXYBUV_",
        "outputId": "d6a87ef7-3c9b-43df-bd0d-571c9d502182"
      },
      "execution_count": null,
      "outputs": [
        {
          "output_type": "execute_result",
          "data": {
            "text/plain": [
              "[1, 2, 3, 4, 5, 6, 7, 8, 9, 10]"
            ]
          },
          "metadata": {},
          "execution_count": 59
        }
      ]
    },
    {
      "cell_type": "code",
      "source": [
        "len(valores)"
      ],
      "metadata": {
        "colab": {
          "base_uri": "https://localhost:8080/"
        },
        "id": "sRink7CWBVc5",
        "outputId": "3e0b1566-4ee6-4364-ee62-cd48f4a58d18"
      },
      "execution_count": null,
      "outputs": [
        {
          "output_type": "execute_result",
          "data": {
            "text/plain": [
              "10"
            ]
          },
          "metadata": {},
          "execution_count": 60
        }
      ]
    },
    {
      "cell_type": "code",
      "source": [
        "sum(valores)"
      ],
      "metadata": {
        "colab": {
          "base_uri": "https://localhost:8080/"
        },
        "id": "sN1y2HajBXMv",
        "outputId": "39b23e24-8726-4430-b745-c045167af3dd"
      },
      "execution_count": null,
      "outputs": [
        {
          "output_type": "execute_result",
          "data": {
            "text/plain": [
              "55"
            ]
          },
          "metadata": {},
          "execution_count": 61
        }
      ]
    },
    {
      "cell_type": "code",
      "source": [
        "min(valores)"
      ],
      "metadata": {
        "colab": {
          "base_uri": "https://localhost:8080/"
        },
        "id": "J1RdqcS1BYLk",
        "outputId": "13ec1dc9-5e05-4a2d-a4b5-4915d9c7ccb9"
      },
      "execution_count": null,
      "outputs": [
        {
          "output_type": "execute_result",
          "data": {
            "text/plain": [
              "1"
            ]
          },
          "metadata": {},
          "execution_count": 63
        }
      ]
    },
    {
      "cell_type": "code",
      "source": [
        "3 in valores"
      ],
      "metadata": {
        "colab": {
          "base_uri": "https://localhost:8080/"
        },
        "id": "MX_tnwOyBa84",
        "outputId": "5928a5cc-3c17-4bb1-dcc2-d9fb148b45ec"
      },
      "execution_count": null,
      "outputs": [
        {
          "output_type": "execute_result",
          "data": {
            "text/plain": [
              "True"
            ]
          },
          "metadata": {},
          "execution_count": 64
        }
      ]
    },
    {
      "cell_type": "code",
      "source": [
        "12 in valores"
      ],
      "metadata": {
        "colab": {
          "base_uri": "https://localhost:8080/"
        },
        "id": "-bByArs_BeRp",
        "outputId": "b59c4ad4-8330-4489-87ac-5516563846b9"
      },
      "execution_count": null,
      "outputs": [
        {
          "output_type": "execute_result",
          "data": {
            "text/plain": [
              "False"
            ]
          },
          "metadata": {},
          "execution_count": 65
        }
      ]
    },
    {
      "cell_type": "code",
      "source": [
        "#mostrando valores da lista:\n",
        "for i in valores:\n",
        "  print(i)"
      ],
      "metadata": {
        "colab": {
          "base_uri": "https://localhost:8080/"
        },
        "id": "ZhetTAEqBfmb",
        "outputId": "af91ca33-6f44-42b4-d682-a04b1289dc20"
      },
      "execution_count": null,
      "outputs": [
        {
          "output_type": "stream",
          "name": "stdout",
          "text": [
            "1\n",
            "2\n",
            "3\n",
            "4\n",
            "5\n",
            "6\n",
            "7\n",
            "8\n",
            "9\n",
            "10\n"
          ]
        }
      ]
    },
    {
      "cell_type": "code",
      "source": [
        "for i in valores:\n",
        "  print(i, end=\"\")"
      ],
      "metadata": {
        "colab": {
          "base_uri": "https://localhost:8080/"
        },
        "id": "9zG8Ft9_BnWu",
        "outputId": "fc3e77e4-afa9-4706-92c2-fa81dd8b3374"
      },
      "execution_count": null,
      "outputs": [
        {
          "output_type": "stream",
          "name": "stdout",
          "text": [
            "12345678910"
          ]
        }
      ]
    },
    {
      "cell_type": "code",
      "source": [
        "for i in enumerate(valores):\n",
        "  print(i)"
      ],
      "metadata": {
        "colab": {
          "base_uri": "https://localhost:8080/"
        },
        "id": "dMsCW5DdBtc_",
        "outputId": "4a1811ad-1b1c-417f-f7f6-9cf8ec480456"
      },
      "execution_count": null,
      "outputs": [
        {
          "output_type": "stream",
          "name": "stdout",
          "text": [
            "(0, 1)\n",
            "(1, 2)\n",
            "(2, 3)\n",
            "(3, 4)\n",
            "(4, 5)\n",
            "(5, 6)\n",
            "(6, 7)\n",
            "(7, 8)\n",
            "(8, 9)\n",
            "(9, 10)\n"
          ]
        }
      ]
    },
    {
      "cell_type": "code",
      "source": [
        "idades=[]\n",
        "for i in range(5):\n",
        "  idades.append(int(input('informe a idade:')))\n",
        "print(idades)"
      ],
      "metadata": {
        "colab": {
          "base_uri": "https://localhost:8080/"
        },
        "id": "j-lY3LcaBzCA",
        "outputId": "6e0eccea-66f3-4b5b-f7b5-14a2c767a897"
      },
      "execution_count": null,
      "outputs": [
        {
          "output_type": "stream",
          "name": "stdout",
          "text": [
            "informe a idade:12\n",
            "informe a idade:34\n",
            "informe a idade:65\n",
            "informe a idade:78\n",
            "informe a idade:45\n",
            "[12, 34, 65, 78, 45]\n"
          ]
        }
      ]
    },
    {
      "cell_type": "code",
      "source": [
        "estados=['SP','CE','RJ','BA']"
      ],
      "metadata": {
        "id": "FPWnU4HbCD-r"
      },
      "execution_count": null,
      "outputs": []
    },
    {
      "cell_type": "code",
      "source": [
        "estados"
      ],
      "metadata": {
        "colab": {
          "base_uri": "https://localhost:8080/"
        },
        "id": "gv4XiO73CmAQ",
        "outputId": "8a6818ea-3f95-43f9-af17-9befffe82606"
      },
      "execution_count": null,
      "outputs": [
        {
          "output_type": "execute_result",
          "data": {
            "text/plain": [
              "['SP', 'CE', 'RJ', 'BA']"
            ]
          },
          "metadata": {},
          "execution_count": 75
        }
      ]
    },
    {
      "cell_type": "code",
      "source": [
        "print(f'O estado sorteado foi: {random.choice(estados)}')"
      ],
      "metadata": {
        "colab": {
          "base_uri": "https://localhost:8080/"
        },
        "id": "Ss4V3xtRCn9-",
        "outputId": "10dbac83-4271-4ae6-f55a-9f3af0490de5"
      },
      "execution_count": null,
      "outputs": [
        {
          "output_type": "stream",
          "name": "stdout",
          "text": [
            "O estado sorteado foi: BA\n"
          ]
        }
      ]
    },
    {
      "cell_type": "code",
      "source": [
        "for i in range(5):\n",
        "  lista.append(random.randint(1,100))\n",
        "print(lista)"
      ],
      "metadata": {
        "colab": {
          "base_uri": "https://localhost:8080/"
        },
        "id": "3XDbRfFsCvW8",
        "outputId": "8c6e8e50-b914-4c5a-8e73-6b3cd2cbb57d"
      },
      "execution_count": null,
      "outputs": [
        {
          "output_type": "stream",
          "name": "stdout",
          "text": [
            "[2, 3, 100, 4, 5, 6, 8, 86, 52, 50, 17, 68]\n"
          ]
        }
      ]
    },
    {
      "cell_type": "code",
      "source": [],
      "metadata": {
        "id": "zecC2_kuC3HZ"
      },
      "execution_count": null,
      "outputs": []
    },
    {
      "cell_type": "markdown",
      "source": [
        "TUPLA: Uma tupla é como uma lista, porém naõ pdoe ser alterada.\n",
        "As listas são representadas por []\n",
        "As tuplas são representadas por ()\n",
        "Uma tupla ocupa menos espaço na memória do que uma lista"
      ],
      "metadata": {
        "id": "AHGQgomVgOKf"
      }
    },
    {
      "cell_type": "code",
      "source": [],
      "metadata": {
        "id": "qNVZflJXh3AA"
      },
      "execution_count": null,
      "outputs": []
    },
    {
      "cell_type": "markdown",
      "source": [
        "1- Dadas duas listas P1 e p2, ambas com N valores reais, que representam as notas de uma turma na prova 1 e na prova 2, respetivamente, escreva um programa que calcule a média da turma nas provas 1 e 2, imprimindo em qual das provas a turma obteve a melgor média:"
      ],
      "metadata": {
        "id": "EBDGt8hfh3eZ"
      }
    },
    {
      "cell_type": "code",
      "source": [
        "p1=[5.5, 6.7,9.8,2.2]\n",
        "p2=[2.2, 4.4, 5.3,3.4]\n",
        "\n",
        "mediaP1=sum(p1)/len(p2)\n",
        "mediaP2=sum(p2)/len(p2)\n",
        "\n",
        "if mediaP1>mediaP2:\n",
        "  print(f'A turma obteve maior média na P1. A média foi {mediaP1:.1f}')\n",
        "else:\n",
        "  print(f'A turma obteve maior média na P2. A média foi {mediaP2:.1f}')"
      ],
      "metadata": {
        "colab": {
          "base_uri": "https://localhost:8080/"
        },
        "id": "aCAU2gmKkM9-",
        "outputId": "34bc85ef-c442-4138-9d94-48b060b49ebc"
      },
      "execution_count": null,
      "outputs": [
        {
          "output_type": "stream",
          "name": "stdout",
          "text": [
            "A turma obteve maior média na P1. A média foi 6.0\n"
          ]
        }
      ]
    },
    {
      "cell_type": "markdown",
      "source": [
        "2-Faça um programa que leia 10 números. Se o número lido for par, deverá ser armazenado em uma lista chamada PAR, se for ímpar, deverpa ser armazenado em uma lista chamada ÍMPAR. No final, mostrar o conteúdo das duas listas:"
      ],
      "metadata": {
        "id": "uG0uHTdPlCZM"
      }
    },
    {
      "cell_type": "code",
      "source": [
        "par=[]\n",
        "impar=[]\n",
        "for i in range(10):\n",
        "  i=int(input('Digite os valores:'))\n",
        "  if i%2==0:\n",
        "    par.append(i)\n",
        "  else:\n",
        "    impar.append(i)\n",
        "\n",
        "  print(par)\n",
        "  print(impar)"
      ],
      "metadata": {
        "colab": {
          "base_uri": "https://localhost:8080/"
        },
        "id": "O8Q0HpN7lTQr",
        "outputId": "76ef6fce-cb76-4050-9753-0ea17be8c985"
      },
      "execution_count": null,
      "outputs": [
        {
          "output_type": "stream",
          "name": "stdout",
          "text": [
            "Digite os valores:1\n",
            "[]\n",
            "[1]\n",
            "Digite os valores:2\n",
            "[2]\n",
            "[1]\n",
            "Digite os valores:3\n",
            "[2]\n",
            "[1, 3]\n",
            "Digite os valores:4\n",
            "[2, 4]\n",
            "[1, 3]\n",
            "Digite os valores:5\n",
            "[2, 4]\n",
            "[1, 3, 5]\n",
            "Digite os valores:6\n",
            "[2, 4, 6]\n",
            "[1, 3, 5]\n",
            "Digite os valores:6\n",
            "[2, 4, 6, 6]\n",
            "[1, 3, 5]\n",
            "Digite os valores:7\n",
            "[2, 4, 6, 6]\n",
            "[1, 3, 5, 7]\n",
            "Digite os valores:8\n",
            "[2, 4, 6, 6, 8]\n",
            "[1, 3, 5, 7]\n",
            "Digite os valores:9\n",
            "[2, 4, 6, 6, 8]\n",
            "[1, 3, 5, 7, 9]\n"
          ]
        }
      ]
    },
    {
      "cell_type": "code",
      "source": [
        "4\n"
      ],
      "metadata": {
        "id": "BlxlaDwElbER"
      },
      "execution_count": null,
      "outputs": []
    },
    {
      "cell_type": "code",
      "source": [],
      "metadata": {
        "id": "YpFKWVallhWk"
      },
      "execution_count": null,
      "outputs": []
    },
    {
      "cell_type": "code",
      "source": [],
      "metadata": {
        "id": "HhsWJzAmlkqF"
      },
      "execution_count": null,
      "outputs": []
    },
    {
      "cell_type": "code",
      "source": [],
      "metadata": {
        "id": "PZJDuBp3lk-d"
      },
      "execution_count": null,
      "outputs": []
    }
  ]
}