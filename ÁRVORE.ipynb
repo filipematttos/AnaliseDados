{
  "nbformat": 4,
  "nbformat_minor": 0,
  "metadata": {
    "colab": {
      "provenance": [],
      "authorship_tag": "ABX9TyPw6MGpQqq6AEGKtEsaTDmj",
      "include_colab_link": true
    },
    "kernelspec": {
      "name": "python3",
      "display_name": "Python 3"
    },
    "language_info": {
      "name": "python"
    }
  },
  "cells": [
    {
      "cell_type": "markdown",
      "metadata": {
        "id": "view-in-github",
        "colab_type": "text"
      },
      "source": [
        "<a href=\"https://colab.research.google.com/github/filipematttos/AnaliseDados/blob/main/%C3%81RVORE.ipynb\" target=\"_parent\"><img src=\"https://colab.research.google.com/assets/colab-badge.svg\" alt=\"Open In Colab\"/></a>"
      ]
    },
    {
      "cell_type": "code",
      "execution_count": null,
      "metadata": {
        "id": "qUr9uhAH55DC"
      },
      "outputs": [],
      "source": []
    },
    {
      "cell_type": "code",
      "source": [
        "class No: #cria a classe do nó (início da árvore)\n",
        "  def __init__(self, valor):\n",
        "    self.valor = valor\n",
        "    self.esquerda = None\n",
        "    self.direita = None\n",
        "\n",
        "  def mostra_no(self):\n",
        "    print(self.valor)\n",
        "\n",
        "\n",
        "class ArvoreBinaria: #cria a classe para manipular a árvore\n",
        "  def __init__(self):\n",
        "    self .raiz = None\n",
        "    self.ligacoes = [] #cria uma lista que armazenará os valores da árvore\n",
        "\n",
        "  def inserir(self, valor):\n",
        "    novo = No(valor)\n",
        "    # Se a árvore estiver vazia\n",
        "    if self.raiz == None:\n",
        "      self.raiz = novo\n",
        "    else:\n",
        "      atual = self.raiz #a variável recebe o nó atual para fazer as verificações\n",
        "      while True:\n",
        "        pai = atual\n",
        "        #Esquerda\n",
        "        if valor < atual.valor:\n",
        "          atual = atual.esquerda\n",
        "          if atual == None:\n",
        "            pai.esquerda = novo\n",
        "            self.ligacoes.append(str(pai.valor) + '->' + str(novo.valor))\n",
        "            return #sai do while True\n",
        "        #Direita\n",
        "        else:\n",
        "          atual = atual.direita\n",
        "          if atual == None:\n",
        "            pai.direita = novo\n",
        "            self.ligacoes.append(str(pai.valor) + '->' + str(novo.valor))\n",
        "            return\n",
        "\n",
        "  def pesquisar(self, valor):\n",
        "    atual = self.raiz\n",
        "    while atual.valor != valor:\n",
        "      if valor < atual.valor:\n",
        "        atual = atual.esquerda\n",
        "      else:\n",
        "        atual = atual.direita\n",
        "      if atual == None:\n",
        "        return None\n",
        "    return atual\n"
      ],
      "metadata": {
        "id": "sdJM0lXiCRY-"
      },
      "execution_count": null,
      "outputs": []
    },
    {
      "cell_type": "code",
      "source": [],
      "metadata": {
        "id": "n16w2unyHFCj"
      },
      "execution_count": null,
      "outputs": []
    }
  ]
}