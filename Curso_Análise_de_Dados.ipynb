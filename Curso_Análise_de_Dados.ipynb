{
  "nbformat": 4,
  "nbformat_minor": 0,
  "metadata": {
    "colab": {
      "provenance": [],
      "authorship_tag": "ABX9TyMbTGuZ+cLorw13JApZasSP",
      "include_colab_link": true
    },
    "kernelspec": {
      "name": "python3",
      "display_name": "Python 3"
    },
    "language_info": {
      "name": "python"
    }
  },
  "cells": [
    {
      "cell_type": "markdown",
      "metadata": {
        "id": "view-in-github",
        "colab_type": "text"
      },
      "source": [
        "<a href=\"https://colab.research.google.com/github/filipematttos/AnaliseDados/blob/main/Curso_An%C3%A1lise_de_Dados.ipynb\" target=\"_parent\"><img src=\"https://colab.research.google.com/assets/colab-badge.svg\" alt=\"Open In Colab\"/></a>"
      ]
    },
    {
      "cell_type": "code",
      "execution_count": null,
      "metadata": {
        "id": "wmL8lFw4QOBU"
      },
      "outputs": [],
      "source": []
    },
    {
      "cell_type": "markdown",
      "source": [],
      "metadata": {
        "id": "cmc9Jmxm0Uvf"
      }
    },
    {
      "cell_type": "markdown",
      "source": [],
      "metadata": {
        "id": "1mwXufnrOqht"
      }
    },
    {
      "cell_type": "markdown",
      "source": [
        "Tipos de informação: Na programação, o tipo de dados é um conceito importante. Variáveis podem armazenar dados de diferentes tipos, e diferentes tipos podem fazer coisas diuferentes.O Phyton tem os seguintes tipos de dados integrados por padrão, nestas categorias:\n",
        "1. Text Type: str\n",
        "2. Numeric Types: int, float, complex\n",
        "3. Sequence Types: list, tuple, range\n",
        "5. Mapping type: dict\n",
        "6. Set Types: set,frozenset\n",
        "7. Binary Types: bytes, bytearray, memoryview"
      ],
      "metadata": {
        "id": "6VuF7IHAQnNm"
      }
    },
    {
      "cell_type": "code",
      "source": [
        "String = str('Olá mundo')\n",
        "Inteiro = int( 10 )\n",
        "Flutuante = float( 100.5 )\n",
        "Complex = complex( 1j )\n",
        "Lista = list(('Maçã', 'Morango'))\n",
        "Tupla = tuple(('A', 'B'))\n",
        "Range = range(6)\n",
        "Dicionario = dict(nome='Odemir', age=29)\n",
        "Set = set(('A', 'B', 'C'))\n",
        "Fronzet = frozenset(('A', 'B', 'C'))\n",
        "Boleano = bool ( 5 )\n",
        "Bytes = bytes( 5 )\n",
        "ByteArray = bytearray( 5 )\n",
        "Memoryview = memoryview( bytes(5))\n",
        "\n",
        "from datetime import datetime\n",
        "Data = datetime.today().date()"
      ],
      "metadata": {
        "id": "HxftiUzITDRO"
      },
      "execution_count": null,
      "outputs": []
    },
    {
      "cell_type": "code",
      "source": [
        "print(Flutuante)"
      ],
      "metadata": {
        "colab": {
          "base_uri": "https://localhost:8080/"
        },
        "id": "8nd-D76bUmSw",
        "outputId": "e9997f65-6bf6-497d-d5ac-818bcd411f78"
      },
      "execution_count": null,
      "outputs": [
        {
          "output_type": "stream",
          "name": "stdout",
          "text": [
            "100.5\n"
          ]
        }
      ]
    },
    {
      "cell_type": "code",
      "source": [],
      "metadata": {
        "id": "WzIGy5aqWa6v"
      },
      "execution_count": null,
      "outputs": []
    },
    {
      "cell_type": "markdown",
      "source": [
        "COMANDO ROUND: Quando trabalhamos com números flutuantes, podemo arredondar o valor usando um comando nativo do Phyton.(valor, número de casas)"
      ],
      "metadata": {
        "id": "Ipqf-RiRYJj9"
      }
    },
    {
      "cell_type": "code",
      "source": [
        "#Comando Round\n",
        "Valor_Exemplo = 12.293874374"
      ],
      "metadata": {
        "id": "1bfbzn2UYbvu"
      },
      "execution_count": null,
      "outputs": []
    },
    {
      "cell_type": "code",
      "source": [
        "print(Valor_Exemplo)"
      ],
      "metadata": {
        "colab": {
          "base_uri": "https://localhost:8080/"
        },
        "id": "FybZDOaVYiG9",
        "outputId": "7d5a7e1b-59ab-4ab1-fc3b-9903384d68a1"
      },
      "execution_count": null,
      "outputs": [
        {
          "output_type": "stream",
          "name": "stdout",
          "text": [
            "12.293874374\n"
          ]
        }
      ]
    },
    {
      "cell_type": "code",
      "source": [
        "round(Valor_Exemplo,2)"
      ],
      "metadata": {
        "colab": {
          "base_uri": "https://localhost:8080/"
        },
        "id": "wKTdQXcUYkRS",
        "outputId": "d9dc102b-44a2-4667-b89b-14ec3778c34d"
      },
      "execution_count": null,
      "outputs": [
        {
          "output_type": "execute_result",
          "data": {
            "text/plain": [
              "12.29"
            ]
          },
          "metadata": {},
          "execution_count": 12
        }
      ]
    },
    {
      "cell_type": "code",
      "source": [],
      "metadata": {
        "id": "vFOLhic2ZRO5"
      },
      "execution_count": null,
      "outputs": []
    },
    {
      "cell_type": "markdown",
      "source": [
        "COMANDO LEN: Afunção len() retorna a quantidade de elementos de qualquer lista em Phyton, essa é mais uma função built-in e disponível em qualquer partedos nossos códigos.\n"
      ],
      "metadata": {
        "id": "k3FedZIvZaDv"
      }
    },
    {
      "cell_type": "code",
      "source": [
        "Lista = [1,2,3,4,5,6,7,8,9,10]\n",
        "Dicionario = {'Nome':'Odemir', 'Idade':29}\n",
        "Tupla = (1,2,3)\n",
        "String = 'olá mundão'"
      ],
      "metadata": {
        "id": "O6ATFhT_ZnZl"
      },
      "execution_count": null,
      "outputs": []
    },
    {
      "cell_type": "code",
      "source": [
        "len(Lista) #calcula quantos elementos tem dentro da lista"
      ],
      "metadata": {
        "colab": {
          "base_uri": "https://localhost:8080/"
        },
        "id": "7gs30EAbZCip",
        "outputId": "f22a93f7-39ec-47ba-c76d-712117217cfd"
      },
      "execution_count": null,
      "outputs": [
        {
          "output_type": "execute_result",
          "data": {
            "text/plain": [
              "10"
            ]
          },
          "metadata": {},
          "execution_count": 16
        }
      ]
    },
    {
      "cell_type": "code",
      "source": [
        "len(Dicionario)"
      ],
      "metadata": {
        "colab": {
          "base_uri": "https://localhost:8080/"
        },
        "id": "zG6aGWUZaDG7",
        "outputId": "911a455d-c863-48cf-b8c1-1360c399c9d8"
      },
      "execution_count": null,
      "outputs": [
        {
          "output_type": "execute_result",
          "data": {
            "text/plain": [
              "2"
            ]
          },
          "metadata": {},
          "execution_count": 17
        }
      ]
    },
    {
      "cell_type": "code",
      "source": [
        "len(Tupla)"
      ],
      "metadata": {
        "colab": {
          "base_uri": "https://localhost:8080/"
        },
        "id": "xA9Kli0EaLBr",
        "outputId": "a24e4c83-fa43-4982-854a-4f64e70d6901"
      },
      "execution_count": null,
      "outputs": [
        {
          "output_type": "execute_result",
          "data": {
            "text/plain": [
              "3"
            ]
          },
          "metadata": {},
          "execution_count": 18
        }
      ]
    },
    {
      "cell_type": "code",
      "source": [
        "len(String)"
      ],
      "metadata": {
        "colab": {
          "base_uri": "https://localhost:8080/"
        },
        "id": "xN-F2oJAaNez",
        "outputId": "3a34d7fc-8935-480c-c26a-6fd6cd6ff843"
      },
      "execution_count": null,
      "outputs": [
        {
          "output_type": "execute_result",
          "data": {
            "text/plain": [
              "10"
            ]
          },
          "metadata": {},
          "execution_count": 19
        }
      ]
    },
    {
      "cell_type": "code",
      "source": [],
      "metadata": {
        "id": "XzkeoG8-aQKA"
      },
      "execution_count": null,
      "outputs": []
    },
    {
      "cell_type": "markdown",
      "source": [
        "9-FATIAMENTO DE SRTINGS; Strings são listas de bytes representando caracteres. Podemos acessar sua posição usando colchetes.String(Posição inicial:Posição Final)"
      ],
      "metadata": {
        "id": "8bZC2avarTat"
      }
    },
    {
      "cell_type": "code",
      "source": [
        "Minha_String = 'Aprender Phyton é top!'\n",
        "CPF = 'cpf=03106463325'\n"
      ],
      "metadata": {
        "id": "-OK0rl4JrlqR"
      },
      "execution_count": null,
      "outputs": []
    },
    {
      "cell_type": "code",
      "source": [
        "print(type(Minha_String))\n",
        "print(len(Minha_String))"
      ],
      "metadata": {
        "colab": {
          "base_uri": "https://localhost:8080/"
        },
        "id": "J_FFM3UbrtMn",
        "outputId": "85b9f706-d336-4140-e23b-17c5174f7897"
      },
      "execution_count": null,
      "outputs": [
        {
          "output_type": "stream",
          "name": "stdout",
          "text": [
            "<class 'str'>\n",
            "22\n"
          ]
        }
      ]
    },
    {
      "cell_type": "code",
      "source": [
        "Minha_String[0]"
      ],
      "metadata": {
        "colab": {
          "base_uri": "https://localhost:8080/",
          "height": 36
        },
        "id": "-0_D6-ZPrzBE",
        "outputId": "4425e337-8048-4002-cffd-3508e4a18287"
      },
      "execution_count": null,
      "outputs": [
        {
          "output_type": "execute_result",
          "data": {
            "text/plain": [
              "'A'"
            ],
            "application/vnd.google.colaboratory.intrinsic+json": {
              "type": "string"
            }
          },
          "metadata": {},
          "execution_count": 4
        }
      ]
    },
    {
      "cell_type": "code",
      "source": [
        "Minha_String[10]"
      ],
      "metadata": {
        "colab": {
          "base_uri": "https://localhost:8080/",
          "height": 36
        },
        "id": "fhpFLfipsL4e",
        "outputId": "57fc671e-89d3-4a2c-dc7e-654118d38231"
      },
      "execution_count": null,
      "outputs": [
        {
          "output_type": "execute_result",
          "data": {
            "text/plain": [
              "'h'"
            ],
            "application/vnd.google.colaboratory.intrinsic+json": {
              "type": "string"
            }
          },
          "metadata": {},
          "execution_count": 5
        }
      ]
    },
    {
      "cell_type": "code",
      "source": [
        "Minha_String[-10]"
      ],
      "metadata": {
        "colab": {
          "base_uri": "https://localhost:8080/",
          "height": 36
        },
        "id": "tB-FkMeAsOjo",
        "outputId": "2e8fda40-8637-48fa-ddf3-8e2b5733ddf3"
      },
      "execution_count": null,
      "outputs": [
        {
          "output_type": "execute_result",
          "data": {
            "text/plain": [
              "'t'"
            ],
            "application/vnd.google.colaboratory.intrinsic+json": {
              "type": "string"
            }
          },
          "metadata": {},
          "execution_count": 7
        }
      ]
    },
    {
      "cell_type": "code",
      "source": [
        "Minha_String[0:10]"
      ],
      "metadata": {
        "colab": {
          "base_uri": "https://localhost:8080/",
          "height": 36
        },
        "id": "6rrm55BysYwR",
        "outputId": "aa79511d-5e5d-4495-f3c9-6ff7820e4434"
      },
      "execution_count": null,
      "outputs": [
        {
          "output_type": "execute_result",
          "data": {
            "text/plain": [
              "'Aprender P'"
            ],
            "application/vnd.google.colaboratory.intrinsic+json": {
              "type": "string"
            }
          },
          "metadata": {},
          "execution_count": 8
        }
      ]
    },
    {
      "cell_type": "code",
      "source": [
        "CPF[4:14]"
      ],
      "metadata": {
        "colab": {
          "base_uri": "https://localhost:8080/",
          "height": 36
        },
        "id": "EFbdnIcdsoPM",
        "outputId": "b18501a3-022d-4abc-cd45-58eefedb5d00"
      },
      "execution_count": null,
      "outputs": [
        {
          "output_type": "execute_result",
          "data": {
            "text/plain": [
              "'0310646332'"
            ],
            "application/vnd.google.colaboratory.intrinsic+json": {
              "type": "string"
            }
          },
          "metadata": {},
          "execution_count": 11
        }
      ]
    },
    {
      "cell_type": "code",
      "source": [],
      "metadata": {
        "id": "Mi4iDLdGtR2y"
      },
      "execution_count": null,
      "outputs": []
    },
    {
      "cell_type": "markdown",
      "source": [
        "10 - MANIPULAÇÃO DE STRINGS: Um tipo de dados bastante usado no dia a dia são strings, ou cadeia de caracteres (ou sequência de caracteres). O tipo de dados string, ou str como é chamado em phyton, possui várias operações úteis associadas a ele. Essas operações tornam Phyton uma linguagem bastante propícia para manipulação de textos. Algumas funções mais utilizadas para manipular strings:\n",
        "1.replace()\n",
        "2.startswith()\n",
        "3.endswith()\n",
        "4.count()\n",
        "5.capitalize()\n",
        "6.isdigit()\n",
        "7.isalnum()\n",
        "8.upper()\n",
        "9.lower()\n",
        "10.find()\n",
        "11.strip()\n",
        "12.split()"
      ],
      "metadata": {
        "id": "k6RlC9xztTiz"
      }
    },
    {
      "cell_type": "code",
      "source": [
        "String = 'Olá mundão!'\n",
        "print(String)"
      ],
      "metadata": {
        "colab": {
          "base_uri": "https://localhost:8080/"
        },
        "id": "chepDFnOuvtp",
        "outputId": "10b15922-f878-4142-be4f-eb087130a9e4"
      },
      "execution_count": null,
      "outputs": [
        {
          "output_type": "stream",
          "name": "stdout",
          "text": [
            "Olá mundão!\n"
          ]
        }
      ]
    },
    {
      "cell_type": "code",
      "source": [
        "len(String) #ver o tamanho da string"
      ],
      "metadata": {
        "colab": {
          "base_uri": "https://localhost:8080/"
        },
        "id": "nGE-0Sn1u0eN",
        "outputId": "2319ae18-9026-4a4c-e76c-98253673f409"
      },
      "execution_count": null,
      "outputs": [
        {
          "output_type": "execute_result",
          "data": {
            "text/plain": [
              "11"
            ]
          },
          "metadata": {},
          "execution_count": 13
        }
      ]
    },
    {
      "cell_type": "code",
      "source": [
        "type(String)#ver o tipo da string"
      ],
      "metadata": {
        "colab": {
          "base_uri": "https://localhost:8080/"
        },
        "id": "W9IVJfqxu2Q2",
        "outputId": "add26141-443e-4602-e6d8-7913cc0a17b9"
      },
      "execution_count": null,
      "outputs": [
        {
          "output_type": "execute_result",
          "data": {
            "text/plain": [
              "str"
            ]
          },
          "metadata": {},
          "execution_count": 14
        }
      ]
    },
    {
      "cell_type": "code",
      "source": [
        "String + 'Concatenei' #concatenei a string"
      ],
      "metadata": {
        "colab": {
          "base_uri": "https://localhost:8080/",
          "height": 36
        },
        "id": "G5OIl2T_u4Bw",
        "outputId": "96d2c81f-4968-41e6-f99a-1061aaa2e284"
      },
      "execution_count": null,
      "outputs": [
        {
          "output_type": "execute_result",
          "data": {
            "text/plain": [
              "'Olá mundão!Concatenei'"
            ],
            "application/vnd.google.colaboratory.intrinsic+json": {
              "type": "string"
            }
          },
          "metadata": {},
          "execution_count": 16
        }
      ]
    },
    {
      "cell_type": "code",
      "source": [
        "#Replace: substituir\n",
        "\n",
        "String.replace('Mundo','Mundo')"
      ],
      "metadata": {
        "colab": {
          "base_uri": "https://localhost:8080/",
          "height": 36
        },
        "id": "BZ2C3oELvGa-",
        "outputId": "02980a32-dfac-48ff-9e1b-217cc7f94d6d"
      },
      "execution_count": null,
      "outputs": [
        {
          "output_type": "execute_result",
          "data": {
            "text/plain": [
              "'Olá mundão!'"
            ],
            "application/vnd.google.colaboratory.intrinsic+json": {
              "type": "string"
            }
          },
          "metadata": {},
          "execution_count": 23
        }
      ]
    },
    {
      "cell_type": "code",
      "source": [
        "CPF"
      ],
      "metadata": {
        "colab": {
          "base_uri": "https://localhost:8080/",
          "height": 36
        },
        "id": "fRzJFEGVvxBy",
        "outputId": "06bd5d14-e84c-4107-95c1-bd6deb934ff8"
      },
      "execution_count": null,
      "outputs": [
        {
          "output_type": "execute_result",
          "data": {
            "text/plain": [
              "'cpf=03106463325'"
            ],
            "application/vnd.google.colaboratory.intrinsic+json": {
              "type": "string"
            }
          },
          "metadata": {},
          "execution_count": 24
        }
      ]
    },
    {
      "cell_type": "code",
      "source": [
        "String.startswith('Olá') #retorna se a String começa com a palavra Olá, verificar o começo"
      ],
      "metadata": {
        "colab": {
          "base_uri": "https://localhost:8080/"
        },
        "id": "Y3S7MGQ0wX1G",
        "outputId": "49dadf85-70d2-4ba2-ea2a-9d6a16db066d"
      },
      "execution_count": null,
      "outputs": [
        {
          "output_type": "execute_result",
          "data": {
            "text/plain": [
              "True"
            ]
          },
          "metadata": {},
          "execution_count": 27
        }
      ]
    },
    {
      "cell_type": "code",
      "source": [
        "String.startswith('Ola')"
      ],
      "metadata": {
        "colab": {
          "base_uri": "https://localhost:8080/"
        },
        "id": "idqwJCVowzga",
        "outputId": "6d36a04d-9f06-4507-a08f-98ab2bb7d351"
      },
      "execution_count": null,
      "outputs": [
        {
          "output_type": "execute_result",
          "data": {
            "text/plain": [
              "False"
            ]
          },
          "metadata": {},
          "execution_count": 28
        }
      ]
    },
    {
      "cell_type": "code",
      "source": [
        "#Verificar o fim:\n",
        "String.endswith('mundão!')"
      ],
      "metadata": {
        "colab": {
          "base_uri": "https://localhost:8080/"
        },
        "id": "lCipjJFXw7Qq",
        "outputId": "b70bd128-4ee0-49df-ca4e-2526e6884413"
      },
      "execution_count": null,
      "outputs": [
        {
          "output_type": "execute_result",
          "data": {
            "text/plain": [
              "True"
            ]
          },
          "metadata": {},
          "execution_count": 33
        }
      ]
    },
    {
      "cell_type": "code",
      "source": [
        "#Contar palavras/letras:\n",
        "String.count('o')"
      ],
      "metadata": {
        "colab": {
          "base_uri": "https://localhost:8080/"
        },
        "id": "kHpSg8dnxM-R",
        "outputId": "96f36e3d-bb74-455f-bd28-6778e2869458"
      },
      "execution_count": null,
      "outputs": [
        {
          "output_type": "execute_result",
          "data": {
            "text/plain": [
              "1"
            ]
          },
          "metadata": {},
          "execution_count": 37
        }
      ]
    },
    {
      "cell_type": "code",
      "source": [],
      "metadata": {
        "id": "i_dM0wBaxdpm"
      },
      "execution_count": null,
      "outputs": []
    },
    {
      "cell_type": "code",
      "source": [
        "#Transformação:\n",
        "\n",
        "Nome = 'filipe'"
      ],
      "metadata": {
        "id": "P3WjEHDfxoCx"
      },
      "execution_count": null,
      "outputs": []
    },
    {
      "cell_type": "code",
      "source": [
        "Nome.capitalize()#faz a transformação de minuscula para maiúscula"
      ],
      "metadata": {
        "colab": {
          "base_uri": "https://localhost:8080/",
          "height": 36
        },
        "id": "G3TkvdZvxwYE",
        "outputId": "58176e32-b6c5-46ca-b609-befe82953814"
      },
      "execution_count": null,
      "outputs": [
        {
          "output_type": "execute_result",
          "data": {
            "text/plain": [
              "'Filipe'"
            ],
            "application/vnd.google.colaboratory.intrinsic+json": {
              "type": "string"
            }
          },
          "metadata": {},
          "execution_count": 39
        }
      ]
    },
    {
      "cell_type": "code",
      "source": [
        "#verificar se existe dígitos\n",
        "\n",
        "String_CPF = '03206463333'"
      ],
      "metadata": {
        "id": "kTtslAh_x41n"
      },
      "execution_count": null,
      "outputs": []
    },
    {
      "cell_type": "code",
      "source": [
        "String_CPF.isdigit()"
      ],
      "metadata": {
        "colab": {
          "base_uri": "https://localhost:8080/"
        },
        "id": "ACq6N2xUxx3P",
        "outputId": "1874a36d-7ffe-43e6-8ab4-3188837e1f8b"
      },
      "execution_count": null,
      "outputs": [
        {
          "output_type": "execute_result",
          "data": {
            "text/plain": [
              "True"
            ]
          },
          "metadata": {},
          "execution_count": 42
        }
      ]
    },
    {
      "cell_type": "code",
      "source": [
        "String.isalnum()"
      ],
      "metadata": {
        "colab": {
          "base_uri": "https://localhost:8080/"
        },
        "id": "eyPMhW8RyFOI",
        "outputId": "81595526-64c7-47b1-8006-6561ef49f309"
      },
      "execution_count": null,
      "outputs": [
        {
          "output_type": "execute_result",
          "data": {
            "text/plain": [
              "False"
            ]
          },
          "metadata": {},
          "execution_count": 43
        }
      ]
    },
    {
      "cell_type": "code",
      "source": [
        "#transformar tudo em maiusculo:\n",
        "Nome.upper()"
      ],
      "metadata": {
        "colab": {
          "base_uri": "https://localhost:8080/",
          "height": 36
        },
        "id": "TfUpLeQmyfgx",
        "outputId": "57f29d96-aa3b-4d08-92b4-db8e8a5d4fe2"
      },
      "execution_count": null,
      "outputs": [
        {
          "output_type": "execute_result",
          "data": {
            "text/plain": [
              "'FILIPE'"
            ],
            "application/vnd.google.colaboratory.intrinsic+json": {
              "type": "string"
            }
          },
          "metadata": {},
          "execution_count": 44
        }
      ]
    },
    {
      "cell_type": "code",
      "source": [
        "#Transformar tudo em ninúsculo:\n",
        "Nome = 'FILIPE'\n",
        "Nome.lower()"
      ],
      "metadata": {
        "colab": {
          "base_uri": "https://localhost:8080/",
          "height": 36
        },
        "id": "C3j-576BzJ9W",
        "outputId": "74b36537-54b8-4016-d5a2-f75c720d7440"
      },
      "execution_count": null,
      "outputs": [
        {
          "output_type": "execute_result",
          "data": {
            "text/plain": [
              "'filipe'"
            ],
            "application/vnd.google.colaboratory.intrinsic+json": {
              "type": "string"
            }
          },
          "metadata": {},
          "execution_count": 45
        }
      ]
    },
    {
      "cell_type": "code",
      "source": [
        "#Localizar alguma coisa especifica na String:\n",
        "frase = 'hoje o dia está calor'\n"
      ],
      "metadata": {
        "id": "BVt20AIazWlV"
      },
      "execution_count": null,
      "outputs": []
    },
    {
      "cell_type": "code",
      "source": [
        "frase.find('está')"
      ],
      "metadata": {
        "colab": {
          "base_uri": "https://localhost:8080/"
        },
        "id": "V0rDfTd3zqJB",
        "outputId": "08d843b9-8939-4691-f13d-9e3f7e8b9607"
      },
      "execution_count": null,
      "outputs": [
        {
          "output_type": "execute_result",
          "data": {
            "text/plain": [
              "11"
            ]
          },
          "metadata": {},
          "execution_count": 47
        }
      ]
    },
    {
      "cell_type": "code",
      "source": [
        "#Comando para remover espaços:\n",
        "Endereço = ' Rua do lavapés 410, SP '\n",
        "Endereço"
      ],
      "metadata": {
        "colab": {
          "base_uri": "https://localhost:8080/",
          "height": 36
        },
        "id": "2kdg3QJKztWE",
        "outputId": "5054a27b-7273-4b9a-f659-410539dae247"
      },
      "execution_count": null,
      "outputs": [
        {
          "output_type": "execute_result",
          "data": {
            "text/plain": [
              "' Rua do lavapés 410, SP '"
            ],
            "application/vnd.google.colaboratory.intrinsic+json": {
              "type": "string"
            }
          },
          "metadata": {},
          "execution_count": 52
        }
      ]
    },
    {
      "cell_type": "code",
      "source": [
        "Endereço.strip()"
      ],
      "metadata": {
        "colab": {
          "base_uri": "https://localhost:8080/",
          "height": 36
        },
        "id": "mfN08dJp0XNw",
        "outputId": "f227e4c4-6b49-4965-83d3-c9454f271663"
      },
      "execution_count": null,
      "outputs": [
        {
          "output_type": "execute_result",
          "data": {
            "text/plain": [
              "'Rua do lavapés 410, SP'"
            ],
            "application/vnd.google.colaboratory.intrinsic+json": {
              "type": "string"
            }
          },
          "metadata": {},
          "execution_count": 53
        }
      ]
    },
    {
      "cell_type": "code",
      "source": [
        "#Comando para quebrar a String:\n",
        "Palavra = 'Rua Augusta 150, Centro, Sp'"
      ],
      "metadata": {
        "id": "B5gruCir0dTt"
      },
      "execution_count": null,
      "outputs": []
    },
    {
      "cell_type": "code",
      "source": [
        "Palavra.split(',')"
      ],
      "metadata": {
        "colab": {
          "base_uri": "https://localhost:8080/"
        },
        "id": "re2S3gWK01fZ",
        "outputId": "0e424178-272f-404b-b034-1b2067d0720b"
      },
      "execution_count": null,
      "outputs": [
        {
          "output_type": "execute_result",
          "data": {
            "text/plain": [
              "['Rua Augusta 150', ' Centro', ' Sp']"
            ]
          },
          "metadata": {},
          "execution_count": 58
        }
      ]
    },
    {
      "cell_type": "code",
      "source": [],
      "metadata": {
        "id": "j910eila03rG"
      },
      "execution_count": null,
      "outputs": []
    },
    {
      "cell_type": "markdown",
      "source": [
        "11- COMANDO INPUT: A função input recebe como parâmetro uma string que será mostrada como auxílio ao usuário, geralmente o informando que tipo de dado o programa está aguardando receber. Input é um comando para entrada de dados:"
      ],
      "metadata": {
        "id": "wWZVrpwR1TYi"
      }
    },
    {
      "cell_type": "code",
      "source": [
        "input('Informe a mensagem:')"
      ],
      "metadata": {
        "colab": {
          "base_uri": "https://localhost:8080/",
          "height": 53
        },
        "id": "DgjeB_H51l0N",
        "outputId": "a9bb8c8e-ddf6-4455-b8dc-8657846fd8b5"
      },
      "execution_count": null,
      "outputs": [
        {
          "name": "stdout",
          "output_type": "stream",
          "text": [
            "Informe a mensagem:Filipe é lindo!!!\n"
          ]
        },
        {
          "output_type": "execute_result",
          "data": {
            "text/plain": [
              "'Filipe é lindo!!!'"
            ],
            "application/vnd.google.colaboratory.intrinsic+json": {
              "type": "string"
            }
          },
          "metadata": {},
          "execution_count": 60
        }
      ]
    },
    {
      "cell_type": "code",
      "source": [
        "#Criar um formulário:\n",
        "\n",
        "Nome = input('Informe o nome: ')\n",
        "Idade = input('Informe sua idade: ')\n",
        "\n",
        "print('Seu nome é: ', Nome)\n",
        "print('Sua idade é: ', Idade)"
      ],
      "metadata": {
        "colab": {
          "base_uri": "https://localhost:8080/"
        },
        "id": "7V1N1poJ1tee",
        "outputId": "418719fe-0338-459b-cff9-6cb3bc020232"
      },
      "execution_count": null,
      "outputs": [
        {
          "output_type": "stream",
          "name": "stdout",
          "text": [
            "Informe o nome: Filipe\n",
            "Informe sua idade: 29\n",
            "Seu nome é:  Filipe\n",
            "Sua idade é:  29\n"
          ]
        }
      ]
    },
    {
      "cell_type": "code",
      "source": [],
      "metadata": {
        "id": "z5aenDH12F1J"
      },
      "execution_count": null,
      "outputs": []
    },
    {
      "cell_type": "markdown",
      "source": [
        "12- Operadores de comparação: São usados para comparar dois valores:\n",
        "1.'=='(Igual a)\n",
        "2.'!='(Diferente)\n",
        "3.'>'(Maior)\n",
        "4.'<'(Menor)\n",
        "5.'>='(Maior igual)\n",
        "6.'<='(Menor igual)"
      ],
      "metadata": {
        "id": "fhdIve6Q2rfb"
      }
    },
    {
      "cell_type": "code",
      "source": [
        "10 == 10"
      ],
      "metadata": {
        "colab": {
          "base_uri": "https://localhost:8080/"
        },
        "id": "dHcl2XCq3NEG",
        "outputId": "5ea5cc66-4ea0-431b-b668-1cdaf4ada91a"
      },
      "execution_count": null,
      "outputs": [
        {
          "output_type": "execute_result",
          "data": {
            "text/plain": [
              "True"
            ]
          },
          "metadata": {},
          "execution_count": 65
        }
      ]
    },
    {
      "cell_type": "code",
      "source": [
        "10 != 8"
      ],
      "metadata": {
        "colab": {
          "base_uri": "https://localhost:8080/"
        },
        "id": "L4K5VhUH3O15",
        "outputId": "7b5b6989-f206-47a9-d416-6caf0cde4a8f"
      },
      "execution_count": null,
      "outputs": [
        {
          "output_type": "execute_result",
          "data": {
            "text/plain": [
              "True"
            ]
          },
          "metadata": {},
          "execution_count": 66
        }
      ]
    },
    {
      "cell_type": "code",
      "source": [
        "10 != 10"
      ],
      "metadata": {
        "colab": {
          "base_uri": "https://localhost:8080/"
        },
        "id": "Rp-IYmpW3Q5P",
        "outputId": "4df1bc12-9ec9-437f-af76-ad55e943753d"
      },
      "execution_count": null,
      "outputs": [
        {
          "output_type": "execute_result",
          "data": {
            "text/plain": [
              "False"
            ]
          },
          "metadata": {},
          "execution_count": 67
        }
      ]
    },
    {
      "cell_type": "code",
      "source": [
        "10 > 7"
      ],
      "metadata": {
        "colab": {
          "base_uri": "https://localhost:8080/"
        },
        "id": "vyBKDXKL3SXf",
        "outputId": "bef08ff6-9948-48f9-d063-de1d439b7368"
      },
      "execution_count": null,
      "outputs": [
        {
          "output_type": "execute_result",
          "data": {
            "text/plain": [
              "True"
            ]
          },
          "metadata": {},
          "execution_count": 68
        }
      ]
    },
    {
      "cell_type": "code",
      "source": [
        "2 > 9"
      ],
      "metadata": {
        "colab": {
          "base_uri": "https://localhost:8080/"
        },
        "id": "mzPw7ipG3oR-",
        "outputId": "78f196fb-1dc5-4107-c824-be86ad975d05"
      },
      "execution_count": null,
      "outputs": [
        {
          "output_type": "execute_result",
          "data": {
            "text/plain": [
              "False"
            ]
          },
          "metadata": {},
          "execution_count": 69
        }
      ]
    },
    {
      "cell_type": "code",
      "source": [],
      "metadata": {
        "id": "4qlpdj1L3p_2"
      },
      "execution_count": null,
      "outputs": []
    },
    {
      "cell_type": "markdown",
      "source": [
        "13- OPERADORES LÓGICOS: São usados para combinar instruções condicionais:\n",
        "1. AND(Retorna TRUE se ambas as declarações forem verdadeiras)\n",
        "2. OR(Retorna TRUE se uma das declarações forem verdadeiras)\n",
        "3. NOT(Inverte o resultado, retorna False se o resultado for verdadeiro)\n"
      ],
      "metadata": {
        "id": "s2YPE9wL4Ymt"
      }
    },
    {
      "cell_type": "code",
      "source": [
        "10 > 2 and 3< 5 # as duas tem que ter verdadeiras"
      ],
      "metadata": {
        "colab": {
          "base_uri": "https://localhost:8080/"
        },
        "id": "xHuGjgBH47E9",
        "outputId": "6c21c779-9672-4e33-bde0-3fbff3583770"
      },
      "execution_count": null,
      "outputs": [
        {
          "output_type": "execute_result",
          "data": {
            "text/plain": [
              "True"
            ]
          },
          "metadata": {},
          "execution_count": 70
        }
      ]
    },
    {
      "cell_type": "code",
      "source": [
        "10 < 13 and 3 < 2"
      ],
      "metadata": {
        "colab": {
          "base_uri": "https://localhost:8080/"
        },
        "id": "sJnJztw05E3P",
        "outputId": "f4b0bbe4-807f-4e5b-ee4e-8ff0b4461579"
      },
      "execution_count": null,
      "outputs": [
        {
          "output_type": "execute_result",
          "data": {
            "text/plain": [
              "False"
            ]
          },
          "metadata": {},
          "execution_count": 73
        }
      ]
    },
    {
      "cell_type": "code",
      "source": [
        "10 > 4 or 6 < 10 #uma das suas tem que ser verdadeira"
      ],
      "metadata": {
        "colab": {
          "base_uri": "https://localhost:8080/"
        },
        "id": "6qRVy1Kz5K9s",
        "outputId": "45706c22-c365-4a87-9bc8-259ce5b9134f"
      },
      "execution_count": null,
      "outputs": [
        {
          "output_type": "execute_result",
          "data": {
            "text/plain": [
              "True"
            ]
          },
          "metadata": {},
          "execution_count": 74
        }
      ]
    },
    {
      "cell_type": "code",
      "source": [
        "9 < 3 or 8 > 3"
      ],
      "metadata": {
        "colab": {
          "base_uri": "https://localhost:8080/"
        },
        "id": "PtHgzLcB5_Ja",
        "outputId": "7e76e212-ee82-445c-d501-5bf6f5e431d1"
      },
      "execution_count": null,
      "outputs": [
        {
          "output_type": "execute_result",
          "data": {
            "text/plain": [
              "True"
            ]
          },
          "metadata": {},
          "execution_count": 76
        }
      ]
    },
    {
      "cell_type": "code",
      "source": [
        "lista = [1,2,3,4,5]"
      ],
      "metadata": {
        "id": "iVnTh6PA6GIp"
      },
      "execution_count": null,
      "outputs": []
    },
    {
      "cell_type": "code",
      "source": [
        "10 in lista"
      ],
      "metadata": {
        "colab": {
          "base_uri": "https://localhost:8080/"
        },
        "id": "O0b9Ajvo6qnW",
        "outputId": "3a46b4a8-e922-4b2a-b27a-7c05cd212cfe"
      },
      "execution_count": null,
      "outputs": [
        {
          "output_type": "execute_result",
          "data": {
            "text/plain": [
              "False"
            ]
          },
          "metadata": {},
          "execution_count": 80
        }
      ]
    },
    {
      "cell_type": "code",
      "source": [
        "10 not in lista"
      ],
      "metadata": {
        "colab": {
          "base_uri": "https://localhost:8080/"
        },
        "id": "zLHjRBoo6umn",
        "outputId": "7fe199a0-659a-422d-860b-d098ef14d05c"
      },
      "execution_count": null,
      "outputs": [
        {
          "output_type": "execute_result",
          "data": {
            "text/plain": [
              "True"
            ]
          },
          "metadata": {},
          "execution_count": 82
        }
      ]
    },
    {
      "cell_type": "code",
      "source": [
        "2 not in lista"
      ],
      "metadata": {
        "colab": {
          "base_uri": "https://localhost:8080/"
        },
        "id": "g8f0Bc0z62hB",
        "outputId": "406fad2b-8fe6-42a4-b481-26a085d74f7c"
      },
      "execution_count": null,
      "outputs": [
        {
          "output_type": "execute_result",
          "data": {
            "text/plain": [
              "False"
            ]
          },
          "metadata": {},
          "execution_count": 83
        }
      ]
    },
    {
      "cell_type": "code",
      "source": [],
      "metadata": {
        "id": "OgWo7vOR65z7"
      },
      "execution_count": null,
      "outputs": []
    },
    {
      "cell_type": "code",
      "source": [],
      "metadata": {
        "id": "HTfpKtaT7S0c"
      },
      "execution_count": null,
      "outputs": []
    },
    {
      "cell_type": "markdown",
      "source": [
        "14-OPERADORES DE IDENTIDADE: São usados para comparar os objetos , não se forem iguais, mas se forem realmente o mesmo objeto, com a mesma localização de memória:\n",
        "1.is(Retorna True se ambas as variáveis forem o mesmo objeto)\n",
        "2. is not(Retorna True se ambas as variáveis não forem o mesmo objeto)"
      ],
      "metadata": {
        "id": "d_xdxTa-7UPo"
      }
    },
    {
      "cell_type": "markdown",
      "source": [],
      "metadata": {
        "id": "6ZEMcUUj7yuo"
      }
    },
    {
      "cell_type": "code",
      "source": [
        "String_01 = 'Olá mundão'\n",
        "String_02 = 'Olá mundão'"
      ],
      "metadata": {
        "id": "gQNIOl8v71Dq"
      },
      "execution_count": null,
      "outputs": []
    },
    {
      "cell_type": "code",
      "source": [
        "type(String_01) is type(String_02)"
      ],
      "metadata": {
        "colab": {
          "base_uri": "https://localhost:8080/"
        },
        "id": "_OA5OQhs9Z2W",
        "outputId": "f86ce330-11da-4678-ccaa-7271f574f675"
      },
      "execution_count": null,
      "outputs": [
        {
          "output_type": "execute_result",
          "data": {
            "text/plain": [
              "True"
            ]
          },
          "metadata": {},
          "execution_count": 87
        }
      ]
    },
    {
      "cell_type": "code",
      "source": [
        "type(String_01) == type(String_02)"
      ],
      "metadata": {
        "colab": {
          "base_uri": "https://localhost:8080/"
        },
        "id": "mQE2WBJy9eYD",
        "outputId": "e41d495f-b094-4124-a03f-9589c7a4901a"
      },
      "execution_count": null,
      "outputs": [
        {
          "output_type": "execute_result",
          "data": {
            "text/plain": [
              "True"
            ]
          },
          "metadata": {},
          "execution_count": 88
        }
      ]
    },
    {
      "cell_type": "code",
      "source": [
        "type(String_01) is not type(String_02)"
      ],
      "metadata": {
        "colab": {
          "base_uri": "https://localhost:8080/"
        },
        "id": "RqUD6EmJ964y",
        "outputId": "1587e0c1-f0ae-4b29-a65c-cf0b73ee344d"
      },
      "execution_count": null,
      "outputs": [
        {
          "output_type": "execute_result",
          "data": {
            "text/plain": [
              "False"
            ]
          },
          "metadata": {},
          "execution_count": 89
        }
      ]
    },
    {
      "cell_type": "code",
      "source": [],
      "metadata": {
        "id": "fOL95OmH-AlL"
      },
      "execution_count": null,
      "outputs": []
    },
    {
      "cell_type": "markdown",
      "source": [],
      "metadata": {
        "id": "lR6rAdjhYK8d"
      }
    },
    {
      "cell_type": "markdown",
      "source": [
        "15- OPERADORES DE ASSOCIAÇÃO: São usados para testar se uma sequência é apresentada em um objeto:\n",
        "1- in (Retorna True se uma sequência com um valor especificado estiver presente no objeto)\n",
        "2- not in (Retorna True se uma sequência com o valor especificado não estiver presente no objeto)"
      ],
      "metadata": {
        "id": "qYSyz0r6YO3m"
      }
    },
    {
      "cell_type": "code",
      "source": [
        "Lista_Ações = ['Magalu', 'Via', 'Carrefour']"
      ],
      "metadata": {
        "id": "-eJ5C9nWY41K"
      },
      "execution_count": null,
      "outputs": []
    },
    {
      "cell_type": "code",
      "source": [
        "'Via' in Lista_Ações"
      ],
      "metadata": {
        "colab": {
          "base_uri": "https://localhost:8080/"
        },
        "id": "8WP41_1UY_L_",
        "outputId": "3e67e8db-c8bc-4abd-8f2d-852a66b380b9"
      },
      "execution_count": null,
      "outputs": [
        {
          "output_type": "execute_result",
          "data": {
            "text/plain": [
              "True"
            ]
          },
          "metadata": {},
          "execution_count": 92
        }
      ]
    },
    {
      "cell_type": "code",
      "source": [
        "'Vida' not in Lista_Ações"
      ],
      "metadata": {
        "colab": {
          "base_uri": "https://localhost:8080/"
        },
        "id": "_6S7BruWZF8D",
        "outputId": "a17eaf4c-24c5-4f68-86f5-8f1f81545047"
      },
      "execution_count": null,
      "outputs": [
        {
          "output_type": "execute_result",
          "data": {
            "text/plain": [
              "True"
            ]
          },
          "metadata": {},
          "execution_count": 93
        }
      ]
    },
    {
      "cell_type": "code",
      "source": [
        "'Carrefour' not in Lista_Ações #not in pra provar que o valor não está na lista"
      ],
      "metadata": {
        "colab": {
          "base_uri": "https://localhost:8080/"
        },
        "id": "qnGRuXU3ZLoB",
        "outputId": "baf04f8d-d5d2-4f3b-b756-5b84808f1763"
      },
      "execution_count": null,
      "outputs": [
        {
          "output_type": "execute_result",
          "data": {
            "text/plain": [
              "False"
            ]
          },
          "metadata": {},
          "execution_count": 98
        }
      ]
    },
    {
      "cell_type": "code",
      "source": [
        "'Carrefour' in Lista_Ações#in, pra provar que o valor está na lista"
      ],
      "metadata": {
        "colab": {
          "base_uri": "https://localhost:8080/"
        },
        "id": "jMgD0QgCZQtq",
        "outputId": "32c894a7-444b-422c-945c-ffe5e19919f2"
      },
      "execution_count": null,
      "outputs": [
        {
          "output_type": "execute_result",
          "data": {
            "text/plain": [
              "True"
            ]
          },
          "metadata": {},
          "execution_count": 97
        }
      ]
    },
    {
      "cell_type": "code",
      "source": [],
      "metadata": {
        "id": "itB9EriSZXLn"
      },
      "execution_count": null,
      "outputs": []
    },
    {
      "cell_type": "code",
      "source": [],
      "metadata": {
        "id": "lIFsqc5bbSgV"
      },
      "execution_count": null,
      "outputs": []
    },
    {
      "cell_type": "code",
      "source": [],
      "metadata": {
        "id": "C2kNQuO7bT0p"
      },
      "execution_count": null,
      "outputs": []
    },
    {
      "cell_type": "code",
      "source": [],
      "metadata": {
        "id": "hH_6g-xvbX8g"
      },
      "execution_count": null,
      "outputs": []
    },
    {
      "cell_type": "markdown",
      "source": [
        "16- MANIPULANDO LISTAS: As listas são usadas para armazenar vários itens em uma única variável.\n",
        "As listas são um dos 4 tipos de dados internos do Phyton usados para armazenar coleções de dados, os outros 3 são Tuple, Set e Dictonary, todos com qualidades e usos diferentes.\n",
        "Comando mais utilizado:\n",
        "1. append() : para adicionar um item ao final da lista\n",
        "2. len() : calcular o tamanho da lista\n",
        "3. [] : acessar posição\n",
        "4. del() : excluir um elemento\n",
        "5. clear() : limpar a lista\n",
        "6. insert() : para inserir um item de lista em um índice especificado\n",
        "7. extend() :anexar elementos de outra lista à lista atual\n",
        "8. remove() : remove o ítem expecificado\n",
        "9. pop() : remove o índice especificado\n",
        "10. sort() : ordenar os valores\n",
        "11. copy() : faz uma cópia da lista\n",
        "12. index() : retorna o index do elemento da lista\n"
      ],
      "metadata": {
        "id": "jNskJWr_Z-1e"
      }
    },
    {
      "cell_type": "code",
      "source": [
        "Lista_Vazia = []"
      ],
      "metadata": {
        "id": "sJUv0d_TbZOj"
      },
      "execution_count": null,
      "outputs": []
    },
    {
      "cell_type": "code",
      "source": [
        "Lista_Vazia.append(1) #adiciona elementos na lista\n",
        "Lista_Vazia.append(2)\n",
        "Lista_Vazia.append(3)\n",
        "Lista_Vazia.append('Valor')"
      ],
      "metadata": {
        "id": "fScrcEwdba-w"
      },
      "execution_count": null,
      "outputs": []
    },
    {
      "cell_type": "code",
      "source": [
        "Lista_Vazia"
      ],
      "metadata": {
        "colab": {
          "base_uri": "https://localhost:8080/"
        },
        "id": "BC0QPUKqb1Bw",
        "outputId": "453c9962-75d1-4e88-8d89-801958902101"
      },
      "execution_count": null,
      "outputs": [
        {
          "output_type": "execute_result",
          "data": {
            "text/plain": [
              "[1, 2, 3, 'Valor']"
            ]
          },
          "metadata": {},
          "execution_count": 101
        }
      ]
    },
    {
      "cell_type": "code",
      "source": [
        "len(Lista_Vazia) #retorna o tamanho da lista"
      ],
      "metadata": {
        "colab": {
          "base_uri": "https://localhost:8080/"
        },
        "id": "mIeFvqU7b2Ns",
        "outputId": "168a42a3-8e39-4dfe-b5f4-2c09831c81ab"
      },
      "execution_count": null,
      "outputs": [
        {
          "output_type": "execute_result",
          "data": {
            "text/plain": [
              "4"
            ]
          },
          "metadata": {},
          "execution_count": 103
        }
      ]
    },
    {
      "cell_type": "code",
      "source": [
        "Lista_Vazia[0] #acessar a posição zero"
      ],
      "metadata": {
        "colab": {
          "base_uri": "https://localhost:8080/"
        },
        "id": "sPESxL9hb8M6",
        "outputId": "d56f955b-d123-4f81-e798-693e008aa5c1"
      },
      "execution_count": null,
      "outputs": [
        {
          "output_type": "execute_result",
          "data": {
            "text/plain": [
              "1"
            ]
          },
          "metadata": {},
          "execution_count": 105
        }
      ]
    },
    {
      "cell_type": "code",
      "source": [
        "Lista_Vazia[2]"
      ],
      "metadata": {
        "colab": {
          "base_uri": "https://localhost:8080/"
        },
        "id": "eXkbc9dIcIMx",
        "outputId": "84b11e72-68a2-4f08-a3c8-c5a850d39e75"
      },
      "execution_count": null,
      "outputs": [
        {
          "output_type": "execute_result",
          "data": {
            "text/plain": [
              "3"
            ]
          },
          "metadata": {},
          "execution_count": 106
        }
      ]
    },
    {
      "cell_type": "code",
      "source": [
        "Lista_Vazia[3]"
      ],
      "metadata": {
        "colab": {
          "base_uri": "https://localhost:8080/",
          "height": 36
        },
        "id": "D_y-okUicRL9",
        "outputId": "95b78f4f-a25a-4adc-d46c-e3913ef8958a"
      },
      "execution_count": null,
      "outputs": [
        {
          "output_type": "execute_result",
          "data": {
            "text/plain": [
              "'Valor'"
            ],
            "application/vnd.google.colaboratory.intrinsic+json": {
              "type": "string"
            }
          },
          "metadata": {},
          "execution_count": 107
        }
      ]
    },
    {
      "cell_type": "code",
      "source": [
        "Lista_Vazia[0:2]"
      ],
      "metadata": {
        "colab": {
          "base_uri": "https://localhost:8080/"
        },
        "id": "Otx5n8DScUJb",
        "outputId": "21d1362e-2208-47a7-a771-3beefe022d9c"
      },
      "execution_count": null,
      "outputs": [
        {
          "output_type": "execute_result",
          "data": {
            "text/plain": [
              "[1, 2]"
            ]
          },
          "metadata": {},
          "execution_count": 108
        }
      ]
    },
    {
      "cell_type": "code",
      "source": [
        "print(Lista_Vazia)\n",
        "Lista_Vazia.clear()\n",
        "print(Lista_Vazia)"
      ],
      "metadata": {
        "colab": {
          "base_uri": "https://localhost:8080/"
        },
        "id": "8no0ObX9cY4F",
        "outputId": "b9c55bf4-a050-4d51-e206-edadc12844d5"
      },
      "execution_count": null,
      "outputs": [
        {
          "output_type": "stream",
          "name": "stdout",
          "text": [
            "[1, 2, 3, 'Valor']\n",
            "[]\n"
          ]
        }
      ]
    },
    {
      "cell_type": "code",
      "source": [
        "Lista_Vazia"
      ],
      "metadata": {
        "colab": {
          "base_uri": "https://localhost:8080/"
        },
        "id": "oWFw6el_ck10",
        "outputId": "fec14a17-fc8c-4ac7-dbdf-974c730dbf6f"
      },
      "execution_count": null,
      "outputs": [
        {
          "output_type": "execute_result",
          "data": {
            "text/plain": [
              "[1, 2, 3, 'Valor']"
            ]
          },
          "metadata": {},
          "execution_count": 114
        }
      ]
    },
    {
      "cell_type": "code",
      "source": [
        "Lista_Vazia.insert(2, 1.5)#insere o valor na poição indicada, no caso, insere o valor 1.5 na posição 2"
      ],
      "metadata": {
        "id": "h2piNvA2dBNz"
      },
      "execution_count": null,
      "outputs": []
    },
    {
      "cell_type": "code",
      "source": [
        "Lista_Vazia"
      ],
      "metadata": {
        "colab": {
          "base_uri": "https://localhost:8080/"
        },
        "id": "6pShmBsLdF6b",
        "outputId": "48f023d5-f38d-4418-87c3-a79eed5bff68"
      },
      "execution_count": null,
      "outputs": [
        {
          "output_type": "execute_result",
          "data": {
            "text/plain": [
              "[0, '0', 1.5, 1, 2, 3, 'Valor']"
            ]
          },
          "metadata": {},
          "execution_count": 122
        }
      ]
    },
    {
      "cell_type": "code",
      "source": [
        "Lista_01 = [1,2,3]\n",
        "Lista_02 = [4,5,6]"
      ],
      "metadata": {
        "id": "lkGA9m27dQbH"
      },
      "execution_count": null,
      "outputs": []
    },
    {
      "cell_type": "code",
      "source": [
        "Lista_01.extend(Lista_02)#extende insere uma lista dentro da outra, junta uma lista à outra"
      ],
      "metadata": {
        "id": "7sE6SQAgdnN0"
      },
      "execution_count": null,
      "outputs": []
    },
    {
      "cell_type": "code",
      "source": [
        "Lista_01"
      ],
      "metadata": {
        "colab": {
          "base_uri": "https://localhost:8080/"
        },
        "id": "8IiVtozSdrNT",
        "outputId": "ef576473-5192-43e7-915c-f9f96a4ba9d2"
      },
      "execution_count": null,
      "outputs": [
        {
          "output_type": "execute_result",
          "data": {
            "text/plain": [
              "[1, 2, 3, 4, 5, 6]"
            ]
          },
          "metadata": {},
          "execution_count": 125
        }
      ]
    },
    {
      "cell_type": "code",
      "source": [
        "Lista_01.remove(5)"
      ],
      "metadata": {
        "id": "P9ca8yqIeXMQ"
      },
      "execution_count": null,
      "outputs": []
    },
    {
      "cell_type": "code",
      "source": [
        "Lista_01"
      ],
      "metadata": {
        "colab": {
          "base_uri": "https://localhost:8080/"
        },
        "id": "KLs2P9y4egKA",
        "outputId": "eed36cc7-c20d-4b17-a74c-1687459a19c1"
      },
      "execution_count": null,
      "outputs": [
        {
          "output_type": "execute_result",
          "data": {
            "text/plain": [
              "[1, 2, 3, 4, 6, 4, 6]"
            ]
          },
          "metadata": {},
          "execution_count": 131
        }
      ]
    },
    {
      "cell_type": "code",
      "source": [
        "Lista_01.pop(0)#remove o índice indicado"
      ],
      "metadata": {
        "colab": {
          "base_uri": "https://localhost:8080/"
        },
        "id": "BDNAGX8benwL",
        "outputId": "b16a4883-3ebe-4a90-941f-1a68b73d44a4"
      },
      "execution_count": null,
      "outputs": [
        {
          "output_type": "execute_result",
          "data": {
            "text/plain": [
              "1"
            ]
          },
          "metadata": {},
          "execution_count": 132
        }
      ]
    },
    {
      "cell_type": "code",
      "source": [
        "Lista_01"
      ],
      "metadata": {
        "colab": {
          "base_uri": "https://localhost:8080/"
        },
        "id": "yTHMRam0ev3Y",
        "outputId": "3c69c940-3e17-4288-a264-654c63c64423"
      },
      "execution_count": null,
      "outputs": [
        {
          "output_type": "execute_result",
          "data": {
            "text/plain": [
              "[2, 3, 4, 6, 4, 6]"
            ]
          },
          "metadata": {},
          "execution_count": 133
        }
      ]
    },
    {
      "cell_type": "code",
      "source": [
        "Lista_ABC = ['z','c','f','H','A']\n",
        "Lista_ABC.sort()"
      ],
      "metadata": {
        "id": "WZWgRUgAe1NN"
      },
      "execution_count": null,
      "outputs": []
    },
    {
      "cell_type": "code",
      "source": [
        "Lista_ABC"
      ],
      "metadata": {
        "colab": {
          "base_uri": "https://localhost:8080/"
        },
        "id": "pyAkspcBfA8v",
        "outputId": "29b1fd6e-6c5a-4e60-e8bc-212ef032bd29"
      },
      "execution_count": null,
      "outputs": [
        {
          "output_type": "execute_result",
          "data": {
            "text/plain": [
              "['A', 'H', 'c', 'f', 'z']"
            ]
          },
          "metadata": {},
          "execution_count": 136
        }
      ]
    },
    {
      "cell_type": "code",
      "source": [
        "Lista_ABC.sort(reverse=True)"
      ],
      "metadata": {
        "id": "020XahLSfHGc"
      },
      "execution_count": null,
      "outputs": []
    },
    {
      "cell_type": "code",
      "source": [
        "Lista_ABC"
      ],
      "metadata": {
        "colab": {
          "base_uri": "https://localhost:8080/"
        },
        "id": "6soNbNe1fQcD",
        "outputId": "bc305b6e-e817-40c9-ce9d-61bf6c34bae0"
      },
      "execution_count": null,
      "outputs": [
        {
          "output_type": "execute_result",
          "data": {
            "text/plain": [
              "['z', 'f', 'c', 'H', 'A']"
            ]
          },
          "metadata": {},
          "execution_count": 138
        }
      ]
    },
    {
      "cell_type": "code",
      "source": [
        "Lista_Nova = Lista_ABC.copy()"
      ],
      "metadata": {
        "id": "IhUXfG7hfRoC"
      },
      "execution_count": null,
      "outputs": []
    },
    {
      "cell_type": "code",
      "source": [
        "Lista_Nova"
      ],
      "metadata": {
        "colab": {
          "base_uri": "https://localhost:8080/"
        },
        "id": "I0Vs50LSfcVS",
        "outputId": "d7e184ce-a301-47e4-f332-5773eba607c9"
      },
      "execution_count": null,
      "outputs": [
        {
          "output_type": "execute_result",
          "data": {
            "text/plain": [
              "['z', 'f', 'c', 'H', 'A']"
            ]
          },
          "metadata": {},
          "execution_count": 140
        }
      ]
    },
    {
      "cell_type": "code",
      "source": [
        "Lista_Nova.index('H')#pra saber qual a posição do elemento indicado"
      ],
      "metadata": {
        "colab": {
          "base_uri": "https://localhost:8080/"
        },
        "id": "5O_Q38Dnfd1J",
        "outputId": "cd48e38c-0141-4034-c9f1-5b1a221a7885"
      },
      "execution_count": null,
      "outputs": [
        {
          "output_type": "execute_result",
          "data": {
            "text/plain": [
              "3"
            ]
          },
          "metadata": {},
          "execution_count": 141
        }
      ]
    },
    {
      "cell_type": "code",
      "source": [
        "Lista1 = [1,2,3,'Filipe']\n",
        "Lista2 = [4,5,6,'Lucas']"
      ],
      "metadata": {
        "id": "NFXRPK36fqaz"
      },
      "execution_count": null,
      "outputs": []
    },
    {
      "cell_type": "code",
      "source": [
        "Lista1.extend(Lista2)"
      ],
      "metadata": {
        "id": "OHPvFaLQhBQT"
      },
      "execution_count": null,
      "outputs": []
    },
    {
      "cell_type": "code",
      "source": [
        "Lista1"
      ],
      "metadata": {
        "colab": {
          "base_uri": "https://localhost:8080/"
        },
        "id": "AYSoN_TohENR",
        "outputId": "b1fd15e0-c000-4ade-eb9e-0504eb2189f7"
      },
      "execution_count": null,
      "outputs": [
        {
          "output_type": "execute_result",
          "data": {
            "text/plain": [
              "[1, 2, 3, 'Filipe', 4, 5, 6, 'Lucas']"
            ]
          },
          "metadata": {},
          "execution_count": 144
        }
      ]
    },
    {
      "cell_type": "code",
      "source": [],
      "metadata": {
        "id": "jgZPS5azhFaX"
      },
      "execution_count": null,
      "outputs": []
    },
    {
      "cell_type": "markdown",
      "source": [
        "17 - Pacote Externo -  Datetime: O datetime módulo fornece classes para manipulação de datas e horas."
      ],
      "metadata": {
        "id": "3GUHO2aTwy_O"
      }
    },
    {
      "cell_type": "code",
      "source": [
        "import datetime #tem diversas funções sobre data"
      ],
      "metadata": {
        "id": "h7N-Fi0hxIgJ"
      },
      "execution_count": null,
      "outputs": []
    },
    {
      "cell_type": "code",
      "source": [
        "Data_hoje = datetime.datetime.today()\n",
        "print(Data_hoje)"
      ],
      "metadata": {
        "colab": {
          "base_uri": "https://localhost:8080/"
        },
        "id": "cb5MXSi3xVFy",
        "outputId": "d1b6673f-c69a-4920-f89c-a37288e2e56a"
      },
      "execution_count": null,
      "outputs": [
        {
          "output_type": "stream",
          "name": "stdout",
          "text": [
            "2023-06-22 20:23:10.600517\n"
          ]
        }
      ]
    },
    {
      "cell_type": "code",
      "source": [
        "type(Data_hoje)"
      ],
      "metadata": {
        "colab": {
          "base_uri": "https://localhost:8080/"
        },
        "id": "RHmfVjycxcsj",
        "outputId": "e480a53d-5cad-44cc-d8ad-dff1406a5096"
      },
      "execution_count": null,
      "outputs": [
        {
          "output_type": "execute_result",
          "data": {
            "text/plain": [
              "datetime.datetime"
            ]
          },
          "metadata": {},
          "execution_count": 8
        }
      ]
    },
    {
      "cell_type": "code",
      "source": [
        "print(datetime.datetime.today().date())"
      ],
      "metadata": {
        "colab": {
          "base_uri": "https://localhost:8080/"
        },
        "id": "NzRj70pCyATQ",
        "outputId": "db184124-22e9-4999-dec5-fe64a82f525e"
      },
      "execution_count": null,
      "outputs": [
        {
          "output_type": "stream",
          "name": "stdout",
          "text": [
            "2023-06-22\n"
          ]
        }
      ]
    },
    {
      "cell_type": "code",
      "source": [
        "Data = datetime.datetime.today().date()"
      ],
      "metadata": {
        "id": "t7a8uRD9yYz9"
      },
      "execution_count": null,
      "outputs": []
    },
    {
      "cell_type": "code",
      "source": [
        "Ano = Data.year\n",
        "Mes= Data.month\n",
        "Dia = Data.day"
      ],
      "metadata": {
        "id": "GXaVYecbyhKr"
      },
      "execution_count": null,
      "outputs": []
    },
    {
      "cell_type": "code",
      "source": [
        "print(Ano, Mes, Dia)"
      ],
      "metadata": {
        "colab": {
          "base_uri": "https://localhost:8080/"
        },
        "id": "00D9ZdsYywMO",
        "outputId": "6da0f945-70a0-4674-c3dc-3ea12071aeeb"
      },
      "execution_count": null,
      "outputs": [
        {
          "output_type": "stream",
          "name": "stdout",
          "text": [
            "2023 6 22\n"
          ]
        }
      ]
    },
    {
      "cell_type": "code",
      "source": [
        "Data_Antiga = datetime.date(2022, 7 , 2)\n",
        "Data_Antiga"
      ],
      "metadata": {
        "colab": {
          "base_uri": "https://localhost:8080/"
        },
        "id": "JPCo8unWyzuW",
        "outputId": "ba4f87e2-e076-422a-ff83-c4b5013f840e"
      },
      "execution_count": null,
      "outputs": [
        {
          "output_type": "execute_result",
          "data": {
            "text/plain": [
              "datetime.date(2022, 7, 2)"
            ]
          },
          "metadata": {},
          "execution_count": 18
        }
      ]
    },
    {
      "cell_type": "code",
      "source": [
        "Data"
      ],
      "metadata": {
        "colab": {
          "base_uri": "https://localhost:8080/"
        },
        "id": "JwHFGJcHzJW-",
        "outputId": "7844088c-0eea-410e-88bc-12b39ea0c7c6"
      },
      "execution_count": null,
      "outputs": [
        {
          "output_type": "execute_result",
          "data": {
            "text/plain": [
              "datetime.date(2023, 6, 22)"
            ]
          },
          "metadata": {},
          "execution_count": 16
        }
      ]
    },
    {
      "cell_type": "code",
      "source": [
        "Data - Data_Antiga #fazer cálculos entre datas"
      ],
      "metadata": {
        "colab": {
          "base_uri": "https://localhost:8080/"
        },
        "id": "UVvk2RyFzlP3",
        "outputId": "2e347881-9b1b-487b-9621-f239beaaafa4"
      },
      "execution_count": null,
      "outputs": [
        {
          "output_type": "execute_result",
          "data": {
            "text/plain": [
              "datetime.timedelta(days=355)"
            ]
          },
          "metadata": {},
          "execution_count": 19
        }
      ]
    },
    {
      "cell_type": "code",
      "source": [
        "Data.strftime('%d/%m/%y')"
      ],
      "metadata": {
        "colab": {
          "base_uri": "https://localhost:8080/",
          "height": 36
        },
        "id": "ug55rFyVzoWq",
        "outputId": "914d808c-1817-459e-a442-7e7fb45f0b33"
      },
      "execution_count": null,
      "outputs": [
        {
          "output_type": "execute_result",
          "data": {
            "text/plain": [
              "'22/06/23'"
            ],
            "application/vnd.google.colaboratory.intrinsic+json": {
              "type": "string"
            }
          },
          "metadata": {},
          "execution_count": 21
        }
      ]
    },
    {
      "cell_type": "code",
      "source": [
        "Data + datetime.timedelta(days=30)"
      ],
      "metadata": {
        "colab": {
          "base_uri": "https://localhost:8080/"
        },
        "id": "r-S3PTdU0Puy",
        "outputId": "bec607ec-545c-4a8e-c9d6-68f1d322bc62"
      },
      "execution_count": null,
      "outputs": [
        {
          "output_type": "execute_result",
          "data": {
            "text/plain": [
              "datetime.date(2023, 7, 22)"
            ]
          },
          "metadata": {},
          "execution_count": 23
        }
      ]
    },
    {
      "cell_type": "code",
      "source": [
        "type(Data)"
      ],
      "metadata": {
        "colab": {
          "base_uri": "https://localhost:8080/"
        },
        "id": "NerLWn-80Yv0",
        "outputId": "17ad2b48-68ac-4247-ea9f-a8f10c5701f7"
      },
      "execution_count": null,
      "outputs": [
        {
          "output_type": "execute_result",
          "data": {
            "text/plain": [
              "datetime.date"
            ]
          },
          "metadata": {},
          "execution_count": 25
        }
      ]
    },
    {
      "cell_type": "code",
      "source": [],
      "metadata": {
        "id": "1uH2xi0z046U"
      },
      "execution_count": null,
      "outputs": []
    },
    {
      "cell_type": "markdown",
      "source": [
        "18 -  Pacote externo - Time: Este módulo fornece várias funções relacionadas ao tempo."
      ],
      "metadata": {
        "id": "ob_rL_D76uPk"
      }
    },
    {
      "cell_type": "code",
      "source": [
        "import time"
      ],
      "metadata": {
        "id": "VtLLAsey60p6"
      },
      "execution_count": null,
      "outputs": []
    },
    {
      "cell_type": "code",
      "source": [
        "print('Comecei agora...')#esse comando é para ficar esperando o que está no parâmetro, no caso 3 segundos.\n",
        "time.sleep(3)\n",
        "print('terminei')"
      ],
      "metadata": {
        "colab": {
          "base_uri": "https://localhost:8080/"
        },
        "id": "yMNGViyy62Yb",
        "outputId": "b578ea7d-ac78-4c24-a23b-9f4f42050785"
      },
      "execution_count": null,
      "outputs": [
        {
          "output_type": "stream",
          "name": "stdout",
          "text": [
            "Comecei agora...\n",
            "terminei\n"
          ]
        }
      ]
    },
    {
      "cell_type": "code",
      "source": [
        "Agora = time.localtime()\n",
        "print(Agora)\n",
        "print(type(Agora))"
      ],
      "metadata": {
        "colab": {
          "base_uri": "https://localhost:8080/"
        },
        "id": "DrPUXhUZ7QlJ",
        "outputId": "f72297c7-5eba-4113-edeb-ab8d953a890d"
      },
      "execution_count": null,
      "outputs": [
        {
          "output_type": "stream",
          "name": "stdout",
          "text": [
            "time.struct_time(tm_year=2023, tm_mon=6, tm_mday=23, tm_hour=1, tm_min=45, tm_sec=39, tm_wday=4, tm_yday=174, tm_isdst=0)\n",
            "<class 'time.struct_time'>\n"
          ]
        }
      ]
    },
    {
      "cell_type": "code",
      "source": [],
      "metadata": {
        "id": "x0xNPBO27Cu1"
      },
      "execution_count": null,
      "outputs": []
    },
    {
      "cell_type": "code",
      "source": [
        "time.strftime('%m/%d/%y, %H:%M:%S', Agora)"
      ],
      "metadata": {
        "colab": {
          "base_uri": "https://localhost:8080/",
          "height": 36
        },
        "id": "VZXdtCnx7q_s",
        "outputId": "2416721d-a18d-498c-e85d-5d7eb2331da2"
      },
      "execution_count": null,
      "outputs": [
        {
          "output_type": "execute_result",
          "data": {
            "text/plain": [
              "'06/23/23, 01:45:39'"
            ],
            "application/vnd.google.colaboratory.intrinsic+json": {
              "type": "string"
            }
          },
          "metadata": {},
          "execution_count": 11
        }
      ]
    },
    {
      "cell_type": "code",
      "source": [
        "Time_Texto = '21 Jun, 2021'\n",
        "time.strptime(Time_Texto, '%d %B, %Y')"
      ],
      "metadata": {
        "colab": {
          "base_uri": "https://localhost:8080/",
          "height": 328
        },
        "id": "vbboHxLU751d",
        "outputId": "8afefdb7-de95-47fb-8ef9-30e1fb74ae34"
      },
      "execution_count": null,
      "outputs": [
        {
          "output_type": "error",
          "ename": "ValueError",
          "evalue": "ignored",
          "traceback": [
            "\u001b[0;31m---------------------------------------------------------------------------\u001b[0m",
            "\u001b[0;31mValueError\u001b[0m                                Traceback (most recent call last)",
            "\u001b[0;32m<ipython-input-14-74b7da2ef3e7>\u001b[0m in \u001b[0;36m<cell line: 2>\u001b[0;34m()\u001b[0m\n\u001b[1;32m      1\u001b[0m \u001b[0mTime_Texto\u001b[0m \u001b[0;34m=\u001b[0m \u001b[0;34m'21 Jun, 2021'\u001b[0m\u001b[0;34m\u001b[0m\u001b[0;34m\u001b[0m\u001b[0m\n\u001b[0;32m----> 2\u001b[0;31m \u001b[0mtime\u001b[0m\u001b[0;34m.\u001b[0m\u001b[0mstrptime\u001b[0m\u001b[0;34m(\u001b[0m\u001b[0mTime_Texto\u001b[0m\u001b[0;34m,\u001b[0m \u001b[0;34m'%d %B, %Y'\u001b[0m\u001b[0;34m)\u001b[0m\u001b[0;34m\u001b[0m\u001b[0;34m\u001b[0m\u001b[0m\n\u001b[0m",
            "\u001b[0;32m/usr/lib/python3.10/_strptime.py\u001b[0m in \u001b[0;36m_strptime_time\u001b[0;34m(data_string, format)\u001b[0m\n\u001b[1;32m    560\u001b[0m     \"\"\"Return a time struct based on the input string and the\n\u001b[1;32m    561\u001b[0m     format string.\"\"\"\n\u001b[0;32m--> 562\u001b[0;31m     \u001b[0mtt\u001b[0m \u001b[0;34m=\u001b[0m \u001b[0m_strptime\u001b[0m\u001b[0;34m(\u001b[0m\u001b[0mdata_string\u001b[0m\u001b[0;34m,\u001b[0m \u001b[0mformat\u001b[0m\u001b[0;34m)\u001b[0m\u001b[0;34m[\u001b[0m\u001b[0;36m0\u001b[0m\u001b[0;34m]\u001b[0m\u001b[0;34m\u001b[0m\u001b[0;34m\u001b[0m\u001b[0m\n\u001b[0m\u001b[1;32m    563\u001b[0m     \u001b[0;32mreturn\u001b[0m \u001b[0mtime\u001b[0m\u001b[0;34m.\u001b[0m\u001b[0mstruct_time\u001b[0m\u001b[0;34m(\u001b[0m\u001b[0mtt\u001b[0m\u001b[0;34m[\u001b[0m\u001b[0;34m:\u001b[0m\u001b[0mtime\u001b[0m\u001b[0;34m.\u001b[0m\u001b[0m_STRUCT_TM_ITEMS\u001b[0m\u001b[0;34m]\u001b[0m\u001b[0;34m)\u001b[0m\u001b[0;34m\u001b[0m\u001b[0;34m\u001b[0m\u001b[0m\n\u001b[1;32m    564\u001b[0m \u001b[0;34m\u001b[0m\u001b[0m\n",
            "\u001b[0;32m/usr/lib/python3.10/_strptime.py\u001b[0m in \u001b[0;36m_strptime\u001b[0;34m(data_string, format)\u001b[0m\n\u001b[1;32m    347\u001b[0m     \u001b[0mfound\u001b[0m \u001b[0;34m=\u001b[0m \u001b[0mformat_regex\u001b[0m\u001b[0;34m.\u001b[0m\u001b[0mmatch\u001b[0m\u001b[0;34m(\u001b[0m\u001b[0mdata_string\u001b[0m\u001b[0;34m)\u001b[0m\u001b[0;34m\u001b[0m\u001b[0;34m\u001b[0m\u001b[0m\n\u001b[1;32m    348\u001b[0m     \u001b[0;32mif\u001b[0m \u001b[0;32mnot\u001b[0m \u001b[0mfound\u001b[0m\u001b[0;34m:\u001b[0m\u001b[0;34m\u001b[0m\u001b[0;34m\u001b[0m\u001b[0m\n\u001b[0;32m--> 349\u001b[0;31m         raise ValueError(\"time data %r does not match format %r\" %\n\u001b[0m\u001b[1;32m    350\u001b[0m                          (data_string, format))\n\u001b[1;32m    351\u001b[0m     \u001b[0;32mif\u001b[0m \u001b[0mlen\u001b[0m\u001b[0;34m(\u001b[0m\u001b[0mdata_string\u001b[0m\u001b[0;34m)\u001b[0m \u001b[0;34m!=\u001b[0m \u001b[0mfound\u001b[0m\u001b[0;34m.\u001b[0m\u001b[0mend\u001b[0m\u001b[0;34m(\u001b[0m\u001b[0;34m)\u001b[0m\u001b[0;34m:\u001b[0m\u001b[0;34m\u001b[0m\u001b[0;34m\u001b[0m\u001b[0m\n",
            "\u001b[0;31mValueError\u001b[0m: time data '21 Jun, 2021' does not match format '%d %B, %Y'"
          ]
        }
      ]
    },
    {
      "cell_type": "code",
      "source": [],
      "metadata": {
        "id": "mfMeTkaw9w9O"
      },
      "execution_count": null,
      "outputs": []
    },
    {
      "cell_type": "markdown",
      "source": [
        "19 - Pacote Externo - Math: O Phyton possui um conjunto de operações matemáticas integradas, incluindo um extenso módulo matemático, que permite realizar tarefas matemáticas em números."
      ],
      "metadata": {
        "id": "Ie--1lTS-ysf"
      }
    },
    {
      "cell_type": "code",
      "source": [
        "import math\n"
      ],
      "metadata": {
        "id": "q_cUXqE-_FAJ"
      },
      "execution_count": null,
      "outputs": []
    },
    {
      "cell_type": "code",
      "source": [
        "Tupla = (10, 5, 20, 30,40)"
      ],
      "metadata": {
        "id": "BG08l3MB_I16"
      },
      "execution_count": null,
      "outputs": []
    },
    {
      "cell_type": "code",
      "source": [
        "min(Tupla) #retorna o menor valor da tupla"
      ],
      "metadata": {
        "colab": {
          "base_uri": "https://localhost:8080/"
        },
        "id": "x4x2XkAi_MPB",
        "outputId": "67aa5003-3451-4ca6-9893-9b8e24e072d1"
      },
      "execution_count": null,
      "outputs": [
        {
          "output_type": "execute_result",
          "data": {
            "text/plain": [
              "5"
            ]
          },
          "metadata": {},
          "execution_count": 17
        }
      ]
    },
    {
      "cell_type": "code",
      "source": [
        "max(Tupla)#retorna o maior valor da tupla"
      ],
      "metadata": {
        "colab": {
          "base_uri": "https://localhost:8080/"
        },
        "id": "VEsPDBO__P0W",
        "outputId": "088fff56-5832-471e-ab76-42bbe33020aa"
      },
      "execution_count": null,
      "outputs": [
        {
          "output_type": "execute_result",
          "data": {
            "text/plain": [
              "40"
            ]
          },
          "metadata": {},
          "execution_count": 18
        }
      ]
    },
    {
      "cell_type": "code",
      "source": [
        "abs(-7.25)#transfor o valor para positivo"
      ],
      "metadata": {
        "colab": {
          "base_uri": "https://localhost:8080/"
        },
        "id": "kAks5Xbi_WmY",
        "outputId": "72e06fd5-18f7-4473-a2f8-9598200a66bb"
      },
      "execution_count": null,
      "outputs": [
        {
          "output_type": "execute_result",
          "data": {
            "text/plain": [
              "7.25"
            ]
          },
          "metadata": {},
          "execution_count": 20
        }
      ]
    },
    {
      "cell_type": "code",
      "source": [
        "pow(3,4)#potência"
      ],
      "metadata": {
        "colab": {
          "base_uri": "https://localhost:8080/"
        },
        "id": "m-WzOZ6p_mU_",
        "outputId": "819e0e82-a57c-4561-b43c-bfecdb14759b"
      },
      "execution_count": null,
      "outputs": [
        {
          "output_type": "execute_result",
          "data": {
            "text/plain": [
              "81"
            ]
          },
          "metadata": {},
          "execution_count": 21
        }
      ]
    },
    {
      "cell_type": "code",
      "source": [
        "math.sqrt(81)"
      ],
      "metadata": {
        "colab": {
          "base_uri": "https://localhost:8080/",
          "height": 165
        },
        "id": "7durEZ2F_vVt",
        "outputId": "b647997c-7e89-493f-e32f-577acf019b72"
      },
      "execution_count": null,
      "outputs": [
        {
          "output_type": "error",
          "ename": "NameError",
          "evalue": "ignored",
          "traceback": [
            "\u001b[0;31m---------------------------------------------------------------------------\u001b[0m",
            "\u001b[0;31mNameError\u001b[0m                                 Traceback (most recent call last)",
            "\u001b[0;32m<ipython-input-25-bfc688a7b752>\u001b[0m in \u001b[0;36m<cell line: 1>\u001b[0;34m()\u001b[0m\n\u001b[0;32m----> 1\u001b[0;31m \u001b[0mmath\u001b[0m\u001b[0;34m.\u001b[0m\u001b[0msqrt\u001b[0m\u001b[0;34m(\u001b[0m\u001b[0;36m81\u001b[0m\u001b[0;34m)\u001b[0m\u001b[0;34m\u001b[0m\u001b[0;34m\u001b[0m\u001b[0m\n\u001b[0m",
            "\u001b[0;31mNameError\u001b[0m: name 'math' is not defined"
          ]
        }
      ]
    },
    {
      "cell_type": "code",
      "source": [
        "math.ceil(1.4) #arredonda para cima"
      ],
      "metadata": {
        "colab": {
          "base_uri": "https://localhost:8080/",
          "height": 165
        },
        "id": "wG3q52Ym_0FN",
        "outputId": "e4664e8f-aba2-4c80-8321-59e3622a0d96"
      },
      "execution_count": null,
      "outputs": [
        {
          "output_type": "error",
          "ename": "NameError",
          "evalue": "ignored",
          "traceback": [
            "\u001b[0;31m---------------------------------------------------------------------------\u001b[0m",
            "\u001b[0;31mNameError\u001b[0m                                 Traceback (most recent call last)",
            "\u001b[0;32m<ipython-input-26-ea691aa0d56b>\u001b[0m in \u001b[0;36m<cell line: 1>\u001b[0;34m()\u001b[0m\n\u001b[0;32m----> 1\u001b[0;31m \u001b[0mmath\u001b[0m\u001b[0;34m.\u001b[0m\u001b[0mceil\u001b[0m\u001b[0;34m(\u001b[0m\u001b[0;36m1.4\u001b[0m\u001b[0;34m)\u001b[0m\u001b[0;34m\u001b[0m\u001b[0;34m\u001b[0m\u001b[0m\n\u001b[0m",
            "\u001b[0;31mNameError\u001b[0m: name 'math' is not defined"
          ]
        }
      ]
    },
    {
      "cell_type": "code",
      "source": [
        "math.floor(1.4)#arredonda para baixo"
      ],
      "metadata": {
        "colab": {
          "base_uri": "https://localhost:8080/",
          "height": 165
        },
        "id": "7ggbCxFZAN-O",
        "outputId": "2c20ae2a-af72-4139-fbdb-1c1467bcbf6c"
      },
      "execution_count": null,
      "outputs": [
        {
          "output_type": "error",
          "ename": "NameError",
          "evalue": "ignored",
          "traceback": [
            "\u001b[0;31m---------------------------------------------------------------------------\u001b[0m",
            "\u001b[0;31mNameError\u001b[0m                                 Traceback (most recent call last)",
            "\u001b[0;32m<ipython-input-27-94944043ff80>\u001b[0m in \u001b[0;36m<cell line: 1>\u001b[0;34m()\u001b[0m\n\u001b[0;32m----> 1\u001b[0;31m \u001b[0mmath\u001b[0m\u001b[0;34m.\u001b[0m\u001b[0mfloor\u001b[0m\u001b[0;34m(\u001b[0m\u001b[0;36m1.4\u001b[0m\u001b[0;34m)\u001b[0m\u001b[0;34m\u001b[0m\u001b[0;34m\u001b[0m\u001b[0m\n\u001b[0m",
            "\u001b[0;31mNameError\u001b[0m: name 'math' is not defined"
          ]
        }
      ]
    },
    {
      "cell_type": "code",
      "source": [],
      "metadata": {
        "id": "AiaUf6jlAfAd"
      },
      "execution_count": null,
      "outputs": []
    },
    {
      "cell_type": "markdown",
      "source": [
        "20 - Pacote externo - Randon: Implementa geradores de números pseudo-aleatórios para várias distribuições."
      ],
      "metadata": {
        "id": "tlGVqK3rA7Jb"
      }
    },
    {
      "cell_type": "code",
      "source": [
        "import random"
      ],
      "metadata": {
        "id": "nTOjJPzsBHEp"
      },
      "execution_count": null,
      "outputs": []
    },
    {
      "cell_type": "code",
      "source": [
        "Lista = [1,2,3,4,5,6,7,8]"
      ],
      "metadata": {
        "id": "73devBDLH4QX"
      },
      "execution_count": null,
      "outputs": []
    },
    {
      "cell_type": "code",
      "source": [
        "random.choice(Lista)#sorteia um número aleatório da lista"
      ],
      "metadata": {
        "colab": {
          "base_uri": "https://localhost:8080/"
        },
        "id": "IuRWPyTxH_G9",
        "outputId": "f3743e47-2c6b-4e5b-b363-6d33828c753a"
      },
      "execution_count": null,
      "outputs": [
        {
          "output_type": "execute_result",
          "data": {
            "text/plain": [
              "1"
            ]
          },
          "metadata": {},
          "execution_count": 9
        }
      ]
    },
    {
      "cell_type": "code",
      "source": [
        "Nomes = ['Filipe', 'Lucas', 'Gorete', 'Florêncio']"
      ],
      "metadata": {
        "id": "Ijl3Qj3wIHBE"
      },
      "execution_count": null,
      "outputs": []
    },
    {
      "cell_type": "code",
      "source": [
        "random.choice(Nomes)"
      ],
      "metadata": {
        "colab": {
          "base_uri": "https://localhost:8080/",
          "height": 36
        },
        "id": "uQB9OPnSI3Fj",
        "outputId": "d6373d1e-93dd-46a2-e92b-c0e1deb718e1"
      },
      "execution_count": null,
      "outputs": [
        {
          "output_type": "execute_result",
          "data": {
            "text/plain": [
              "'Florêncio'"
            ],
            "application/vnd.google.colaboratory.intrinsic+json": {
              "type": "string"
            }
          },
          "metadata": {},
          "execution_count": 12
        }
      ]
    },
    {
      "cell_type": "code",
      "source": [
        "random.random()#gera um valor entre 0 e 1"
      ],
      "metadata": {
        "colab": {
          "base_uri": "https://localhost:8080/"
        },
        "id": "m2mjWJ2yI5ph",
        "outputId": "ca414243-cb33-4b38-fd8e-b21bf27cbd69"
      },
      "execution_count": null,
      "outputs": [
        {
          "output_type": "execute_result",
          "data": {
            "text/plain": [
              "0.9094688520134404"
            ]
          },
          "metadata": {},
          "execution_count": 13
        }
      ]
    },
    {
      "cell_type": "code",
      "source": [
        "random.randint(0,100) #gera um número entre 0 e 100"
      ],
      "metadata": {
        "colab": {
          "base_uri": "https://localhost:8080/"
        },
        "id": "5xgvE9ufI--f",
        "outputId": "a5590466-9166-4d24-d68b-8799e9261e9d"
      },
      "execution_count": null,
      "outputs": [
        {
          "output_type": "execute_result",
          "data": {
            "text/plain": [
              "35"
            ]
          },
          "metadata": {},
          "execution_count": 14
        }
      ]
    },
    {
      "cell_type": "code",
      "source": [],
      "metadata": {
        "id": "1UAf3liSJEs5"
      },
      "execution_count": null,
      "outputs": []
    },
    {
      "cell_type": "code",
      "source": [],
      "metadata": {
        "id": "p0YtfwKyJaT4"
      },
      "execution_count": null,
      "outputs": []
    },
    {
      "cell_type": "markdown",
      "source": [
        "21- Pacote Externo - Statistics: Este módulo fornece funções para calcular estatísticas matemáticas de dados numéricos e interage com as listas."
      ],
      "metadata": {
        "id": "-dixsgNRJal2"
      }
    },
    {
      "cell_type": "code",
      "source": [
        "import statistics"
      ],
      "metadata": {
        "id": "G-9jGIGpJoyP"
      },
      "execution_count": null,
      "outputs": []
    },
    {
      "cell_type": "code",
      "source": [
        "Lista = [12,15,28,56,78,80,80]"
      ],
      "metadata": {
        "id": "T1GUvK-6Jqut"
      },
      "execution_count": null,
      "outputs": []
    },
    {
      "cell_type": "code",
      "source": [
        "sum(Lista)/len(Lista)#calculo da média"
      ],
      "metadata": {
        "colab": {
          "base_uri": "https://localhost:8080/"
        },
        "id": "9ouAYggPJyZ5",
        "outputId": "94ebac86-9e2f-4576-d67e-d8c7bac7154e"
      },
      "execution_count": null,
      "outputs": [
        {
          "output_type": "execute_result",
          "data": {
            "text/plain": [
              "44.833333333333336"
            ]
          },
          "metadata": {},
          "execution_count": 17
        }
      ]
    },
    {
      "cell_type": "code",
      "source": [
        "statistics.mean(Lista)#calculo da média"
      ],
      "metadata": {
        "colab": {
          "base_uri": "https://localhost:8080/"
        },
        "id": "YLP57fjdJ59Y",
        "outputId": "67e3b916-83c8-4379-d0bc-cbae939b76a4"
      },
      "execution_count": null,
      "outputs": [
        {
          "output_type": "execute_result",
          "data": {
            "text/plain": [
              "44.833333333333336"
            ]
          },
          "metadata": {},
          "execution_count": 20
        }
      ]
    },
    {
      "cell_type": "code",
      "source": [
        "statistics.median(Lista)#cáculo da mediana (média dos valores centrais)"
      ],
      "metadata": {
        "colab": {
          "base_uri": "https://localhost:8080/"
        },
        "id": "B7n2ygaXKAld",
        "outputId": "3bf2cf0e-f7c6-4baa-ba7d-19d9b9150e70"
      },
      "execution_count": null,
      "outputs": [
        {
          "output_type": "execute_result",
          "data": {
            "text/plain": [
              "42.0"
            ]
          },
          "metadata": {},
          "execution_count": 21
        }
      ]
    },
    {
      "cell_type": "code",
      "source": [
        "statistics.mode(Lista)#valor que mais aparece"
      ],
      "metadata": {
        "colab": {
          "base_uri": "https://localhost:8080/"
        },
        "id": "EuyaCwEFKMq6",
        "outputId": "eb5b043f-547f-4047-da5e-436909d24c08"
      },
      "execution_count": null,
      "outputs": [
        {
          "output_type": "execute_result",
          "data": {
            "text/plain": [
              "80"
            ]
          },
          "metadata": {},
          "execution_count": 23
        }
      ]
    },
    {
      "cell_type": "code",
      "source": [],
      "metadata": {
        "id": "WMsOoMSnKkHv"
      },
      "execution_count": null,
      "outputs": []
    },
    {
      "cell_type": "markdown",
      "source": [
        "22- Condição IF: If é a declaração mais simples de tomada de decisão. Ele é usado para decidir se uma determinada instrução  ou bloco de instrução será executado ou não, ou seja, se uma determinada condição for verdadeira, um bloco de comando será executado, caso contrário, não.\n",
        "If condição:\n",
        "1- delarações a serem executadas se condição é verdadeira\n"
      ],
      "metadata": {
        "id": "q6ug83bxK0Qe"
      }
    },
    {
      "cell_type": "code",
      "source": [
        "#Condição se a pessoa tiver menor de 18 anos, ela não entra no sistema:\n",
        "idade = int(input('Informe a idade: '))\n",
        "\n",
        "if idade >= 18:\n",
        "  print('A pessoa está apta a entrar no sistema.')\n",
        "else:\n",
        "  print('A pessoa não entra no sistema.')"
      ],
      "metadata": {
        "colab": {
          "base_uri": "https://localhost:8080/"
        },
        "id": "L2fiTtMhLWiH",
        "outputId": "4c3db8a2-69cd-4fbc-a6ca-3bb17dfc64c0"
      },
      "execution_count": null,
      "outputs": [
        {
          "output_type": "stream",
          "name": "stdout",
          "text": [
            "Informe a idade: 19\n",
            "A pessoa está apta a entrar no sistema.\n"
          ]
        }
      ]
    },
    {
      "cell_type": "code",
      "source": [
        "idade = 15\n",
        "\n",
        "if idade>=18:\n",
        "  print('Você é maior de idade. Entra no sistema.')\n",
        "elif idade >= 15:\n",
        "  print('Seu pai ou mãe pode autorizar.')\n",
        "else:\n",
        "  print('Você é menor de idade. Não entra no sistema.')"
      ],
      "metadata": {
        "colab": {
          "base_uri": "https://localhost:8080/"
        },
        "id": "DBPe92woOqHW",
        "outputId": "f79281de-c3ab-4bbf-f997-971544e7acae"
      },
      "execution_count": null,
      "outputs": [
        {
          "output_type": "stream",
          "name": "stdout",
          "text": [
            "Seu pai ou mãe pode autorizar.\n"
          ]
        }
      ]
    },
    {
      "cell_type": "code",
      "source": [
        "nota = int(input('Informe a nota do aluno: '))\n",
        "\n",
        "if nota <=5:\n",
        "  print('O aluno está em recuperação!')\n",
        "elif nota >=7:\n",
        "  print('O aluno passou!')\n",
        "else:\n",
        "  print('Aluno reprovado!')"
      ],
      "metadata": {
        "colab": {
          "base_uri": "https://localhost:8080/"
        },
        "id": "v3PzUfxwPIia",
        "outputId": "621f32c8-7531-432f-87ee-73e99f2a719b"
      },
      "execution_count": null,
      "outputs": [
        {
          "output_type": "stream",
          "name": "stdout",
          "text": [
            "Informe a nota do aluno: 8\n",
            "O aluno passou!\n"
          ]
        }
      ]
    },
    {
      "cell_type": "code",
      "source": [
        "#Faça um programa que solicite a idade de uma pessoa. Se a pessoa tiver entre 0 e 12 anos, ela é criança, se tiver de 13 a 24 anos adolescentr, e se nao adulta:\n",
        "idade = int(input('Informe a idade da pessoa: '))\n",
        "\n",
        "if idade <=12:\n",
        "  print('Criança')\n",
        "elif idade >=13 and idade <=24:\n",
        "  print('Adolescente')\n",
        "else:\n",
        "  print('Adulto')"
      ],
      "metadata": {
        "colab": {
          "base_uri": "https://localhost:8080/"
        },
        "id": "Qkx85fVfQxT-",
        "outputId": "48f9b4b6-c38c-493e-d116-a90b64c2b3f0"
      },
      "execution_count": null,
      "outputs": [
        {
          "output_type": "stream",
          "name": "stdout",
          "text": [
            "Informe a idade da pessoa: 24\n",
            "Adolescente\n"
          ]
        }
      ]
    },
    {
      "cell_type": "code",
      "source": [],
      "metadata": {
        "id": "azCpTYJFR4eo"
      },
      "execution_count": null,
      "outputs": []
    },
    {
      "cell_type": "code",
      "source": [],
      "metadata": {
        "colab": {
          "base_uri": "https://localhost:8080/",
          "height": 148
        },
        "id": "kCGgQj85Tf80",
        "outputId": "5c05f8df-ac8c-4c06-d2a9-2421f5429f04"
      },
      "execution_count": null,
      "outputs": [
        {
          "output_type": "error",
          "ename": "SyntaxError",
          "evalue": "ignored",
          "traceback": [
            "\u001b[0;36m  File \u001b[0;32m\"<ipython-input-44-75de7b3c1aaa>\"\u001b[0;36m, line \u001b[0;32m1\u001b[0m\n\u001b[0;31m    23 - Estrutura de Loop FOR: O loop for do Phyton é usado para travessia sequencial, ou seja, é usado para iterar sobre um iterável como string, tupla, lista, etc. Ele se enquandra na categoria de iteração definida. Iterações definidas significam que o número de repetições é especificado explicitamente com antecedência.\u001b[0m\n\u001b[0m                   ^\u001b[0m\n\u001b[0;31mSyntaxError\u001b[0m\u001b[0;31m:\u001b[0m invalid syntax\n"
          ]
        }
      ]
    },
    {
      "cell_type": "markdown",
      "source": [
        "23 - Estrutura de Loop FOR: O loop for do Phyton é usado para travessia sequencial, ou seja, é usado para iterar sobre um iterável como string, tupla, lista, etc. Ele se enquandra na categoria de iteração definida. Iterações definidas significam que o número de repetições é especificado explicitamente com antecedência.\n",
        "for vairável in objeto:\n",
        "  °loop"
      ],
      "metadata": {
        "id": "AXGP7JJSUCoe"
      }
    },
    {
      "cell_type": "code",
      "source": [
        "for contador in range(5):\n",
        "  print('Filipe')"
      ],
      "metadata": {
        "colab": {
          "base_uri": "https://localhost:8080/"
        },
        "id": "sJHislC6UAPs",
        "outputId": "1420566d-38ee-4d15-8f71-74b4a6693c1a"
      },
      "execution_count": null,
      "outputs": [
        {
          "output_type": "stream",
          "name": "stdout",
          "text": [
            "Filipe\n",
            "Filipe\n",
            "Filipe\n",
            "Filipe\n",
            "Filipe\n"
          ]
        }
      ]
    },
    {
      "cell_type": "code",
      "source": [
        "for contador in range(3):\n",
        "  print('Lucas')"
      ],
      "metadata": {
        "colab": {
          "base_uri": "https://localhost:8080/"
        },
        "id": "jclSfaHmdp0I",
        "outputId": "0f4abaeb-95fc-4216-b08c-c5e5069f144a"
      },
      "execution_count": null,
      "outputs": [
        {
          "output_type": "stream",
          "name": "stdout",
          "text": [
            "Lucas\n",
            "Lucas\n",
            "Lucas\n"
          ]
        }
      ]
    },
    {
      "cell_type": "code",
      "source": [
        "for filipe in range(10):\n",
        "  print(filipe * 3)"
      ],
      "metadata": {
        "colab": {
          "base_uri": "https://localhost:8080/"
        },
        "id": "p25LVQuddtj7",
        "outputId": "6dfb6556-ba6b-4aeb-ca83-24c6c98f601a"
      },
      "execution_count": null,
      "outputs": [
        {
          "output_type": "stream",
          "name": "stdout",
          "text": [
            "0\n",
            "3\n",
            "6\n",
            "9\n",
            "12\n",
            "15\n",
            "18\n",
            "21\n",
            "24\n",
            "27\n"
          ]
        }
      ]
    },
    {
      "cell_type": "code",
      "source": [
        "for lucas in range(1, 100, 5):#números de 1 a 100 de 5 em 5\n",
        "  print(lucas)"
      ],
      "metadata": {
        "colab": {
          "base_uri": "https://localhost:8080/"
        },
        "id": "pBb2RfMsd0kg",
        "outputId": "0a3e6f12-9142-445e-e9da-2e801b8dd508"
      },
      "execution_count": null,
      "outputs": [
        {
          "output_type": "stream",
          "name": "stdout",
          "text": [
            "1\n",
            "6\n",
            "11\n",
            "16\n",
            "21\n",
            "26\n",
            "31\n",
            "36\n",
            "41\n",
            "46\n",
            "51\n",
            "56\n",
            "61\n",
            "66\n",
            "71\n",
            "76\n",
            "81\n",
            "86\n",
            "91\n",
            "96\n"
          ]
        }
      ]
    },
    {
      "cell_type": "code",
      "source": [
        "Lista = ['Brasil', 'Argentina', 'Uruguai','Paraguai', 'Bolivia', 'Colombia', 'Equador']"
      ],
      "metadata": {
        "id": "hXQkIa-afagS"
      },
      "execution_count": null,
      "outputs": []
    },
    {
      "cell_type": "code",
      "source": [
        "for Pais in Lista:#acessei a lista e percorri cada elemento dela\n",
        "\n",
        "  if Pais == 'Uruguai':\n",
        "    print(Pais, 'é BI campeão!!!')\n",
        "\n"
      ],
      "metadata": {
        "colab": {
          "base_uri": "https://localhost:8080/"
        },
        "id": "fXo-8YQEgIA8",
        "outputId": "7abe1f05-6239-4fe3-d0df-4ec227fa89bb"
      },
      "execution_count": null,
      "outputs": [
        {
          "output_type": "stream",
          "name": "stdout",
          "text": [
            "Uruguai é BI campeão!!!\n"
          ]
        }
      ]
    },
    {
      "cell_type": "code",
      "source": [
        "for loop in range(len(Lista)):\n",
        "  print(loop)#calcula o número de elementos que tem na lista"
      ],
      "metadata": {
        "colab": {
          "base_uri": "https://localhost:8080/"
        },
        "id": "EI-v6JgggNVT",
        "outputId": "07facee5-5b10-433f-ef50-17547d3a0970"
      },
      "execution_count": null,
      "outputs": [
        {
          "output_type": "stream",
          "name": "stdout",
          "text": [
            "0\n",
            "1\n",
            "2\n",
            "3\n",
            "4\n",
            "5\n",
            "6\n"
          ]
        }
      ]
    },
    {
      "cell_type": "code",
      "source": [
        "Lista1 = [1,2,3,4,5,6,7]\n",
        "\n",
        "for i in range(len(Lista1)):\n",
        "  print(i)"
      ],
      "metadata": {
        "colab": {
          "base_uri": "https://localhost:8080/"
        },
        "id": "Mq50nNxSh71Y",
        "outputId": "76266045-3cac-4545-efbb-7b506c7083b6"
      },
      "execution_count": null,
      "outputs": [
        {
          "output_type": "stream",
          "name": "stdout",
          "text": [
            "0\n",
            "1\n",
            "2\n",
            "3\n",
            "4\n",
            "5\n",
            "6\n"
          ]
        }
      ]
    },
    {
      "cell_type": "code",
      "source": [
        "for Index, Pais in enumerate(Lista):\n",
        "  print(Index, Pais)"
      ],
      "metadata": {
        "colab": {
          "base_uri": "https://localhost:8080/"
        },
        "id": "MUG_PMvPnKle",
        "outputId": "9a56cebb-5000-43e9-de35-48d3722f0df5"
      },
      "execution_count": null,
      "outputs": [
        {
          "output_type": "stream",
          "name": "stdout",
          "text": [
            "0 Brasil\n",
            "1 Argentina\n",
            "2 Uruguai\n",
            "3 Paraguai\n",
            "4 Bolivia\n",
            "5 Colombia\n",
            "6 Equador\n"
          ]
        }
      ]
    },
    {
      "cell_type": "code",
      "source": [
        "x = 0\n",
        "\n",
        "for Pais in Lista:\n",
        "  print(x, Pais)\n",
        "  x+=1"
      ],
      "metadata": {
        "colab": {
          "base_uri": "https://localhost:8080/"
        },
        "id": "bv7oppHBxSc7",
        "outputId": "cd7350d7-1c60-4f14-b8b4-33929b5a70bf"
      },
      "execution_count": null,
      "outputs": [
        {
          "output_type": "stream",
          "name": "stdout",
          "text": [
            "0 Brasil\n",
            "1 Argentina\n",
            "2 Uruguai\n",
            "3 Paraguai\n",
            "4 Bolivia\n",
            "5 Colombia\n",
            "6 Equador\n"
          ]
        }
      ]
    },
    {
      "cell_type": "code",
      "source": [
        "[Numero for Numero in range(0, 10, 3)] #criando uma lista com for"
      ],
      "metadata": {
        "colab": {
          "base_uri": "https://localhost:8080/"
        },
        "id": "FJP_3780xcUM",
        "outputId": "f7a1312e-2e41-46e5-d7ac-6d7b1a9036d9"
      },
      "execution_count": null,
      "outputs": [
        {
          "output_type": "execute_result",
          "data": {
            "text/plain": [
              "[0, 3, 6, 9]"
            ]
          },
          "metadata": {},
          "execution_count": 85
        }
      ]
    },
    {
      "cell_type": "code",
      "source": [
        "Lista = []\n",
        "\n",
        "for Loop in range(0,10,2):\n",
        "  Lista.append(Loop)\n",
        "\n",
        "Lista"
      ],
      "metadata": {
        "colab": {
          "base_uri": "https://localhost:8080/"
        },
        "id": "JsPwY4Kdx89B",
        "outputId": "890c3429-d058-4e40-87e5-84072fb78ac5"
      },
      "execution_count": null,
      "outputs": [
        {
          "output_type": "execute_result",
          "data": {
            "text/plain": [
              "[0, 2, 4, 6, 8]"
            ]
          },
          "metadata": {},
          "execution_count": 88
        }
      ]
    },
    {
      "cell_type": "code",
      "source": [],
      "metadata": {
        "id": "grhLAopZyk5n"
      },
      "execution_count": null,
      "outputs": []
    },
    {
      "cell_type": "markdown",
      "source": [
        "24 - Estrutura de Loop WHILE: Phyton While Loop é usado para executar um bloco de instruções repetidamente até que uma determinada condição seja satisfeita. E quando a condição se torna falsa, a linha imediatamente após o loop no programa é executada. While loop se enquadra na categoria de iteração indefinida. A iteração indefinida significa que o número de vezes que o loop é executado não é específicado explicitamente com antecedência .\n",
        "while expressão:\n",
        "  °loop"
      ],
      "metadata": {
        "id": "bBIOeSX_y-ti"
      }
    },
    {
      "cell_type": "code",
      "source": [
        "while True:\n",
        "  numero = int(input('Digite o número: '))\n",
        "\n",
        "  if numero == 2:\n",
        "    break\n",
        "    print('programa finalizado')"
      ],
      "metadata": {
        "colab": {
          "base_uri": "https://localhost:8080/"
        },
        "id": "7IzjA2XwzqCe",
        "outputId": "b3107fab-17b3-44c2-8cb2-16d8c77b893c"
      },
      "execution_count": null,
      "outputs": [
        {
          "name": "stdout",
          "output_type": "stream",
          "text": [
            "Digite o número: 34\n",
            "Digite o número: 3\n",
            "Digite o número: 4\n",
            "Digite o número: 2\n"
          ]
        }
      ]
    },
    {
      "cell_type": "code",
      "source": [
        "Parar = 0#Usa o while quando não sabe o quevai acontecer, quando não sabe se tem fim. Se sabe que tem um fim, usa o FOR. Para rodar uma base de dados, tem fim, para rodar uma lista tbm tem fim.\n",
        "\n",
        "while Parar <= 15:\n",
        "  print(Parar)\n",
        "  Parar+=1"
      ],
      "metadata": {
        "colab": {
          "base_uri": "https://localhost:8080/"
        },
        "id": "BSGhe5A50WpX",
        "outputId": "fb274cfb-d104-4f53-bf70-fa5079a3e1d7"
      },
      "execution_count": null,
      "outputs": [
        {
          "output_type": "stream",
          "name": "stdout",
          "text": [
            "0\n",
            "1\n",
            "2\n",
            "3\n",
            "4\n",
            "5\n",
            "6\n",
            "7\n",
            "8\n",
            "9\n",
            "10\n",
            "11\n",
            "12\n",
            "13\n",
            "14\n",
            "15\n"
          ]
        }
      ]
    },
    {
      "cell_type": "code",
      "source": [
        "while True:#loop infinito\n",
        "  print(Parar)\n",
        "  Parar+=1"
      ],
      "metadata": {
        "colab": {
          "base_uri": "https://localhost:8080/",
          "height": 1000
        },
        "id": "AAF914g25FtF",
        "outputId": "174cc292-7f4e-4148-a0fe-ab72602a2be2"
      },
      "execution_count": null,
      "outputs": [
        {
          "output_type": "stream",
          "name": "stdout",
          "text": [
            "\u001b[1;30;43mA saída de streaming foi truncada nas últimas 5000 linhas.\u001b[0m\n",
            "20216\n",
            "20217\n",
            "20218\n",
            "20219\n",
            "20220\n",
            "20221\n",
            "20222\n",
            "20223\n",
            "20224\n",
            "20225\n",
            "20226\n",
            "20227\n",
            "20228\n",
            "20229\n",
            "20230\n",
            "20231\n",
            "20232\n",
            "20233\n",
            "20234\n",
            "20235\n",
            "20236\n",
            "20237\n",
            "20238\n",
            "20239\n",
            "20240\n",
            "20241\n",
            "20242\n",
            "20243\n",
            "20244\n",
            "20245\n",
            "20246\n",
            "20247\n",
            "20248\n",
            "20249\n",
            "20250\n",
            "20251\n",
            "20252\n",
            "20253\n",
            "20254\n",
            "20255\n",
            "20256\n",
            "20257\n",
            "20258\n",
            "20259\n",
            "20260\n",
            "20261\n",
            "20262\n",
            "20263\n",
            "20264\n",
            "20265\n",
            "20266\n",
            "20267\n",
            "20268\n",
            "20269\n",
            "20270\n",
            "20271\n",
            "20272\n",
            "20273\n",
            "20274\n",
            "20275\n",
            "20276\n",
            "20277\n",
            "20278\n",
            "20279\n",
            "20280\n",
            "20281\n",
            "20282\n",
            "20283\n",
            "20284\n",
            "20285\n",
            "20286\n",
            "20287\n",
            "20288\n",
            "20289\n",
            "20290\n",
            "20291\n",
            "20292\n",
            "20293\n",
            "20294\n",
            "20295\n",
            "20296\n",
            "20297\n",
            "20298\n",
            "20299\n",
            "20300\n",
            "20301\n",
            "20302\n",
            "20303\n",
            "20304\n",
            "20305\n",
            "20306\n",
            "20307\n",
            "20308\n",
            "20309\n",
            "20310\n",
            "20311\n",
            "20312\n",
            "20313\n",
            "20314\n",
            "20315\n",
            "20316\n",
            "20317\n",
            "20318\n",
            "20319\n",
            "20320\n",
            "20321\n",
            "20322\n",
            "20323\n",
            "20324\n",
            "20325\n",
            "20326\n",
            "20327\n",
            "20328\n",
            "20329\n",
            "20330\n",
            "20331\n",
            "20332\n",
            "20333\n",
            "20334\n",
            "20335\n",
            "20336\n",
            "20337\n",
            "20338\n",
            "20339\n",
            "20340\n",
            "20341\n",
            "20342\n",
            "20343\n",
            "20344\n",
            "20345\n",
            "20346\n",
            "20347\n",
            "20348\n",
            "20349\n",
            "20350\n",
            "20351\n",
            "20352\n",
            "20353\n",
            "20354\n",
            "20355\n",
            "20356\n",
            "20357\n",
            "20358\n",
            "20359\n",
            "20360\n",
            "20361\n",
            "20362\n",
            "20363\n",
            "20364\n",
            "20365\n",
            "20366\n",
            "20367\n",
            "20368\n",
            "20369\n",
            "20370\n",
            "20371\n",
            "20372\n",
            "20373\n",
            "20374\n",
            "20375\n",
            "20376\n",
            "20377\n",
            "20378\n",
            "20379\n",
            "20380\n",
            "20381\n",
            "20382\n",
            "20383\n",
            "20384\n",
            "20385\n",
            "20386\n",
            "20387\n",
            "20388\n",
            "20389\n",
            "20390\n",
            "20391\n",
            "20392\n",
            "20393\n",
            "20394\n",
            "20395\n",
            "20396\n",
            "20397\n",
            "20398\n",
            "20399\n",
            "20400\n",
            "20401\n",
            "20402\n",
            "20403\n",
            "20404\n",
            "20405\n",
            "20406\n",
            "20407\n",
            "20408\n",
            "20409\n",
            "20410\n",
            "20411\n",
            "20412\n",
            "20413\n",
            "20414\n",
            "20415\n",
            "20416\n",
            "20417\n",
            "20418\n",
            "20419\n",
            "20420\n",
            "20421\n",
            "20422\n",
            "20423\n",
            "20424\n",
            "20425\n",
            "20426\n",
            "20427\n",
            "20428\n",
            "20429\n",
            "20430\n",
            "20431\n",
            "20432\n",
            "20433\n",
            "20434\n",
            "20435\n",
            "20436\n",
            "20437\n",
            "20438\n",
            "20439\n",
            "20440\n",
            "20441\n",
            "20442\n",
            "20443\n",
            "20444\n",
            "20445\n",
            "20446\n",
            "20447\n",
            "20448\n",
            "20449\n",
            "20450\n",
            "20451\n",
            "20452\n",
            "20453\n",
            "20454\n",
            "20455\n",
            "20456\n",
            "20457\n",
            "20458\n",
            "20459\n",
            "20460\n",
            "20461\n",
            "20462\n",
            "20463\n",
            "20464\n",
            "20465\n",
            "20466\n",
            "20467\n",
            "20468\n",
            "20469\n",
            "20470\n",
            "20471\n",
            "20472\n",
            "20473\n",
            "20474\n",
            "20475\n",
            "20476\n",
            "20477\n",
            "20478\n",
            "20479\n",
            "20480\n",
            "20481\n",
            "20482\n",
            "20483\n",
            "20484\n",
            "20485\n",
            "20486\n",
            "20487\n",
            "20488\n",
            "20489\n",
            "20490\n",
            "20491\n",
            "20492\n",
            "20493\n",
            "20494\n",
            "20495\n",
            "20496\n",
            "20497\n",
            "20498\n",
            "20499\n",
            "20500\n",
            "20501\n",
            "20502\n",
            "20503\n",
            "20504\n",
            "20505\n",
            "20506\n",
            "20507\n",
            "20508\n",
            "20509\n",
            "20510\n",
            "20511\n",
            "20512\n",
            "20513\n",
            "20514\n",
            "20515\n",
            "20516\n",
            "20517\n",
            "20518\n",
            "20519\n",
            "20520\n",
            "20521\n",
            "20522\n",
            "20523\n",
            "20524\n",
            "20525\n",
            "20526\n",
            "20527\n",
            "20528\n",
            "20529\n",
            "20530\n",
            "20531\n",
            "20532\n",
            "20533\n",
            "20534\n",
            "20535\n",
            "20536\n",
            "20537\n",
            "20538\n",
            "20539\n",
            "20540\n",
            "20541\n",
            "20542\n",
            "20543\n",
            "20544\n",
            "20545\n",
            "20546\n",
            "20547\n",
            "20548\n",
            "20549\n",
            "20550\n",
            "20551\n",
            "20552\n",
            "20553\n",
            "20554\n",
            "20555\n",
            "20556\n",
            "20557\n",
            "20558\n",
            "20559\n",
            "20560\n",
            "20561\n",
            "20562\n",
            "20563\n",
            "20564\n",
            "20565\n",
            "20566\n",
            "20567\n",
            "20568\n",
            "20569\n",
            "20570\n",
            "20571\n",
            "20572\n",
            "20573\n",
            "20574\n",
            "20575\n",
            "20576\n",
            "20577\n",
            "20578\n",
            "20579\n",
            "20580\n",
            "20581\n",
            "20582\n",
            "20583\n",
            "20584\n",
            "20585\n",
            "20586\n",
            "20587\n",
            "20588\n",
            "20589\n",
            "20590\n",
            "20591\n",
            "20592\n",
            "20593\n",
            "20594\n",
            "20595\n",
            "20596\n",
            "20597\n",
            "20598\n",
            "20599\n",
            "20600\n",
            "20601\n",
            "20602\n",
            "20603\n",
            "20604\n",
            "20605\n",
            "20606\n",
            "20607\n",
            "20608\n",
            "20609\n",
            "20610\n",
            "20611\n",
            "20612\n",
            "20613\n",
            "20614\n",
            "20615\n",
            "20616\n",
            "20617\n",
            "20618\n",
            "20619\n",
            "20620\n",
            "20621\n",
            "20622\n",
            "20623\n",
            "20624\n",
            "20625\n",
            "20626\n",
            "20627\n",
            "20628\n",
            "20629\n",
            "20630\n",
            "20631\n",
            "20632\n",
            "20633\n",
            "20634\n",
            "20635\n",
            "20636\n",
            "20637\n",
            "20638\n",
            "20639\n",
            "20640\n",
            "20641\n",
            "20642\n",
            "20643\n",
            "20644\n",
            "20645\n",
            "20646\n",
            "20647\n",
            "20648\n",
            "20649\n",
            "20650\n",
            "20651\n",
            "20652\n",
            "20653\n",
            "20654\n",
            "20655\n",
            "20656\n",
            "20657\n",
            "20658\n",
            "20659\n",
            "20660\n",
            "20661\n",
            "20662\n",
            "20663\n",
            "20664\n",
            "20665\n",
            "20666\n",
            "20667\n",
            "20668\n",
            "20669\n",
            "20670\n",
            "20671\n",
            "20672\n",
            "20673\n",
            "20674\n",
            "20675\n",
            "20676\n",
            "20677\n",
            "20678\n",
            "20679\n",
            "20680\n",
            "20681\n",
            "20682\n",
            "20683\n",
            "20684\n",
            "20685\n",
            "20686\n",
            "20687\n",
            "20688\n",
            "20689\n",
            "20690\n",
            "20691\n",
            "20692\n",
            "20693\n",
            "20694\n",
            "20695\n",
            "20696\n",
            "20697\n",
            "20698\n",
            "20699\n",
            "20700\n",
            "20701\n",
            "20702\n",
            "20703\n",
            "20704\n",
            "20705\n",
            "20706\n",
            "20707\n",
            "20708\n",
            "20709\n",
            "20710\n",
            "20711\n",
            "20712\n",
            "20713\n",
            "20714\n",
            "20715\n",
            "20716\n",
            "20717\n",
            "20718\n",
            "20719\n",
            "20720\n",
            "20721\n",
            "20722\n",
            "20723\n",
            "20724\n",
            "20725\n",
            "20726\n",
            "20727\n",
            "20728\n",
            "20729\n",
            "20730\n",
            "20731\n",
            "20732\n",
            "20733\n",
            "20734\n",
            "20735\n",
            "20736\n",
            "20737\n",
            "20738\n",
            "20739\n",
            "20740\n",
            "20741\n",
            "20742\n",
            "20743\n",
            "20744\n",
            "20745\n",
            "20746\n",
            "20747\n",
            "20748\n",
            "20749\n",
            "20750\n",
            "20751\n",
            "20752\n",
            "20753\n",
            "20754\n",
            "20755\n",
            "20756\n",
            "20757\n",
            "20758\n",
            "20759\n",
            "20760\n",
            "20761\n",
            "20762\n",
            "20763\n",
            "20764\n",
            "20765\n",
            "20766\n",
            "20767\n",
            "20768\n",
            "20769\n",
            "20770\n",
            "20771\n",
            "20772\n",
            "20773\n",
            "20774\n",
            "20775\n",
            "20776\n",
            "20777\n",
            "20778\n",
            "20779\n",
            "20780\n",
            "20781\n",
            "20782\n",
            "20783\n",
            "20784\n",
            "20785\n",
            "20786\n",
            "20787\n",
            "20788\n",
            "20789\n",
            "20790\n",
            "20791\n",
            "20792\n",
            "20793\n",
            "20794\n",
            "20795\n",
            "20796\n",
            "20797\n",
            "20798\n",
            "20799\n",
            "20800\n",
            "20801\n",
            "20802\n",
            "20803\n",
            "20804\n",
            "20805\n",
            "20806\n",
            "20807\n",
            "20808\n",
            "20809\n",
            "20810\n",
            "20811\n",
            "20812\n",
            "20813\n",
            "20814\n",
            "20815\n",
            "20816\n",
            "20817\n",
            "20818\n",
            "20819\n",
            "20820\n",
            "20821\n",
            "20822\n",
            "20823\n",
            "20824\n",
            "20825\n",
            "20826\n",
            "20827\n",
            "20828\n",
            "20829\n",
            "20830\n",
            "20831\n",
            "20832\n",
            "20833\n",
            "20834\n",
            "20835\n",
            "20836\n",
            "20837\n",
            "20838\n",
            "20839\n",
            "20840\n",
            "20841\n",
            "20842\n",
            "20843\n",
            "20844\n",
            "20845\n",
            "20846\n",
            "20847\n",
            "20848\n",
            "20849\n",
            "20850\n",
            "20851\n",
            "20852\n",
            "20853\n",
            "20854\n",
            "20855\n",
            "20856\n",
            "20857\n",
            "20858\n",
            "20859\n",
            "20860\n",
            "20861\n",
            "20862\n",
            "20863\n",
            "20864\n",
            "20865\n",
            "20866\n",
            "20867\n",
            "20868\n",
            "20869\n",
            "20870\n",
            "20871\n",
            "20872\n",
            "20873\n",
            "20874\n",
            "20875\n",
            "20876\n",
            "20877\n",
            "20878\n",
            "20879\n",
            "20880\n",
            "20881\n",
            "20882\n",
            "20883\n",
            "20884\n",
            "20885\n",
            "20886\n",
            "20887\n",
            "20888\n",
            "20889\n",
            "20890\n",
            "20891\n",
            "20892\n",
            "20893\n",
            "20894\n",
            "20895\n",
            "20896\n",
            "20897\n",
            "20898\n",
            "20899\n",
            "20900\n",
            "20901\n",
            "20902\n",
            "20903\n",
            "20904\n",
            "20905\n",
            "20906\n",
            "20907\n",
            "20908\n",
            "20909\n",
            "20910\n",
            "20911\n",
            "20912\n",
            "20913\n",
            "20914\n",
            "20915\n",
            "20916\n",
            "20917\n",
            "20918\n",
            "20919\n",
            "20920\n",
            "20921\n",
            "20922\n",
            "20923\n",
            "20924\n",
            "20925\n",
            "20926\n",
            "20927\n",
            "20928\n",
            "20929\n",
            "20930\n",
            "20931\n",
            "20932\n",
            "20933\n",
            "20934\n",
            "20935\n",
            "20936\n",
            "20937\n",
            "20938\n",
            "20939\n",
            "20940\n",
            "20941\n",
            "20942\n",
            "20943\n",
            "20944\n",
            "20945\n",
            "20946\n",
            "20947\n",
            "20948\n",
            "20949\n",
            "20950\n",
            "20951\n",
            "20952\n",
            "20953\n",
            "20954\n",
            "20955\n",
            "20956\n",
            "20957\n",
            "20958\n",
            "20959\n",
            "20960\n",
            "20961\n",
            "20962\n",
            "20963\n",
            "20964\n",
            "20965\n",
            "20966\n",
            "20967\n",
            "20968\n",
            "20969\n",
            "20970\n",
            "20971\n",
            "20972\n",
            "20973\n",
            "20974\n",
            "20975\n",
            "20976\n",
            "20977\n",
            "20978\n",
            "20979\n",
            "20980\n",
            "20981\n",
            "20982\n",
            "20983\n",
            "20984\n",
            "20985\n",
            "20986\n",
            "20987\n",
            "20988\n",
            "20989\n",
            "20990\n",
            "20991\n",
            "20992\n",
            "20993\n",
            "20994\n",
            "20995\n",
            "20996\n",
            "20997\n",
            "20998\n",
            "20999\n",
            "21000\n",
            "21001\n",
            "21002\n",
            "21003\n",
            "21004\n",
            "21005\n",
            "21006\n",
            "21007\n",
            "21008\n",
            "21009\n",
            "21010\n",
            "21011\n",
            "21012\n",
            "21013\n",
            "21014\n",
            "21015\n",
            "21016\n",
            "21017\n",
            "21018\n",
            "21019\n",
            "21020\n",
            "21021\n",
            "21022\n",
            "21023\n",
            "21024\n",
            "21025\n",
            "21026\n",
            "21027\n",
            "21028\n",
            "21029\n",
            "21030\n",
            "21031\n",
            "21032\n",
            "21033\n",
            "21034\n",
            "21035\n",
            "21036\n",
            "21037\n",
            "21038\n",
            "21039\n",
            "21040\n",
            "21041\n",
            "21042\n",
            "21043\n",
            "21044\n",
            "21045\n",
            "21046\n",
            "21047\n",
            "21048\n",
            "21049\n",
            "21050\n",
            "21051\n",
            "21052\n",
            "21053\n",
            "21054\n",
            "21055\n",
            "21056\n",
            "21057\n",
            "21058\n",
            "21059\n",
            "21060\n",
            "21061\n",
            "21062\n",
            "21063\n",
            "21064\n",
            "21065\n",
            "21066\n",
            "21067\n",
            "21068\n",
            "21069\n",
            "21070\n",
            "21071\n",
            "21072\n",
            "21073\n",
            "21074\n",
            "21075\n",
            "21076\n",
            "21077\n",
            "21078\n",
            "21079\n",
            "21080\n",
            "21081\n",
            "21082\n",
            "21083\n",
            "21084\n",
            "21085\n",
            "21086\n",
            "21087\n",
            "21088\n",
            "21089\n",
            "21090\n",
            "21091\n",
            "21092\n",
            "21093\n",
            "21094\n",
            "21095\n",
            "21096\n",
            "21097\n",
            "21098\n",
            "21099\n",
            "21100\n",
            "21101\n",
            "21102\n",
            "21103\n",
            "21104\n",
            "21105\n",
            "21106\n",
            "21107\n",
            "21108\n",
            "21109\n",
            "21110\n",
            "21111\n",
            "21112\n",
            "21113\n",
            "21114\n",
            "21115\n",
            "21116\n",
            "21117\n",
            "21118\n",
            "21119\n",
            "21120\n",
            "21121\n",
            "21122\n",
            "21123\n",
            "21124\n",
            "21125\n",
            "21126\n",
            "21127\n",
            "21128\n",
            "21129\n",
            "21130\n",
            "21131\n",
            "21132\n",
            "21133\n",
            "21134\n",
            "21135\n",
            "21136\n",
            "21137\n",
            "21138\n",
            "21139\n",
            "21140\n",
            "21141\n",
            "21142\n",
            "21143\n",
            "21144\n",
            "21145\n",
            "21146\n",
            "21147\n",
            "21148\n",
            "21149\n",
            "21150\n",
            "21151\n",
            "21152\n",
            "21153\n",
            "21154\n",
            "21155\n",
            "21156\n",
            "21157\n",
            "21158\n",
            "21159\n",
            "21160\n",
            "21161\n",
            "21162\n",
            "21163\n",
            "21164\n",
            "21165\n",
            "21166\n",
            "21167\n",
            "21168\n",
            "21169\n",
            "21170\n",
            "21171\n",
            "21172\n",
            "21173\n",
            "21174\n",
            "21175\n",
            "21176\n",
            "21177\n",
            "21178\n",
            "21179\n",
            "21180\n",
            "21181\n",
            "21182\n",
            "21183\n",
            "21184\n",
            "21185\n",
            "21186\n",
            "21187\n",
            "21188\n",
            "21189\n",
            "21190\n",
            "21191\n",
            "21192\n",
            "21193\n",
            "21194\n",
            "21195\n",
            "21196\n",
            "21197\n",
            "21198\n",
            "21199\n",
            "21200\n",
            "21201\n",
            "21202\n",
            "21203\n",
            "21204\n",
            "21205\n",
            "21206\n",
            "21207\n",
            "21208\n",
            "21209\n",
            "21210\n",
            "21211\n",
            "21212\n",
            "21213\n",
            "21214\n",
            "21215\n",
            "21216\n",
            "21217\n",
            "21218\n",
            "21219\n",
            "21220\n",
            "21221\n",
            "21222\n",
            "21223\n",
            "21224\n",
            "21225\n",
            "21226\n",
            "21227\n",
            "21228\n",
            "21229\n",
            "21230\n",
            "21231\n",
            "21232\n",
            "21233\n",
            "21234\n",
            "21235\n",
            "21236\n",
            "21237\n",
            "21238\n",
            "21239\n",
            "21240\n",
            "21241\n",
            "21242\n",
            "21243\n",
            "21244\n",
            "21245\n",
            "21246\n",
            "21247\n",
            "21248\n",
            "21249\n",
            "21250\n",
            "21251\n",
            "21252\n",
            "21253\n",
            "21254\n",
            "21255\n",
            "21256\n",
            "21257\n",
            "21258\n",
            "21259\n",
            "21260\n",
            "21261\n",
            "21262\n",
            "21263\n",
            "21264\n",
            "21265\n",
            "21266\n",
            "21267\n",
            "21268\n",
            "21269\n",
            "21270\n",
            "21271\n",
            "21272\n",
            "21273\n",
            "21274\n",
            "21275\n",
            "21276\n",
            "21277\n",
            "21278\n",
            "21279\n",
            "21280\n",
            "21281\n",
            "21282\n",
            "21283\n",
            "21284\n",
            "21285\n",
            "21286\n",
            "21287\n",
            "21288\n",
            "21289\n",
            "21290\n",
            "21291\n",
            "21292\n",
            "21293\n",
            "21294\n",
            "21295\n",
            "21296\n",
            "21297\n",
            "21298\n",
            "21299\n",
            "21300\n",
            "21301\n",
            "21302\n",
            "21303\n",
            "21304\n",
            "21305\n",
            "21306\n",
            "21307\n",
            "21308\n",
            "21309\n",
            "21310\n",
            "21311\n",
            "21312\n",
            "21313\n",
            "21314\n",
            "21315\n",
            "21316\n",
            "21317\n",
            "21318\n",
            "21319\n",
            "21320\n",
            "21321\n",
            "21322\n",
            "21323\n",
            "21324\n",
            "21325\n",
            "21326\n",
            "21327\n",
            "21328\n",
            "21329\n",
            "21330\n",
            "21331\n",
            "21332\n",
            "21333\n",
            "21334\n",
            "21335\n",
            "21336\n",
            "21337\n",
            "21338\n",
            "21339\n",
            "21340\n",
            "21341\n",
            "21342\n",
            "21343\n",
            "21344\n",
            "21345\n",
            "21346\n",
            "21347\n",
            "21348\n",
            "21349\n",
            "21350\n",
            "21351\n",
            "21352\n",
            "21353\n",
            "21354\n",
            "21355\n",
            "21356\n",
            "21357\n",
            "21358\n",
            "21359\n",
            "21360\n",
            "21361\n",
            "21362\n",
            "21363\n",
            "21364\n",
            "21365\n",
            "21366\n",
            "21367\n",
            "21368\n",
            "21369\n",
            "21370\n",
            "21371\n",
            "21372\n",
            "21373\n",
            "21374\n",
            "21375\n",
            "21376\n",
            "21377\n",
            "21378\n",
            "21379\n",
            "21380\n",
            "21381\n",
            "21382\n",
            "21383\n",
            "21384\n",
            "21385\n",
            "21386\n",
            "21387\n",
            "21388\n",
            "21389\n",
            "21390\n",
            "21391\n",
            "21392\n",
            "21393\n",
            "21394\n",
            "21395\n",
            "21396\n",
            "21397\n",
            "21398\n",
            "21399\n",
            "21400\n",
            "21401\n",
            "21402\n",
            "21403\n",
            "21404\n",
            "21405\n",
            "21406\n",
            "21407\n",
            "21408\n",
            "21409\n",
            "21410\n",
            "21411\n",
            "21412\n",
            "21413\n",
            "21414\n",
            "21415\n",
            "21416\n",
            "21417\n",
            "21418\n",
            "21419\n",
            "21420\n",
            "21421\n",
            "21422\n",
            "21423\n",
            "21424\n",
            "21425\n",
            "21426\n",
            "21427\n",
            "21428\n",
            "21429\n",
            "21430\n",
            "21431\n",
            "21432\n",
            "21433\n",
            "21434\n",
            "21435\n",
            "21436\n",
            "21437\n",
            "21438\n",
            "21439\n",
            "21440\n",
            "21441\n",
            "21442\n",
            "21443\n",
            "21444\n",
            "21445\n",
            "21446\n",
            "21447\n",
            "21448\n",
            "21449\n",
            "21450\n",
            "21451\n",
            "21452\n",
            "21453\n",
            "21454\n",
            "21455\n",
            "21456\n",
            "21457\n",
            "21458\n",
            "21459\n",
            "21460\n",
            "21461\n",
            "21462\n",
            "21463\n",
            "21464\n",
            "21465\n",
            "21466\n",
            "21467\n",
            "21468\n",
            "21469\n",
            "21470\n",
            "21471\n",
            "21472\n",
            "21473\n",
            "21474\n",
            "21475\n",
            "21476\n",
            "21477\n",
            "21478\n",
            "21479\n",
            "21480\n",
            "21481\n",
            "21482\n",
            "21483\n",
            "21484\n",
            "21485\n",
            "21486\n",
            "21487\n",
            "21488\n",
            "21489\n",
            "21490\n",
            "21491\n",
            "21492\n",
            "21493\n",
            "21494\n",
            "21495\n",
            "21496\n",
            "21497\n",
            "21498\n",
            "21499\n",
            "21500\n",
            "21501\n",
            "21502\n",
            "21503\n",
            "21504\n",
            "21505\n",
            "21506\n",
            "21507\n",
            "21508\n",
            "21509\n",
            "21510\n",
            "21511\n",
            "21512\n",
            "21513\n",
            "21514\n",
            "21515\n",
            "21516\n",
            "21517\n",
            "21518\n",
            "21519\n",
            "21520\n",
            "21521\n",
            "21522\n",
            "21523\n",
            "21524\n",
            "21525\n",
            "21526\n",
            "21527\n",
            "21528\n",
            "21529\n",
            "21530\n",
            "21531\n",
            "21532\n",
            "21533\n",
            "21534\n",
            "21535\n",
            "21536\n",
            "21537\n",
            "21538\n",
            "21539\n",
            "21540\n",
            "21541\n",
            "21542\n",
            "21543\n",
            "21544\n",
            "21545\n",
            "21546\n",
            "21547\n",
            "21548\n",
            "21549\n",
            "21550\n",
            "21551\n",
            "21552\n",
            "21553\n",
            "21554\n",
            "21555\n",
            "21556\n",
            "21557\n",
            "21558\n",
            "21559\n",
            "21560\n",
            "21561\n",
            "21562\n",
            "21563\n",
            "21564\n",
            "21565\n",
            "21566\n",
            "21567\n",
            "21568\n",
            "21569\n",
            "21570\n",
            "21571\n",
            "21572\n",
            "21573\n",
            "21574\n",
            "21575\n",
            "21576\n",
            "21577\n",
            "21578\n",
            "21579\n",
            "21580\n",
            "21581\n",
            "21582\n",
            "21583\n",
            "21584\n",
            "21585\n",
            "21586\n",
            "21587\n",
            "21588\n",
            "21589\n",
            "21590\n",
            "21591\n",
            "21592\n",
            "21593\n",
            "21594\n",
            "21595\n",
            "21596\n",
            "21597\n",
            "21598\n",
            "21599\n",
            "21600\n",
            "21601\n",
            "21602\n",
            "21603\n",
            "21604\n",
            "21605\n",
            "21606\n",
            "21607\n",
            "21608\n",
            "21609\n",
            "21610\n",
            "21611\n",
            "21612\n",
            "21613\n",
            "21614\n",
            "21615\n",
            "21616\n",
            "21617\n",
            "21618\n",
            "21619\n",
            "21620\n",
            "21621\n",
            "21622\n",
            "21623\n",
            "21624\n",
            "21625\n",
            "21626\n",
            "21627\n",
            "21628\n",
            "21629\n",
            "21630\n",
            "21631\n",
            "21632\n",
            "21633\n",
            "21634\n",
            "21635\n",
            "21636\n",
            "21637\n",
            "21638\n",
            "21639\n",
            "21640\n",
            "21641\n",
            "21642\n",
            "21643\n",
            "21644\n",
            "21645\n",
            "21646\n",
            "21647\n",
            "21648\n",
            "21649\n",
            "21650\n",
            "21651\n",
            "21652\n",
            "21653\n",
            "21654\n",
            "21655\n",
            "21656\n",
            "21657\n",
            "21658\n",
            "21659\n",
            "21660\n",
            "21661\n",
            "21662\n",
            "21663\n",
            "21664\n",
            "21665\n",
            "21666\n",
            "21667\n",
            "21668\n",
            "21669\n",
            "21670\n",
            "21671\n",
            "21672\n",
            "21673\n",
            "21674\n",
            "21675\n",
            "21676\n",
            "21677\n",
            "21678\n",
            "21679\n",
            "21680\n",
            "21681\n",
            "21682\n",
            "21683\n",
            "21684\n",
            "21685\n",
            "21686\n",
            "21687\n",
            "21688\n",
            "21689\n",
            "21690\n",
            "21691\n",
            "21692\n",
            "21693\n",
            "21694\n",
            "21695\n",
            "21696\n",
            "21697\n",
            "21698\n",
            "21699\n",
            "21700\n",
            "21701\n",
            "21702\n",
            "21703\n",
            "21704\n",
            "21705\n",
            "21706\n",
            "21707\n",
            "21708\n",
            "21709\n",
            "21710\n",
            "21711\n",
            "21712\n",
            "21713\n",
            "21714\n",
            "21715\n",
            "21716\n",
            "21717\n",
            "21718\n",
            "21719\n",
            "21720\n",
            "21721\n",
            "21722\n",
            "21723\n",
            "21724\n",
            "21725\n",
            "21726\n",
            "21727\n",
            "21728\n",
            "21729\n",
            "21730\n",
            "21731\n",
            "21732\n",
            "21733\n",
            "21734\n",
            "21735\n",
            "21736\n",
            "21737\n",
            "21738\n",
            "21739\n",
            "21740\n",
            "21741\n",
            "21742\n",
            "21743\n",
            "21744\n",
            "21745\n",
            "21746\n",
            "21747\n",
            "21748\n",
            "21749\n",
            "21750\n",
            "21751\n",
            "21752\n",
            "21753\n",
            "21754\n",
            "21755\n",
            "21756\n",
            "21757\n",
            "21758\n",
            "21759\n",
            "21760\n",
            "21761\n",
            "21762\n",
            "21763\n",
            "21764\n",
            "21765\n",
            "21766\n",
            "21767\n",
            "21768\n",
            "21769\n",
            "21770\n",
            "21771\n",
            "21772\n",
            "21773\n",
            "21774\n",
            "21775\n",
            "21776\n",
            "21777\n",
            "21778\n",
            "21779\n",
            "21780\n",
            "21781\n",
            "21782\n",
            "21783\n",
            "21784\n",
            "21785\n",
            "21786\n",
            "21787\n",
            "21788\n",
            "21789\n",
            "21790\n",
            "21791\n",
            "21792\n",
            "21793\n",
            "21794\n",
            "21795\n",
            "21796\n",
            "21797\n",
            "21798\n",
            "21799\n",
            "21800\n",
            "21801\n",
            "21802\n",
            "21803\n",
            "21804\n",
            "21805\n",
            "21806\n",
            "21807\n",
            "21808\n",
            "21809\n",
            "21810\n",
            "21811\n",
            "21812\n",
            "21813\n",
            "21814\n",
            "21815\n",
            "21816\n",
            "21817\n",
            "21818\n",
            "21819\n",
            "21820\n",
            "21821\n",
            "21822\n",
            "21823\n",
            "21824\n",
            "21825\n",
            "21826\n",
            "21827\n",
            "21828\n",
            "21829\n",
            "21830\n",
            "21831\n",
            "21832\n",
            "21833\n",
            "21834\n",
            "21835\n",
            "21836\n",
            "21837\n",
            "21838\n",
            "21839\n",
            "21840\n",
            "21841\n",
            "21842\n",
            "21843\n",
            "21844\n",
            "21845\n",
            "21846\n",
            "21847\n",
            "21848\n",
            "21849\n",
            "21850\n",
            "21851\n",
            "21852\n",
            "21853\n",
            "21854\n",
            "21855\n",
            "21856\n",
            "21857\n",
            "21858\n",
            "21859\n",
            "21860\n",
            "21861\n",
            "21862\n",
            "21863\n",
            "21864\n",
            "21865\n",
            "21866\n",
            "21867\n",
            "21868\n",
            "21869\n",
            "21870\n",
            "21871\n",
            "21872\n",
            "21873\n",
            "21874\n",
            "21875\n",
            "21876\n",
            "21877\n",
            "21878\n",
            "21879\n",
            "21880\n",
            "21881\n",
            "21882\n",
            "21883\n",
            "21884\n",
            "21885\n",
            "21886\n",
            "21887\n",
            "21888\n",
            "21889\n",
            "21890\n",
            "21891\n",
            "21892\n",
            "21893\n",
            "21894\n",
            "21895\n",
            "21896\n",
            "21897\n",
            "21898\n",
            "21899\n",
            "21900\n",
            "21901\n",
            "21902\n",
            "21903\n",
            "21904\n",
            "21905\n",
            "21906\n",
            "21907\n",
            "21908\n",
            "21909\n",
            "21910\n",
            "21911\n",
            "21912\n",
            "21913\n",
            "21914\n",
            "21915\n",
            "21916\n",
            "21917\n",
            "21918\n",
            "21919\n",
            "21920\n",
            "21921\n",
            "21922\n",
            "21923\n",
            "21924\n",
            "21925\n",
            "21926\n",
            "21927\n",
            "21928\n",
            "21929\n",
            "21930\n",
            "21931\n",
            "21932\n",
            "21933\n",
            "21934\n",
            "21935\n",
            "21936\n",
            "21937\n",
            "21938\n",
            "21939\n",
            "21940\n",
            "21941\n",
            "21942\n",
            "21943\n",
            "21944\n",
            "21945\n",
            "21946\n",
            "21947\n",
            "21948\n",
            "21949\n",
            "21950\n",
            "21951\n",
            "21952\n",
            "21953\n",
            "21954\n",
            "21955\n",
            "21956\n",
            "21957\n",
            "21958\n",
            "21959\n",
            "21960\n",
            "21961\n",
            "21962\n",
            "21963\n",
            "21964\n",
            "21965\n",
            "21966\n",
            "21967\n",
            "21968\n",
            "21969\n",
            "21970\n",
            "21971\n",
            "21972\n",
            "21973\n",
            "21974\n",
            "21975\n",
            "21976\n",
            "21977\n",
            "21978\n",
            "21979\n",
            "21980\n",
            "21981\n",
            "21982\n",
            "21983\n",
            "21984\n",
            "21985\n",
            "21986\n",
            "21987\n",
            "21988\n",
            "21989\n",
            "21990\n",
            "21991\n",
            "21992\n",
            "21993\n",
            "21994\n",
            "21995\n",
            "21996\n",
            "21997\n",
            "21998\n",
            "21999\n",
            "22000\n",
            "22001\n",
            "22002\n",
            "22003\n",
            "22004\n",
            "22005\n",
            "22006\n",
            "22007\n",
            "22008\n",
            "22009\n",
            "22010\n",
            "22011\n",
            "22012\n",
            "22013\n",
            "22014\n",
            "22015\n",
            "22016\n",
            "22017\n",
            "22018\n",
            "22019\n",
            "22020\n",
            "22021\n",
            "22022\n",
            "22023\n",
            "22024\n",
            "22025\n",
            "22026\n",
            "22027\n",
            "22028\n",
            "22029\n",
            "22030\n",
            "22031\n",
            "22032\n",
            "22033\n",
            "22034\n",
            "22035\n",
            "22036\n",
            "22037\n",
            "22038\n",
            "22039\n",
            "22040\n",
            "22041\n",
            "22042\n",
            "22043\n",
            "22044\n",
            "22045\n",
            "22046\n",
            "22047\n",
            "22048\n",
            "22049\n",
            "22050\n",
            "22051\n",
            "22052\n",
            "22053\n",
            "22054\n",
            "22055\n",
            "22056\n",
            "22057\n",
            "22058\n",
            "22059\n",
            "22060\n",
            "22061\n",
            "22062\n",
            "22063\n",
            "22064\n",
            "22065\n",
            "22066\n",
            "22067\n",
            "22068\n",
            "22069\n",
            "22070\n",
            "22071\n",
            "22072\n",
            "22073\n",
            "22074\n",
            "22075\n",
            "22076\n",
            "22077\n",
            "22078\n",
            "22079\n",
            "22080\n",
            "22081\n",
            "22082\n",
            "22083\n",
            "22084\n",
            "22085\n",
            "22086\n",
            "22087\n",
            "22088\n",
            "22089\n",
            "22090\n",
            "22091\n",
            "22092\n",
            "22093\n",
            "22094\n",
            "22095\n",
            "22096\n",
            "22097\n",
            "22098\n",
            "22099\n",
            "22100\n",
            "22101\n",
            "22102\n",
            "22103\n",
            "22104\n",
            "22105\n",
            "22106\n",
            "22107\n",
            "22108\n",
            "22109\n",
            "22110\n",
            "22111\n",
            "22112\n",
            "22113\n",
            "22114\n",
            "22115\n",
            "22116\n",
            "22117\n",
            "22118\n",
            "22119\n",
            "22120\n",
            "22121\n",
            "22122\n",
            "22123\n",
            "22124\n",
            "22125\n",
            "22126\n",
            "22127\n",
            "22128\n",
            "22129\n",
            "22130\n",
            "22131\n",
            "22132\n",
            "22133\n",
            "22134\n",
            "22135\n",
            "22136\n",
            "22137\n",
            "22138\n",
            "22139\n",
            "22140\n",
            "22141\n",
            "22142\n",
            "22143\n",
            "22144\n",
            "22145\n",
            "22146\n",
            "22147\n",
            "22148\n",
            "22149\n",
            "22150\n",
            "22151\n",
            "22152\n",
            "22153\n",
            "22154\n",
            "22155\n",
            "22156\n",
            "22157\n",
            "22158\n",
            "22159\n",
            "22160\n",
            "22161\n",
            "22162\n",
            "22163\n",
            "22164\n",
            "22165\n",
            "22166\n",
            "22167\n",
            "22168\n",
            "22169\n",
            "22170\n",
            "22171\n",
            "22172\n",
            "22173\n",
            "22174\n",
            "22175\n",
            "22176\n",
            "22177\n",
            "22178\n",
            "22179\n",
            "22180\n",
            "22181\n",
            "22182\n",
            "22183\n",
            "22184\n",
            "22185\n",
            "22186\n",
            "22187\n",
            "22188\n",
            "22189\n",
            "22190\n",
            "22191\n",
            "22192\n",
            "22193\n",
            "22194\n",
            "22195\n",
            "22196\n",
            "22197\n",
            "22198\n",
            "22199\n",
            "22200\n",
            "22201\n",
            "22202\n",
            "22203\n",
            "22204\n",
            "22205\n",
            "22206\n",
            "22207\n",
            "22208\n",
            "22209\n",
            "22210\n",
            "22211\n",
            "22212\n",
            "22213\n",
            "22214\n",
            "22215\n",
            "22216\n",
            "22217\n",
            "22218\n",
            "22219\n",
            "22220\n",
            "22221\n",
            "22222\n",
            "22223\n",
            "22224\n",
            "22225\n",
            "22226\n",
            "22227\n",
            "22228\n",
            "22229\n",
            "22230\n",
            "22231\n",
            "22232\n",
            "22233\n",
            "22234\n",
            "22235\n",
            "22236\n",
            "22237\n",
            "22238\n",
            "22239\n",
            "22240\n",
            "22241\n",
            "22242\n",
            "22243\n",
            "22244\n",
            "22245\n",
            "22246\n",
            "22247\n",
            "22248\n",
            "22249\n",
            "22250\n",
            "22251\n",
            "22252\n",
            "22253\n",
            "22254\n",
            "22255\n",
            "22256\n",
            "22257\n",
            "22258\n",
            "22259\n",
            "22260\n",
            "22261\n",
            "22262\n",
            "22263\n",
            "22264\n",
            "22265\n",
            "22266\n",
            "22267\n",
            "22268\n",
            "22269\n",
            "22270\n",
            "22271\n",
            "22272\n",
            "22273\n",
            "22274\n",
            "22275\n",
            "22276\n",
            "22277\n",
            "22278\n",
            "22279\n",
            "22280\n",
            "22281\n",
            "22282\n",
            "22283\n",
            "22284\n",
            "22285\n",
            "22286\n",
            "22287\n",
            "22288\n",
            "22289\n",
            "22290\n",
            "22291\n",
            "22292\n",
            "22293\n",
            "22294\n",
            "22295\n",
            "22296\n",
            "22297\n",
            "22298\n",
            "22299\n",
            "22300\n",
            "22301\n",
            "22302\n",
            "22303\n",
            "22304\n",
            "22305\n",
            "22306\n",
            "22307\n",
            "22308\n",
            "22309\n",
            "22310\n",
            "22311\n",
            "22312\n",
            "22313\n",
            "22314\n",
            "22315\n",
            "22316\n",
            "22317\n",
            "22318\n",
            "22319\n",
            "22320\n",
            "22321\n",
            "22322\n",
            "22323\n",
            "22324\n",
            "22325\n",
            "22326\n",
            "22327\n",
            "22328\n",
            "22329\n",
            "22330\n",
            "22331\n",
            "22332\n",
            "22333\n",
            "22334\n",
            "22335\n",
            "22336\n",
            "22337\n",
            "22338\n",
            "22339\n",
            "22340\n",
            "22341\n",
            "22342\n",
            "22343\n",
            "22344\n",
            "22345\n",
            "22346\n",
            "22347\n",
            "22348\n",
            "22349\n",
            "22350\n",
            "22351\n",
            "22352\n",
            "22353\n",
            "22354\n",
            "22355\n",
            "22356\n",
            "22357\n",
            "22358\n",
            "22359\n",
            "22360\n",
            "22361\n",
            "22362\n",
            "22363\n",
            "22364\n",
            "22365\n",
            "22366\n",
            "22367\n",
            "22368\n",
            "22369\n",
            "22370\n",
            "22371\n",
            "22372\n",
            "22373\n",
            "22374\n",
            "22375\n",
            "22376\n",
            "22377\n",
            "22378\n",
            "22379\n",
            "22380\n",
            "22381\n",
            "22382\n",
            "22383\n",
            "22384\n",
            "22385\n",
            "22386\n",
            "22387\n",
            "22388\n",
            "22389\n",
            "22390\n",
            "22391\n",
            "22392\n",
            "22393\n",
            "22394\n",
            "22395\n",
            "22396\n",
            "22397\n",
            "22398\n",
            "22399\n",
            "22400\n",
            "22401\n",
            "22402\n",
            "22403\n",
            "22404\n",
            "22405\n",
            "22406\n",
            "22407\n",
            "22408\n",
            "22409\n",
            "22410\n",
            "22411\n",
            "22412\n",
            "22413\n",
            "22414\n",
            "22415\n",
            "22416\n",
            "22417\n",
            "22418\n",
            "22419\n",
            "22420\n",
            "22421\n",
            "22422\n",
            "22423\n",
            "22424\n",
            "22425\n",
            "22426\n",
            "22427\n",
            "22428\n",
            "22429\n",
            "22430\n",
            "22431\n",
            "22432\n",
            "22433\n",
            "22434\n",
            "22435\n",
            "22436\n",
            "22437\n",
            "22438\n",
            "22439\n",
            "22440\n",
            "22441\n",
            "22442\n",
            "22443\n",
            "22444\n",
            "22445\n",
            "22446\n",
            "22447\n",
            "22448\n",
            "22449\n",
            "22450\n",
            "22451\n",
            "22452\n",
            "22453\n",
            "22454\n",
            "22455\n",
            "22456\n",
            "22457\n",
            "22458\n",
            "22459\n",
            "22460\n",
            "22461\n",
            "22462\n",
            "22463\n",
            "22464\n",
            "22465\n",
            "22466\n",
            "22467\n",
            "22468\n",
            "22469\n",
            "22470\n",
            "22471\n",
            "22472\n",
            "22473\n",
            "22474\n",
            "22475\n",
            "22476\n",
            "22477\n",
            "22478\n",
            "22479\n",
            "22480\n",
            "22481\n",
            "22482\n",
            "22483\n",
            "22484\n",
            "22485\n",
            "22486\n",
            "22487\n",
            "22488\n",
            "22489\n",
            "22490\n",
            "22491\n",
            "22492\n",
            "22493\n",
            "22494\n",
            "22495\n",
            "22496\n",
            "22497\n",
            "22498\n",
            "22499\n",
            "22500\n",
            "22501\n",
            "22502\n",
            "22503\n",
            "22504\n",
            "22505\n",
            "22506\n",
            "22507\n",
            "22508\n",
            "22509\n",
            "22510\n",
            "22511\n",
            "22512\n",
            "22513\n",
            "22514\n",
            "22515\n",
            "22516\n",
            "22517\n",
            "22518\n",
            "22519\n",
            "22520\n",
            "22521\n",
            "22522\n",
            "22523\n",
            "22524\n",
            "22525\n",
            "22526\n",
            "22527\n",
            "22528\n",
            "22529\n",
            "22530\n",
            "22531\n",
            "22532\n",
            "22533\n",
            "22534\n",
            "22535\n",
            "22536\n",
            "22537\n",
            "22538\n",
            "22539\n",
            "22540\n",
            "22541\n",
            "22542\n",
            "22543\n",
            "22544\n",
            "22545\n",
            "22546\n",
            "22547\n",
            "22548\n",
            "22549\n",
            "22550\n",
            "22551\n",
            "22552\n",
            "22553\n",
            "22554\n",
            "22555\n",
            "22556\n",
            "22557\n",
            "22558\n",
            "22559\n",
            "22560\n",
            "22561\n",
            "22562\n",
            "22563\n",
            "22564\n",
            "22565\n",
            "22566\n",
            "22567\n",
            "22568\n",
            "22569\n",
            "22570\n",
            "22571\n",
            "22572\n",
            "22573\n",
            "22574\n",
            "22575\n",
            "22576\n",
            "22577\n",
            "22578\n",
            "22579\n",
            "22580\n",
            "22581\n",
            "22582\n",
            "22583\n",
            "22584\n",
            "22585\n",
            "22586\n",
            "22587\n",
            "22588\n",
            "22589\n",
            "22590\n",
            "22591\n",
            "22592\n",
            "22593\n",
            "22594\n",
            "22595\n",
            "22596\n",
            "22597\n",
            "22598\n",
            "22599\n",
            "22600\n",
            "22601\n",
            "22602\n",
            "22603\n",
            "22604\n",
            "22605\n",
            "22606\n",
            "22607\n",
            "22608\n",
            "22609\n",
            "22610\n",
            "22611\n",
            "22612\n",
            "22613\n",
            "22614\n",
            "22615\n",
            "22616\n",
            "22617\n",
            "22618\n",
            "22619\n",
            "22620\n",
            "22621\n",
            "22622\n",
            "22623\n",
            "22624\n",
            "22625\n",
            "22626\n",
            "22627\n",
            "22628\n",
            "22629\n",
            "22630\n",
            "22631\n",
            "22632\n",
            "22633\n",
            "22634\n",
            "22635\n",
            "22636\n",
            "22637\n",
            "22638\n",
            "22639\n",
            "22640\n",
            "22641\n",
            "22642\n",
            "22643\n",
            "22644\n",
            "22645\n",
            "22646\n",
            "22647\n",
            "22648\n",
            "22649\n",
            "22650\n",
            "22651\n",
            "22652\n",
            "22653\n",
            "22654\n",
            "22655\n",
            "22656\n",
            "22657\n",
            "22658\n",
            "22659\n",
            "22660\n",
            "22661\n",
            "22662\n",
            "22663\n",
            "22664\n",
            "22665\n",
            "22666\n",
            "22667\n",
            "22668\n",
            "22669\n",
            "22670\n",
            "22671\n",
            "22672\n",
            "22673\n",
            "22674\n",
            "22675\n",
            "22676\n",
            "22677\n",
            "22678\n",
            "22679\n",
            "22680\n",
            "22681\n",
            "22682\n",
            "22683\n",
            "22684\n",
            "22685\n",
            "22686\n",
            "22687\n",
            "22688\n",
            "22689\n",
            "22690\n",
            "22691\n",
            "22692\n",
            "22693\n",
            "22694\n",
            "22695\n",
            "22696\n",
            "22697\n",
            "22698\n",
            "22699\n",
            "22700\n",
            "22701\n",
            "22702\n",
            "22703\n",
            "22704\n",
            "22705\n",
            "22706\n",
            "22707\n",
            "22708\n",
            "22709\n",
            "22710\n",
            "22711\n",
            "22712\n",
            "22713\n",
            "22714\n",
            "22715\n",
            "22716\n",
            "22717\n",
            "22718\n",
            "22719\n",
            "22720\n",
            "22721\n",
            "22722\n",
            "22723\n",
            "22724\n",
            "22725\n",
            "22726\n",
            "22727\n",
            "22728\n",
            "22729\n",
            "22730\n",
            "22731\n",
            "22732\n",
            "22733\n",
            "22734\n",
            "22735\n",
            "22736\n",
            "22737\n",
            "22738\n",
            "22739\n",
            "22740\n",
            "22741\n",
            "22742\n",
            "22743\n",
            "22744\n",
            "22745\n",
            "22746\n",
            "22747\n",
            "22748\n",
            "22749\n",
            "22750\n",
            "22751\n",
            "22752\n",
            "22753\n",
            "22754\n",
            "22755\n",
            "22756\n",
            "22757\n",
            "22758\n",
            "22759\n",
            "22760\n",
            "22761\n",
            "22762\n",
            "22763\n",
            "22764\n",
            "22765\n",
            "22766\n",
            "22767\n",
            "22768\n",
            "22769\n",
            "22770\n",
            "22771\n",
            "22772\n",
            "22773\n",
            "22774\n",
            "22775\n",
            "22776\n",
            "22777\n",
            "22778\n",
            "22779\n",
            "22780\n",
            "22781\n",
            "22782\n",
            "22783\n",
            "22784\n",
            "22785\n",
            "22786\n",
            "22787\n",
            "22788\n",
            "22789\n",
            "22790\n",
            "22791\n",
            "22792\n",
            "22793\n",
            "22794\n",
            "22795\n",
            "22796\n",
            "22797\n",
            "22798\n",
            "22799\n",
            "22800\n",
            "22801\n",
            "22802\n",
            "22803\n",
            "22804\n",
            "22805\n",
            "22806\n",
            "22807\n",
            "22808\n",
            "22809\n",
            "22810\n",
            "22811\n",
            "22812\n",
            "22813\n",
            "22814\n",
            "22815\n",
            "22816\n",
            "22817\n",
            "22818\n",
            "22819\n",
            "22820\n",
            "22821\n",
            "22822\n",
            "22823\n",
            "22824\n",
            "22825\n",
            "22826\n",
            "22827\n",
            "22828\n",
            "22829\n",
            "22830\n",
            "22831\n",
            "22832\n",
            "22833\n",
            "22834\n",
            "22835\n",
            "22836\n",
            "22837\n",
            "22838\n",
            "22839\n",
            "22840\n",
            "22841\n",
            "22842\n",
            "22843\n",
            "22844\n",
            "22845\n",
            "22846\n",
            "22847\n",
            "22848\n",
            "22849\n",
            "22850\n",
            "22851\n",
            "22852\n",
            "22853\n",
            "22854\n",
            "22855\n",
            "22856\n",
            "22857\n",
            "22858\n",
            "22859\n",
            "22860\n",
            "22861\n",
            "22862\n",
            "22863\n",
            "22864\n",
            "22865\n",
            "22866\n",
            "22867\n",
            "22868\n",
            "22869\n",
            "22870\n",
            "22871\n",
            "22872\n",
            "22873\n",
            "22874\n",
            "22875\n",
            "22876\n",
            "22877\n",
            "22878\n",
            "22879\n",
            "22880\n",
            "22881\n",
            "22882\n",
            "22883\n",
            "22884\n",
            "22885\n",
            "22886\n",
            "22887\n",
            "22888\n",
            "22889\n",
            "22890\n",
            "22891\n",
            "22892\n",
            "22893\n",
            "22894\n",
            "22895\n",
            "22896\n",
            "22897\n",
            "22898\n",
            "22899\n",
            "22900\n",
            "22901\n",
            "22902\n",
            "22903\n",
            "22904\n",
            "22905\n",
            "22906\n",
            "22907\n",
            "22908\n",
            "22909\n",
            "22910\n",
            "22911\n",
            "22912\n",
            "22913\n",
            "22914\n",
            "22915\n",
            "22916\n",
            "22917\n",
            "22918\n",
            "22919\n",
            "22920\n",
            "22921\n",
            "22922\n",
            "22923\n",
            "22924\n",
            "22925\n",
            "22926\n",
            "22927\n",
            "22928\n",
            "22929\n",
            "22930\n",
            "22931\n",
            "22932\n",
            "22933\n",
            "22934\n",
            "22935\n",
            "22936\n",
            "22937\n",
            "22938\n",
            "22939\n",
            "22940\n",
            "22941\n",
            "22942\n",
            "22943\n",
            "22944\n",
            "22945\n",
            "22946\n",
            "22947\n",
            "22948\n",
            "22949\n",
            "22950\n",
            "22951\n",
            "22952\n",
            "22953\n",
            "22954\n",
            "22955\n",
            "22956\n",
            "22957\n",
            "22958\n",
            "22959\n",
            "22960\n",
            "22961\n",
            "22962\n",
            "22963\n",
            "22964\n",
            "22965\n",
            "22966\n",
            "22967\n",
            "22968\n",
            "22969\n",
            "22970\n",
            "22971\n",
            "22972\n",
            "22973\n",
            "22974\n",
            "22975\n",
            "22976\n",
            "22977\n",
            "22978\n",
            "22979\n",
            "22980\n",
            "22981\n",
            "22982\n",
            "22983\n",
            "22984\n",
            "22985\n",
            "22986\n",
            "22987\n",
            "22988\n",
            "22989\n",
            "22990\n",
            "22991\n",
            "22992\n",
            "22993\n",
            "22994\n",
            "22995\n",
            "22996\n",
            "22997\n",
            "22998\n",
            "22999\n",
            "23000\n",
            "23001\n",
            "23002\n",
            "23003\n",
            "23004\n",
            "23005\n",
            "23006\n",
            "23007\n",
            "23008\n",
            "23009\n",
            "23010\n",
            "23011\n",
            "23012\n",
            "23013\n",
            "23014\n",
            "23015\n",
            "23016\n",
            "23017\n",
            "23018\n",
            "23019\n",
            "23020\n",
            "23021\n",
            "23022\n",
            "23023\n",
            "23024\n",
            "23025\n",
            "23026\n",
            "23027\n",
            "23028\n",
            "23029\n",
            "23030\n",
            "23031\n",
            "23032\n",
            "23033\n",
            "23034\n",
            "23035\n",
            "23036\n",
            "23037\n",
            "23038\n",
            "23039\n",
            "23040\n",
            "23041\n",
            "23042\n",
            "23043\n",
            "23044\n",
            "23045\n",
            "23046\n",
            "23047\n",
            "23048\n",
            "23049\n",
            "23050\n",
            "23051\n",
            "23052\n",
            "23053\n",
            "23054\n",
            "23055\n",
            "23056\n",
            "23057\n",
            "23058\n",
            "23059\n",
            "23060\n",
            "23061\n",
            "23062\n",
            "23063\n",
            "23064\n",
            "23065\n",
            "23066\n",
            "23067\n",
            "23068\n",
            "23069\n",
            "23070\n",
            "23071\n",
            "23072\n",
            "23073\n",
            "23074\n",
            "23075\n",
            "23076\n",
            "23077\n",
            "23078\n",
            "23079\n",
            "23080\n",
            "23081\n",
            "23082\n",
            "23083\n",
            "23084\n",
            "23085\n",
            "23086\n",
            "23087\n",
            "23088\n",
            "23089\n",
            "23090\n",
            "23091\n",
            "23092\n",
            "23093\n",
            "23094\n",
            "23095\n",
            "23096\n",
            "23097\n",
            "23098\n",
            "23099\n",
            "23100\n",
            "23101\n",
            "23102\n",
            "23103\n",
            "23104\n",
            "23105\n",
            "23106\n",
            "23107\n",
            "23108\n",
            "23109\n",
            "23110\n",
            "23111\n",
            "23112\n",
            "23113\n",
            "23114\n",
            "23115\n",
            "23116\n",
            "23117\n",
            "23118\n",
            "23119\n",
            "23120\n",
            "23121\n",
            "23122\n",
            "23123\n",
            "23124\n",
            "23125\n",
            "23126\n",
            "23127\n",
            "23128\n",
            "23129\n",
            "23130\n",
            "23131\n",
            "23132\n",
            "23133\n",
            "23134\n",
            "23135\n",
            "23136\n",
            "23137\n",
            "23138\n",
            "23139\n",
            "23140\n",
            "23141\n",
            "23142\n",
            "23143\n",
            "23144\n",
            "23145\n",
            "23146\n",
            "23147\n",
            "23148\n",
            "23149\n",
            "23150\n",
            "23151\n",
            "23152\n",
            "23153\n",
            "23154\n",
            "23155\n",
            "23156\n",
            "23157\n",
            "23158\n",
            "23159\n",
            "23160\n",
            "23161\n",
            "23162\n",
            "23163\n",
            "23164\n",
            "23165\n",
            "23166\n",
            "23167\n",
            "23168\n",
            "23169\n",
            "23170\n",
            "23171\n",
            "23172\n",
            "23173\n",
            "23174\n",
            "23175\n",
            "23176\n",
            "23177\n",
            "23178\n",
            "23179\n",
            "23180\n",
            "23181\n",
            "23182\n",
            "23183\n",
            "23184\n",
            "23185\n",
            "23186\n",
            "23187\n",
            "23188\n",
            "23189\n",
            "23190\n",
            "23191\n",
            "23192\n",
            "23193\n",
            "23194\n",
            "23195\n",
            "23196\n",
            "23197\n",
            "23198\n",
            "23199\n",
            "23200\n",
            "23201\n",
            "23202\n",
            "23203\n",
            "23204\n",
            "23205\n",
            "23206\n",
            "23207\n",
            "23208\n",
            "23209\n",
            "23210\n",
            "23211\n",
            "23212\n",
            "23213\n",
            "23214\n",
            "23215\n",
            "23216\n",
            "23217\n",
            "23218\n",
            "23219\n",
            "23220\n",
            "23221\n",
            "23222\n",
            "23223\n",
            "23224\n",
            "23225\n",
            "23226\n",
            "23227\n",
            "23228\n",
            "23229\n",
            "23230\n",
            "23231\n",
            "23232\n",
            "23233\n",
            "23234\n",
            "23235\n",
            "23236\n",
            "23237\n",
            "23238\n",
            "23239\n",
            "23240\n",
            "23241\n",
            "23242\n",
            "23243\n",
            "23244\n",
            "23245\n",
            "23246\n",
            "23247\n",
            "23248\n",
            "23249\n",
            "23250\n",
            "23251\n",
            "23252\n",
            "23253\n",
            "23254\n",
            "23255\n",
            "23256\n",
            "23257\n",
            "23258\n",
            "23259\n",
            "23260\n",
            "23261\n",
            "23262\n",
            "23263\n",
            "23264\n",
            "23265\n",
            "23266\n",
            "23267\n",
            "23268\n",
            "23269\n",
            "23270\n",
            "23271\n",
            "23272\n",
            "23273\n",
            "23274\n",
            "23275\n",
            "23276\n",
            "23277\n",
            "23278\n",
            "23279\n",
            "23280\n",
            "23281\n",
            "23282\n",
            "23283\n",
            "23284\n",
            "23285\n",
            "23286\n",
            "23287\n",
            "23288\n",
            "23289\n",
            "23290\n",
            "23291\n",
            "23292\n",
            "23293\n",
            "23294\n",
            "23295\n",
            "23296\n",
            "23297\n",
            "23298\n",
            "23299\n",
            "23300\n",
            "23301\n",
            "23302\n",
            "23303\n",
            "23304\n",
            "23305\n",
            "23306\n",
            "23307\n",
            "23308\n",
            "23309\n",
            "23310\n",
            "23311\n",
            "23312\n",
            "23313\n",
            "23314\n",
            "23315\n",
            "23316\n",
            "23317\n",
            "23318\n",
            "23319\n",
            "23320\n",
            "23321\n",
            "23322\n",
            "23323\n",
            "23324\n",
            "23325\n",
            "23326\n",
            "23327\n",
            "23328\n",
            "23329\n",
            "23330\n",
            "23331\n",
            "23332\n",
            "23333\n",
            "23334\n",
            "23335\n",
            "23336\n",
            "23337\n",
            "23338\n",
            "23339\n",
            "23340\n",
            "23341\n",
            "23342\n",
            "23343\n",
            "23344\n",
            "23345\n",
            "23346\n",
            "23347\n",
            "23348\n",
            "23349\n",
            "23350\n",
            "23351\n",
            "23352\n",
            "23353\n",
            "23354\n",
            "23355\n",
            "23356\n",
            "23357\n",
            "23358\n",
            "23359\n",
            "23360\n",
            "23361\n",
            "23362\n",
            "23363\n",
            "23364\n",
            "23365\n",
            "23366\n",
            "23367\n",
            "23368\n",
            "23369\n",
            "23370\n",
            "23371\n",
            "23372\n",
            "23373\n",
            "23374\n",
            "23375\n",
            "23376\n",
            "23377\n",
            "23378\n",
            "23379\n",
            "23380\n",
            "23381\n",
            "23382\n",
            "23383\n",
            "23384\n",
            "23385\n",
            "23386\n",
            "23387\n",
            "23388\n",
            "23389\n",
            "23390\n",
            "23391\n",
            "23392\n",
            "23393\n",
            "23394\n",
            "23395\n",
            "23396\n",
            "23397\n",
            "23398\n",
            "23399\n",
            "23400\n",
            "23401\n",
            "23402\n",
            "23403\n",
            "23404\n",
            "23405\n",
            "23406\n",
            "23407\n",
            "23408\n",
            "23409\n",
            "23410\n",
            "23411\n",
            "23412\n",
            "23413\n",
            "23414\n",
            "23415\n",
            "23416\n",
            "23417\n",
            "23418\n",
            "23419\n",
            "23420\n",
            "23421\n",
            "23422\n",
            "23423\n",
            "23424\n",
            "23425\n",
            "23426\n",
            "23427\n",
            "23428\n",
            "23429\n",
            "23430\n",
            "23431\n",
            "23432\n",
            "23433\n",
            "23434\n",
            "23435\n",
            "23436\n",
            "23437\n",
            "23438\n",
            "23439\n",
            "23440\n",
            "23441\n",
            "23442\n",
            "23443\n",
            "23444\n",
            "23445\n",
            "23446\n",
            "23447\n",
            "23448\n",
            "23449\n",
            "23450\n",
            "23451\n",
            "23452\n",
            "23453\n",
            "23454\n",
            "23455\n",
            "23456\n",
            "23457\n",
            "23458\n",
            "23459\n",
            "23460\n",
            "23461\n",
            "23462\n",
            "23463\n",
            "23464\n",
            "23465\n",
            "23466\n",
            "23467\n",
            "23468\n",
            "23469\n",
            "23470\n",
            "23471\n",
            "23472\n",
            "23473\n",
            "23474\n",
            "23475\n",
            "23476\n",
            "23477\n",
            "23478\n",
            "23479\n",
            "23480\n",
            "23481\n",
            "23482\n",
            "23483\n",
            "23484\n",
            "23485\n",
            "23486\n",
            "23487\n",
            "23488\n",
            "23489\n",
            "23490\n",
            "23491\n",
            "23492\n",
            "23493\n",
            "23494\n",
            "23495\n",
            "23496\n",
            "23497\n",
            "23498\n",
            "23499\n",
            "23500\n",
            "23501\n",
            "23502\n",
            "23503\n",
            "23504\n",
            "23505\n",
            "23506\n",
            "23507\n",
            "23508\n",
            "23509\n",
            "23510\n",
            "23511\n",
            "23512\n",
            "23513\n",
            "23514\n",
            "23515\n",
            "23516\n",
            "23517\n",
            "23518\n",
            "23519\n",
            "23520\n",
            "23521\n",
            "23522\n",
            "23523\n",
            "23524\n",
            "23525\n",
            "23526\n",
            "23527\n",
            "23528\n",
            "23529\n",
            "23530\n",
            "23531\n",
            "23532\n",
            "23533\n",
            "23534\n",
            "23535\n",
            "23536\n",
            "23537\n",
            "23538\n",
            "23539\n",
            "23540\n",
            "23541\n",
            "23542\n",
            "23543\n",
            "23544\n",
            "23545\n",
            "23546\n",
            "23547\n",
            "23548\n",
            "23549\n",
            "23550\n",
            "23551\n",
            "23552\n",
            "23553\n",
            "23554\n",
            "23555\n",
            "23556\n",
            "23557\n",
            "23558\n",
            "23559\n",
            "23560\n",
            "23561\n",
            "23562\n",
            "23563\n",
            "23564\n",
            "23565\n",
            "23566\n",
            "23567\n",
            "23568\n",
            "23569\n",
            "23570\n",
            "23571\n",
            "23572\n",
            "23573\n",
            "23574\n",
            "23575\n",
            "23576\n",
            "23577\n",
            "23578\n",
            "23579\n",
            "23580\n",
            "23581\n",
            "23582\n",
            "23583\n",
            "23584\n",
            "23585\n",
            "23586\n",
            "23587\n",
            "23588\n",
            "23589\n",
            "23590\n",
            "23591\n",
            "23592\n",
            "23593\n",
            "23594\n",
            "23595\n",
            "23596\n",
            "23597\n",
            "23598\n",
            "23599\n",
            "23600\n",
            "23601\n",
            "23602\n",
            "23603\n",
            "23604\n",
            "23605\n",
            "23606\n",
            "23607\n",
            "23608\n",
            "23609\n",
            "23610\n",
            "23611\n",
            "23612\n",
            "23613\n",
            "23614\n",
            "23615\n",
            "23616\n",
            "23617\n",
            "23618\n",
            "23619\n",
            "23620\n",
            "23621\n",
            "23622\n",
            "23623\n",
            "23624\n",
            "23625\n",
            "23626\n",
            "23627\n",
            "23628\n",
            "23629\n",
            "23630\n",
            "23631\n",
            "23632\n",
            "23633\n",
            "23634\n",
            "23635\n",
            "23636\n",
            "23637\n",
            "23638\n",
            "23639\n",
            "23640\n",
            "23641\n",
            "23642\n",
            "23643\n",
            "23644\n",
            "23645\n",
            "23646\n",
            "23647\n",
            "23648\n",
            "23649\n",
            "23650\n",
            "23651\n",
            "23652\n",
            "23653\n",
            "23654\n",
            "23655\n",
            "23656\n",
            "23657\n",
            "23658\n",
            "23659\n",
            "23660\n",
            "23661\n",
            "23662\n",
            "23663\n",
            "23664\n",
            "23665\n",
            "23666\n",
            "23667\n",
            "23668\n",
            "23669\n",
            "23670\n",
            "23671\n",
            "23672\n",
            "23673\n",
            "23674\n",
            "23675\n",
            "23676\n",
            "23677\n",
            "23678\n",
            "23679\n",
            "23680\n",
            "23681\n",
            "23682\n",
            "23683\n",
            "23684\n",
            "23685\n",
            "23686\n",
            "23687\n",
            "23688\n",
            "23689\n",
            "23690\n",
            "23691\n",
            "23692\n",
            "23693\n",
            "23694\n",
            "23695\n",
            "23696\n",
            "23697\n",
            "23698\n",
            "23699\n",
            "23700\n",
            "23701\n",
            "23702\n",
            "23703\n",
            "23704\n",
            "23705\n",
            "23706\n",
            "23707\n",
            "23708\n",
            "23709\n",
            "23710\n",
            "23711\n",
            "23712\n",
            "23713\n",
            "23714\n",
            "23715\n",
            "23716\n",
            "23717\n",
            "23718\n",
            "23719\n",
            "23720\n",
            "23721\n",
            "23722\n",
            "23723\n",
            "23724\n",
            "23725\n",
            "23726\n",
            "23727\n",
            "23728\n",
            "23729\n",
            "23730\n",
            "23731\n",
            "23732\n",
            "23733\n",
            "23734\n",
            "23735\n",
            "23736\n",
            "23737\n",
            "23738\n",
            "23739\n",
            "23740\n",
            "23741\n",
            "23742\n",
            "23743\n",
            "23744\n",
            "23745\n",
            "23746\n",
            "23747\n",
            "23748\n",
            "23749\n",
            "23750\n",
            "23751\n",
            "23752\n",
            "23753\n",
            "23754\n",
            "23755\n",
            "23756\n",
            "23757\n",
            "23758\n",
            "23759\n",
            "23760\n",
            "23761\n",
            "23762\n",
            "23763\n",
            "23764\n",
            "23765\n",
            "23766\n",
            "23767\n",
            "23768\n",
            "23769\n",
            "23770\n",
            "23771\n",
            "23772\n",
            "23773\n",
            "23774\n",
            "23775\n",
            "23776\n",
            "23777\n",
            "23778\n",
            "23779\n",
            "23780\n",
            "23781\n",
            "23782\n",
            "23783\n",
            "23784\n",
            "23785\n",
            "23786\n",
            "23787\n",
            "23788\n",
            "23789\n",
            "23790\n",
            "23791\n",
            "23792\n",
            "23793\n",
            "23794\n",
            "23795\n",
            "23796\n",
            "23797\n",
            "23798\n",
            "23799\n",
            "23800\n",
            "23801\n",
            "23802\n",
            "23803\n",
            "23804\n",
            "23805\n",
            "23806\n",
            "23807\n",
            "23808\n",
            "23809\n",
            "23810\n",
            "23811\n",
            "23812\n",
            "23813\n",
            "23814\n",
            "23815\n",
            "23816\n",
            "23817\n",
            "23818\n",
            "23819\n",
            "23820\n",
            "23821\n",
            "23822\n",
            "23823\n",
            "23824\n",
            "23825\n",
            "23826\n",
            "23827\n",
            "23828\n",
            "23829\n",
            "23830\n",
            "23831\n",
            "23832\n",
            "23833\n",
            "23834\n",
            "23835\n",
            "23836\n",
            "23837\n",
            "23838\n",
            "23839\n",
            "23840\n",
            "23841\n",
            "23842\n",
            "23843\n",
            "23844\n",
            "23845\n",
            "23846\n",
            "23847\n",
            "23848\n",
            "23849\n",
            "23850\n",
            "23851\n",
            "23852\n",
            "23853\n",
            "23854\n",
            "23855\n",
            "23856\n",
            "23857\n",
            "23858\n",
            "23859\n",
            "23860\n",
            "23861\n",
            "23862\n",
            "23863\n",
            "23864\n",
            "23865\n",
            "23866\n",
            "23867\n",
            "23868\n",
            "23869\n",
            "23870\n",
            "23871\n",
            "23872\n",
            "23873\n",
            "23874\n",
            "23875\n",
            "23876\n",
            "23877\n",
            "23878\n",
            "23879\n",
            "23880\n",
            "23881\n",
            "23882\n",
            "23883\n",
            "23884\n",
            "23885\n",
            "23886\n",
            "23887\n",
            "23888\n",
            "23889\n",
            "23890\n",
            "23891\n",
            "23892\n",
            "23893\n",
            "23894\n",
            "23895\n",
            "23896\n",
            "23897\n",
            "23898\n",
            "23899\n",
            "23900\n",
            "23901\n",
            "23902\n",
            "23903\n",
            "23904\n",
            "23905\n",
            "23906\n",
            "23907\n",
            "23908\n",
            "23909\n",
            "23910\n",
            "23911\n",
            "23912\n",
            "23913\n",
            "23914\n",
            "23915\n",
            "23916\n",
            "23917\n",
            "23918\n",
            "23919\n",
            "23920\n",
            "23921\n",
            "23922\n",
            "23923\n",
            "23924\n",
            "23925\n",
            "23926\n",
            "23927\n",
            "23928\n",
            "23929\n",
            "23930\n",
            "23931\n",
            "23932\n",
            "23933\n",
            "23934\n",
            "23935\n",
            "23936\n",
            "23937\n",
            "23938\n",
            "23939\n",
            "23940\n",
            "23941\n",
            "23942\n",
            "23943\n",
            "23944\n",
            "23945\n",
            "23946\n",
            "23947\n",
            "23948\n",
            "23949\n",
            "23950\n",
            "23951\n",
            "23952\n",
            "23953\n",
            "23954\n",
            "23955\n",
            "23956\n",
            "23957\n",
            "23958\n",
            "23959\n",
            "23960\n",
            "23961\n",
            "23962\n",
            "23963\n",
            "23964\n",
            "23965\n",
            "23966\n",
            "23967\n",
            "23968\n",
            "23969\n",
            "23970\n",
            "23971\n",
            "23972\n",
            "23973\n",
            "23974\n",
            "23975\n",
            "23976\n",
            "23977\n",
            "23978\n",
            "23979\n",
            "23980\n",
            "23981\n",
            "23982\n",
            "23983\n",
            "23984\n",
            "23985\n",
            "23986\n",
            "23987\n",
            "23988\n",
            "23989\n",
            "23990\n",
            "23991\n",
            "23992\n",
            "23993\n",
            "23994\n",
            "23995\n",
            "23996\n",
            "23997\n",
            "23998\n",
            "23999\n",
            "24000\n",
            "24001\n",
            "24002\n",
            "24003\n",
            "24004\n",
            "24005\n",
            "24006\n",
            "24007\n",
            "24008\n",
            "24009\n",
            "24010\n",
            "24011\n",
            "24012\n",
            "24013\n",
            "24014\n",
            "24015\n",
            "24016\n",
            "24017\n",
            "24018\n",
            "24019\n",
            "24020\n",
            "24021\n",
            "24022\n",
            "24023\n",
            "24024\n",
            "24025\n",
            "24026\n",
            "24027\n",
            "24028\n",
            "24029\n",
            "24030\n",
            "24031\n",
            "24032\n",
            "24033\n",
            "24034\n",
            "24035\n",
            "24036\n",
            "24037\n",
            "24038\n",
            "24039\n",
            "24040\n",
            "24041\n",
            "24042\n",
            "24043\n",
            "24044\n",
            "24045\n",
            "24046\n",
            "24047\n",
            "24048\n",
            "24049\n",
            "24050\n",
            "24051\n",
            "24052\n",
            "24053\n",
            "24054\n",
            "24055\n",
            "24056\n",
            "24057\n",
            "24058\n",
            "24059\n",
            "24060\n",
            "24061\n",
            "24062\n",
            "24063\n",
            "24064\n",
            "24065\n",
            "24066\n",
            "24067\n",
            "24068\n",
            "24069\n",
            "24070\n",
            "24071\n",
            "24072\n",
            "24073\n",
            "24074\n",
            "24075\n",
            "24076\n",
            "24077\n",
            "24078\n",
            "24079\n",
            "24080\n",
            "24081\n",
            "24082\n",
            "24083\n",
            "24084\n",
            "24085\n",
            "24086\n",
            "24087\n",
            "24088\n",
            "24089\n",
            "24090\n",
            "24091\n",
            "24092\n",
            "24093\n",
            "24094\n",
            "24095\n",
            "24096\n",
            "24097\n",
            "24098\n",
            "24099\n",
            "24100\n",
            "24101\n",
            "24102\n",
            "24103\n",
            "24104\n",
            "24105\n",
            "24106\n",
            "24107\n",
            "24108\n",
            "24109\n",
            "24110\n",
            "24111\n",
            "24112\n",
            "24113\n",
            "24114\n",
            "24115\n",
            "24116\n",
            "24117\n",
            "24118\n",
            "24119\n",
            "24120\n",
            "24121\n",
            "24122\n",
            "24123\n",
            "24124\n",
            "24125\n",
            "24126\n",
            "24127\n",
            "24128\n",
            "24129\n",
            "24130\n",
            "24131\n",
            "24132\n",
            "24133\n",
            "24134\n",
            "24135\n",
            "24136\n",
            "24137\n",
            "24138\n",
            "24139\n",
            "24140\n",
            "24141\n",
            "24142\n",
            "24143\n",
            "24144\n",
            "24145\n",
            "24146\n",
            "24147\n",
            "24148\n",
            "24149\n",
            "24150\n",
            "24151\n",
            "24152\n",
            "24153\n",
            "24154\n",
            "24155\n",
            "24156\n",
            "24157\n",
            "24158\n",
            "24159\n",
            "24160\n",
            "24161\n",
            "24162\n",
            "24163\n",
            "24164\n",
            "24165\n",
            "24166\n",
            "24167\n",
            "24168\n",
            "24169\n",
            "24170\n",
            "24171\n",
            "24172\n",
            "24173\n",
            "24174\n",
            "24175\n",
            "24176\n",
            "24177\n",
            "24178\n",
            "24179\n",
            "24180\n",
            "24181\n",
            "24182\n",
            "24183\n",
            "24184\n",
            "24185\n",
            "24186\n",
            "24187\n",
            "24188\n",
            "24189\n",
            "24190\n",
            "24191\n",
            "24192\n",
            "24193\n",
            "24194\n",
            "24195\n",
            "24196\n",
            "24197\n",
            "24198\n",
            "24199\n",
            "24200\n",
            "24201\n",
            "24202\n",
            "24203\n",
            "24204\n",
            "24205\n",
            "24206\n",
            "24207\n",
            "24208\n",
            "24209\n",
            "24210\n",
            "24211\n",
            "24212\n",
            "24213\n",
            "24214\n",
            "24215\n",
            "24216\n",
            "24217\n",
            "24218\n",
            "24219\n",
            "24220\n",
            "24221\n",
            "24222\n",
            "24223\n",
            "24224\n",
            "24225\n",
            "24226\n",
            "24227\n",
            "24228\n",
            "24229\n",
            "24230\n",
            "24231\n",
            "24232\n",
            "24233\n",
            "24234\n",
            "24235\n",
            "24236\n",
            "24237\n",
            "24238\n",
            "24239\n",
            "24240\n",
            "24241\n",
            "24242\n",
            "24243\n",
            "24244\n",
            "24245\n",
            "24246\n",
            "24247\n",
            "24248\n",
            "24249\n",
            "24250\n",
            "24251\n",
            "24252\n",
            "24253\n",
            "24254\n",
            "24255\n",
            "24256\n",
            "24257\n",
            "24258\n",
            "24259\n",
            "24260\n",
            "24261\n",
            "24262\n",
            "24263\n",
            "24264\n",
            "24265\n",
            "24266\n",
            "24267\n",
            "24268\n",
            "24269\n",
            "24270\n",
            "24271\n",
            "24272\n",
            "24273\n",
            "24274\n",
            "24275\n",
            "24276\n",
            "24277\n",
            "24278\n",
            "24279\n",
            "24280\n",
            "24281\n",
            "24282\n",
            "24283\n",
            "24284\n",
            "24285\n",
            "24286\n",
            "24287\n",
            "24288\n",
            "24289\n",
            "24290\n",
            "24291\n",
            "24292\n",
            "24293\n",
            "24294\n",
            "24295\n",
            "24296\n",
            "24297\n",
            "24298\n",
            "24299\n",
            "24300\n",
            "24301\n",
            "24302\n",
            "24303\n",
            "24304\n",
            "24305\n",
            "24306\n",
            "24307\n",
            "24308\n",
            "24309\n",
            "24310\n",
            "24311\n",
            "24312\n",
            "24313\n",
            "24314\n",
            "24315\n",
            "24316\n",
            "24317\n",
            "24318\n",
            "24319\n",
            "24320\n",
            "24321\n",
            "24322\n",
            "24323\n",
            "24324\n",
            "24325\n",
            "24326\n",
            "24327\n",
            "24328\n",
            "24329\n",
            "24330\n",
            "24331\n",
            "24332\n",
            "24333\n",
            "24334\n",
            "24335\n",
            "24336\n",
            "24337\n",
            "24338\n",
            "24339\n",
            "24340\n",
            "24341\n",
            "24342\n",
            "24343\n",
            "24344\n",
            "24345\n",
            "24346\n",
            "24347\n",
            "24348\n",
            "24349\n",
            "24350\n",
            "24351\n",
            "24352\n",
            "24353\n",
            "24354\n",
            "24355\n",
            "24356\n",
            "24357\n",
            "24358\n",
            "24359\n",
            "24360\n",
            "24361\n",
            "24362\n",
            "24363\n",
            "24364\n",
            "24365\n",
            "24366\n",
            "24367\n",
            "24368\n",
            "24369\n",
            "24370\n",
            "24371\n",
            "24372\n",
            "24373\n",
            "24374\n",
            "24375\n",
            "24376\n",
            "24377\n",
            "24378\n",
            "24379\n",
            "24380\n",
            "24381\n",
            "24382\n",
            "24383\n",
            "24384\n",
            "24385\n",
            "24386\n",
            "24387\n",
            "24388\n",
            "24389\n",
            "24390\n",
            "24391\n",
            "24392\n",
            "24393\n",
            "24394\n",
            "24395\n",
            "24396\n",
            "24397\n",
            "24398\n",
            "24399\n",
            "24400\n",
            "24401\n",
            "24402\n",
            "24403\n",
            "24404\n",
            "24405\n",
            "24406\n",
            "24407\n",
            "24408\n",
            "24409\n",
            "24410\n",
            "24411\n",
            "24412\n",
            "24413\n",
            "24414\n",
            "24415\n",
            "24416\n",
            "24417\n",
            "24418\n",
            "24419\n",
            "24420\n",
            "24421\n",
            "24422\n",
            "24423\n",
            "24424\n",
            "24425\n",
            "24426\n",
            "24427\n",
            "24428\n",
            "24429\n",
            "24430\n",
            "24431\n",
            "24432\n",
            "24433\n",
            "24434\n",
            "24435\n",
            "24436\n",
            "24437\n",
            "24438\n",
            "24439\n",
            "24440\n",
            "24441\n",
            "24442\n",
            "24443\n",
            "24444\n",
            "24445\n",
            "24446\n",
            "24447\n",
            "24448\n",
            "24449\n",
            "24450\n",
            "24451\n",
            "24452\n",
            "24453\n",
            "24454\n",
            "24455\n",
            "24456\n",
            "24457\n",
            "24458\n",
            "24459\n",
            "24460\n",
            "24461\n",
            "24462\n",
            "24463\n",
            "24464\n",
            "24465\n",
            "24466\n",
            "24467\n",
            "24468\n",
            "24469\n",
            "24470\n",
            "24471\n",
            "24472\n",
            "24473\n",
            "24474\n",
            "24475\n",
            "24476\n",
            "24477\n",
            "24478\n",
            "24479\n",
            "24480\n",
            "24481\n",
            "24482\n",
            "24483\n",
            "24484\n",
            "24485\n",
            "24486\n",
            "24487\n",
            "24488\n",
            "24489\n",
            "24490\n",
            "24491\n",
            "24492\n",
            "24493\n",
            "24494\n",
            "24495\n",
            "24496\n",
            "24497\n",
            "24498\n",
            "24499\n",
            "24500\n",
            "24501\n",
            "24502\n",
            "24503\n",
            "24504\n",
            "24505\n",
            "24506\n",
            "24507\n",
            "24508\n",
            "24509\n",
            "24510\n",
            "24511\n",
            "24512\n",
            "24513\n",
            "24514\n",
            "24515\n",
            "24516\n",
            "24517\n",
            "24518\n",
            "24519\n",
            "24520\n",
            "24521\n",
            "24522\n",
            "24523\n",
            "24524\n",
            "24525\n",
            "24526\n",
            "24527\n",
            "24528\n",
            "24529\n",
            "24530\n",
            "24531\n",
            "24532\n",
            "24533\n",
            "24534\n",
            "24535\n",
            "24536\n",
            "24537\n",
            "24538\n",
            "24539\n",
            "24540\n",
            "24541\n",
            "24542\n",
            "24543\n",
            "24544\n",
            "24545\n",
            "24546\n",
            "24547\n",
            "24548\n",
            "24549\n",
            "24550\n",
            "24551\n",
            "24552\n",
            "24553\n",
            "24554\n",
            "24555\n",
            "24556\n",
            "24557\n",
            "24558\n",
            "24559\n",
            "24560\n",
            "24561\n",
            "24562\n",
            "24563\n",
            "24564\n",
            "24565\n",
            "24566\n",
            "24567\n",
            "24568\n",
            "24569\n",
            "24570\n",
            "24571\n",
            "24572\n",
            "24573\n",
            "24574\n",
            "24575\n",
            "24576\n",
            "24577\n",
            "24578\n",
            "24579\n",
            "24580\n",
            "24581\n",
            "24582\n",
            "24583\n",
            "24584\n",
            "24585\n",
            "24586\n",
            "24587\n",
            "24588\n",
            "24589\n",
            "24590\n",
            "24591\n",
            "24592\n",
            "24593\n",
            "24594\n",
            "24595\n",
            "24596\n",
            "24597\n",
            "24598\n",
            "24599\n",
            "24600\n",
            "24601\n",
            "24602\n",
            "24603\n",
            "24604\n",
            "24605\n",
            "24606\n",
            "24607\n",
            "24608\n",
            "24609\n",
            "24610\n",
            "24611\n",
            "24612\n",
            "24613\n",
            "24614\n",
            "24615\n",
            "24616\n",
            "24617\n",
            "24618\n",
            "24619\n",
            "24620\n",
            "24621\n",
            "24622\n",
            "24623\n",
            "24624\n",
            "24625\n",
            "24626\n",
            "24627\n",
            "24628\n",
            "24629\n",
            "24630\n",
            "24631\n",
            "24632\n",
            "24633\n",
            "24634\n",
            "24635\n",
            "24636\n",
            "24637\n",
            "24638\n",
            "24639\n",
            "24640\n",
            "24641\n",
            "24642\n",
            "24643\n",
            "24644\n",
            "24645\n",
            "24646\n",
            "24647\n",
            "24648\n",
            "24649\n",
            "24650\n",
            "24651\n",
            "24652\n",
            "24653\n",
            "24654\n",
            "24655\n",
            "24656\n",
            "24657\n",
            "24658\n",
            "24659\n",
            "24660\n",
            "24661\n",
            "24662\n",
            "24663\n",
            "24664\n",
            "24665\n",
            "24666\n",
            "24667\n",
            "24668\n",
            "24669\n",
            "24670\n",
            "24671\n",
            "24672\n",
            "24673\n",
            "24674\n",
            "24675\n",
            "24676\n",
            "24677\n",
            "24678\n",
            "24679\n",
            "24680\n",
            "24681\n",
            "24682\n",
            "24683\n",
            "24684\n",
            "24685\n",
            "24686\n",
            "24687\n",
            "24688\n",
            "24689\n",
            "24690\n",
            "24691\n",
            "24692\n",
            "24693\n",
            "24694\n",
            "24695\n",
            "24696\n",
            "24697\n",
            "24698\n",
            "24699\n",
            "24700\n",
            "24701\n",
            "24702\n",
            "24703\n",
            "24704\n",
            "24705\n",
            "24706\n",
            "24707\n",
            "24708\n",
            "24709\n",
            "24710\n",
            "24711\n",
            "24712\n",
            "24713\n",
            "24714\n",
            "24715\n",
            "24716\n",
            "24717\n",
            "24718\n",
            "24719\n",
            "24720\n",
            "24721\n",
            "24722\n",
            "24723\n",
            "24724\n",
            "24725\n",
            "24726\n",
            "24727\n",
            "24728\n",
            "24729\n",
            "24730\n",
            "24731\n",
            "24732\n",
            "24733\n",
            "24734\n",
            "24735\n",
            "24736\n",
            "24737\n",
            "24738\n",
            "24739\n",
            "24740\n",
            "24741\n",
            "24742\n",
            "24743\n",
            "24744\n",
            "24745\n",
            "24746\n",
            "24747\n",
            "24748\n",
            "24749\n",
            "24750\n",
            "24751\n",
            "24752\n",
            "24753\n",
            "24754\n",
            "24755\n",
            "24756\n",
            "24757\n",
            "24758\n",
            "24759\n",
            "24760\n",
            "24761\n",
            "24762\n",
            "24763\n",
            "24764\n",
            "24765\n",
            "24766\n",
            "24767\n",
            "24768\n",
            "24769\n",
            "24770\n",
            "24771\n",
            "24772\n",
            "24773\n",
            "24774\n",
            "24775\n",
            "24776\n",
            "24777\n",
            "24778\n",
            "24779\n",
            "24780\n",
            "24781\n",
            "24782\n",
            "24783\n",
            "24784\n",
            "24785\n",
            "24786\n",
            "24787\n",
            "24788\n",
            "24789\n",
            "24790\n",
            "24791\n",
            "24792\n",
            "24793\n",
            "24794\n",
            "24795\n",
            "24796\n",
            "24797\n",
            "24798\n",
            "24799\n",
            "24800\n",
            "24801\n",
            "24802\n",
            "24803\n",
            "24804\n",
            "24805\n",
            "24806\n",
            "24807\n",
            "24808\n",
            "24809\n",
            "24810\n",
            "24811\n",
            "24812\n",
            "24813\n",
            "24814\n",
            "24815\n",
            "24816\n",
            "24817\n",
            "24818\n",
            "24819\n",
            "24820\n",
            "24821\n",
            "24822\n",
            "24823\n",
            "24824\n",
            "24825\n",
            "24826\n",
            "24827\n",
            "24828\n",
            "24829\n",
            "24830\n",
            "24831\n",
            "24832\n",
            "24833\n",
            "24834\n",
            "24835\n",
            "24836\n",
            "24837\n",
            "24838\n",
            "24839\n",
            "24840\n",
            "24841\n",
            "24842\n",
            "24843\n",
            "24844\n",
            "24845\n",
            "24846\n",
            "24847\n",
            "24848\n",
            "24849\n",
            "24850\n",
            "24851\n",
            "24852\n",
            "24853\n",
            "24854\n",
            "24855\n",
            "24856\n",
            "24857\n",
            "24858\n",
            "24859\n",
            "24860\n",
            "24861\n",
            "24862\n",
            "24863\n",
            "24864\n",
            "24865\n",
            "24866\n",
            "24867\n",
            "24868\n",
            "24869\n",
            "24870\n",
            "24871\n",
            "24872\n",
            "24873\n",
            "24874\n",
            "24875\n",
            "24876\n",
            "24877\n",
            "24878\n",
            "24879\n",
            "24880\n",
            "24881\n",
            "24882\n",
            "24883\n",
            "24884\n",
            "24885\n",
            "24886\n",
            "24887\n",
            "24888\n",
            "24889\n",
            "24890\n",
            "24891\n",
            "24892\n",
            "24893\n",
            "24894\n",
            "24895\n",
            "24896\n",
            "24897\n",
            "24898\n",
            "24899\n",
            "24900\n",
            "24901\n",
            "24902\n",
            "24903\n",
            "24904\n",
            "24905\n",
            "24906\n",
            "24907\n",
            "24908\n",
            "24909\n",
            "24910\n",
            "24911\n",
            "24912\n",
            "24913\n",
            "24914\n",
            "24915\n",
            "24916\n",
            "24917\n",
            "24918\n",
            "24919\n",
            "24920\n",
            "24921\n",
            "24922\n",
            "24923\n",
            "24924\n",
            "24925\n",
            "24926\n",
            "24927\n",
            "24928\n",
            "24929\n",
            "24930\n",
            "24931\n",
            "24932\n",
            "24933\n",
            "24934\n",
            "24935\n",
            "24936\n",
            "24937\n",
            "24938\n",
            "24939\n",
            "24940\n",
            "24941\n",
            "24942\n",
            "24943\n",
            "24944\n",
            "24945\n",
            "24946\n",
            "24947\n",
            "24948\n",
            "24949\n",
            "24950\n",
            "24951\n",
            "24952\n",
            "24953\n",
            "24954\n",
            "24955\n",
            "24956\n",
            "24957\n",
            "24958\n",
            "24959\n",
            "24960\n",
            "24961\n",
            "24962\n",
            "24963\n",
            "24964\n",
            "24965\n",
            "24966\n",
            "24967\n",
            "24968\n",
            "24969\n",
            "24970\n",
            "24971\n",
            "24972\n",
            "24973\n",
            "24974\n",
            "24975\n",
            "24976\n",
            "24977\n",
            "24978\n",
            "24979\n",
            "24980\n",
            "24981\n",
            "24982\n",
            "24983\n",
            "24984\n",
            "24985\n",
            "24986\n",
            "24987\n",
            "24988\n",
            "24989\n",
            "24990\n",
            "24991\n",
            "24992\n",
            "24993\n",
            "24994\n",
            "24995\n",
            "24996\n",
            "24997\n",
            "24998\n",
            "24999\n",
            "25000\n",
            "25001\n",
            "25002\n",
            "25003\n",
            "25004\n",
            "25005\n",
            "25006\n",
            "25007\n",
            "25008\n",
            "25009\n",
            "25010\n",
            "25011\n",
            "25012\n",
            "25013\n",
            "25014\n",
            "25015\n",
            "25016\n",
            "25017\n",
            "25018\n",
            "25019\n",
            "25020\n",
            "25021\n",
            "25022\n",
            "25023\n",
            "25024\n",
            "25025\n",
            "25026\n",
            "25027\n",
            "25028\n",
            "25029\n",
            "25030\n",
            "25031\n",
            "25032\n",
            "25033\n",
            "25034\n",
            "25035\n",
            "25036\n",
            "25037\n",
            "25038\n",
            "25039\n",
            "25040\n",
            "25041\n",
            "25042\n",
            "25043\n",
            "25044\n",
            "25045\n",
            "25046\n",
            "25047\n",
            "25048\n",
            "25049\n",
            "25050\n",
            "25051\n",
            "25052\n",
            "25053\n",
            "25054\n",
            "25055\n",
            "25056\n",
            "25057\n",
            "25058\n",
            "25059\n",
            "25060\n",
            "25061\n",
            "25062\n",
            "25063\n",
            "25064\n",
            "25065\n",
            "25066\n",
            "25067\n",
            "25068\n",
            "25069\n",
            "25070\n",
            "25071\n",
            "25072\n",
            "25073\n",
            "25074\n",
            "25075\n",
            "25076\n",
            "25077\n",
            "25078\n",
            "25079\n",
            "25080\n",
            "25081\n",
            "25082\n",
            "25083\n",
            "25084\n",
            "25085\n",
            "25086\n",
            "25087\n",
            "25088\n",
            "25089\n",
            "25090\n",
            "25091\n",
            "25092\n",
            "25093\n",
            "25094\n",
            "25095\n",
            "25096\n",
            "25097\n",
            "25098\n",
            "25099\n",
            "25100\n",
            "25101\n",
            "25102\n",
            "25103\n",
            "25104\n",
            "25105\n",
            "25106\n",
            "25107\n",
            "25108\n",
            "25109\n",
            "25110\n",
            "25111\n",
            "25112\n",
            "25113\n",
            "25114\n",
            "25115\n",
            "25116\n",
            "25117\n",
            "25118\n",
            "25119\n",
            "25120\n",
            "25121\n",
            "25122\n",
            "25123\n",
            "25124\n",
            "25125\n",
            "25126\n",
            "25127\n",
            "25128\n",
            "25129\n",
            "25130\n",
            "25131\n",
            "25132\n",
            "25133\n",
            "25134\n",
            "25135\n",
            "25136\n",
            "25137\n",
            "25138\n",
            "25139\n",
            "25140\n",
            "25141\n",
            "25142\n",
            "25143\n",
            "25144\n",
            "25145\n",
            "25146\n",
            "25147\n",
            "25148\n",
            "25149\n",
            "25150\n",
            "25151\n",
            "25152\n",
            "25153\n",
            "25154\n",
            "25155\n",
            "25156\n",
            "25157\n",
            "25158\n",
            "25159\n",
            "25160\n",
            "25161\n",
            "25162\n",
            "25163\n",
            "25164\n",
            "25165\n",
            "25166\n",
            "25167\n",
            "25168\n",
            "25169\n",
            "25170\n",
            "25171\n",
            "25172\n",
            "25173\n",
            "25174\n",
            "25175\n",
            "25176\n",
            "25177\n",
            "25178\n",
            "25179\n",
            "25180\n",
            "25181\n",
            "25182\n",
            "25183\n",
            "25184\n",
            "25185\n",
            "25186\n",
            "25187\n",
            "25188\n",
            "25189\n",
            "25190\n",
            "25191\n",
            "25192\n",
            "25193\n",
            "25194\n",
            "25195\n",
            "25196\n",
            "25197\n",
            "25198\n",
            "25199\n",
            "25200\n",
            "25201\n",
            "25202\n",
            "25203\n",
            "25204\n",
            "25205\n",
            "25206\n",
            "25207\n",
            "25208\n",
            "25209\n",
            "25210\n",
            "25211\n",
            "25212\n",
            "25213\n",
            "25214"
          ]
        },
        {
          "output_type": "error",
          "ename": "KeyboardInterrupt",
          "evalue": "ignored",
          "traceback": [
            "\u001b[0;31m---------------------------------------------------------------------------\u001b[0m",
            "\u001b[0;31mKeyboardInterrupt\u001b[0m                         Traceback (most recent call last)",
            "\u001b[0;32m<ipython-input-96-1464556a5cb6>\u001b[0m in \u001b[0;36m<cell line: 1>\u001b[0;34m()\u001b[0m\n\u001b[1;32m      1\u001b[0m \u001b[0;32mwhile\u001b[0m \u001b[0;32mTrue\u001b[0m\u001b[0;34m:\u001b[0m\u001b[0;34m\u001b[0m\u001b[0;34m\u001b[0m\u001b[0m\n\u001b[0;32m----> 2\u001b[0;31m   \u001b[0mprint\u001b[0m\u001b[0;34m(\u001b[0m\u001b[0mParar\u001b[0m\u001b[0;34m)\u001b[0m\u001b[0;34m\u001b[0m\u001b[0;34m\u001b[0m\u001b[0m\n\u001b[0m\u001b[1;32m      3\u001b[0m   \u001b[0mParar\u001b[0m\u001b[0;34m+=\u001b[0m\u001b[0;36m1\u001b[0m\u001b[0;34m\u001b[0m\u001b[0;34m\u001b[0m\u001b[0m\n",
            "\u001b[0;32m/usr/local/lib/python3.10/dist-packages/ipykernel/iostream.py\u001b[0m in \u001b[0;36mwrite\u001b[0;34m(self, string)\u001b[0m\n\u001b[1;32m    400\u001b[0m             \u001b[0mis_child\u001b[0m \u001b[0;34m=\u001b[0m \u001b[0;34m(\u001b[0m\u001b[0;32mnot\u001b[0m \u001b[0mself\u001b[0m\u001b[0;34m.\u001b[0m\u001b[0m_is_master_process\u001b[0m\u001b[0;34m(\u001b[0m\u001b[0;34m)\u001b[0m\u001b[0;34m)\u001b[0m\u001b[0;34m\u001b[0m\u001b[0;34m\u001b[0m\u001b[0m\n\u001b[1;32m    401\u001b[0m             \u001b[0;31m# only touch the buffer in the IO thread to avoid races\u001b[0m\u001b[0;34m\u001b[0m\u001b[0;34m\u001b[0m\u001b[0m\n\u001b[0;32m--> 402\u001b[0;31m             \u001b[0mself\u001b[0m\u001b[0;34m.\u001b[0m\u001b[0mpub_thread\u001b[0m\u001b[0;34m.\u001b[0m\u001b[0mschedule\u001b[0m\u001b[0;34m(\u001b[0m\u001b[0;32mlambda\u001b[0m \u001b[0;34m:\u001b[0m \u001b[0mself\u001b[0m\u001b[0;34m.\u001b[0m\u001b[0m_buffer\u001b[0m\u001b[0;34m.\u001b[0m\u001b[0mwrite\u001b[0m\u001b[0;34m(\u001b[0m\u001b[0mstring\u001b[0m\u001b[0;34m)\u001b[0m\u001b[0;34m)\u001b[0m\u001b[0;34m\u001b[0m\u001b[0;34m\u001b[0m\u001b[0m\n\u001b[0m\u001b[1;32m    403\u001b[0m             \u001b[0;32mif\u001b[0m \u001b[0mis_child\u001b[0m\u001b[0;34m:\u001b[0m\u001b[0;34m\u001b[0m\u001b[0;34m\u001b[0m\u001b[0m\n\u001b[1;32m    404\u001b[0m                 \u001b[0;31m# mp.Pool cannot be trusted to flush promptly (or ever),\u001b[0m\u001b[0;34m\u001b[0m\u001b[0;34m\u001b[0m\u001b[0m\n",
            "\u001b[0;32m/usr/local/lib/python3.10/dist-packages/ipykernel/iostream.py\u001b[0m in \u001b[0;36mschedule\u001b[0;34m(self, f)\u001b[0m\n\u001b[1;32m    201\u001b[0m             \u001b[0mself\u001b[0m\u001b[0;34m.\u001b[0m\u001b[0m_events\u001b[0m\u001b[0;34m.\u001b[0m\u001b[0mappend\u001b[0m\u001b[0;34m(\u001b[0m\u001b[0mf\u001b[0m\u001b[0;34m)\u001b[0m\u001b[0;34m\u001b[0m\u001b[0;34m\u001b[0m\u001b[0m\n\u001b[1;32m    202\u001b[0m             \u001b[0;31m# wake event thread (message content is ignored)\u001b[0m\u001b[0;34m\u001b[0m\u001b[0;34m\u001b[0m\u001b[0m\n\u001b[0;32m--> 203\u001b[0;31m             \u001b[0mself\u001b[0m\u001b[0;34m.\u001b[0m\u001b[0m_event_pipe\u001b[0m\u001b[0;34m.\u001b[0m\u001b[0msend\u001b[0m\u001b[0;34m(\u001b[0m\u001b[0;34mb''\u001b[0m\u001b[0;34m)\u001b[0m\u001b[0;34m\u001b[0m\u001b[0;34m\u001b[0m\u001b[0m\n\u001b[0m\u001b[1;32m    204\u001b[0m         \u001b[0;32melse\u001b[0m\u001b[0;34m:\u001b[0m\u001b[0;34m\u001b[0m\u001b[0;34m\u001b[0m\u001b[0m\n\u001b[1;32m    205\u001b[0m             \u001b[0mf\u001b[0m\u001b[0;34m(\u001b[0m\u001b[0;34m)\u001b[0m\u001b[0;34m\u001b[0m\u001b[0;34m\u001b[0m\u001b[0m\n",
            "\u001b[0;32m/usr/local/lib/python3.10/dist-packages/zmq/sugar/socket.py\u001b[0m in \u001b[0;36msend\u001b[0;34m(self, data, flags, copy, track, routing_id, group)\u001b[0m\n\u001b[1;32m    616\u001b[0m                 )\n\u001b[1;32m    617\u001b[0m             \u001b[0mdata\u001b[0m\u001b[0;34m.\u001b[0m\u001b[0mgroup\u001b[0m \u001b[0;34m=\u001b[0m \u001b[0mgroup\u001b[0m\u001b[0;34m\u001b[0m\u001b[0;34m\u001b[0m\u001b[0m\n\u001b[0;32m--> 618\u001b[0;31m         \u001b[0;32mreturn\u001b[0m \u001b[0msuper\u001b[0m\u001b[0;34m(\u001b[0m\u001b[0;34m)\u001b[0m\u001b[0;34m.\u001b[0m\u001b[0msend\u001b[0m\u001b[0;34m(\u001b[0m\u001b[0mdata\u001b[0m\u001b[0;34m,\u001b[0m \u001b[0mflags\u001b[0m\u001b[0;34m=\u001b[0m\u001b[0mflags\u001b[0m\u001b[0;34m,\u001b[0m \u001b[0mcopy\u001b[0m\u001b[0;34m=\u001b[0m\u001b[0mcopy\u001b[0m\u001b[0;34m,\u001b[0m \u001b[0mtrack\u001b[0m\u001b[0;34m=\u001b[0m\u001b[0mtrack\u001b[0m\u001b[0;34m)\u001b[0m\u001b[0;34m\u001b[0m\u001b[0;34m\u001b[0m\u001b[0m\n\u001b[0m\u001b[1;32m    619\u001b[0m \u001b[0;34m\u001b[0m\u001b[0m\n\u001b[1;32m    620\u001b[0m     def send_multipart(\n",
            "\u001b[0;32mzmq/backend/cython/socket.pyx\u001b[0m in \u001b[0;36mzmq.backend.cython.socket.Socket.send\u001b[0;34m()\u001b[0m\n",
            "\u001b[0;32mzmq/backend/cython/socket.pyx\u001b[0m in \u001b[0;36mzmq.backend.cython.socket.Socket.send\u001b[0;34m()\u001b[0m\n",
            "\u001b[0;32mzmq/backend/cython/socket.pyx\u001b[0m in \u001b[0;36mzmq.backend.cython.socket._send_copy\u001b[0;34m()\u001b[0m\n",
            "\u001b[0;32m/usr/local/lib/python3.10/dist-packages/zmq/backend/cython/checkrc.pxd\u001b[0m in \u001b[0;36mzmq.backend.cython.checkrc._check_rc\u001b[0;34m()\u001b[0m\n",
            "\u001b[0;31mKeyboardInterrupt\u001b[0m: "
          ]
        }
      ]
    },
    {
      "cell_type": "code",
      "source": [
        "Loop = 0\n",
        "\n",
        "while Loop <= 10:\n",
        "\n",
        "  print(Loop)\n",
        "\n",
        "  if Loop == 5:\n",
        "\n",
        "    for x in range(10):\n",
        "      print((x))\n",
        "\n",
        "\n",
        "  Loop+=1"
      ],
      "metadata": {
        "colab": {
          "base_uri": "https://localhost:8080/"
        },
        "id": "nb6Mku1202SY",
        "outputId": "175d83ca-4d90-4dcc-d5b0-a6457b0fb726"
      },
      "execution_count": null,
      "outputs": [
        {
          "output_type": "stream",
          "name": "stdout",
          "text": [
            "0\n",
            "1\n",
            "2\n",
            "3\n",
            "4\n",
            "5\n",
            "0\n",
            "1\n",
            "2\n",
            "3\n",
            "4\n",
            "5\n",
            "6\n",
            "7\n",
            "8\n",
            "9\n",
            "6\n",
            "7\n",
            "8\n",
            "9\n",
            "10\n"
          ]
        }
      ]
    },
    {
      "cell_type": "code",
      "source": [
        "#Joginho\n",
        "\n",
        "while True:\n",
        "  Eu =  random.randint(0,10)\n",
        "  contra_Voce = random.randint(0,10)\n",
        "\n",
        "  print('Eu tirei o valor: ',Eu)\n",
        "  print('Você tiraram o valor: ', contra_Voce)\n",
        "\n",
        "  if Eu > contra_Voce:\n",
        "    print('eu ganhei')\n",
        "    break\n",
        "  elif Eu == contra_Voce:\n",
        "    print('Empate!')\n",
        "  else:\n",
        "    print('Vocês ganharam!')\n",
        "\n",
        "  print('\\n')"
      ],
      "metadata": {
        "colab": {
          "base_uri": "https://localhost:8080/"
        },
        "id": "c2-JU57f5sUA",
        "outputId": "99dc5efc-f745-4d08-d219-940fbd93f6aa"
      },
      "execution_count": null,
      "outputs": [
        {
          "output_type": "stream",
          "name": "stdout",
          "text": [
            "Eu tirei o valor:  1\n",
            "Você tiraram o valor:  7\n",
            "Vocês ganharam!\n",
            "\n",
            "\n",
            "Eu tirei o valor:  2\n",
            "Você tiraram o valor:  2\n",
            "Empate!\n",
            "\n",
            "\n",
            "Eu tirei o valor:  10\n",
            "Você tiraram o valor:  2\n",
            "eu ganhei\n"
          ]
        }
      ]
    },
    {
      "cell_type": "code",
      "source": [],
      "metadata": {
        "id": "4qNEKtHS70lM"
      },
      "execution_count": null,
      "outputs": []
    },
    {
      "cell_type": "markdown",
      "source": [
        "25 - Estrutura de Quebra BREAK e CONTINUE: O uso de loops no Phyton automatiza e repete as tarefas de maneira eficiente. Mas, às vezes, pode surgir uma condição em que você deseje sair completamente do loop, pular uma iteração ou ignorar essa condição. Isso pode ser feito por instruções de controle de loop.As instruções de controle de loop alteram a execução de sua sequência normal. Quando a execução sai de um escopo, todos os objetos automáticos que foram criados nesse escopo são distribuídos. Phyton suporta as seguintes instruções de controle."
      ],
      "metadata": {
        "id": "clHWyRoGi-2q"
      }
    },
    {
      "cell_type": "markdown",
      "source": [],
      "metadata": {
        "id": "LpAGL_CFkuS4"
      }
    },
    {
      "cell_type": "code",
      "source": [
        "Lista = ['Morango', 'Pêra', 'Uva', 'Abacaxi']"
      ],
      "metadata": {
        "id": "s7RIK3W2kunF"
      },
      "execution_count": null,
      "outputs": []
    },
    {
      "cell_type": "code",
      "source": [
        "for Fruta in Lista:\n",
        "  print(Fruta)\n",
        "\n",
        "  if Fruta == 'Uva':\n",
        "    break"
      ],
      "metadata": {
        "colab": {
          "base_uri": "https://localhost:8080/"
        },
        "id": "GIsFVcuqkzvf",
        "outputId": "8811093e-f033-4a22-b2e6-039bd0e77d5f"
      },
      "execution_count": null,
      "outputs": [
        {
          "output_type": "stream",
          "name": "stdout",
          "text": [
            "Morango\n",
            "Pêra\n",
            "Uva\n"
          ]
        }
      ]
    },
    {
      "cell_type": "code",
      "source": [
        "for Loop in range(0,11):\n",
        "\n",
        "  if Loop == 5:\n",
        "    continue #ignora a instrução do if, pula a opção do 5, quando identificou uma infirmação e não quer trabalhar com ela\n",
        "    print('Filipe')\n",
        "  print(Loop)"
      ],
      "metadata": {
        "colab": {
          "base_uri": "https://localhost:8080/"
        },
        "id": "A0jV68y2k27-",
        "outputId": "d0cfc1d6-64f9-472a-baab-d915f670f808"
      },
      "execution_count": null,
      "outputs": [
        {
          "output_type": "stream",
          "name": "stdout",
          "text": [
            "0\n",
            "1\n",
            "2\n",
            "3\n",
            "4\n",
            "6\n",
            "7\n",
            "8\n",
            "9\n",
            "10\n"
          ]
        }
      ]
    },
    {
      "cell_type": "markdown",
      "source": [
        "26 - Estrutura de Funções: Uma função é um bloco de código que só é executado quando é chamado. Você pode passar dados, conhecidos como parâmetros, para uma função. Uma função pode retornar dados como resultado."
      ],
      "metadata": {
        "id": "xBJ4sE8ml7Rz"
      }
    },
    {
      "cell_type": "code",
      "source": [
        "def Boas_Vindas():\n",
        "  print('Phyton')"
      ],
      "metadata": {
        "id": "c_Ke883XlRZh"
      },
      "execution_count": null,
      "outputs": []
    },
    {
      "cell_type": "code",
      "source": [
        "Boas_Vindas()"
      ],
      "metadata": {
        "colab": {
          "base_uri": "https://localhost:8080/"
        },
        "id": "OKSYV4ynmaGZ",
        "outputId": "dbb8e0dc-a818-45b1-c9aa-989df33e2678"
      },
      "execution_count": null,
      "outputs": [
        {
          "output_type": "stream",
          "name": "stdout",
          "text": [
            "Phyton\n"
          ]
        }
      ]
    },
    {
      "cell_type": "code",
      "source": [
        "#Soma\n",
        "def Soma(Valor1, Valor2):\n",
        "  Soma = Valor1 + Valor2\n",
        "  print(Soma)"
      ],
      "metadata": {
        "id": "iveHYYOemddI"
      },
      "execution_count": null,
      "outputs": []
    },
    {
      "cell_type": "code",
      "source": [
        "Soma(1,1)#aqui passo os prâmetros para fazer a soma"
      ],
      "metadata": {
        "colab": {
          "base_uri": "https://localhost:8080/"
        },
        "id": "S5q9TfZYm5YL",
        "outputId": "94171201-eb7a-4069-8eb8-d452d846d719"
      },
      "execution_count": null,
      "outputs": [
        {
          "output_type": "stream",
          "name": "stdout",
          "text": [
            "2\n"
          ]
        }
      ]
    },
    {
      "cell_type": "code",
      "source": [
        "for Loop in range(0,10):\n",
        "  import random\n",
        "  x = random.random()\n",
        "  y = random.random()\n",
        "  Soma(x,y)"
      ],
      "metadata": {
        "colab": {
          "base_uri": "https://localhost:8080/"
        },
        "id": "-w30GDy5ngGB",
        "outputId": "4478d646-d5d6-410d-bd26-c22b025a8942"
      },
      "execution_count": null,
      "outputs": [
        {
          "output_type": "stream",
          "name": "stdout",
          "text": [
            "1.0568519006233257\n",
            "1.1281202298039879\n",
            "0.4517306495918604\n",
            "0.91530843076491\n",
            "1.5071905072309861\n",
            "0.005477890130577645\n",
            "1.6811307093562675\n",
            "1.1145159346372313\n",
            "0.899363576167247\n",
            "0.6046276567587217\n"
          ]
        }
      ]
    },
    {
      "cell_type": "code",
      "source": [
        "#Multiplicação\n",
        "def Mult(vr1,vr2):\n",
        "  Mult = vr1 * vr2\n",
        "  print(Mult)"
      ],
      "metadata": {
        "id": "OClHBTImnARM"
      },
      "execution_count": null,
      "outputs": []
    },
    {
      "cell_type": "code",
      "source": [
        "Mult(2,4)"
      ],
      "metadata": {
        "colab": {
          "base_uri": "https://localhost:8080/"
        },
        "id": "LXe5DJWDnTIv",
        "outputId": "e446ef8e-b95a-4f8a-b167-0774065c70bd"
      },
      "execution_count": null,
      "outputs": [
        {
          "output_type": "stream",
          "name": "stdout",
          "text": [
            "8\n"
          ]
        }
      ]
    },
    {
      "cell_type": "code",
      "source": [],
      "metadata": {
        "id": "Um1eGVLinUki"
      },
      "execution_count": null,
      "outputs": []
    },
    {
      "cell_type": "markdown",
      "source": [
        "27 - Estrutura LAMBDA: Uma função lambda é uma pequena função anônima, pode receber qualquer número de argumentos, mas pode pode ter apenas uma expressão."
      ],
      "metadata": {
        "id": "oAMtwVlDqLpj"
      }
    },
    {
      "cell_type": "code",
      "source": [
        "Funcao_Soma = lambda valor :  valor + 10"
      ],
      "metadata": {
        "id": "cwHpTcwMrOvL"
      },
      "execution_count": null,
      "outputs": []
    },
    {
      "cell_type": "code",
      "source": [
        "Funcao_Soma(10)"
      ],
      "metadata": {
        "colab": {
          "base_uri": "https://localhost:8080/"
        },
        "id": "Qvz3B6R6rXr5",
        "outputId": "4a779fd4-3b75-4ced-fb91-0dfad26fd0ac"
      },
      "execution_count": null,
      "outputs": [
        {
          "output_type": "execute_result",
          "data": {
            "text/plain": [
              "20"
            ]
          },
          "metadata": {},
          "execution_count": 23
        }
      ]
    },
    {
      "cell_type": "code",
      "source": [
        "funcao_soma_02 = lambda valor_1, valor_2 : valor_1 + valor_2"
      ],
      "metadata": {
        "id": "vSWFxE-5rZns"
      },
      "execution_count": null,
      "outputs": []
    },
    {
      "cell_type": "code",
      "source": [
        "funcao_soma_02(15,10)"
      ],
      "metadata": {
        "colab": {
          "base_uri": "https://localhost:8080/"
        },
        "id": "hcHvP7LrtwQL",
        "outputId": "4f8f8197-b5fc-4cc6-cd0e-f5440c25b71a"
      },
      "execution_count": null,
      "outputs": [
        {
          "output_type": "execute_result",
          "data": {
            "text/plain": [
              "25"
            ]
          },
          "metadata": {},
          "execution_count": 25
        }
      ]
    },
    {
      "cell_type": "code",
      "source": [
        "Exemplo = lambda Valor : 'Verdadeiro' if Valor % 2 == 0 else 'Falso'\n",
        "Exemplo(2)"
      ],
      "metadata": {
        "colab": {
          "base_uri": "https://localhost:8080/",
          "height": 36
        },
        "id": "46TWvqF4tz5W",
        "outputId": "5cf3662b-b597-4c77-cb8c-2f45432b32ea"
      },
      "execution_count": null,
      "outputs": [
        {
          "output_type": "execute_result",
          "data": {
            "text/plain": [
              "'Verdadeiro'"
            ],
            "application/vnd.google.colaboratory.intrinsic+json": {
              "type": "string"
            }
          },
          "metadata": {},
          "execution_count": 27
        }
      ]
    },
    {
      "cell_type": "code",
      "source": [
        "Exemplo(3)"
      ],
      "metadata": {
        "colab": {
          "base_uri": "https://localhost:8080/",
          "height": 36
        },
        "id": "vA_YHAmeuJ0P",
        "outputId": "604516d4-1ec7-43f4-bf99-d1a16263083d"
      },
      "execution_count": null,
      "outputs": [
        {
          "output_type": "execute_result",
          "data": {
            "text/plain": [
              "'Falso'"
            ],
            "application/vnd.google.colaboratory.intrinsic+json": {
              "type": "string"
            }
          },
          "metadata": {},
          "execution_count": 28
        }
      ]
    },
    {
      "cell_type": "code",
      "source": [
        "texto = lambda texto1 : 'Verdadeiro' if texto1 == 'Vida linda' else 'Falso'"
      ],
      "metadata": {
        "id": "wbZJ3FDeuo7J"
      },
      "execution_count": null,
      "outputs": []
    },
    {
      "cell_type": "code",
      "source": [
        "texto('Vida linda')"
      ],
      "metadata": {
        "colab": {
          "base_uri": "https://localhost:8080/",
          "height": 36
        },
        "id": "9xNI1FguvTQC",
        "outputId": "8e389d39-6095-4eac-e888-f7a5f1bc3cee"
      },
      "execution_count": null,
      "outputs": [
        {
          "output_type": "execute_result",
          "data": {
            "text/plain": [
              "'Verdadeiro'"
            ],
            "application/vnd.google.colaboratory.intrinsic+json": {
              "type": "string"
            }
          },
          "metadata": {},
          "execution_count": 38
        }
      ]
    },
    {
      "cell_type": "code",
      "source": [
        "texto('Filipe')"
      ],
      "metadata": {
        "colab": {
          "base_uri": "https://localhost:8080/",
          "height": 36
        },
        "id": "zeUq_XAbvY5E",
        "outputId": "c34d2bc9-5915-4467-a267-a958520545b2"
      },
      "execution_count": null,
      "outputs": [
        {
          "output_type": "execute_result",
          "data": {
            "text/plain": [
              "'Falso'"
            ],
            "application/vnd.google.colaboratory.intrinsic+json": {
              "type": "string"
            }
          },
          "metadata": {},
          "execution_count": 39
        }
      ]
    },
    {
      "cell_type": "code",
      "source": [
        "numero = lambda num1 : 'Verdadeiro' if num1/2 == 0 else 'Falso'"
      ],
      "metadata": {
        "id": "gorDfLHevcxj"
      },
      "execution_count": null,
      "outputs": []
    },
    {
      "cell_type": "code",
      "source": [
        "numero(2)"
      ],
      "metadata": {
        "colab": {
          "base_uri": "https://localhost:8080/",
          "height": 36
        },
        "id": "y3vtNfUuvmbN",
        "outputId": "3be9f257-7958-4b42-8dea-4da0571fa7c0"
      },
      "execution_count": null,
      "outputs": [
        {
          "output_type": "execute_result",
          "data": {
            "text/plain": [
              "'Falso'"
            ],
            "application/vnd.google.colaboratory.intrinsic+json": {
              "type": "string"
            }
          },
          "metadata": {},
          "execution_count": 41
        }
      ]
    },
    {
      "cell_type": "code",
      "source": [
        "numero(0)"
      ],
      "metadata": {
        "colab": {
          "base_uri": "https://localhost:8080/",
          "height": 36
        },
        "id": "ySmrIKl5vn0l",
        "outputId": "742d605e-e2de-4c9d-b494-eb8c0c5a8273"
      },
      "execution_count": null,
      "outputs": [
        {
          "output_type": "execute_result",
          "data": {
            "text/plain": [
              "'Verdadeiro'"
            ],
            "application/vnd.google.colaboratory.intrinsic+json": {
              "type": "string"
            }
          },
          "metadata": {},
          "execution_count": 42
        }
      ]
    },
    {
      "cell_type": "code",
      "source": [
        "nomes = lambda nome1 : 'Verdadeiro' if nome1 == 'Filipe' else 'Falso'"
      ],
      "metadata": {
        "id": "vHONd81wvpTM"
      },
      "execution_count": null,
      "outputs": []
    },
    {
      "cell_type": "code",
      "source": [
        "nomes('Lucas')"
      ],
      "metadata": {
        "colab": {
          "base_uri": "https://localhost:8080/",
          "height": 36
        },
        "id": "GSBXIs1kvw4-",
        "outputId": "a9ea80c7-b72a-46b0-9d97-17d083ab7ae0"
      },
      "execution_count": null,
      "outputs": [
        {
          "output_type": "execute_result",
          "data": {
            "text/plain": [
              "'Falso'"
            ],
            "application/vnd.google.colaboratory.intrinsic+json": {
              "type": "string"
            }
          },
          "metadata": {},
          "execution_count": 47
        }
      ]
    },
    {
      "cell_type": "code",
      "source": [
        "nomes('Filipe')"
      ],
      "metadata": {
        "colab": {
          "base_uri": "https://localhost:8080/",
          "height": 36
        },
        "id": "9UbJHLP4vzbZ",
        "outputId": "a50e8ef3-270a-45e2-e369-f20eff91b04b"
      },
      "execution_count": null,
      "outputs": [
        {
          "output_type": "execute_result",
          "data": {
            "text/plain": [
              "'Verdadeiro'"
            ],
            "application/vnd.google.colaboratory.intrinsic+json": {
              "type": "string"
            }
          },
          "metadata": {},
          "execution_count": 48
        }
      ]
    },
    {
      "cell_type": "code",
      "source": [],
      "metadata": {
        "id": "AUc82iaSv6SE"
      },
      "execution_count": null,
      "outputs": []
    },
    {
      "cell_type": "markdown",
      "source": [
        "28 - Estrutura TRY: Permite testar um bloco de códigos quanto a erros. o except permite que você lide com o erro. O else permite executar código quando não há erro. O finally permite que você execute o código , independentemente do resultado dos blocos TRY e EXCEPT."
      ],
      "metadata": {
        "id": "kpuv6PeywYz0"
      }
    },
    {
      "cell_type": "code",
      "source": [
        "try:\n",
        "  0/0\n",
        "\n",
        "except:\n",
        "  print('Não deu certo!!!')\n",
        "finally:\n",
        "  print('Vou ser executado da mesma forma!!!')"
      ],
      "metadata": {
        "colab": {
          "base_uri": "https://localhost:8080/"
        },
        "id": "g__kUxi2zdw2",
        "outputId": "68fb2e70-9265-43b4-9de8-3f87a442f58d"
      },
      "execution_count": null,
      "outputs": [
        {
          "output_type": "stream",
          "name": "stdout",
          "text": [
            "Não deu certo!!!\n",
            "Vou ser executado da mesma forma!!!\n"
          ]
        }
      ]
    },
    {
      "cell_type": "code",
      "source": [
        "try:\n",
        "  2/1\n",
        "  print('O código rodou!!!')\n",
        "\n",
        "except:\n",
        "  print('O código não rodou!!!')"
      ],
      "metadata": {
        "colab": {
          "base_uri": "https://localhost:8080/"
        },
        "id": "Ln89FUCyziYP",
        "outputId": "cc72c8d5-14ae-411a-9b43-8735b0d34408"
      },
      "execution_count": null,
      "outputs": [
        {
          "output_type": "stream",
          "name": "stdout",
          "text": [
            "O código rodou!!!\n"
          ]
        }
      ]
    },
    {
      "cell_type": "code",
      "source": [
        "variavel_x = 2\n",
        "try:\n",
        "  variavel_x\n",
        "  print('Váriavel encontrada:', x)\n",
        "except:\n",
        "  print('A variável não existe!!!')\n",
        "finally:\n",
        "  print('Vou ser executado da mesma forma!!!')"
      ],
      "metadata": {
        "colab": {
          "base_uri": "https://localhost:8080/"
        },
        "id": "7vqh7vI-zt5-",
        "outputId": "df0b3e0d-a7c7-4f83-fb83-f514779e0c64"
      },
      "execution_count": null,
      "outputs": [
        {
          "output_type": "stream",
          "name": "stdout",
          "text": [
            "Váriavel encontrada: 0.4711245103589864\n",
            "Vou ser executado da mesma forma!!!\n"
          ]
        }
      ]
    },
    {
      "cell_type": "markdown",
      "source": [
        "29 - Estrutura de Classes/Objetos: Phyton é uma linguagem de programação orientada aa objeto . Quase tudo em Phyton é um objeto, com suas propriedades e métodos. Uma classe é como um construtor de objetos, ou um \"projeto\" para criar objetos."
      ],
      "metadata": {
        "id": "Ldp8n-XR2fkQ"
      }
    },
    {
      "cell_type": "code",
      "source": [
        "class Pessoa:\n",
        "\n",
        "  #método construtor\n",
        "  def __init__(self, Nome, Idade):\n",
        "    self.Nome = Nome\n",
        "    self.Idade = Idade\n",
        "\n",
        "  def Boas_Vindas(self):\n",
        "    print('Olá, sejam bem vindos', self.Nome)\n",
        "\n",
        "  def Recusado(self):\n",
        "    print('Seu acesso foi recusado')\n",
        "\n",
        "\n",
        "  # Função\n",
        "  def Maior_Idade_(self):\n",
        "\n",
        "    if self.Idade >= 18:\n",
        "      print('Usuário é maior de idade')\n",
        "    else:\n",
        "      print('Usuário é menor de idade')\n",
        "      self.Recusado()\n",
        "\n"
      ],
      "metadata": {
        "id": "9c0Q3sSrz6lL"
      },
      "execution_count": null,
      "outputs": []
    },
    {
      "cell_type": "code",
      "source": [
        "Dados = Pessoa('Filipe', 30)"
      ],
      "metadata": {
        "id": "JIIbXXGB5ttr"
      },
      "execution_count": null,
      "outputs": []
    },
    {
      "cell_type": "markdown",
      "source": [
        "Exemplo de classes:\n",
        "1- Faça um programa em Phyton que leia o nome e 3 notas de um aluno, calcule e mostre sua média. Mostre no final se o aluno foi aprovado ou reprovado. Crie uma classe aluno e os métodos para cadastrar as notas, calcular a média e mostrar o resultado."
      ],
      "metadata": {
        "id": "H6ZIOkZtO047"
      }
    },
    {
      "cell_type": "code",
      "source": [
        "class Aluno:\n",
        "  def __int__(self):#cria a classe Aluno e seus atributos(campos)\n",
        "    self.nome = str\n",
        "    self.nota1 = float\n",
        "    self.nota2 = float\n",
        "    self.nota3 = float\n",
        "\n",
        "  def ler_dados(self):#lendo os dados detro da classe\n",
        "    self.nome = input('Nome: ')\n",
        "    self.nota1 = float(input('Nota1: '))\n",
        "    self.nota2 = float(input('Nota2: '))\n",
        "    self.nota3 = float(input('Nota3: '))\n",
        "\n",
        "  def calcular_media(self):\n",
        "    media = (self.nota1 + self.nota2 + self.nota3)/3\n",
        "    return media\n",
        "\n",
        "  def resultado(self):\n",
        "    media = self.calcular_media()\n",
        "    print(f'A média do(a) aluno(a) {self.nome} é {media:.1f}')\n",
        "    if media >=6:\n",
        "      print('Situação: APROVADO(A)')\n",
        "    else:\n",
        "      print('Situação: REPROVADO(A)')\n"
      ],
      "metadata": {
        "id": "VIFn6ACaRYzY"
      },
      "execution_count": null,
      "outputs": []
    },
    {
      "cell_type": "code",
      "source": [
        "Aluno()\n"
      ],
      "metadata": {
        "colab": {
          "base_uri": "https://localhost:8080/"
        },
        "id": "4Wi1osEs5-Da",
        "outputId": "f2b359ad-817b-49a3-92db-2cc0a6d29040"
      },
      "execution_count": null,
      "outputs": [
        {
          "output_type": "execute_result",
          "data": {
            "text/plain": [
              "<__main__.Aluno at 0x7c3781a82110>"
            ]
          },
          "metadata": {},
          "execution_count": 13
        }
      ]
    },
    {
      "cell_type": "markdown",
      "source": [],
      "metadata": {
        "id": "CGDF1G-3gY83"
      }
    },
    {
      "cell_type": "markdown",
      "source": [],
      "metadata": {
        "id": "4cklLrbngaBW"
      }
    },
    {
      "cell_type": "code",
      "source": [
        "#ARQUIVO COM O PROGRAMA PRINCIPAL(MAIN)\n",
        "aluno = Aluno() #cria o objeto aluno do tipo Aluno()\n",
        "aluno.ler_dados()#chama o método ler_dados\n",
        "aluno.calcular_media()\n",
        "aluno.resultado()"
      ],
      "metadata": {
        "id": "dv4JuJiU8rvP",
        "colab": {
          "base_uri": "https://localhost:8080/"
        },
        "outputId": "964677ee-07d5-40be-db87-b0689b262b82"
      },
      "execution_count": null,
      "outputs": [
        {
          "output_type": "stream",
          "name": "stdout",
          "text": [
            "Nome: Filipe\n",
            "Nota1: 3\n",
            "Nota2: 6\n",
            "Nota3: 9\n",
            "A média do(a) aluno(a) Filipe é 6.0)\n",
            "Situação: APROVADO(A)\n"
          ]
        }
      ]
    },
    {
      "cell_type": "code",
      "source": [],
      "metadata": {
        "id": "rIQkuLQufrYL"
      },
      "execution_count": null,
      "outputs": []
    },
    {
      "cell_type": "markdown",
      "source": [
        "2- Crie uma classe chamada Pessoa com os atributos: código, nome, idade,cargo e salário. Crie métodos para cadastrar uma pessoa, calcular um bônus sobre o salário e mostrar os dados no final. O bônus será calculado da seguinte forma: se o salário for maior ou igual a 5000, será de 5%, senão, será de 10%."
      ],
      "metadata": {
        "id": "UZWCQ1G8ga3A"
      }
    },
    {
      "cell_type": "markdown",
      "source": [],
      "metadata": {
        "id": "Pgl3_FXLKpE9"
      }
    },
    {
      "cell_type": "code",
      "source": [
        "pip install pandas"
      ],
      "metadata": {
        "colab": {
          "base_uri": "https://localhost:8080/"
        },
        "id": "w7IZux1WKq_C",
        "outputId": "6990f1b1-44f5-4c80-eafe-e4bf9baee332"
      },
      "execution_count": null,
      "outputs": [
        {
          "output_type": "stream",
          "name": "stdout",
          "text": [
            "Requirement already satisfied: pandas in /usr/local/lib/python3.10/dist-packages (1.5.3)\n",
            "Requirement already satisfied: python-dateutil>=2.8.1 in /usr/local/lib/python3.10/dist-packages (from pandas) (2.8.2)\n",
            "Requirement already satisfied: pytz>=2020.1 in /usr/local/lib/python3.10/dist-packages (from pandas) (2023.3)\n",
            "Requirement already satisfied: numpy>=1.21.0 in /usr/local/lib/python3.10/dist-packages (from pandas) (1.23.5)\n",
            "Requirement already satisfied: six>=1.5 in /usr/local/lib/python3.10/dist-packages (from python-dateutil>=2.8.1->pandas) (1.16.0)\n"
          ]
        }
      ]
    },
    {
      "cell_type": "code",
      "source": [],
      "metadata": {
        "id": "frf37WZgKs6Y"
      },
      "execution_count": null,
      "outputs": []
    },
    {
      "cell_type": "markdown",
      "source": [
        "**31 - Prints formatado:**\n",
        "Existe diversas formas de utilizar prints no phyton"
      ],
      "metadata": {
        "id": "R1BzWDMAK-Lf"
      }
    },
    {
      "cell_type": "code",
      "source": [
        "print( 'Soma de 2 + 2 é:', 2 + 2)"
      ],
      "metadata": {
        "colab": {
          "base_uri": "https://localhost:8080/"
        },
        "id": "1Njc8_WlLH30",
        "outputId": "175799ce-9001-4710-9800-8c131841ba9b"
      },
      "execution_count": null,
      "outputs": [
        {
          "output_type": "stream",
          "name": "stdout",
          "text": [
            "Soma de 2 + 2 é: 4\n"
          ]
        }
      ]
    },
    {
      "cell_type": "code",
      "source": [
        "print(f'A soma de 2 + 2 é:  ( 2 + 2 )')"
      ],
      "metadata": {
        "colab": {
          "base_uri": "https://localhost:8080/"
        },
        "id": "2tVNvdOhLOR_",
        "outputId": "c50e4617-b64e-462c-f911-adda21136bae"
      },
      "execution_count": null,
      "outputs": [
        {
          "output_type": "stream",
          "name": "stdout",
          "text": [
            "A soma de 2 + 2 é:  ( 2 + 2 )\n"
          ]
        }
      ]
    },
    {
      "cell_type": "code",
      "source": [
        "print('A soma de 2 + 2 é: {}', format(2+2))"
      ],
      "metadata": {
        "colab": {
          "base_uri": "https://localhost:8080/"
        },
        "id": "iDA7UYQcLY3b",
        "outputId": "6208e890-4108-475a-ea15-429c64da6811"
      },
      "execution_count": null,
      "outputs": [
        {
          "output_type": "stream",
          "name": "stdout",
          "text": [
            "A soma de 2 + 2 é: {} 4\n"
          ]
        }
      ]
    },
    {
      "cell_type": "code",
      "source": [],
      "metadata": {
        "id": "sRmztXk3LzON"
      },
      "execution_count": null,
      "outputs": []
    },
    {
      "cell_type": "markdown",
      "source": [
        "38 - Análisde de dados com Pandas:\n",
        "Pandas é a principal biblioteca do Phyton para poder analisar dados"
      ],
      "metadata": {
        "id": "rkj_0Uf6OVpx"
      }
    },
    {
      "cell_type": "markdown",
      "source": [
        "39 - Visualização de dados com Matplotlib"
      ],
      "metadata": {
        "id": "maT6ns_KOstd"
      }
    },
    {
      "cell_type": "code",
      "source": [
        "import numpy as np\n",
        "import pandas as pd\n",
        "import matplotlib.pyplot as plt"
      ],
      "metadata": {
        "id": "dSfEAkIoOzDk"
      },
      "execution_count": null,
      "outputs": []
    },
    {
      "cell_type": "markdown",
      "source": [
        "**GRÁFICOS DE LINHA:**"
      ],
      "metadata": {
        "id": "fAmAoP66aFYl"
      }
    },
    {
      "cell_type": "code",
      "source": [
        "np.random.seed(7)\n",
        "#vetor com números inteiros aleatórios entre1, 1500, com 10 amostras\n",
        "\n",
        "y = np.random.randint(low = 1, high = 1500, size = 10)"
      ],
      "metadata": {
        "id": "Vyb9y4lwO-BV"
      },
      "execution_count": null,
      "outputs": []
    },
    {
      "cell_type": "code",
      "source": [
        "y"
      ],
      "metadata": {
        "colab": {
          "base_uri": "https://localhost:8080/"
        },
        "id": "gUa5pRmiZu6Q",
        "outputId": "37db6c93-4a8d-49d0-f9ac-bbc3986007ea"
      },
      "execution_count": null,
      "outputs": [
        {
          "output_type": "execute_result",
          "data": {
            "text/plain": [
              "array([ 176, 1221,  538,  503,  212,  920, 1373, 1210, 1423,  536])"
            ]
          },
          "metadata": {},
          "execution_count": 4
        }
      ]
    },
    {
      "cell_type": "code",
      "source": [
        "plt.plot(y)"
      ],
      "metadata": {
        "colab": {
          "base_uri": "https://localhost:8080/",
          "height": 447
        },
        "id": "sffImW8XauUl",
        "outputId": "07d0f153-7c72-4f94-a945-8fc2cf88da7d"
      },
      "execution_count": null,
      "outputs": [
        {
          "output_type": "execute_result",
          "data": {
            "text/plain": [
              "[<matplotlib.lines.Line2D at 0x78f8ad740370>]"
            ]
          },
          "metadata": {},
          "execution_count": 5
        },
        {
          "output_type": "display_data",
          "data": {
            "text/plain": [
              "<Figure size 640x480 with 1 Axes>"
            ],
            "image/png": "[encoded data removed]"
          },
          "metadata": {}
        }
      ]
    },
    {
      "cell_type": "code",
      "source": [
        "#inserir a primeira linha no plot:\n",
        "\n",
        "plt.plot(y,color = '#749187', marker = '1', ms = 5, mec = 'k',\n",
        "         markerfacecolor = 'w', ls = '-.')\n",
        "\n",
        "#inserir segunda linha:\n",
        "\n",
        "plt.plot(y*2, marker = '+', color = 'k', ms = 5)\n",
        "\n",
        "#rótulos\n",
        "plt.xlabel('Eixo X', color = 'red', size = 12)\n",
        "plt.ylabel('Eixo Y')\n",
        "plt.title('Título', loc = 'left')\n",
        "\n",
        "#grindlines\n",
        "plt.grid(axis = 'y', color =  'gray', linestyle = '--', linewidth = 2,\n",
        "         alpha = 0.8)\n",
        "plt.show()\n"
      ],
      "metadata": {
        "colab": {
          "base_uri": "https://localhost:8080/",
          "height": 476
        },
        "id": "IQI3fNmXazRF",
        "outputId": "16cc6ada-6d93-4874-e1e9-549ec6f9d137"
      },
      "execution_count": null,
      "outputs": [
        {
          "output_type": "display_data",
          "data": {
            "text/plain": [
              "<Figure size 640x480 with 1 Axes>"
            ],
            "image/png": "[encoded data removed]"
          },
          "metadata": {}
        }
      ]
    },
    {
      "cell_type": "code",
      "source": [],
      "metadata": {
        "id": "VLElB-87byDx"
      },
      "execution_count": null,
      "outputs": []
    },
    {
      "cell_type": "code",
      "source": [
        "np.random.seed(6) #criação dos números para o gráfico\n",
        "x = np.arange(1, 11)\n",
        "y1 = np.random.randint(1, 400,10)\n",
        "y2 = np.random.randint(150, 500, 10)\n",
        "y3 = np.random.randint(200, 600, 10)\n",
        "\n",
        "plt.figure(figsize = (15,5)) #para acertar o tamanho da figura\n",
        "plt.suptitle('Figura', fontsize = 15) #título da figura\n",
        "\n",
        "plt.subplot(1, 3, 1) #subplot 1 com 1 linha e 3 colunas\n",
        "plt.plot(x, y1, color = 'k')\n",
        "plt.title('Subplot1', pad = 10)\n",
        "plt.xlabel('Eixo X')\n",
        "plt.ylabel('Eixo Y')\n",
        "\n",
        "plt.subplot(1, 3, 2)\n",
        "plt.plot(x, y2, color = 'r')\n",
        "plt.title('Subplot2', pad = 10)\n",
        "plt.xlabel('Eixo X')\n",
        "plt.ylabel('Eixo Y')\n",
        "\n",
        "plt.subplot(1, 3, 3)\n",
        "plt.plot(x, y3, color = 'g')\n",
        "plt.title('Subplot3', pad = 10)\n",
        "plt.xlabel('Eixo X')\n",
        "plt.ylabel('Eixo Y')\n",
        "\n",
        "plt.grid(axis = 'y', color =  'gray', linestyle = '--', linewidth = 2,\n",
        "         alpha = 0.8)\n",
        "plt.show()\n",
        "\n",
        "plt.tight_layout(pad = 4)#função pra aumenta ro espaçamento entre cada subplot\n",
        "plt.show()"
      ],
      "metadata": {
        "colab": {
          "base_uri": "https://localhost:8080/",
          "height": 532
        },
        "id": "SPaxqbAPhrp4",
        "outputId": "d864c3a1-a272-4e87-9a8f-8c1f0150aee1"
      },
      "execution_count": null,
      "outputs": [
        {
          "output_type": "display_data",
          "data": {
            "text/plain": [
              "<Figure size 1500x500 with 3 Axes>"
            ],
            "image/png": "[encoded data removed]"
          },
          "metadata": {}
        },
        {
          "output_type": "display_data",
          "data": {
            "text/plain": [
              "<Figure size 640x480 with 0 Axes>"
            ]
          },
          "metadata": {}
        }
      ]
    },
    {
      "cell_type": "code",
      "source": [],
      "metadata": {
        "id": "3yX-szJoiDtS"
      },
      "execution_count": null,
      "outputs": []
    },
    {
      "cell_type": "markdown",
      "source": [
        "**OUTRA FORMA DE CRIAR SUBPLOT:**"
      ],
      "metadata": {
        "id": "kXwVhedrpyWw"
      }
    },
    {
      "cell_type": "code",
      "source": [
        "fig, ax = plt.subplots(1, 3, figsize = (15, 5))\n",
        "fig.suptitle('Figure')\n",
        "ax[0].plot(x, y1, color = 'black')\n",
        "ax[1].plot(x, y2, color = 'red')\n",
        "ax[2].plot(x, y3, color = 'green')\n",
        "\n",
        "for i in range(3):\n",
        "  ax[i].set(title = f'Subplot {i+1}', xlabel = 'Eixo X', ylabel = 'Eixo Y')"
      ],
      "metadata": {
        "colab": {
          "base_uri": "https://localhost:8080/",
          "height": 515
        },
        "id": "zoZZKma4p12l",
        "outputId": "7cc9bb66-d0e8-4589-e1cb-dd94d484b6ac"
      },
      "execution_count": null,
      "outputs": [
        {
          "output_type": "display_data",
          "data": {
            "text/plain": [
              "<Figure size 1500x500 with 3 Axes>"
            ],
            "image/png": "[encoded data removed]"
          },
          "metadata": {}
        }
      ]
    },
    {
      "cell_type": "code",
      "source": [
        "x1 = 10\n",
        "x2 = 20\n",
        "x3 = 30\n",
        "y1 = 30\n",
        "y2 = 40\n",
        "y3 = 50\n",
        "\n",
        "plt.figure(figsize = (15, 5))\n",
        "plt.suptitle('Figura', fontsize = 15)\n",
        "\n",
        "plt.subplot(1, 3, 1)\n",
        "plt.plot(x1, y1, color = 'k')\n",
        "plt.title('Subplot1', pad = 10)\n",
        "plt.xlabel('Eixo X')\n",
        "plt.ylabel('Eixo Y')\n",
        "\n",
        "plt.subplot(1, 3, 2)\n",
        "plt.plot(x2, y2, color = 'r')\n",
        "plt.title('Subplot2', pad = 10)\n",
        "plt.xlabel('Eixo X')\n",
        "plt.ylabel('Eixo Y')\n",
        "\n",
        "plt.subplot(1, 3, 3)\n",
        "plt.plot(x3, y3, color = 'g')\n",
        "plt.title('Subplot3', pad = 10)\n",
        "plt.xlabel('Eixo X')\n",
        "plt.ylabel('Eixo Y')\n",
        "\n",
        "\n",
        "\n",
        "plt.tight_layout(pad = 4)#função pra aumenta ro espaçamento entre cada subplot\n",
        "plt.show()"
      ],
      "metadata": {
        "colab": {
          "base_uri": "https://localhost:8080/",
          "height": 471
        },
        "id": "1dCBSx0eqgSF",
        "outputId": "967043f8-d19d-446d-d979-6f2cad118ff0"
      },
      "execution_count": null,
      "outputs": [
        {
          "output_type": "display_data",
          "data": {
            "text/plain": [
              "<Figure size 1500x500 with 3 Axes>"
            ],
            "image/png": "[encoded data removed]"
          },
          "metadata": {}
        }
      ]
    },
    {
      "cell_type": "code",
      "source": [
        "data = np.random.normal(10, 0.5, 5000)\n",
        "plt.hist(data)\n",
        "plt.show()"
      ],
      "metadata": {
        "colab": {
          "base_uri": "https://localhost:8080/",
          "height": 430
        },
        "id": "_joAk8eDrMm8",
        "outputId": "7f9db284-6753-46d0-8acd-e6a2c5176a7a"
      },
      "execution_count": null,
      "outputs": [
        {
          "output_type": "display_data",
          "data": {
            "text/plain": [
              "<Figure size 640x480 with 1 Axes>"
            ],
            "image/png": "[encoded data removed]"
          },
          "metadata": {}
        }
      ]
    },
    {
      "cell_type": "code",
      "source": [
        "plt.boxplot(data);"
      ],
      "metadata": {
        "colab": {
          "base_uri": "https://localhost:8080/",
          "height": 430
        },
        "id": "c73b7D881SfS",
        "outputId": "8381cb7d-c8b9-4664-840f-e44aa7bd1505"
      },
      "execution_count": null,
      "outputs": [
        {
          "output_type": "display_data",
          "data": {
            "text/plain": [
              "<Figure size 640x480 with 1 Axes>"
            ],
            "image/png": "[encoded data removed]"
          },
          "metadata": {}
        }
      ]
    },
    {
      "cell_type": "markdown",
      "source": [
        "Scattr plotr: muito utilizado quando se quer ter a relação de duas variáveis"
      ],
      "metadata": {
        "id": "HPDcAepm10Ah"
      }
    },
    {
      "cell_type": "code",
      "source": [
        "x = np.random.normal(10, 0.5, 100)\n",
        "y = np.random.uniform(1, 20, 100)"
      ],
      "metadata": {
        "id": "S9Z4SNxQ17lM"
      },
      "execution_count": null,
      "outputs": []
    },
    {
      "cell_type": "code",
      "source": [
        "fig = plt.figure()\n",
        "ax = plt.axes()\n",
        "ax.scatter(x, y, marker = 'o', color = 'red', label = 'data1', alpha = 0.5)\n",
        "ax.scatter(x*0.5, y*0.5, marker = 'v', color = 'black', label = 'data2', alpha = 0.7)\n",
        "ax.legend();"
      ],
      "metadata": {
        "colab": {
          "base_uri": "https://localhost:8080/",
          "height": 430
        },
        "id": "8hYm_-nJ1lJN",
        "outputId": "e2bb06cd-3094-4fae-8e09-60558ba71bc0"
      },
      "execution_count": null,
      "outputs": [
        {
          "output_type": "display_data",
          "data": {
            "text/plain": [
              "<Figure size 640x480 with 1 Axes>"
            ],
            "image/png": "[encoded data removed]"
          },
          "metadata": {}
        }
      ]
    },
    {
      "cell_type": "code",
      "source": [
        "import plotly.express as px"
      ],
      "metadata": {
        "id": "hmsu6pLv3Cn4"
      },
      "execution_count": null,
      "outputs": []
    },
    {
      "cell_type": "code",
      "source": [
        "px.data.gapminder()"
      ],
      "metadata": {
        "colab": {
          "base_uri": "https://localhost:8080/",
          "height": 423
        },
        "id": "_xXQc8Ob8FyL",
        "outputId": "70d3b87c-fa4f-4c4f-d986-50e28fce700f"
      },
      "execution_count": null,
      "outputs": [
        {
          "output_type": "execute_result",
          "data": {
            "text/plain": [
              "          country continent  year  lifeExp       pop   gdpPercap iso_alpha  \\\n",
              "0     Afghanistan      Asia  1952   28.801   8425333  779.445314       AFG   \n",
              "1     Afghanistan      Asia  1957   30.332   9240934  820.853030       AFG   \n",
              "2     Afghanistan      Asia  1962   31.997  10267083  853.100710       AFG   \n",
              "3     Afghanistan      Asia  1967   34.020  11537966  836.197138       AFG   \n",
              "4     Afghanistan      Asia  1972   36.088  13079460  739.981106       AFG   \n",
              "...           ...       ...   ...      ...       ...         ...       ...   \n",
              "1699     Zimbabwe    Africa  1987   62.351   9216418  706.157306       ZWE   \n",
              "1700     Zimbabwe    Africa  1992   60.377  10704340  693.420786       ZWE   \n",
              "1701     Zimbabwe    Africa  1997   46.809  11404948  792.449960       ZWE   \n",
              "1702     Zimbabwe    Africa  2002   39.989  11926563  672.038623       ZWE   \n",
              "1703     Zimbabwe    Africa  2007   43.487  12311143  469.709298       ZWE   \n",
              "\n",
              "      iso_num  \n",
              "0           4  \n",
              "1           4  \n",
              "2           4  \n",
              "3           4  \n",
              "4           4  \n",
              "...       ...  \n",
              "1699      716  \n",
              "1700      716  \n",
              "1701      716  \n",
              "1702      716  \n",
              "1703      716  \n",
              "\n",
              "[1704 rows x 8 columns]"
            ],
            "text/html": [
              "\n",
              "  <div id=\"df-d317d0c7-d13d-44f2-935d-af07da3dde49\" class=\"colab-df-container\">\n",
              "    <div>\n",
              "<style scoped>\n",
              "    .dataframe tbody tr th:only-of-type {\n",
              "        vertical-align: middle;\n",
              "    }\n",
              "\n",
              "    .dataframe tbody tr th {\n",
              "        vertical-align: top;\n",
              "    }\n",
              "\n",
              "    .dataframe thead th {\n",
              "        text-align: right;\n",
              "    }\n",
              "</style>\n",
              "<table border=\"1\" class=\"dataframe\">\n",
              "  <thead>\n",
              "    <tr style=\"text-align: right;\">\n",
              "      <th></th>\n",
              "      <th>country</th>\n",
              "      <th>continent</th>\n",
              "      <th>year</th>\n",
              "      <th>lifeExp</th>\n",
              "      <th>pop</th>\n",
              "      <th>gdpPercap</th>\n",
              "      <th>iso_alpha</th>\n",
              "      <th>iso_num</th>\n",
              "    </tr>\n",
              "  </thead>\n",
              "  <tbody>\n",
              "    <tr>\n",
              "      <th>0</th>\n",
              "      <td>Afghanistan</td>\n",
              "      <td>Asia</td>\n",
              "      <td>1952</td>\n",
              "      <td>28.801</td>\n",
              "      <td>8425333</td>\n",
              "      <td>779.445314</td>\n",
              "      <td>AFG</td>\n",
              "      <td>4</td>\n",
              "    </tr>\n",
              "    <tr>\n",
              "      <th>1</th>\n",
              "      <td>Afghanistan</td>\n",
              "      <td>Asia</td>\n",
              "      <td>1957</td>\n",
              "      <td>30.332</td>\n",
              "      <td>9240934</td>\n",
              "      <td>820.853030</td>\n",
              "      <td>AFG</td>\n",
              "      <td>4</td>\n",
              "    </tr>\n",
              "    <tr>\n",
              "      <th>2</th>\n",
              "      <td>Afghanistan</td>\n",
              "      <td>Asia</td>\n",
              "      <td>1962</td>\n",
              "      <td>31.997</td>\n",
              "      <td>10267083</td>\n",
              "      <td>853.100710</td>\n",
              "      <td>AFG</td>\n",
              "      <td>4</td>\n",
              "    </tr>\n",
              "    <tr>\n",
              "      <th>3</th>\n",
              "      <td>Afghanistan</td>\n",
              "      <td>Asia</td>\n",
              "      <td>1967</td>\n",
              "      <td>34.020</td>\n",
              "      <td>11537966</td>\n",
              "      <td>836.197138</td>\n",
              "      <td>AFG</td>\n",
              "      <td>4</td>\n",
              "    </tr>\n",
              "    <tr>\n",
              "      <th>4</th>\n",
              "      <td>Afghanistan</td>\n",
              "      <td>Asia</td>\n",
              "      <td>1972</td>\n",
              "      <td>36.088</td>\n",
              "      <td>13079460</td>\n",
              "      <td>739.981106</td>\n",
              "      <td>AFG</td>\n",
              "      <td>4</td>\n",
              "    </tr>\n",
              "    <tr>\n",
              "      <th>...</th>\n",
              "      <td>...</td>\n",
              "      <td>...</td>\n",
              "      <td>...</td>\n",
              "      <td>...</td>\n",
              "      <td>...</td>\n",
              "      <td>...</td>\n",
              "      <td>...</td>\n",
              "      <td>...</td>\n",
              "    </tr>\n",
              "    <tr>\n",
              "      <th>1699</th>\n",
              "      <td>Zimbabwe</td>\n",
              "      <td>Africa</td>\n",
              "      <td>1987</td>\n",
              "      <td>62.351</td>\n",
              "      <td>9216418</td>\n",
              "      <td>706.157306</td>\n",
              "      <td>ZWE</td>\n",
              "      <td>716</td>\n",
              "    </tr>\n",
              "    <tr>\n",
              "      <th>1700</th>\n",
              "      <td>Zimbabwe</td>\n",
              "      <td>Africa</td>\n",
              "      <td>1992</td>\n",
              "      <td>60.377</td>\n",
              "      <td>10704340</td>\n",
              "      <td>693.420786</td>\n",
              "      <td>ZWE</td>\n",
              "      <td>716</td>\n",
              "    </tr>\n",
              "    <tr>\n",
              "      <th>1701</th>\n",
              "      <td>Zimbabwe</td>\n",
              "      <td>Africa</td>\n",
              "      <td>1997</td>\n",
              "      <td>46.809</td>\n",
              "      <td>11404948</td>\n",
              "      <td>792.449960</td>\n",
              "      <td>ZWE</td>\n",
              "      <td>716</td>\n",
              "    </tr>\n",
              "    <tr>\n",
              "      <th>1702</th>\n",
              "      <td>Zimbabwe</td>\n",
              "      <td>Africa</td>\n",
              "      <td>2002</td>\n",
              "      <td>39.989</td>\n",
              "      <td>11926563</td>\n",
              "      <td>672.038623</td>\n",
              "      <td>ZWE</td>\n",
              "      <td>716</td>\n",
              "    </tr>\n",
              "    <tr>\n",
              "      <th>1703</th>\n",
              "      <td>Zimbabwe</td>\n",
              "      <td>Africa</td>\n",
              "      <td>2007</td>\n",
              "      <td>43.487</td>\n",
              "      <td>12311143</td>\n",
              "      <td>469.709298</td>\n",
              "      <td>ZWE</td>\n",
              "      <td>716</td>\n",
              "    </tr>\n",
              "  </tbody>\n",
              "</table>\n",
              "<p>1704 rows × 8 columns</p>\n",
              "</div>\n",
              "    <div class=\"colab-df-buttons\">\n",
              "\n",
              "  <div class=\"colab-df-container\">\n",
              "    <button class=\"colab-df-convert\" onclick=\"convertToInteractive('df-d317d0c7-d13d-44f2-935d-af07da3dde49')\"\n",
              "            title=\"Convert this dataframe to an interactive table.\"\n",
              "            style=\"display:none;\">\n",
              "\n",
              "  <svg xmlns=\"http://www.w3.org/2000/svg\" height=\"24px\" viewBox=\"0 -960 960 960\">\n",
              "    <path d=\"M120-120v-720h720v720H120Zm60-500h600v-160H180v160Zm220 220h160v-160H400v160Zm0 220h160v-160H400v160ZM180-400h160v-160H180v160Zm440 0h160v-160H620v160ZM180-180h160v-160H180v160Zm440 0h160v-160H620v160Z\"/>\n",
              "  </svg>\n",
              "    </button>\n",
              "\n",
              "  <style>\n",
              "    .colab-df-container {\n",
              "      display:flex;\n",
              "      gap: 12px;\n",
              "    }\n",
              "\n",
              "    .colab-df-convert {\n",
              "      background-color: #E8F0FE;\n",
              "      border: none;\n",
              "      border-radius: 50%;\n",
              "      cursor: pointer;\n",
              "      display: none;\n",
              "      fill: #1967D2;\n",
              "      height: 32px;\n",
              "      padding: 0 0 0 0;\n",
              "      width: 32px;\n",
              "    }\n",
              "\n",
              "    .colab-df-convert:hover {\n",
              "      background-color: #E2EBFA;\n",
              "      box-shadow: 0px 1px 2px rgba(60, 64, 67, 0.3), 0px 1px 3px 1px rgba(60, 64, 67, 0.15);\n",
              "      fill: #174EA6;\n",
              "    }\n",
              "\n",
              "    .colab-df-buttons div {\n",
              "      margin-bottom: 4px;\n",
              "    }\n",
              "\n",
              "    [theme=dark] .colab-df-convert {\n",
              "      background-color: #3B4455;\n",
              "      fill: #D2E3FC;\n",
              "    }\n",
              "\n",
              "    [theme=dark] .colab-df-convert:hover {\n",
              "      background-color: #434B5C;\n",
              "      box-shadow: 0px 1px 3px 1px rgba(0, 0, 0, 0.15);\n",
              "      filter: drop-shadow(0px 1px 2px rgba(0, 0, 0, 0.3));\n",
              "      fill: #FFFFFF;\n",
              "    }\n",
              "  </style>\n",
              "\n",
              "    <script>\n",
              "      const buttonEl =\n",
              "        document.querySelector('#df-d317d0c7-d13d-44f2-935d-af07da3dde49 button.colab-df-convert');\n",
              "      buttonEl.style.display =\n",
              "        google.colab.kernel.accessAllowed ? 'block' : 'none';\n",
              "\n",
              "      async function convertToInteractive(key) {\n",
              "        const element = document.querySelector('#df-d317d0c7-d13d-44f2-935d-af07da3dde49');\n",
              "        const dataTable =\n",
              "          await google.colab.kernel.invokeFunction('convertToInteractive',\n",
              "                                                    [key], {});\n",
              "        if (!dataTable) return;\n",
              "\n",
              "        const docLinkHtml = 'Like what you see? Visit the ' +\n",
              "          '<a target=\"_blank\" href=https://colab.research.google.com/notebooks/data_table.ipynb>data table notebook</a>'\n",
              "          + ' to learn more about interactive tables.';\n",
              "        element.innerHTML = '';\n",
              "        dataTable['output_type'] = 'display_data';\n",
              "        await google.colab.output.renderOutput(dataTable, element);\n",
              "        const docLink = document.createElement('div');\n",
              "        docLink.innerHTML = docLinkHtml;\n",
              "        element.appendChild(docLink);\n",
              "      }\n",
              "    </script>\n",
              "  </div>\n",
              "\n",
              "\n",
              "<div id=\"df-3046bdcb-411d-487a-9f20-a6c8ecedca6e\">\n",
              "  <button class=\"colab-df-quickchart\" onclick=\"quickchart('df-3046bdcb-411d-487a-9f20-a6c8ecedca6e')\"\n",
              "            title=\"Suggest charts.\"\n",
              "            style=\"display:none;\">\n",
              "\n",
              "<svg xmlns=\"http://www.w3.org/2000/svg\" height=\"24px\"viewBox=\"0 0 24 24\"\n",
              "     width=\"24px\">\n",
              "    <g>\n",
              "        <path d=\"M19 3H5c-1.1 0-2 .9-2 2v14c0 1.1.9 2 2 2h14c1.1 0 2-.9 2-2V5c0-1.1-.9-2-2-2zM9 17H7v-7h2v7zm4 0h-2V7h2v10zm4 0h-2v-4h2v4z\"/>\n",
              "    </g>\n",
              "</svg>\n",
              "  </button>\n",
              "\n",
              "<style>\n",
              "  .colab-df-quickchart {\n",
              "      --bg-color: #E8F0FE;\n",
              "      --fill-color: #1967D2;\n",
              "      --hover-bg-color: #E2EBFA;\n",
              "      --hover-fill-color: #174EA6;\n",
              "      --disabled-fill-color: #AAA;\n",
              "      --disabled-bg-color: #DDD;\n",
              "  }\n",
              "\n",
              "  [theme=dark] .colab-df-quickchart {\n",
              "      --bg-color: #3B4455;\n",
              "      --fill-color: #D2E3FC;\n",
              "      --hover-bg-color: #434B5C;\n",
              "      --hover-fill-color: #FFFFFF;\n",
              "      --disabled-bg-color: #3B4455;\n",
              "      --disabled-fill-color: #666;\n",
              "  }\n",
              "\n",
              "  .colab-df-quickchart {\n",
              "    background-color: var(--bg-color);\n",
              "    border: none;\n",
              "    border-radius: 50%;\n",
              "    cursor: pointer;\n",
              "    display: none;\n",
              "    fill: var(--fill-color);\n",
              "    height: 32px;\n",
              "    padding: 0;\n",
              "    width: 32px;\n",
              "  }\n",
              "\n",
              "  .colab-df-quickchart:hover {\n",
              "    background-color: var(--hover-bg-color);\n",
              "    box-shadow: 0 1px 2px rgba(60, 64, 67, 0.3), 0 1px 3px 1px rgba(60, 64, 67, 0.15);\n",
              "    fill: var(--button-hover-fill-color);\n",
              "  }\n",
              "\n",
              "  .colab-df-quickchart-complete:disabled,\n",
              "  .colab-df-quickchart-complete:disabled:hover {\n",
              "    background-color: var(--disabled-bg-color);\n",
              "    fill: var(--disabled-fill-color);\n",
              "    box-shadow: none;\n",
              "  }\n",
              "\n",
              "  .colab-df-spinner {\n",
              "    border: 2px solid var(--fill-color);\n",
              "    border-color: transparent;\n",
              "    border-bottom-color: var(--fill-color);\n",
              "    animation:\n",
              "      spin 1s steps(1) infinite;\n",
              "  }\n",
              "\n",
              "  @keyframes spin {\n",
              "    0% {\n",
              "      border-color: transparent;\n",
              "      border-bottom-color: var(--fill-color);\n",
              "      border-left-color: var(--fill-color);\n",
              "    }\n",
              "    20% {\n",
              "      border-color: transparent;\n",
              "      border-left-color: var(--fill-color);\n",
              "      border-top-color: var(--fill-color);\n",
              "    }\n",
              "    30% {\n",
              "      border-color: transparent;\n",
              "      border-left-color: var(--fill-color);\n",
              "      border-top-color: var(--fill-color);\n",
              "      border-right-color: var(--fill-color);\n",
              "    }\n",
              "    40% {\n",
              "      border-color: transparent;\n",
              "      border-right-color: var(--fill-color);\n",
              "      border-top-color: var(--fill-color);\n",
              "    }\n",
              "    60% {\n",
              "      border-color: transparent;\n",
              "      border-right-color: var(--fill-color);\n",
              "    }\n",
              "    80% {\n",
              "      border-color: transparent;\n",
              "      border-right-color: var(--fill-color);\n",
              "      border-bottom-color: var(--fill-color);\n",
              "    }\n",
              "    90% {\n",
              "      border-color: transparent;\n",
              "      border-bottom-color: var(--fill-color);\n",
              "    }\n",
              "  }\n",
              "</style>\n",
              "\n",
              "  <script>\n",
              "    async function quickchart(key) {\n",
              "      const quickchartButtonEl =\n",
              "        document.querySelector('#' + key + ' button');\n",
              "      quickchartButtonEl.disabled = true;  // To prevent multiple clicks.\n",
              "      quickchartButtonEl.classList.add('colab-df-spinner');\n",
              "      try {\n",
              "        const charts = await google.colab.kernel.invokeFunction(\n",
              "            'suggestCharts', [key], {});\n",
              "      } catch (error) {\n",
              "        console.error('Error during call to suggestCharts:', error);\n",
              "      }\n",
              "      quickchartButtonEl.classList.remove('colab-df-spinner');\n",
              "      quickchartButtonEl.classList.add('colab-df-quickchart-complete');\n",
              "    }\n",
              "    (() => {\n",
              "      let quickchartButtonEl =\n",
              "        document.querySelector('#df-3046bdcb-411d-487a-9f20-a6c8ecedca6e button');\n",
              "      quickchartButtonEl.style.display =\n",
              "        google.colab.kernel.accessAllowed ? 'block' : 'none';\n",
              "    })();\n",
              "  </script>\n",
              "</div>\n",
              "    </div>\n",
              "  </div>\n"
            ]
          },
          "metadata": {},
          "execution_count": 65
        }
      ]
    },
    {
      "cell_type": "code",
      "source": [
        "df = px.data.gapminder().query('country == \"Brazil\"').set_index('year')"
      ],
      "metadata": {
        "id": "ZoJI1XtQ8Jpx"
      },
      "execution_count": null,
      "outputs": []
    },
    {
      "cell_type": "code",
      "source": [
        "df.head()"
      ],
      "metadata": {
        "colab": {
          "base_uri": "https://localhost:8080/",
          "height": 237
        },
        "id": "bi5g5AQ59W0_",
        "outputId": "9615cda2-c6ee-4e48-8ffe-42bdfbb2b5d4"
      },
      "execution_count": null,
      "outputs": [
        {
          "output_type": "execute_result",
          "data": {
            "text/plain": [
              "     country continent  lifeExp        pop    gdpPercap iso_alpha  iso_num\n",
              "year                                                                      \n",
              "1952  Brazil  Americas   50.917   56602560  2108.944355       BRA       76\n",
              "1957  Brazil  Americas   53.285   65551171  2487.365989       BRA       76\n",
              "1962  Brazil  Americas   55.665   76039390  3336.585802       BRA       76\n",
              "1967  Brazil  Americas   57.632   88049823  3429.864357       BRA       76\n",
              "1972  Brazil  Americas   59.504  100840058  4985.711467       BRA       76"
            ],
            "text/html": [
              "\n",
              "  <div id=\"df-b8c6cadf-979f-46d6-a056-0fe96ffd1c1d\" class=\"colab-df-container\">\n",
              "    <div>\n",
              "<style scoped>\n",
              "    .dataframe tbody tr th:only-of-type {\n",
              "        vertical-align: middle;\n",
              "    }\n",
              "\n",
              "    .dataframe tbody tr th {\n",
              "        vertical-align: top;\n",
              "    }\n",
              "\n",
              "    .dataframe thead th {\n",
              "        text-align: right;\n",
              "    }\n",
              "</style>\n",
              "<table border=\"1\" class=\"dataframe\">\n",
              "  <thead>\n",
              "    <tr style=\"text-align: right;\">\n",
              "      <th></th>\n",
              "      <th>country</th>\n",
              "      <th>continent</th>\n",
              "      <th>lifeExp</th>\n",
              "      <th>pop</th>\n",
              "      <th>gdpPercap</th>\n",
              "      <th>iso_alpha</th>\n",
              "      <th>iso_num</th>\n",
              "    </tr>\n",
              "    <tr>\n",
              "      <th>year</th>\n",
              "      <th></th>\n",
              "      <th></th>\n",
              "      <th></th>\n",
              "      <th></th>\n",
              "      <th></th>\n",
              "      <th></th>\n",
              "      <th></th>\n",
              "    </tr>\n",
              "  </thead>\n",
              "  <tbody>\n",
              "    <tr>\n",
              "      <th>1952</th>\n",
              "      <td>Brazil</td>\n",
              "      <td>Americas</td>\n",
              "      <td>50.917</td>\n",
              "      <td>56602560</td>\n",
              "      <td>2108.944355</td>\n",
              "      <td>BRA</td>\n",
              "      <td>76</td>\n",
              "    </tr>\n",
              "    <tr>\n",
              "      <th>1957</th>\n",
              "      <td>Brazil</td>\n",
              "      <td>Americas</td>\n",
              "      <td>53.285</td>\n",
              "      <td>65551171</td>\n",
              "      <td>2487.365989</td>\n",
              "      <td>BRA</td>\n",
              "      <td>76</td>\n",
              "    </tr>\n",
              "    <tr>\n",
              "      <th>1962</th>\n",
              "      <td>Brazil</td>\n",
              "      <td>Americas</td>\n",
              "      <td>55.665</td>\n",
              "      <td>76039390</td>\n",
              "      <td>3336.585802</td>\n",
              "      <td>BRA</td>\n",
              "      <td>76</td>\n",
              "    </tr>\n",
              "    <tr>\n",
              "      <th>1967</th>\n",
              "      <td>Brazil</td>\n",
              "      <td>Americas</td>\n",
              "      <td>57.632</td>\n",
              "      <td>88049823</td>\n",
              "      <td>3429.864357</td>\n",
              "      <td>BRA</td>\n",
              "      <td>76</td>\n",
              "    </tr>\n",
              "    <tr>\n",
              "      <th>1972</th>\n",
              "      <td>Brazil</td>\n",
              "      <td>Americas</td>\n",
              "      <td>59.504</td>\n",
              "      <td>100840058</td>\n",
              "      <td>4985.711467</td>\n",
              "      <td>BRA</td>\n",
              "      <td>76</td>\n",
              "    </tr>\n",
              "  </tbody>\n",
              "</table>\n",
              "</div>\n",
              "    <div class=\"colab-df-buttons\">\n",
              "\n",
              "  <div class=\"colab-df-container\">\n",
              "    <button class=\"colab-df-convert\" onclick=\"convertToInteractive('df-b8c6cadf-979f-46d6-a056-0fe96ffd1c1d')\"\n",
              "            title=\"Convert this dataframe to an interactive table.\"\n",
              "            style=\"display:none;\">\n",
              "\n",
              "  <svg xmlns=\"http://www.w3.org/2000/svg\" height=\"24px\" viewBox=\"0 -960 960 960\">\n",
              "    <path d=\"M120-120v-720h720v720H120Zm60-500h600v-160H180v160Zm220 220h160v-160H400v160Zm0 220h160v-160H400v160ZM180-400h160v-160H180v160Zm440 0h160v-160H620v160ZM180-180h160v-160H180v160Zm440 0h160v-160H620v160Z\"/>\n",
              "  </svg>\n",
              "    </button>\n",
              "\n",
              "  <style>\n",
              "    .colab-df-container {\n",
              "      display:flex;\n",
              "      gap: 12px;\n",
              "    }\n",
              "\n",
              "    .colab-df-convert {\n",
              "      background-color: #E8F0FE;\n",
              "      border: none;\n",
              "      border-radius: 50%;\n",
              "      cursor: pointer;\n",
              "      display: none;\n",
              "      fill: #1967D2;\n",
              "      height: 32px;\n",
              "      padding: 0 0 0 0;\n",
              "      width: 32px;\n",
              "    }\n",
              "\n",
              "    .colab-df-convert:hover {\n",
              "      background-color: #E2EBFA;\n",
              "      box-shadow: 0px 1px 2px rgba(60, 64, 67, 0.3), 0px 1px 3px 1px rgba(60, 64, 67, 0.15);\n",
              "      fill: #174EA6;\n",
              "    }\n",
              "\n",
              "    .colab-df-buttons div {\n",
              "      margin-bottom: 4px;\n",
              "    }\n",
              "\n",
              "    [theme=dark] .colab-df-convert {\n",
              "      background-color: #3B4455;\n",
              "      fill: #D2E3FC;\n",
              "    }\n",
              "\n",
              "    [theme=dark] .colab-df-convert:hover {\n",
              "      background-color: #434B5C;\n",
              "      box-shadow: 0px 1px 3px 1px rgba(0, 0, 0, 0.15);\n",
              "      filter: drop-shadow(0px 1px 2px rgba(0, 0, 0, 0.3));\n",
              "      fill: #FFFFFF;\n",
              "    }\n",
              "  </style>\n",
              "\n",
              "    <script>\n",
              "      const buttonEl =\n",
              "        document.querySelector('#df-b8c6cadf-979f-46d6-a056-0fe96ffd1c1d button.colab-df-convert');\n",
              "      buttonEl.style.display =\n",
              "        google.colab.kernel.accessAllowed ? 'block' : 'none';\n",
              "\n",
              "      async function convertToInteractive(key) {\n",
              "        const element = document.querySelector('#df-b8c6cadf-979f-46d6-a056-0fe96ffd1c1d');\n",
              "        const dataTable =\n",
              "          await google.colab.kernel.invokeFunction('convertToInteractive',\n",
              "                                                    [key], {});\n",
              "        if (!dataTable) return;\n",
              "\n",
              "        const docLinkHtml = 'Like what you see? Visit the ' +\n",
              "          '<a target=\"_blank\" href=https://colab.research.google.com/notebooks/data_table.ipynb>data table notebook</a>'\n",
              "          + ' to learn more about interactive tables.';\n",
              "        element.innerHTML = '';\n",
              "        dataTable['output_type'] = 'display_data';\n",
              "        await google.colab.output.renderOutput(dataTable, element);\n",
              "        const docLink = document.createElement('div');\n",
              "        docLink.innerHTML = docLinkHtml;\n",
              "        element.appendChild(docLink);\n",
              "      }\n",
              "    </script>\n",
              "  </div>\n",
              "\n",
              "\n",
              "<div id=\"df-3961d0b4-56fb-4db0-96b5-8a6e24b2577c\">\n",
              "  <button class=\"colab-df-quickchart\" onclick=\"quickchart('df-3961d0b4-56fb-4db0-96b5-8a6e24b2577c')\"\n",
              "            title=\"Suggest charts.\"\n",
              "            style=\"display:none;\">\n",
              "\n",
              "<svg xmlns=\"http://www.w3.org/2000/svg\" height=\"24px\"viewBox=\"0 0 24 24\"\n",
              "     width=\"24px\">\n",
              "    <g>\n",
              "        <path d=\"M19 3H5c-1.1 0-2 .9-2 2v14c0 1.1.9 2 2 2h14c1.1 0 2-.9 2-2V5c0-1.1-.9-2-2-2zM9 17H7v-7h2v7zm4 0h-2V7h2v10zm4 0h-2v-4h2v4z\"/>\n",
              "    </g>\n",
              "</svg>\n",
              "  </button>\n",
              "\n",
              "<style>\n",
              "  .colab-df-quickchart {\n",
              "      --bg-color: #E8F0FE;\n",
              "      --fill-color: #1967D2;\n",
              "      --hover-bg-color: #E2EBFA;\n",
              "      --hover-fill-color: #174EA6;\n",
              "      --disabled-fill-color: #AAA;\n",
              "      --disabled-bg-color: #DDD;\n",
              "  }\n",
              "\n",
              "  [theme=dark] .colab-df-quickchart {\n",
              "      --bg-color: #3B4455;\n",
              "      --fill-color: #D2E3FC;\n",
              "      --hover-bg-color: #434B5C;\n",
              "      --hover-fill-color: #FFFFFF;\n",
              "      --disabled-bg-color: #3B4455;\n",
              "      --disabled-fill-color: #666;\n",
              "  }\n",
              "\n",
              "  .colab-df-quickchart {\n",
              "    background-color: var(--bg-color);\n",
              "    border: none;\n",
              "    border-radius: 50%;\n",
              "    cursor: pointer;\n",
              "    display: none;\n",
              "    fill: var(--fill-color);\n",
              "    height: 32px;\n",
              "    padding: 0;\n",
              "    width: 32px;\n",
              "  }\n",
              "\n",
              "  .colab-df-quickchart:hover {\n",
              "    background-color: var(--hover-bg-color);\n",
              "    box-shadow: 0 1px 2px rgba(60, 64, 67, 0.3), 0 1px 3px 1px rgba(60, 64, 67, 0.15);\n",
              "    fill: var(--button-hover-fill-color);\n",
              "  }\n",
              "\n",
              "  .colab-df-quickchart-complete:disabled,\n",
              "  .colab-df-quickchart-complete:disabled:hover {\n",
              "    background-color: var(--disabled-bg-color);\n",
              "    fill: var(--disabled-fill-color);\n",
              "    box-shadow: none;\n",
              "  }\n",
              "\n",
              "  .colab-df-spinner {\n",
              "    border: 2px solid var(--fill-color);\n",
              "    border-color: transparent;\n",
              "    border-bottom-color: var(--fill-color);\n",
              "    animation:\n",
              "      spin 1s steps(1) infinite;\n",
              "  }\n",
              "\n",
              "  @keyframes spin {\n",
              "    0% {\n",
              "      border-color: transparent;\n",
              "      border-bottom-color: var(--fill-color);\n",
              "      border-left-color: var(--fill-color);\n",
              "    }\n",
              "    20% {\n",
              "      border-color: transparent;\n",
              "      border-left-color: var(--fill-color);\n",
              "      border-top-color: var(--fill-color);\n",
              "    }\n",
              "    30% {\n",
              "      border-color: transparent;\n",
              "      border-left-color: var(--fill-color);\n",
              "      border-top-color: var(--fill-color);\n",
              "      border-right-color: var(--fill-color);\n",
              "    }\n",
              "    40% {\n",
              "      border-color: transparent;\n",
              "      border-right-color: var(--fill-color);\n",
              "      border-top-color: var(--fill-color);\n",
              "    }\n",
              "    60% {\n",
              "      border-color: transparent;\n",
              "      border-right-color: var(--fill-color);\n",
              "    }\n",
              "    80% {\n",
              "      border-color: transparent;\n",
              "      border-right-color: var(--fill-color);\n",
              "      border-bottom-color: var(--fill-color);\n",
              "    }\n",
              "    90% {\n",
              "      border-color: transparent;\n",
              "      border-bottom-color: var(--fill-color);\n",
              "    }\n",
              "  }\n",
              "</style>\n",
              "\n",
              "  <script>\n",
              "    async function quickchart(key) {\n",
              "      const quickchartButtonEl =\n",
              "        document.querySelector('#' + key + ' button');\n",
              "      quickchartButtonEl.disabled = true;  // To prevent multiple clicks.\n",
              "      quickchartButtonEl.classList.add('colab-df-spinner');\n",
              "      try {\n",
              "        const charts = await google.colab.kernel.invokeFunction(\n",
              "            'suggestCharts', [key], {});\n",
              "      } catch (error) {\n",
              "        console.error('Error during call to suggestCharts:', error);\n",
              "      }\n",
              "      quickchartButtonEl.classList.remove('colab-df-spinner');\n",
              "      quickchartButtonEl.classList.add('colab-df-quickchart-complete');\n",
              "    }\n",
              "    (() => {\n",
              "      let quickchartButtonEl =\n",
              "        document.querySelector('#df-3961d0b4-56fb-4db0-96b5-8a6e24b2577c button');\n",
              "      quickchartButtonEl.style.display =\n",
              "        google.colab.kernel.accessAllowed ? 'block' : 'none';\n",
              "    })();\n",
              "  </script>\n",
              "</div>\n",
              "    </div>\n",
              "  </div>\n"
            ]
          },
          "metadata": {},
          "execution_count": 67
        }
      ]
    },
    {
      "cell_type": "code",
      "source": [
        "plt.plot(df.index, df['gdpPercap'])\n",
        "plt.title('PIB percapita do Brasil')\n",
        "plt.ylabel('PIB per capita')\n",
        "plt.xlabel('Tempo');"
      ],
      "metadata": {
        "colab": {
          "base_uri": "https://localhost:8080/",
          "height": 472
        },
        "id": "LXksV_Ov9aOk",
        "outputId": "b2080423-e4d7-4794-ed25-42102dce7ebb"
      },
      "execution_count": null,
      "outputs": [
        {
          "output_type": "display_data",
          "data": {
            "text/plain": [
              "<Figure size 640x480 with 1 Axes>"
            ],
            "image/png": "[encoded data removed]"
          },
          "metadata": {}
        }
      ]
    },
    {
      "cell_type": "code",
      "source": [
        "title = 'Relação entre expectativa de vida e renda per caputa no Brasil e Argentina'\n",
        "\n",
        "plt.figure(figsize = (12, 4))\n",
        "plt.scatter(df['lifeExp'], df['gdpPercap'], cmap = 'viridis')\n",
        "plt.xlabel('Expectativa de vida')\n",
        "plt.ylabel('Renda percapita')\n",
        "plt.title(title, loc = 'left')\n",
        "plt.show()"
      ],
      "metadata": {
        "colab": {
          "base_uri": "https://localhost:8080/",
          "height": 479
        },
        "id": "9iGOuNjnIIcv",
        "outputId": "79ccc47e-459a-4ffd-feb4-a8cb74cc6e79"
      },
      "execution_count": null,
      "outputs": [
        {
          "output_type": "stream",
          "name": "stderr",
          "text": [
            "<ipython-input-72-64f835cd8c15>:4: UserWarning:\n",
            "\n",
            "No data for colormapping provided via 'c'. Parameters 'cmap' will be ignored\n",
            "\n"
          ]
        },
        {
          "output_type": "display_data",
          "data": {
            "text/plain": [
              "<Figure size 1200x400 with 1 Axes>"
            ],
            "image/png": "[encoded data removed]"
          },
          "metadata": {}
        }
      ]
    },
    {
      "cell_type": "code",
      "source": [
        "plt.bar(x = df.index,\n",
        "        height = df['pop'],\n",
        "        color = 'red'\n",
        "        )\n",
        "plt.title('População brasileira');"
      ],
      "metadata": {
        "colab": {
          "base_uri": "https://localhost:8080/",
          "height": 452
        },
        "id": "P7K8WzeyJLBw",
        "outputId": "06699e73-87f0-4a6f-f261-e38d04e60526"
      },
      "execution_count": null,
      "outputs": [
        {
          "output_type": "display_data",
          "data": {
            "text/plain": [
              "<Figure size 640x480 with 1 Axes>"
            ],
            "image/png": "[encoded data removed]"
          },
          "metadata": {}
        }
      ]
    },
    {
      "cell_type": "code",
      "source": [],
      "metadata": {
        "id": "RdgSr5yZKNJ6"
      },
      "execution_count": null,
      "outputs": []
    },
    {
      "cell_type": "code",
      "source": [
        "def filtrar_continente(continente):\n",
        "  df = px.data.gapminder()\n",
        "  df = df[df['continent'] == continente]\n",
        "  return df"
      ],
      "metadata": {
        "id": "m_7b-a6dKZuW"
      },
      "execution_count": null,
      "outputs": []
    },
    {
      "cell_type": "code",
      "source": [
        "def filtrar_pais(pais, variavel):\n",
        "  'Filtrar algum pais da amostra para as variáveis \"pop\", \"gdpPercap\" e \"lifeExp\"'\n",
        "  df = px.data.gapminder()\n",
        "  df = df[df['country'] == pais][variavel]\n",
        "  return df"
      ],
      "metadata": {
        "id": "Y6zbAUHCKvJb"
      },
      "execution_count": null,
      "outputs": []
    },
    {
      "cell_type": "code",
      "source": [
        "americas = filtrar_continente['Americas']\n",
        "paises = americas['country'].unique()\n",
        "plt.figure(figsize = (12, 8))\n",
        "for pais in paises:\n",
        "  plt.scatter(filtrar_pais(pais = pais,\n",
        "                           variavel = 'lifeExp'\n",
        "                           ),\n",
        "              filtrar_pais(pais = pais,\n",
        "                           variavel = 'gdpPercap'\n",
        "                         ))\n",
        "  plt.legend(labels = paises, loc = 'best')\n",
        "  plt.tittle('Relação entre renda per capita e expectativa de vida', loc = 'left')\n",
        "  plt.xlabel('Expectativa de vida')\n",
        "  plt.ylabel('Renda percapita')"
      ],
      "metadata": {
        "colab": {
          "base_uri": "https://localhost:8080/",
          "height": 245
        },
        "id": "HLUXdn09LvrW",
        "outputId": "a78d603d-57fa-49a0-9d2f-39ad13dcdd03"
      },
      "execution_count": null,
      "outputs": [
        {
          "output_type": "error",
          "ename": "TypeError",
          "evalue": "ignored",
          "traceback": [
            "\u001b[0;31m---------------------------------------------------------------------------\u001b[0m",
            "\u001b[0;31mTypeError\u001b[0m                                 Traceback (most recent call last)",
            "\u001b[0;32m<ipython-input-79-fda76bd7e5f6>\u001b[0m in \u001b[0;36m<cell line: 1>\u001b[0;34m()\u001b[0m\n\u001b[0;32m----> 1\u001b[0;31m \u001b[0mamericas\u001b[0m \u001b[0;34m=\u001b[0m \u001b[0mfiltrar_continente\u001b[0m\u001b[0;34m[\u001b[0m\u001b[0;34m'Americas'\u001b[0m\u001b[0;34m]\u001b[0m\u001b[0;34m\u001b[0m\u001b[0;34m\u001b[0m\u001b[0m\n\u001b[0m\u001b[1;32m      2\u001b[0m \u001b[0mpaises\u001b[0m \u001b[0;34m=\u001b[0m \u001b[0mamericas\u001b[0m\u001b[0;34m[\u001b[0m\u001b[0;34m'country'\u001b[0m\u001b[0;34m]\u001b[0m\u001b[0;34m.\u001b[0m\u001b[0munique\u001b[0m\u001b[0;34m(\u001b[0m\u001b[0;34m)\u001b[0m\u001b[0;34m\u001b[0m\u001b[0;34m\u001b[0m\u001b[0m\n\u001b[1;32m      3\u001b[0m \u001b[0mplt\u001b[0m\u001b[0;34m.\u001b[0m\u001b[0mfigure\u001b[0m\u001b[0;34m(\u001b[0m\u001b[0mfigsize\u001b[0m \u001b[0;34m=\u001b[0m \u001b[0;34m(\u001b[0m\u001b[0;36m12\u001b[0m\u001b[0;34m,\u001b[0m \u001b[0;36m8\u001b[0m\u001b[0;34m)\u001b[0m\u001b[0;34m)\u001b[0m\u001b[0;34m\u001b[0m\u001b[0;34m\u001b[0m\u001b[0m\n\u001b[1;32m      4\u001b[0m \u001b[0;32mfor\u001b[0m \u001b[0mpais\u001b[0m \u001b[0;32min\u001b[0m \u001b[0mpaises\u001b[0m\u001b[0;34m:\u001b[0m\u001b[0;34m\u001b[0m\u001b[0;34m\u001b[0m\u001b[0m\n\u001b[1;32m      5\u001b[0m   plt.scatter(filtrar_pais(pais = pais,\n",
            "\u001b[0;31mTypeError\u001b[0m: 'function' object is not subscriptable"
          ]
        }
      ]
    },
    {
      "cell_type": "code",
      "source": [],
      "metadata": {
        "id": "Tei7r39DNJ8V"
      },
      "execution_count": null,
      "outputs": []
    },
    {
      "cell_type": "markdown",
      "source": [],
      "metadata": {
        "id": "S1vLgD0OOm54"
      }
    },
    {
      "cell_type": "markdown",
      "source": [
        "**Ciência de Dads para Finanças:**\n",
        "\n",
        "O Seaborn é uma biblioteca de visualização de dados do Phyton baseado no Matplotlib. Ele provê uma interface de alto nível para construção de gráficos estatísticos atrativos e informativos"
      ],
      "metadata": {
        "id": "KbtMaZa4OnAB"
      }
    },
    {
      "cell_type": "code",
      "source": [
        "import numpy as np\n",
        "import pandas as pd\n",
        "import seaborn as sns\n",
        "\n",
        "# Definir um tema:\n",
        "sns.set_theme(style='darkgrid')"
      ],
      "metadata": {
        "id": "TIudZZreRgZK"
      },
      "execution_count": null,
      "outputs": []
    },
    {
      "cell_type": "code",
      "source": [
        "#Dados:\n",
        "Base_Dados = sns.load_dataset('tips')\n",
        "\n",
        "#Verificar\n",
        "Base_Dados.head()"
      ],
      "metadata": {
        "colab": {
          "base_uri": "https://localhost:8080/",
          "height": 206
        },
        "id": "CFxfy_viRp2r",
        "outputId": "14781724-8de4-4eee-cde1-b010db804a5c"
      },
      "execution_count": null,
      "outputs": [
        {
          "output_type": "execute_result",
          "data": {
            "text/plain": [
              "   total_bill   tip     sex smoker  day    time  size\n",
              "0       16.99  1.01  Female     No  Sun  Dinner     2\n",
              "1       10.34  1.66    Male     No  Sun  Dinner     3\n",
              "2       21.01  3.50    Male     No  Sun  Dinner     3\n",
              "3       23.68  3.31    Male     No  Sun  Dinner     2\n",
              "4       24.59  3.61  Female     No  Sun  Dinner     4"
            ],
            "text/html": [
              "\n",
              "  <div id=\"df-9f3f74c4-a0e2-4f59-b076-c9009bf9f105\" class=\"colab-df-container\">\n",
              "    <div>\n",
              "<style scoped>\n",
              "    .dataframe tbody tr th:only-of-type {\n",
              "        vertical-align: middle;\n",
              "    }\n",
              "\n",
              "    .dataframe tbody tr th {\n",
              "        vertical-align: top;\n",
              "    }\n",
              "\n",
              "    .dataframe thead th {\n",
              "        text-align: right;\n",
              "    }\n",
              "</style>\n",
              "<table border=\"1\" class=\"dataframe\">\n",
              "  <thead>\n",
              "    <tr style=\"text-align: right;\">\n",
              "      <th></th>\n",
              "      <th>total_bill</th>\n",
              "      <th>tip</th>\n",
              "      <th>sex</th>\n",
              "      <th>smoker</th>\n",
              "      <th>day</th>\n",
              "      <th>time</th>\n",
              "      <th>size</th>\n",
              "    </tr>\n",
              "  </thead>\n",
              "  <tbody>\n",
              "    <tr>\n",
              "      <th>0</th>\n",
              "      <td>16.99</td>\n",
              "      <td>1.01</td>\n",
              "      <td>Female</td>\n",
              "      <td>No</td>\n",
              "      <td>Sun</td>\n",
              "      <td>Dinner</td>\n",
              "      <td>2</td>\n",
              "    </tr>\n",
              "    <tr>\n",
              "      <th>1</th>\n",
              "      <td>10.34</td>\n",
              "      <td>1.66</td>\n",
              "      <td>Male</td>\n",
              "      <td>No</td>\n",
              "      <td>Sun</td>\n",
              "      <td>Dinner</td>\n",
              "      <td>3</td>\n",
              "    </tr>\n",
              "    <tr>\n",
              "      <th>2</th>\n",
              "      <td>21.01</td>\n",
              "      <td>3.50</td>\n",
              "      <td>Male</td>\n",
              "      <td>No</td>\n",
              "      <td>Sun</td>\n",
              "      <td>Dinner</td>\n",
              "      <td>3</td>\n",
              "    </tr>\n",
              "    <tr>\n",
              "      <th>3</th>\n",
              "      <td>23.68</td>\n",
              "      <td>3.31</td>\n",
              "      <td>Male</td>\n",
              "      <td>No</td>\n",
              "      <td>Sun</td>\n",
              "      <td>Dinner</td>\n",
              "      <td>2</td>\n",
              "    </tr>\n",
              "    <tr>\n",
              "      <th>4</th>\n",
              "      <td>24.59</td>\n",
              "      <td>3.61</td>\n",
              "      <td>Female</td>\n",
              "      <td>No</td>\n",
              "      <td>Sun</td>\n",
              "      <td>Dinner</td>\n",
              "      <td>4</td>\n",
              "    </tr>\n",
              "  </tbody>\n",
              "</table>\n",
              "</div>\n",
              "    <div class=\"colab-df-buttons\">\n",
              "\n",
              "  <div class=\"colab-df-container\">\n",
              "    <button class=\"colab-df-convert\" onclick=\"convertToInteractive('df-9f3f74c4-a0e2-4f59-b076-c9009bf9f105')\"\n",
              "            title=\"Convert this dataframe to an interactive table.\"\n",
              "            style=\"display:none;\">\n",
              "\n",
              "  <svg xmlns=\"http://www.w3.org/2000/svg\" height=\"24px\" viewBox=\"0 -960 960 960\">\n",
              "    <path d=\"M120-120v-720h720v720H120Zm60-500h600v-160H180v160Zm220 220h160v-160H400v160Zm0 220h160v-160H400v160ZM180-400h160v-160H180v160Zm440 0h160v-160H620v160ZM180-180h160v-160H180v160Zm440 0h160v-160H620v160Z\"/>\n",
              "  </svg>\n",
              "    </button>\n",
              "\n",
              "  <style>\n",
              "    .colab-df-container {\n",
              "      display:flex;\n",
              "      gap: 12px;\n",
              "    }\n",
              "\n",
              "    .colab-df-convert {\n",
              "      background-color: #E8F0FE;\n",
              "      border: none;\n",
              "      border-radius: 50%;\n",
              "      cursor: pointer;\n",
              "      display: none;\n",
              "      fill: #1967D2;\n",
              "      height: 32px;\n",
              "      padding: 0 0 0 0;\n",
              "      width: 32px;\n",
              "    }\n",
              "\n",
              "    .colab-df-convert:hover {\n",
              "      background-color: #E2EBFA;\n",
              "      box-shadow: 0px 1px 2px rgba(60, 64, 67, 0.3), 0px 1px 3px 1px rgba(60, 64, 67, 0.15);\n",
              "      fill: #174EA6;\n",
              "    }\n",
              "\n",
              "    .colab-df-buttons div {\n",
              "      margin-bottom: 4px;\n",
              "    }\n",
              "\n",
              "    [theme=dark] .colab-df-convert {\n",
              "      background-color: #3B4455;\n",
              "      fill: #D2E3FC;\n",
              "    }\n",
              "\n",
              "    [theme=dark] .colab-df-convert:hover {\n",
              "      background-color: #434B5C;\n",
              "      box-shadow: 0px 1px 3px 1px rgba(0, 0, 0, 0.15);\n",
              "      filter: drop-shadow(0px 1px 2px rgba(0, 0, 0, 0.3));\n",
              "      fill: #FFFFFF;\n",
              "    }\n",
              "  </style>\n",
              "\n",
              "    <script>\n",
              "      const buttonEl =\n",
              "        document.querySelector('#df-9f3f74c4-a0e2-4f59-b076-c9009bf9f105 button.colab-df-convert');\n",
              "      buttonEl.style.display =\n",
              "        google.colab.kernel.accessAllowed ? 'block' : 'none';\n",
              "\n",
              "      async function convertToInteractive(key) {\n",
              "        const element = document.querySelector('#df-9f3f74c4-a0e2-4f59-b076-c9009bf9f105');\n",
              "        const dataTable =\n",
              "          await google.colab.kernel.invokeFunction('convertToInteractive',\n",
              "                                                    [key], {});\n",
              "        if (!dataTable) return;\n",
              "\n",
              "        const docLinkHtml = 'Like what you see? Visit the ' +\n",
              "          '<a target=\"_blank\" href=https://colab.research.google.com/notebooks/data_table.ipynb>data table notebook</a>'\n",
              "          + ' to learn more about interactive tables.';\n",
              "        element.innerHTML = '';\n",
              "        dataTable['output_type'] = 'display_data';\n",
              "        await google.colab.output.renderOutput(dataTable, element);\n",
              "        const docLink = document.createElement('div');\n",
              "        docLink.innerHTML = docLinkHtml;\n",
              "        element.appendChild(docLink);\n",
              "      }\n",
              "    </script>\n",
              "  </div>\n",
              "\n",
              "\n",
              "<div id=\"df-f171b777-0757-42f4-ad35-0c61186ccd1b\">\n",
              "  <button class=\"colab-df-quickchart\" onclick=\"quickchart('df-f171b777-0757-42f4-ad35-0c61186ccd1b')\"\n",
              "            title=\"Suggest charts.\"\n",
              "            style=\"display:none;\">\n",
              "\n",
              "<svg xmlns=\"http://www.w3.org/2000/svg\" height=\"24px\"viewBox=\"0 0 24 24\"\n",
              "     width=\"24px\">\n",
              "    <g>\n",
              "        <path d=\"M19 3H5c-1.1 0-2 .9-2 2v14c0 1.1.9 2 2 2h14c1.1 0 2-.9 2-2V5c0-1.1-.9-2-2-2zM9 17H7v-7h2v7zm4 0h-2V7h2v10zm4 0h-2v-4h2v4z\"/>\n",
              "    </g>\n",
              "</svg>\n",
              "  </button>\n",
              "\n",
              "<style>\n",
              "  .colab-df-quickchart {\n",
              "      --bg-color: #E8F0FE;\n",
              "      --fill-color: #1967D2;\n",
              "      --hover-bg-color: #E2EBFA;\n",
              "      --hover-fill-color: #174EA6;\n",
              "      --disabled-fill-color: #AAA;\n",
              "      --disabled-bg-color: #DDD;\n",
              "  }\n",
              "\n",
              "  [theme=dark] .colab-df-quickchart {\n",
              "      --bg-color: #3B4455;\n",
              "      --fill-color: #D2E3FC;\n",
              "      --hover-bg-color: #434B5C;\n",
              "      --hover-fill-color: #FFFFFF;\n",
              "      --disabled-bg-color: #3B4455;\n",
              "      --disabled-fill-color: #666;\n",
              "  }\n",
              "\n",
              "  .colab-df-quickchart {\n",
              "    background-color: var(--bg-color);\n",
              "    border: none;\n",
              "    border-radius: 50%;\n",
              "    cursor: pointer;\n",
              "    display: none;\n",
              "    fill: var(--fill-color);\n",
              "    height: 32px;\n",
              "    padding: 0;\n",
              "    width: 32px;\n",
              "  }\n",
              "\n",
              "  .colab-df-quickchart:hover {\n",
              "    background-color: var(--hover-bg-color);\n",
              "    box-shadow: 0 1px 2px rgba(60, 64, 67, 0.3), 0 1px 3px 1px rgba(60, 64, 67, 0.15);\n",
              "    fill: var(--button-hover-fill-color);\n",
              "  }\n",
              "\n",
              "  .colab-df-quickchart-complete:disabled,\n",
              "  .colab-df-quickchart-complete:disabled:hover {\n",
              "    background-color: var(--disabled-bg-color);\n",
              "    fill: var(--disabled-fill-color);\n",
              "    box-shadow: none;\n",
              "  }\n",
              "\n",
              "  .colab-df-spinner {\n",
              "    border: 2px solid var(--fill-color);\n",
              "    border-color: transparent;\n",
              "    border-bottom-color: var(--fill-color);\n",
              "    animation:\n",
              "      spin 1s steps(1) infinite;\n",
              "  }\n",
              "\n",
              "  @keyframes spin {\n",
              "    0% {\n",
              "      border-color: transparent;\n",
              "      border-bottom-color: var(--fill-color);\n",
              "      border-left-color: var(--fill-color);\n",
              "    }\n",
              "    20% {\n",
              "      border-color: transparent;\n",
              "      border-left-color: var(--fill-color);\n",
              "      border-top-color: var(--fill-color);\n",
              "    }\n",
              "    30% {\n",
              "      border-color: transparent;\n",
              "      border-left-color: var(--fill-color);\n",
              "      border-top-color: var(--fill-color);\n",
              "      border-right-color: var(--fill-color);\n",
              "    }\n",
              "    40% {\n",
              "      border-color: transparent;\n",
              "      border-right-color: var(--fill-color);\n",
              "      border-top-color: var(--fill-color);\n",
              "    }\n",
              "    60% {\n",
              "      border-color: transparent;\n",
              "      border-right-color: var(--fill-color);\n",
              "    }\n",
              "    80% {\n",
              "      border-color: transparent;\n",
              "      border-right-color: var(--fill-color);\n",
              "      border-bottom-color: var(--fill-color);\n",
              "    }\n",
              "    90% {\n",
              "      border-color: transparent;\n",
              "      border-bottom-color: var(--fill-color);\n",
              "    }\n",
              "  }\n",
              "</style>\n",
              "\n",
              "  <script>\n",
              "    async function quickchart(key) {\n",
              "      const quickchartButtonEl =\n",
              "        document.querySelector('#' + key + ' button');\n",
              "      quickchartButtonEl.disabled = true;  // To prevent multiple clicks.\n",
              "      quickchartButtonEl.classList.add('colab-df-spinner');\n",
              "      try {\n",
              "        const charts = await google.colab.kernel.invokeFunction(\n",
              "            'suggestCharts', [key], {});\n",
              "      } catch (error) {\n",
              "        console.error('Error during call to suggestCharts:', error);\n",
              "      }\n",
              "      quickchartButtonEl.classList.remove('colab-df-spinner');\n",
              "      quickchartButtonEl.classList.add('colab-df-quickchart-complete');\n",
              "    }\n",
              "    (() => {\n",
              "      let quickchartButtonEl =\n",
              "        document.querySelector('#df-f171b777-0757-42f4-ad35-0c61186ccd1b button');\n",
              "      quickchartButtonEl.style.display =\n",
              "        google.colab.kernel.accessAllowed ? 'block' : 'none';\n",
              "    })();\n",
              "  </script>\n",
              "</div>\n",
              "    </div>\n",
              "  </div>\n"
            ]
          },
          "metadata": {},
          "execution_count": 87
        }
      ]
    },
    {
      "cell_type": "code",
      "source": [
        "#Renomenado as colunas\n",
        "Base_Dados.rename( colunmns={\n",
        "    'total_bill' : 'Total Conta',\n",
        "    'tip' : 'Gorjeta',\n",
        "    'sex' : 'Sexo',\n",
        "    'smoker' : 'Fumante',\n",
        "    'day' : 'Dia Semana',\n",
        "    'time' : 'Período',\n",
        "    'size' : 'Pessoas na Mesa'\n",
        "}, inplace=True)"
      ],
      "metadata": {
        "colab": {
          "base_uri": "https://localhost:8080/",
          "height": 245
        },
        "id": "PjSMkNSwSOD7",
        "outputId": "96b00756-86ca-4305-c258-16ed5b660483"
      },
      "execution_count": null,
      "outputs": [
        {
          "output_type": "error",
          "ename": "TypeError",
          "evalue": "ignored",
          "traceback": [
            "\u001b[0;31m---------------------------------------------------------------------------\u001b[0m",
            "\u001b[0;31mTypeError\u001b[0m                                 Traceback (most recent call last)",
            "\u001b[0;32m<ipython-input-88-c988188d038f>\u001b[0m in \u001b[0;36m<cell line: 2>\u001b[0;34m()\u001b[0m\n\u001b[1;32m      1\u001b[0m \u001b[0;31m#Renomenado as colunas\u001b[0m\u001b[0;34m\u001b[0m\u001b[0;34m\u001b[0m\u001b[0m\n\u001b[0;32m----> 2\u001b[0;31m Base_Dados.rename( colunmns={\n\u001b[0m\u001b[1;32m      3\u001b[0m     \u001b[0;34m'total_bill'\u001b[0m \u001b[0;34m:\u001b[0m \u001b[0;34m'Total Conta'\u001b[0m\u001b[0;34m,\u001b[0m\u001b[0;34m\u001b[0m\u001b[0;34m\u001b[0m\u001b[0m\n\u001b[1;32m      4\u001b[0m     \u001b[0;34m'tip'\u001b[0m \u001b[0;34m:\u001b[0m \u001b[0;34m'Gorjeta'\u001b[0m\u001b[0;34m,\u001b[0m\u001b[0;34m\u001b[0m\u001b[0;34m\u001b[0m\u001b[0m\n\u001b[1;32m      5\u001b[0m     \u001b[0;34m'sex'\u001b[0m \u001b[0;34m:\u001b[0m \u001b[0;34m'Sexo'\u001b[0m\u001b[0;34m,\u001b[0m\u001b[0;34m\u001b[0m\u001b[0;34m\u001b[0m\u001b[0m\n",
            "\u001b[0;31mTypeError\u001b[0m: DataFrame.rename() got an unexpected keyword argument 'colunmns'"
          ]
        }
      ]
    },
    {
      "cell_type": "code",
      "source": [],
      "metadata": {
        "id": "erNDJ8j2UhNN"
      },
      "execution_count": null,
      "outputs": []
    },
    {
      "cell_type": "markdown",
      "source": [
        "ESTATÍSTICA DESCRITIVA: Se preocupa em descrever os dados. Tem o papel de coletar, apresentar e interpretar os dados da melhir forma possílve. Auxilia os analistas de dados a tomarem decisões da melhor forma possível.\n"
      ],
      "metadata": {
        "id": "KkRs8sxn0XNv"
      }
    },
    {
      "cell_type": "code",
      "source": [
        "#Bibliotecas utilizadas:\n",
        "import pandas as pd #para manipular tabelas\n",
        "import seaborn as sns #plotagem de gráficos\n",
        "import matplotlib.pyplot as plt\n",
        "import warnings\n",
        "warnings.filterwarnings('ignore')"
      ],
      "metadata": {
        "id": "0VONEc3k0ng4"
      },
      "execution_count": null,
      "outputs": []
    },
    {
      "cell_type": "code",
      "source": [
        "Base_Dados = sns.load_dataset('iris')\n",
        "Base_Dados.head()"
      ],
      "metadata": {
        "colab": {
          "base_uri": "https://localhost:8080/",
          "height": 206
        },
        "id": "QjPGSROQ2JFh",
        "outputId": "1ee22e2f-6f59-4328-8888-fdde1bc0731d"
      },
      "execution_count": null,
      "outputs": [
        {
          "output_type": "execute_result",
          "data": {
            "text/plain": [
              "   sepal_length  sepal_width  petal_length  petal_width species\n",
              "0           5.1          3.5           1.4          0.2  setosa\n",
              "1           4.9          3.0           1.4          0.2  setosa\n",
              "2           4.7          3.2           1.3          0.2  setosa\n",
              "3           4.6          3.1           1.5          0.2  setosa\n",
              "4           5.0          3.6           1.4          0.2  setosa"
            ],
            "text/html": [
              "\n",
              "  <div id=\"df-b31307a7-9454-4ce2-9634-7160e65c6d19\" class=\"colab-df-container\">\n",
              "    <div>\n",
              "<style scoped>\n",
              "    .dataframe tbody tr th:only-of-type {\n",
              "        vertical-align: middle;\n",
              "    }\n",
              "\n",
              "    .dataframe tbody tr th {\n",
              "        vertical-align: top;\n",
              "    }\n",
              "\n",
              "    .dataframe thead th {\n",
              "        text-align: right;\n",
              "    }\n",
              "</style>\n",
              "<table border=\"1\" class=\"dataframe\">\n",
              "  <thead>\n",
              "    <tr style=\"text-align: right;\">\n",
              "      <th></th>\n",
              "      <th>sepal_length</th>\n",
              "      <th>sepal_width</th>\n",
              "      <th>petal_length</th>\n",
              "      <th>petal_width</th>\n",
              "      <th>species</th>\n",
              "    </tr>\n",
              "  </thead>\n",
              "  <tbody>\n",
              "    <tr>\n",
              "      <th>0</th>\n",
              "      <td>5.1</td>\n",
              "      <td>3.5</td>\n",
              "      <td>1.4</td>\n",
              "      <td>0.2</td>\n",
              "      <td>setosa</td>\n",
              "    </tr>\n",
              "    <tr>\n",
              "      <th>1</th>\n",
              "      <td>4.9</td>\n",
              "      <td>3.0</td>\n",
              "      <td>1.4</td>\n",
              "      <td>0.2</td>\n",
              "      <td>setosa</td>\n",
              "    </tr>\n",
              "    <tr>\n",
              "      <th>2</th>\n",
              "      <td>4.7</td>\n",
              "      <td>3.2</td>\n",
              "      <td>1.3</td>\n",
              "      <td>0.2</td>\n",
              "      <td>setosa</td>\n",
              "    </tr>\n",
              "    <tr>\n",
              "      <th>3</th>\n",
              "      <td>4.6</td>\n",
              "      <td>3.1</td>\n",
              "      <td>1.5</td>\n",
              "      <td>0.2</td>\n",
              "      <td>setosa</td>\n",
              "    </tr>\n",
              "    <tr>\n",
              "      <th>4</th>\n",
              "      <td>5.0</td>\n",
              "      <td>3.6</td>\n",
              "      <td>1.4</td>\n",
              "      <td>0.2</td>\n",
              "      <td>setosa</td>\n",
              "    </tr>\n",
              "  </tbody>\n",
              "</table>\n",
              "</div>\n",
              "    <div class=\"colab-df-buttons\">\n",
              "\n",
              "  <div class=\"colab-df-container\">\n",
              "    <button class=\"colab-df-convert\" onclick=\"convertToInteractive('df-b31307a7-9454-4ce2-9634-7160e65c6d19')\"\n",
              "            title=\"Convert this dataframe to an interactive table.\"\n",
              "            style=\"display:none;\">\n",
              "\n",
              "  <svg xmlns=\"http://www.w3.org/2000/svg\" height=\"24px\" viewBox=\"0 -960 960 960\">\n",
              "    <path d=\"M120-120v-720h720v720H120Zm60-500h600v-160H180v160Zm220 220h160v-160H400v160Zm0 220h160v-160H400v160ZM180-400h160v-160H180v160Zm440 0h160v-160H620v160ZM180-180h160v-160H180v160Zm440 0h160v-160H620v160Z\"/>\n",
              "  </svg>\n",
              "    </button>\n",
              "\n",
              "  <style>\n",
              "    .colab-df-container {\n",
              "      display:flex;\n",
              "      gap: 12px;\n",
              "    }\n",
              "\n",
              "    .colab-df-convert {\n",
              "      background-color: #E8F0FE;\n",
              "      border: none;\n",
              "      border-radius: 50%;\n",
              "      cursor: pointer;\n",
              "      display: none;\n",
              "      fill: #1967D2;\n",
              "      height: 32px;\n",
              "      padding: 0 0 0 0;\n",
              "      width: 32px;\n",
              "    }\n",
              "\n",
              "    .colab-df-convert:hover {\n",
              "      background-color: #E2EBFA;\n",
              "      box-shadow: 0px 1px 2px rgba(60, 64, 67, 0.3), 0px 1px 3px 1px rgba(60, 64, 67, 0.15);\n",
              "      fill: #174EA6;\n",
              "    }\n",
              "\n",
              "    .colab-df-buttons div {\n",
              "      margin-bottom: 4px;\n",
              "    }\n",
              "\n",
              "    [theme=dark] .colab-df-convert {\n",
              "      background-color: #3B4455;\n",
              "      fill: #D2E3FC;\n",
              "    }\n",
              "\n",
              "    [theme=dark] .colab-df-convert:hover {\n",
              "      background-color: #434B5C;\n",
              "      box-shadow: 0px 1px 3px 1px rgba(0, 0, 0, 0.15);\n",
              "      filter: drop-shadow(0px 1px 2px rgba(0, 0, 0, 0.3));\n",
              "      fill: #FFFFFF;\n",
              "    }\n",
              "  </style>\n",
              "\n",
              "    <script>\n",
              "      const buttonEl =\n",
              "        document.querySelector('#df-b31307a7-9454-4ce2-9634-7160e65c6d19 button.colab-df-convert');\n",
              "      buttonEl.style.display =\n",
              "        google.colab.kernel.accessAllowed ? 'block' : 'none';\n",
              "\n",
              "      async function convertToInteractive(key) {\n",
              "        const element = document.querySelector('#df-b31307a7-9454-4ce2-9634-7160e65c6d19');\n",
              "        const dataTable =\n",
              "          await google.colab.kernel.invokeFunction('convertToInteractive',\n",
              "                                                    [key], {});\n",
              "        if (!dataTable) return;\n",
              "\n",
              "        const docLinkHtml = 'Like what you see? Visit the ' +\n",
              "          '<a target=\"_blank\" href=https://colab.research.google.com/notebooks/data_table.ipynb>data table notebook</a>'\n",
              "          + ' to learn more about interactive tables.';\n",
              "        element.innerHTML = '';\n",
              "        dataTable['output_type'] = 'display_data';\n",
              "        await google.colab.output.renderOutput(dataTable, element);\n",
              "        const docLink = document.createElement('div');\n",
              "        docLink.innerHTML = docLinkHtml;\n",
              "        element.appendChild(docLink);\n",
              "      }\n",
              "    </script>\n",
              "  </div>\n",
              "\n",
              "\n",
              "<div id=\"df-80e98f31-03f6-40a8-85cf-44a428077028\">\n",
              "  <button class=\"colab-df-quickchart\" onclick=\"quickchart('df-80e98f31-03f6-40a8-85cf-44a428077028')\"\n",
              "            title=\"Suggest charts\"\n",
              "            style=\"display:none;\">\n",
              "\n",
              "<svg xmlns=\"http://www.w3.org/2000/svg\" height=\"24px\"viewBox=\"0 0 24 24\"\n",
              "     width=\"24px\">\n",
              "    <g>\n",
              "        <path d=\"M19 3H5c-1.1 0-2 .9-2 2v14c0 1.1.9 2 2 2h14c1.1 0 2-.9 2-2V5c0-1.1-.9-2-2-2zM9 17H7v-7h2v7zm4 0h-2V7h2v10zm4 0h-2v-4h2v4z\"/>\n",
              "    </g>\n",
              "</svg>\n",
              "  </button>\n",
              "\n",
              "<style>\n",
              "  .colab-df-quickchart {\n",
              "      --bg-color: #E8F0FE;\n",
              "      --fill-color: #1967D2;\n",
              "      --hover-bg-color: #E2EBFA;\n",
              "      --hover-fill-color: #174EA6;\n",
              "      --disabled-fill-color: #AAA;\n",
              "      --disabled-bg-color: #DDD;\n",
              "  }\n",
              "\n",
              "  [theme=dark] .colab-df-quickchart {\n",
              "      --bg-color: #3B4455;\n",
              "      --fill-color: #D2E3FC;\n",
              "      --hover-bg-color: #434B5C;\n",
              "      --hover-fill-color: #FFFFFF;\n",
              "      --disabled-bg-color: #3B4455;\n",
              "      --disabled-fill-color: #666;\n",
              "  }\n",
              "\n",
              "  .colab-df-quickchart {\n",
              "    background-color: var(--bg-color);\n",
              "    border: none;\n",
              "    border-radius: 50%;\n",
              "    cursor: pointer;\n",
              "    display: none;\n",
              "    fill: var(--fill-color);\n",
              "    height: 32px;\n",
              "    padding: 0;\n",
              "    width: 32px;\n",
              "  }\n",
              "\n",
              "  .colab-df-quickchart:hover {\n",
              "    background-color: var(--hover-bg-color);\n",
              "    box-shadow: 0 1px 2px rgba(60, 64, 67, 0.3), 0 1px 3px 1px rgba(60, 64, 67, 0.15);\n",
              "    fill: var(--button-hover-fill-color);\n",
              "  }\n",
              "\n",
              "  .colab-df-quickchart-complete:disabled,\n",
              "  .colab-df-quickchart-complete:disabled:hover {\n",
              "    background-color: var(--disabled-bg-color);\n",
              "    fill: var(--disabled-fill-color);\n",
              "    box-shadow: none;\n",
              "  }\n",
              "\n",
              "  .colab-df-spinner {\n",
              "    border: 2px solid var(--fill-color);\n",
              "    border-color: transparent;\n",
              "    border-bottom-color: var(--fill-color);\n",
              "    animation:\n",
              "      spin 1s steps(1) infinite;\n",
              "  }\n",
              "\n",
              "  @keyframes spin {\n",
              "    0% {\n",
              "      border-color: transparent;\n",
              "      border-bottom-color: var(--fill-color);\n",
              "      border-left-color: var(--fill-color);\n",
              "    }\n",
              "    20% {\n",
              "      border-color: transparent;\n",
              "      border-left-color: var(--fill-color);\n",
              "      border-top-color: var(--fill-color);\n",
              "    }\n",
              "    30% {\n",
              "      border-color: transparent;\n",
              "      border-left-color: var(--fill-color);\n",
              "      border-top-color: var(--fill-color);\n",
              "      border-right-color: var(--fill-color);\n",
              "    }\n",
              "    40% {\n",
              "      border-color: transparent;\n",
              "      border-right-color: var(--fill-color);\n",
              "      border-top-color: var(--fill-color);\n",
              "    }\n",
              "    60% {\n",
              "      border-color: transparent;\n",
              "      border-right-color: var(--fill-color);\n",
              "    }\n",
              "    80% {\n",
              "      border-color: transparent;\n",
              "      border-right-color: var(--fill-color);\n",
              "      border-bottom-color: var(--fill-color);\n",
              "    }\n",
              "    90% {\n",
              "      border-color: transparent;\n",
              "      border-bottom-color: var(--fill-color);\n",
              "    }\n",
              "  }\n",
              "</style>\n",
              "\n",
              "  <script>\n",
              "    async function quickchart(key) {\n",
              "      const quickchartButtonEl =\n",
              "        document.querySelector('#' + key + ' button');\n",
              "      quickchartButtonEl.disabled = true;  // To prevent multiple clicks.\n",
              "      quickchartButtonEl.classList.add('colab-df-spinner');\n",
              "      try {\n",
              "        const charts = await google.colab.kernel.invokeFunction(\n",
              "            'suggestCharts', [key], {});\n",
              "      } catch (error) {\n",
              "        console.error('Error during call to suggestCharts:', error);\n",
              "      }\n",
              "      quickchartButtonEl.classList.remove('colab-df-spinner');\n",
              "      quickchartButtonEl.classList.add('colab-df-quickchart-complete');\n",
              "    }\n",
              "    (() => {\n",
              "      let quickchartButtonEl =\n",
              "        document.querySelector('#df-80e98f31-03f6-40a8-85cf-44a428077028 button');\n",
              "      quickchartButtonEl.style.display =\n",
              "        google.colab.kernel.accessAllowed ? 'block' : 'none';\n",
              "    })();\n",
              "  </script>\n",
              "</div>\n",
              "    </div>\n",
              "  </div>\n"
            ]
          },
          "metadata": {},
          "execution_count": 4
        }
      ]
    },
    {
      "cell_type": "code",
      "source": [
        "Base_Dados.shape #tem 150 registros e 5 colunas"
      ],
      "metadata": {
        "colab": {
          "base_uri": "https://localhost:8080/"
        },
        "id": "ch7UuIAP2ovh",
        "outputId": "1a086ab0-e6c2-4063-8201-a70a5c7387e1"
      },
      "execution_count": null,
      "outputs": [
        {
          "output_type": "execute_result",
          "data": {
            "text/plain": [
              "(150, 5)"
            ]
          },
          "metadata": {},
          "execution_count": 6
        }
      ]
    },
    {
      "cell_type": "code",
      "source": [],
      "metadata": {
        "id": "OhM9AtMK2_Xy"
      },
      "execution_count": null,
      "outputs": []
    },
    {
      "cell_type": "markdown",
      "source": [
        "  Módulo 1 - Medidas de tendência central: são assim denominadas por indicarem um ponto em torno do qual se concentram os dados.\n"
      ],
      "metadata": {
        "id": "S472xGCY4MCJ"
      }
    },
    {
      "cell_type": "code",
      "source": [
        "#Média aritmética: é a soma de todos os valores observados da variável dividido pelo número total de observações\n",
        "Base_Dados['petal_length'].mean() #média aritmética da coluna indicada no parâmetro"
      ],
      "metadata": {
        "colab": {
          "base_uri": "https://localhost:8080/"
        },
        "id": "GJjq-Itw4csL",
        "outputId": "7a2c2858-4be2-4bea-e6f7-86f75d9cb145"
      },
      "execution_count": null,
      "outputs": [
        {
          "output_type": "execute_result",
          "data": {
            "text/plain": [
              "3.7580000000000005"
            ]
          },
          "metadata": {},
          "execution_count": 8
        }
      ]
    },
    {
      "cell_type": "code",
      "source": [
        "#Moda: Valor que mais aparece entre os valores observados\n",
        "Base_Dados['petal_length'].mode()"
      ],
      "metadata": {
        "colab": {
          "base_uri": "https://localhost:8080/"
        },
        "id": "LZNaStkH4zSP",
        "outputId": "b4bf813d-f01b-412b-e01c-969b63ed1fd5"
      },
      "execution_count": null,
      "outputs": [
        {
          "output_type": "execute_result",
          "data": {
            "text/plain": [
              "0    1.4\n",
              "1    1.5\n",
              "Name: petal_length, dtype: float64"
            ]
          },
          "metadata": {},
          "execution_count": 9
        }
      ]
    },
    {
      "cell_type": "code",
      "source": [
        "#Mediana: é o valor que ocupa a posição central da sério de observações de uma variável, em rol, dividindo o conunto em duas partes iguais, ou seja, a quantidade de valores inferiores à mediana é iguala quantidade de valores supreiores a mesma.\n",
        "\n",
        "Base_Dados['petal_length'].median()"
      ],
      "metadata": {
        "colab": {
          "base_uri": "https://localhost:8080/"
        },
        "id": "78NGcn9P50Tb",
        "outputId": "7d6c7cdb-8a08-4383-d232-83172bda7ae3"
      },
      "execution_count": null,
      "outputs": [
        {
          "output_type": "execute_result",
          "data": {
            "text/plain": [
              "4.35"
            ]
          },
          "metadata": {},
          "execution_count": 10
        }
      ]
    },
    {
      "cell_type": "code",
      "source": [
        "#Loja de sapato - 1º semana\n",
        "( 1.000 + 1.200 + 1.400 + 1.100 + 5.000) /5 #média aritmética"
      ],
      "metadata": {
        "colab": {
          "base_uri": "https://localhost:8080/"
        },
        "id": "kuuTHE-e-xsQ",
        "outputId": "61c3feb3-bbdf-45d1-f92b-76a5f9611a1c"
      },
      "execution_count": null,
      "outputs": [
        {
          "output_type": "execute_result",
          "data": {
            "text/plain": [
              "1.94"
            ]
          },
          "metadata": {},
          "execution_count": 11
        }
      ]
    },
    {
      "cell_type": "code",
      "source": [
        "1.000 + 1.100 + 1.200 + 1.400 + 5.000 #MEDIANA: organizou a lista em ordem crescente(ROL), como deu ímpar pega o do meio\n",
        "#mediana: 1.200"
      ],
      "metadata": {
        "id": "Pyx_W8Fg_reR"
      },
      "execution_count": null,
      "outputs": []
    },
    {
      "cell_type": "markdown",
      "source": [
        "Módulo 2: Medidas de separatrizes: São valores que separam o ROL(dados ordenados) em quatro(quartis), dez(decis), ou em cem(percentis) partes iguais. Para a sua correta aplicação, exigi-se que os dados estejam organizados num ROL."
      ],
      "metadata": {
        "id": "QazcfSqFE91Q"
      }
    },
    {
      "cell_type": "code",
      "source": [
        "Base_Dados['sepal_length'].describe() #o comando describe descobre todos os valores dos quartis"
      ],
      "metadata": {
        "colab": {
          "base_uri": "https://localhost:8080/"
        },
        "id": "H79C446sFdMa",
        "outputId": "b99dca35-551a-4260-b459-698d1ffa358e"
      },
      "execution_count": null,
      "outputs": [
        {
          "output_type": "execute_result",
          "data": {
            "text/plain": [
              "count    150.000000\n",
              "mean       5.843333\n",
              "std        0.828066\n",
              "min        4.300000\n",
              "25%        5.100000\n",
              "50%        5.800000\n",
              "75%        6.400000\n",
              "max        7.900000\n",
              "Name: sepal_length, dtype: float64"
            ]
          },
          "metadata": {},
          "execution_count": 13
        }
      ]
    },
    {
      "cell_type": "code",
      "source": [
        "#25%:\n",
        "4.3<-->5.1\n",
        "50%\n",
        "5.1<-->5.8\n",
        "75%:\n",
        "5.8<-->6.4\n",
        "max 7.9\n"
      ],
      "metadata": {
        "id": "1RQ2KaG-FlU6"
      },
      "execution_count": null,
      "outputs": []
    },
    {
      "cell_type": "code",
      "source": [
        "sns.boxplot( Base_Dados['sepal_length'])"
      ],
      "metadata": {
        "colab": {
          "base_uri": "https://localhost:8080/",
          "height": 447
        },
        "id": "gGZa73nZG311",
        "outputId": "6cdfc03a-6a92-43bd-95cb-5f8827052d36"
      },
      "execution_count": null,
      "outputs": [
        {
          "output_type": "execute_result",
          "data": {
            "text/plain": [
              "<Axes: >"
            ]
          },
          "metadata": {},
          "execution_count": 14
        },
        {
          "output_type": "display_data",
          "data": {
            "text/plain": [
              "<Figure size 640x480 with 1 Axes>"
            ],
            "image/png": "[encoded data removed]"
          },
          "metadata": {}
        }
      ]
    },
    {
      "cell_type": "code",
      "source": [],
      "metadata": {
        "id": "GEfyxkETHACQ"
      },
      "execution_count": null,
      "outputs": []
    },
    {
      "cell_type": "markdown",
      "source": [
        "Módulo 3: Medidas de dispersão: Auxiliam nas medidas de tendência central a descrever o conjunto de dados adequadamente. Indicam se os dados estão, ou não, próximos uns aos outros.\n"
      ],
      "metadata": {
        "id": "PyGPLiyeYSW2"
      }
    },
    {
      "cell_type": "code",
      "source": [
        "#1-Amplitude total: é a diferença entre o maior e menor valor observado.\n",
        "Base_Dados['sepal_length'].max() - Base_Dados['sepal_length'].min()"
      ],
      "metadata": {
        "colab": {
          "base_uri": "https://localhost:8080/"
        },
        "id": "jV9YmafTYoJg",
        "outputId": "e8020334-e9c5-4daf-bbfa-01a97081696f"
      },
      "execution_count": null,
      "outputs": [
        {
          "output_type": "execute_result",
          "data": {
            "text/plain": [
              "3.6000000000000005"
            ]
          },
          "metadata": {},
          "execution_count": 15
        }
      ]
    },
    {
      "cell_type": "code",
      "source": [
        "#2-Amplitude interquartílica: é a diferneça entre o terciero e o primeiro quartil. Esta medida é mais estável que a amplitude total por não considerar os valores mais extremos.\n",
        "Base_Dados['sepal_length'].describe()[6:7].values - Base_Dados['sepal_length'].describe()[4:5].values"
      ],
      "metadata": {
        "colab": {
          "base_uri": "https://localhost:8080/"
        },
        "id": "sgusamyJY6FO",
        "outputId": "44826536-7846-4d2c-c5a9-4e2861719bf5"
      },
      "execution_count": null,
      "outputs": [
        {
          "output_type": "execute_result",
          "data": {
            "text/plain": [
              "array([1.3])"
            ]
          },
          "metadata": {},
          "execution_count": 20
        }
      ]
    },
    {
      "cell_type": "code",
      "source": [
        "#3-Amplitude semi-interquarílica: é definida como a média aritmética da diferença entre a mediana e os quartis;\n",
        "(Base_Dados['sepal_length'].describe()[6:7].values - Base_Dados['sepal_length'].describe()[4:5].values ) / 2"
      ],
      "metadata": {
        "colab": {
          "base_uri": "https://localhost:8080/"
        },
        "id": "4_HZNHUxaVHl",
        "outputId": "dda8c449-e71d-4b63-eb9b-9d1164db44b0"
      },
      "execution_count": null,
      "outputs": [
        {
          "output_type": "execute_result",
          "data": {
            "text/plain": [
              "array([0.65])"
            ]
          },
          "metadata": {},
          "execution_count": 23
        }
      ]
    },
    {
      "cell_type": "code",
      "source": [
        "#4-Variância: mostra quão distante os valores estão da média\n",
        "Base_Dados['sepal_length'].var()"
      ],
      "metadata": {
        "colab": {
          "base_uri": "https://localhost:8080/"
        },
        "id": "Bde1ppBAbYXJ",
        "outputId": "c3f62fa1-498e-4c28-93e1-25fc0bdc3952"
      },
      "execution_count": null,
      "outputs": [
        {
          "output_type": "execute_result",
          "data": {
            "text/plain": [
              "0.6856935123042507"
            ]
          },
          "metadata": {},
          "execution_count": 24
        }
      ]
    },
    {
      "cell_type": "code",
      "source": [
        "#5-Desvio padrão: o resultado positivo da raiz quadrada da variência\n",
        "Base_Dados['sepal_length'].std()"
      ],
      "metadata": {
        "colab": {
          "base_uri": "https://localhost:8080/"
        },
        "id": "eG_T5mtVb-y1",
        "outputId": "a1170dd1-88dd-4e12-f8f2-a8861b6e1c18"
      },
      "execution_count": null,
      "outputs": [
        {
          "output_type": "execute_result",
          "data": {
            "text/plain": [
              "0.828066127977863"
            ]
          },
          "metadata": {},
          "execution_count": 25
        }
      ]
    },
    {
      "cell_type": "code",
      "source": [
        "Base_Dados.corr()"
      ],
      "metadata": {
        "colab": {
          "base_uri": "https://localhost:8080/",
          "height": 175
        },
        "id": "J7-3ccXccO56",
        "outputId": "4d4c575f-71ce-4b1d-9c5e-77c9cbb7929d"
      },
      "execution_count": null,
      "outputs": [
        {
          "output_type": "execute_result",
          "data": {
            "text/plain": [
              "              sepal_length  sepal_width  petal_length  petal_width\n",
              "sepal_length      1.000000    -0.117570      0.871754     0.817941\n",
              "sepal_width      -0.117570     1.000000     -0.428440    -0.366126\n",
              "petal_length      0.871754    -0.428440      1.000000     0.962865\n",
              "petal_width       0.817941    -0.366126      0.962865     1.000000"
            ],
            "text/html": [
              "\n",
              "  <div id=\"df-4dcc8e2d-83c8-458c-a728-d2e712cbf647\" class=\"colab-df-container\">\n",
              "    <div>\n",
              "<style scoped>\n",
              "    .dataframe tbody tr th:only-of-type {\n",
              "        vertical-align: middle;\n",
              "    }\n",
              "\n",
              "    .dataframe tbody tr th {\n",
              "        vertical-align: top;\n",
              "    }\n",
              "\n",
              "    .dataframe thead th {\n",
              "        text-align: right;\n",
              "    }\n",
              "</style>\n",
              "<table border=\"1\" class=\"dataframe\">\n",
              "  <thead>\n",
              "    <tr style=\"text-align: right;\">\n",
              "      <th></th>\n",
              "      <th>sepal_length</th>\n",
              "      <th>sepal_width</th>\n",
              "      <th>petal_length</th>\n",
              "      <th>petal_width</th>\n",
              "    </tr>\n",
              "  </thead>\n",
              "  <tbody>\n",
              "    <tr>\n",
              "      <th>sepal_length</th>\n",
              "      <td>1.000000</td>\n",
              "      <td>-0.117570</td>\n",
              "      <td>0.871754</td>\n",
              "      <td>0.817941</td>\n",
              "    </tr>\n",
              "    <tr>\n",
              "      <th>sepal_width</th>\n",
              "      <td>-0.117570</td>\n",
              "      <td>1.000000</td>\n",
              "      <td>-0.428440</td>\n",
              "      <td>-0.366126</td>\n",
              "    </tr>\n",
              "    <tr>\n",
              "      <th>petal_length</th>\n",
              "      <td>0.871754</td>\n",
              "      <td>-0.428440</td>\n",
              "      <td>1.000000</td>\n",
              "      <td>0.962865</td>\n",
              "    </tr>\n",
              "    <tr>\n",
              "      <th>petal_width</th>\n",
              "      <td>0.817941</td>\n",
              "      <td>-0.366126</td>\n",
              "      <td>0.962865</td>\n",
              "      <td>1.000000</td>\n",
              "    </tr>\n",
              "  </tbody>\n",
              "</table>\n",
              "</div>\n",
              "    <div class=\"colab-df-buttons\">\n",
              "\n",
              "  <div class=\"colab-df-container\">\n",
              "    <button class=\"colab-df-convert\" onclick=\"convertToInteractive('df-4dcc8e2d-83c8-458c-a728-d2e712cbf647')\"\n",
              "            title=\"Convert this dataframe to an interactive table.\"\n",
              "            style=\"display:none;\">\n",
              "\n",
              "  <svg xmlns=\"http://www.w3.org/2000/svg\" height=\"24px\" viewBox=\"0 -960 960 960\">\n",
              "    <path d=\"M120-120v-720h720v720H120Zm60-500h600v-160H180v160Zm220 220h160v-160H400v160Zm0 220h160v-160H400v160ZM180-400h160v-160H180v160Zm440 0h160v-160H620v160ZM180-180h160v-160H180v160Zm440 0h160v-160H620v160Z\"/>\n",
              "  </svg>\n",
              "    </button>\n",
              "\n",
              "  <style>\n",
              "    .colab-df-container {\n",
              "      display:flex;\n",
              "      gap: 12px;\n",
              "    }\n",
              "\n",
              "    .colab-df-convert {\n",
              "      background-color: #E8F0FE;\n",
              "      border: none;\n",
              "      border-radius: 50%;\n",
              "      cursor: pointer;\n",
              "      display: none;\n",
              "      fill: #1967D2;\n",
              "      height: 32px;\n",
              "      padding: 0 0 0 0;\n",
              "      width: 32px;\n",
              "    }\n",
              "\n",
              "    .colab-df-convert:hover {\n",
              "      background-color: #E2EBFA;\n",
              "      box-shadow: 0px 1px 2px rgba(60, 64, 67, 0.3), 0px 1px 3px 1px rgba(60, 64, 67, 0.15);\n",
              "      fill: #174EA6;\n",
              "    }\n",
              "\n",
              "    .colab-df-buttons div {\n",
              "      margin-bottom: 4px;\n",
              "    }\n",
              "\n",
              "    [theme=dark] .colab-df-convert {\n",
              "      background-color: #3B4455;\n",
              "      fill: #D2E3FC;\n",
              "    }\n",
              "\n",
              "    [theme=dark] .colab-df-convert:hover {\n",
              "      background-color: #434B5C;\n",
              "      box-shadow: 0px 1px 3px 1px rgba(0, 0, 0, 0.15);\n",
              "      filter: drop-shadow(0px 1px 2px rgba(0, 0, 0, 0.3));\n",
              "      fill: #FFFFFF;\n",
              "    }\n",
              "  </style>\n",
              "\n",
              "    <script>\n",
              "      const buttonEl =\n",
              "        document.querySelector('#df-4dcc8e2d-83c8-458c-a728-d2e712cbf647 button.colab-df-convert');\n",
              "      buttonEl.style.display =\n",
              "        google.colab.kernel.accessAllowed ? 'block' : 'none';\n",
              "\n",
              "      async function convertToInteractive(key) {\n",
              "        const element = document.querySelector('#df-4dcc8e2d-83c8-458c-a728-d2e712cbf647');\n",
              "        const dataTable =\n",
              "          await google.colab.kernel.invokeFunction('convertToInteractive',\n",
              "                                                    [key], {});\n",
              "        if (!dataTable) return;\n",
              "\n",
              "        const docLinkHtml = 'Like what you see? Visit the ' +\n",
              "          '<a target=\"_blank\" href=https://colab.research.google.com/notebooks/data_table.ipynb>data table notebook</a>'\n",
              "          + ' to learn more about interactive tables.';\n",
              "        element.innerHTML = '';\n",
              "        dataTable['output_type'] = 'display_data';\n",
              "        await google.colab.output.renderOutput(dataTable, element);\n",
              "        const docLink = document.createElement('div');\n",
              "        docLink.innerHTML = docLinkHtml;\n",
              "        element.appendChild(docLink);\n",
              "      }\n",
              "    </script>\n",
              "  </div>\n",
              "\n",
              "\n",
              "<div id=\"df-4e6e8b59-ad71-48d2-845c-b2d9042f4b7d\">\n",
              "  <button class=\"colab-df-quickchart\" onclick=\"quickchart('df-4e6e8b59-ad71-48d2-845c-b2d9042f4b7d')\"\n",
              "            title=\"Suggest charts\"\n",
              "            style=\"display:none;\">\n",
              "\n",
              "<svg xmlns=\"http://www.w3.org/2000/svg\" height=\"24px\"viewBox=\"0 0 24 24\"\n",
              "     width=\"24px\">\n",
              "    <g>\n",
              "        <path d=\"M19 3H5c-1.1 0-2 .9-2 2v14c0 1.1.9 2 2 2h14c1.1 0 2-.9 2-2V5c0-1.1-.9-2-2-2zM9 17H7v-7h2v7zm4 0h-2V7h2v10zm4 0h-2v-4h2v4z\"/>\n",
              "    </g>\n",
              "</svg>\n",
              "  </button>\n",
              "\n",
              "<style>\n",
              "  .colab-df-quickchart {\n",
              "      --bg-color: #E8F0FE;\n",
              "      --fill-color: #1967D2;\n",
              "      --hover-bg-color: #E2EBFA;\n",
              "      --hover-fill-color: #174EA6;\n",
              "      --disabled-fill-color: #AAA;\n",
              "      --disabled-bg-color: #DDD;\n",
              "  }\n",
              "\n",
              "  [theme=dark] .colab-df-quickchart {\n",
              "      --bg-color: #3B4455;\n",
              "      --fill-color: #D2E3FC;\n",
              "      --hover-bg-color: #434B5C;\n",
              "      --hover-fill-color: #FFFFFF;\n",
              "      --disabled-bg-color: #3B4455;\n",
              "      --disabled-fill-color: #666;\n",
              "  }\n",
              "\n",
              "  .colab-df-quickchart {\n",
              "    background-color: var(--bg-color);\n",
              "    border: none;\n",
              "    border-radius: 50%;\n",
              "    cursor: pointer;\n",
              "    display: none;\n",
              "    fill: var(--fill-color);\n",
              "    height: 32px;\n",
              "    padding: 0;\n",
              "    width: 32px;\n",
              "  }\n",
              "\n",
              "  .colab-df-quickchart:hover {\n",
              "    background-color: var(--hover-bg-color);\n",
              "    box-shadow: 0 1px 2px rgba(60, 64, 67, 0.3), 0 1px 3px 1px rgba(60, 64, 67, 0.15);\n",
              "    fill: var(--button-hover-fill-color);\n",
              "  }\n",
              "\n",
              "  .colab-df-quickchart-complete:disabled,\n",
              "  .colab-df-quickchart-complete:disabled:hover {\n",
              "    background-color: var(--disabled-bg-color);\n",
              "    fill: var(--disabled-fill-color);\n",
              "    box-shadow: none;\n",
              "  }\n",
              "\n",
              "  .colab-df-spinner {\n",
              "    border: 2px solid var(--fill-color);\n",
              "    border-color: transparent;\n",
              "    border-bottom-color: var(--fill-color);\n",
              "    animation:\n",
              "      spin 1s steps(1) infinite;\n",
              "  }\n",
              "\n",
              "  @keyframes spin {\n",
              "    0% {\n",
              "      border-color: transparent;\n",
              "      border-bottom-color: var(--fill-color);\n",
              "      border-left-color: var(--fill-color);\n",
              "    }\n",
              "    20% {\n",
              "      border-color: transparent;\n",
              "      border-left-color: var(--fill-color);\n",
              "      border-top-color: var(--fill-color);\n",
              "    }\n",
              "    30% {\n",
              "      border-color: transparent;\n",
              "      border-left-color: var(--fill-color);\n",
              "      border-top-color: var(--fill-color);\n",
              "      border-right-color: var(--fill-color);\n",
              "    }\n",
              "    40% {\n",
              "      border-color: transparent;\n",
              "      border-right-color: var(--fill-color);\n",
              "      border-top-color: var(--fill-color);\n",
              "    }\n",
              "    60% {\n",
              "      border-color: transparent;\n",
              "      border-right-color: var(--fill-color);\n",
              "    }\n",
              "    80% {\n",
              "      border-color: transparent;\n",
              "      border-right-color: var(--fill-color);\n",
              "      border-bottom-color: var(--fill-color);\n",
              "    }\n",
              "    90% {\n",
              "      border-color: transparent;\n",
              "      border-bottom-color: var(--fill-color);\n",
              "    }\n",
              "  }\n",
              "</style>\n",
              "\n",
              "  <script>\n",
              "    async function quickchart(key) {\n",
              "      const quickchartButtonEl =\n",
              "        document.querySelector('#' + key + ' button');\n",
              "      quickchartButtonEl.disabled = true;  // To prevent multiple clicks.\n",
              "      quickchartButtonEl.classList.add('colab-df-spinner');\n",
              "      try {\n",
              "        const charts = await google.colab.kernel.invokeFunction(\n",
              "            'suggestCharts', [key], {});\n",
              "      } catch (error) {\n",
              "        console.error('Error during call to suggestCharts:', error);\n",
              "      }\n",
              "      quickchartButtonEl.classList.remove('colab-df-spinner');\n",
              "      quickchartButtonEl.classList.add('colab-df-quickchart-complete');\n",
              "    }\n",
              "    (() => {\n",
              "      let quickchartButtonEl =\n",
              "        document.querySelector('#df-4e6e8b59-ad71-48d2-845c-b2d9042f4b7d button');\n",
              "      quickchartButtonEl.style.display =\n",
              "        google.colab.kernel.accessAllowed ? 'block' : 'none';\n",
              "    })();\n",
              "  </script>\n",
              "</div>\n",
              "    </div>\n",
              "  </div>\n"
            ]
          },
          "metadata": {},
          "execution_count": 26
        }
      ]
    },
    {
      "cell_type": "code",
      "source": [],
      "metadata": {
        "id": "OqUgnZ-Nr6iI"
      },
      "execution_count": null,
      "outputs": []
    },
    {
      "cell_type": "markdown",
      "source": [
        "Numpy: fornece um grande conjunto de funçõese operações de bibliotecas que ajudam os programadores a executar facilmente calculos númericos. Mas em numpy, as dimensões são chamadas de eixo. O número de eixo é classificado. Em termos mais simples, quando você tem mais de uma matriz unidimnensional, então o conceito do eixo surge. Por ex, a matriz 2D tem dois eixos."
      ],
      "metadata": {
        "id": "Emgnr9mj_rqu"
      }
    },
    {
      "cell_type": "code",
      "source": [
        "#importar a lib\n",
        "import numpy as np"
      ],
      "metadata": {
        "id": "mDm4TBbLAZOE"
      },
      "execution_count": null,
      "outputs": []
    },
    {
      "cell_type": "code",
      "source": [
        "#versão\n",
        "print( np.__version__ )"
      ],
      "metadata": {
        "colab": {
          "base_uri": "https://localhost:8080/"
        },
        "id": "d8HoQPICAbXM",
        "outputId": "cd9cf4d9-1827-4bcf-ac6d-3b7d208f03cc"
      },
      "execution_count": null,
      "outputs": [
        {
          "output_type": "stream",
          "name": "stdout",
          "text": [
            "1.23.5\n"
          ]
        }
      ]
    },
    {
      "cell_type": "code",
      "source": [
        "#criar uma matriz\n",
        "np.array([10,20,30,40,50])"
      ],
      "metadata": {
        "colab": {
          "base_uri": "https://localhost:8080/"
        },
        "id": "yFz6EHS2ApTD",
        "outputId": "88425f18-7323-4cfc-9d67-59e6815bd061"
      },
      "execution_count": null,
      "outputs": [
        {
          "output_type": "execute_result",
          "data": {
            "text/plain": [
              "array([10, 20, 30, 40, 50])"
            ]
          },
          "metadata": {},
          "execution_count": 6
        }
      ]
    },
    {
      "cell_type": "code",
      "source": [
        "#Tipo\n",
        "type( Array )"
      ],
      "metadata": {
        "colab": {
          "base_uri": "https://localhost:8080/",
          "height": 192
        },
        "id": "EDakRTV6BA-t",
        "outputId": "b59780a5-1679-40af-8eb5-19bd03feafca"
      },
      "execution_count": null,
      "outputs": [
        {
          "output_type": "error",
          "ename": "NameError",
          "evalue": "ignored",
          "traceback": [
            "\u001b[0;31m---------------------------------------------------------------------------\u001b[0m",
            "\u001b[0;31mNameError\u001b[0m                                 Traceback (most recent call last)",
            "\u001b[0;32m<ipython-input-8-5dcf7ba7b7ab>\u001b[0m in \u001b[0;36m<cell line: 2>\u001b[0;34m()\u001b[0m\n\u001b[1;32m      1\u001b[0m \u001b[0;31m#Tipo\u001b[0m\u001b[0;34m\u001b[0m\u001b[0;34m\u001b[0m\u001b[0m\n\u001b[0;32m----> 2\u001b[0;31m \u001b[0mtype\u001b[0m\u001b[0;34m(\u001b[0m \u001b[0mArray\u001b[0m \u001b[0;34m)\u001b[0m\u001b[0;34m\u001b[0m\u001b[0;34m\u001b[0m\u001b[0m\n\u001b[0m",
            "\u001b[0;31mNameError\u001b[0m: name 'Array' is not defined"
          ]
        }
      ]
    },
    {
      "cell_type": "code",
      "source": [
        "Duas = np.array(\n",
        "    [[10,9,8,7,6],\n",
        "      [5,4,3,2,1]]\n",
        ")"
      ],
      "metadata": {
        "id": "mLXYDjAJBgj3"
      },
      "execution_count": null,
      "outputs": []
    },
    {
      "cell_type": "code",
      "source": [
        "print( Duas)"
      ],
      "metadata": {
        "colab": {
          "base_uri": "https://localhost:8080/"
        },
        "id": "3awUEaEACLQO",
        "outputId": "f94759fc-8829-4add-abaf-985a760b0b42"
      },
      "execution_count": null,
      "outputs": [
        {
          "output_type": "stream",
          "name": "stdout",
          "text": [
            "[[10  9  8  7  6]\n",
            " [ 5  4  3  2  1]]\n"
          ]
        }
      ]
    },
    {
      "cell_type": "code",
      "source": [
        "Tres = np.array(\n",
        "    [[15,14,13,12,11],\n",
        "     [10,9,8,7,6],\n",
        "     [5,4,3,2,1]]\n",
        ")"
      ],
      "metadata": {
        "id": "e4sI76CuDmCj"
      },
      "execution_count": null,
      "outputs": []
    },
    {
      "cell_type": "code",
      "source": [
        "print( Tres)"
      ],
      "metadata": {
        "colab": {
          "base_uri": "https://localhost:8080/"
        },
        "id": "dwcUAOkhEK8-",
        "outputId": "9326d95d-de62-4ea0-e8f8-d60ca229b0aa"
      },
      "execution_count": null,
      "outputs": [
        {
          "output_type": "stream",
          "name": "stdout",
          "text": [
            "[[15 14 13 12 11]\n",
            " [10  9  8  7  6]\n",
            " [ 5  4  3  2  1]]\n"
          ]
        }
      ]
    },
    {
      "cell_type": "code",
      "source": [
        "#Experimento de processamento\n",
        "Estressando_NP = np.arange (1000000)\n",
        "Estressando_NP_02 = np.arange (5000000)\n",
        "Estressando_NP_03 = np.arange (100000000)\n",
        "Estressando_NP_04 = np.arange (5000000)"
      ],
      "metadata": {
        "id": "rKSgvQ8GEP_4"
      },
      "execution_count": null,
      "outputs": []
    },
    {
      "cell_type": "code",
      "source": [
        "print( Estressando_NP)"
      ],
      "metadata": {
        "colab": {
          "base_uri": "https://localhost:8080/"
        },
        "id": "YW8TbPf7E32y",
        "outputId": "b081716b-4c3c-4573-d5a6-6f4397fad408"
      },
      "execution_count": null,
      "outputs": [
        {
          "output_type": "stream",
          "name": "stdout",
          "text": [
            "[ 0  1  2  3  4  5  6  7  8  9 10 11 12 13 14 15 16 17 18 19 20 21 22 23\n",
            " 24 25 26 27 28 29 30 31 32 33 34 35 36 37 38 39 40 41 42 43 44 45 46 47\n",
            " 48 49 50 51 52 53 54 55 56 57 58 59 60 61 62 63 64 65 66 67 68 69 70 71\n",
            " 72 73 74 75 76 77 78 79 80 81 82 83 84 85 86 87 88 89 90 91 92 93 94 95\n",
            " 96 97 98 99]\n"
          ]
        }
      ]
    },
    {
      "cell_type": "code",
      "source": [],
      "metadata": {
        "id": "Yv6tvxKiE97h"
      },
      "execution_count": null,
      "outputs": []
    },
    {
      "cell_type": "code",
      "source": [
        "# 1º teste:\n",
        "%time for Loop in Estressando_NP: pass"
      ],
      "metadata": {
        "colab": {
          "base_uri": "https://localhost:8080/"
        },
        "id": "5bOlBLU-FN10",
        "outputId": "94f2046d-74fd-437d-88fe-eee57f8eb663"
      },
      "execution_count": null,
      "outputs": [
        {
          "output_type": "stream",
          "name": "stdout",
          "text": [
            "CPU times: user 13 µs, sys: 2 µs, total: 15 µs\n",
            "Wall time: 17.9 µs\n"
          ]
        }
      ]
    },
    {
      "cell_type": "code",
      "source": [
        "for Loop in range(10):\n",
        "  print(Loop)"
      ],
      "metadata": {
        "colab": {
          "base_uri": "https://localhost:8080/"
        },
        "id": "lzFo9WrrFYl3",
        "outputId": "80452384-e35f-4590-fb09-8722ecdbea9b"
      },
      "execution_count": null,
      "outputs": [
        {
          "output_type": "stream",
          "name": "stdout",
          "text": [
            "0\n",
            "1\n",
            "2\n",
            "3\n",
            "4\n",
            "5\n",
            "6\n",
            "7\n",
            "8\n",
            "9\n"
          ]
        }
      ]
    },
    {
      "cell_type": "code",
      "source": [
        "import pandas as pd"
      ],
      "metadata": {
        "id": "fiv2ATZRFhTS"
      },
      "execution_count": null,
      "outputs": []
    },
    {
      "cell_type": "code",
      "source": [
        "pd.DataFrame( Array, colunas{'Vetor 1 Dimensao'})"
      ],
      "metadata": {
        "colab": {
          "base_uri": "https://localhost:8080/",
          "height": 140
        },
        "id": "8N5RB6imNvhT",
        "outputId": "36cad224-d120-42f8-f8a9-02b6c1d4107d"
      },
      "execution_count": null,
      "outputs": [
        {
          "output_type": "error",
          "ename": "SyntaxError",
          "evalue": "ignored",
          "traceback": [
            "\u001b[0;36m  File \u001b[0;32m\"<ipython-input-25-ee89882ab259>\"\u001b[0;36m, line \u001b[0;32m1\u001b[0m\n\u001b[0;31m    pd.DataFrame( Array, colunas{'Vetor 1 Dimensao'})\u001b[0m\n\u001b[0m                         ^\u001b[0m\n\u001b[0;31mSyntaxError\u001b[0m\u001b[0;31m:\u001b[0m invalid syntax. Perhaps you forgot a comma?\n"
          ]
        }
      ]
    },
    {
      "cell_type": "code",
      "source": [
        "#Importar as bibliotecas\n",
        "import numpy as np\n",
        "import pandas as pd\n",
        "import matplotlib.pyplot as plt\n",
        "import seaborn as sns\n",
        "\n",
        "import warnings #para ignoar alguns avisos\n",
        "warnings.filterwarnings('ignore')"
      ],
      "metadata": {
        "id": "fvH4HdbtN9k-"
      },
      "execution_count": null,
      "outputs": []
    },
    {
      "cell_type": "markdown",
      "source": [],
      "metadata": {
        "id": "Lv7xuU4iTwKr"
      }
    },
    {
      "cell_type": "code",
      "source": [
        "#Ler os dados\n",
        "Base_Dados = pd.read_csv('Startups in 2021 end.csv')\n",
        "\n",
        "#Verificar dimensão\n",
        "Base_Dados.shape"
      ],
      "metadata": {
        "id": "pVZoTT7xOROd",
        "outputId": "8918198c-72bd-41fc-c864-a9da79416bc6",
        "colab": {
          "base_uri": "https://localhost:8080/",
          "height": 390
        }
      },
      "execution_count": null,
      "outputs": [
        {
          "output_type": "error",
          "ename": "FileNotFoundError",
          "evalue": "ignored",
          "traceback": [
            "\u001b[0;31m---------------------------------------------------------------------------\u001b[0m",
            "\u001b[0;31mFileNotFoundError\u001b[0m                         Traceback (most recent call last)",
            "\u001b[0;32m<ipython-input-2-f71aadf96673>\u001b[0m in \u001b[0;36m<cell line: 2>\u001b[0;34m()\u001b[0m\n\u001b[1;32m      1\u001b[0m \u001b[0;31m#Ler os dados\u001b[0m\u001b[0;34m\u001b[0m\u001b[0;34m\u001b[0m\u001b[0m\n\u001b[0;32m----> 2\u001b[0;31m \u001b[0mBase_Dados\u001b[0m \u001b[0;34m=\u001b[0m \u001b[0mpd\u001b[0m\u001b[0;34m.\u001b[0m\u001b[0mread_csv\u001b[0m\u001b[0;34m(\u001b[0m\u001b[0;34m'Startups in 2021 end.csv'\u001b[0m\u001b[0;34m)\u001b[0m\u001b[0;34m\u001b[0m\u001b[0;34m\u001b[0m\u001b[0m\n\u001b[0m\u001b[1;32m      3\u001b[0m \u001b[0;34m\u001b[0m\u001b[0m\n\u001b[1;32m      4\u001b[0m \u001b[0;31m#Verificar dimensão\u001b[0m\u001b[0;34m\u001b[0m\u001b[0;34m\u001b[0m\u001b[0m\n\u001b[1;32m      5\u001b[0m \u001b[0mBase_Dados\u001b[0m\u001b[0;34m.\u001b[0m\u001b[0mshape\u001b[0m\u001b[0;34m\u001b[0m\u001b[0;34m\u001b[0m\u001b[0m\n",
            "\u001b[0;32m/usr/local/lib/python3.10/dist-packages/pandas/util/_decorators.py\u001b[0m in \u001b[0;36mwrapper\u001b[0;34m(*args, **kwargs)\u001b[0m\n\u001b[1;32m    209\u001b[0m                 \u001b[0;32melse\u001b[0m\u001b[0;34m:\u001b[0m\u001b[0;34m\u001b[0m\u001b[0;34m\u001b[0m\u001b[0m\n\u001b[1;32m    210\u001b[0m                     \u001b[0mkwargs\u001b[0m\u001b[0;34m[\u001b[0m\u001b[0mnew_arg_name\u001b[0m\u001b[0;34m]\u001b[0m \u001b[0;34m=\u001b[0m \u001b[0mnew_arg_value\u001b[0m\u001b[0;34m\u001b[0m\u001b[0;34m\u001b[0m\u001b[0m\n\u001b[0;32m--> 211\u001b[0;31m             \u001b[0;32mreturn\u001b[0m \u001b[0mfunc\u001b[0m\u001b[0;34m(\u001b[0m\u001b[0;34m*\u001b[0m\u001b[0margs\u001b[0m\u001b[0;34m,\u001b[0m \u001b[0;34m**\u001b[0m\u001b[0mkwargs\u001b[0m\u001b[0;34m)\u001b[0m\u001b[0;34m\u001b[0m\u001b[0;34m\u001b[0m\u001b[0m\n\u001b[0m\u001b[1;32m    212\u001b[0m \u001b[0;34m\u001b[0m\u001b[0m\n\u001b[1;32m    213\u001b[0m         \u001b[0;32mreturn\u001b[0m \u001b[0mcast\u001b[0m\u001b[0;34m(\u001b[0m\u001b[0mF\u001b[0m\u001b[0;34m,\u001b[0m \u001b[0mwrapper\u001b[0m\u001b[0;34m)\u001b[0m\u001b[0;34m\u001b[0m\u001b[0;34m\u001b[0m\u001b[0m\n",
            "\u001b[0;32m/usr/local/lib/python3.10/dist-packages/pandas/util/_decorators.py\u001b[0m in \u001b[0;36mwrapper\u001b[0;34m(*args, **kwargs)\u001b[0m\n\u001b[1;32m    329\u001b[0m                     \u001b[0mstacklevel\u001b[0m\u001b[0;34m=\u001b[0m\u001b[0mfind_stack_level\u001b[0m\u001b[0;34m(\u001b[0m\u001b[0;34m)\u001b[0m\u001b[0;34m,\u001b[0m\u001b[0;34m\u001b[0m\u001b[0;34m\u001b[0m\u001b[0m\n\u001b[1;32m    330\u001b[0m                 )\n\u001b[0;32m--> 331\u001b[0;31m             \u001b[0;32mreturn\u001b[0m \u001b[0mfunc\u001b[0m\u001b[0;34m(\u001b[0m\u001b[0;34m*\u001b[0m\u001b[0margs\u001b[0m\u001b[0;34m,\u001b[0m \u001b[0;34m**\u001b[0m\u001b[0mkwargs\u001b[0m\u001b[0;34m)\u001b[0m\u001b[0;34m\u001b[0m\u001b[0;34m\u001b[0m\u001b[0m\n\u001b[0m\u001b[1;32m    332\u001b[0m \u001b[0;34m\u001b[0m\u001b[0m\n\u001b[1;32m    333\u001b[0m         \u001b[0;31m# error: \"Callable[[VarArg(Any), KwArg(Any)], Any]\" has no\u001b[0m\u001b[0;34m\u001b[0m\u001b[0;34m\u001b[0m\u001b[0m\n",
            "\u001b[0;32m/usr/local/lib/python3.10/dist-packages/pandas/io/parsers/readers.py\u001b[0m in \u001b[0;36mread_csv\u001b[0;34m(filepath_or_buffer, sep, delimiter, header, names, index_col, usecols, squeeze, prefix, mangle_dupe_cols, dtype, engine, converters, true_values, false_values, skipinitialspace, skiprows, skipfooter, nrows, na_values, keep_default_na, na_filter, verbose, skip_blank_lines, parse_dates, infer_datetime_format, keep_date_col, date_parser, dayfirst, cache_dates, iterator, chunksize, compression, thousands, decimal, lineterminator, quotechar, quoting, doublequote, escapechar, comment, encoding, encoding_errors, dialect, error_bad_lines, warn_bad_lines, on_bad_lines, delim_whitespace, low_memory, memory_map, float_precision, storage_options)\u001b[0m\n\u001b[1;32m    948\u001b[0m     \u001b[0mkwds\u001b[0m\u001b[0;34m.\u001b[0m\u001b[0mupdate\u001b[0m\u001b[0;34m(\u001b[0m\u001b[0mkwds_defaults\u001b[0m\u001b[0;34m)\u001b[0m\u001b[0;34m\u001b[0m\u001b[0;34m\u001b[0m\u001b[0m\n\u001b[1;32m    949\u001b[0m \u001b[0;34m\u001b[0m\u001b[0m\n\u001b[0;32m--> 950\u001b[0;31m     \u001b[0;32mreturn\u001b[0m \u001b[0m_read\u001b[0m\u001b[0;34m(\u001b[0m\u001b[0mfilepath_or_buffer\u001b[0m\u001b[0;34m,\u001b[0m \u001b[0mkwds\u001b[0m\u001b[0;34m)\u001b[0m\u001b[0;34m\u001b[0m\u001b[0;34m\u001b[0m\u001b[0m\n\u001b[0m\u001b[1;32m    951\u001b[0m \u001b[0;34m\u001b[0m\u001b[0m\n\u001b[1;32m    952\u001b[0m \u001b[0;34m\u001b[0m\u001b[0m\n",
            "\u001b[0;32m/usr/local/lib/python3.10/dist-packages/pandas/io/parsers/readers.py\u001b[0m in \u001b[0;36m_read\u001b[0;34m(filepath_or_buffer, kwds)\u001b[0m\n\u001b[1;32m    603\u001b[0m \u001b[0;34m\u001b[0m\u001b[0m\n\u001b[1;32m    604\u001b[0m     \u001b[0;31m# Create the parser.\u001b[0m\u001b[0;34m\u001b[0m\u001b[0;34m\u001b[0m\u001b[0m\n\u001b[0;32m--> 605\u001b[0;31m     \u001b[0mparser\u001b[0m \u001b[0;34m=\u001b[0m \u001b[0mTextFileReader\u001b[0m\u001b[0;34m(\u001b[0m\u001b[0mfilepath_or_buffer\u001b[0m\u001b[0;34m,\u001b[0m \u001b[0;34m**\u001b[0m\u001b[0mkwds\u001b[0m\u001b[0;34m)\u001b[0m\u001b[0;34m\u001b[0m\u001b[0;34m\u001b[0m\u001b[0m\n\u001b[0m\u001b[1;32m    606\u001b[0m \u001b[0;34m\u001b[0m\u001b[0m\n\u001b[1;32m    607\u001b[0m     \u001b[0;32mif\u001b[0m \u001b[0mchunksize\u001b[0m \u001b[0;32mor\u001b[0m \u001b[0miterator\u001b[0m\u001b[0;34m:\u001b[0m\u001b[0;34m\u001b[0m\u001b[0;34m\u001b[0m\u001b[0m\n",
            "\u001b[0;32m/usr/local/lib/python3.10/dist-packages/pandas/io/parsers/readers.py\u001b[0m in \u001b[0;36m__init__\u001b[0;34m(self, f, engine, **kwds)\u001b[0m\n\u001b[1;32m   1440\u001b[0m \u001b[0;34m\u001b[0m\u001b[0m\n\u001b[1;32m   1441\u001b[0m         \u001b[0mself\u001b[0m\u001b[0;34m.\u001b[0m\u001b[0mhandles\u001b[0m\u001b[0;34m:\u001b[0m \u001b[0mIOHandles\u001b[0m \u001b[0;34m|\u001b[0m \u001b[0;32mNone\u001b[0m \u001b[0;34m=\u001b[0m \u001b[0;32mNone\u001b[0m\u001b[0;34m\u001b[0m\u001b[0;34m\u001b[0m\u001b[0m\n\u001b[0;32m-> 1442\u001b[0;31m         \u001b[0mself\u001b[0m\u001b[0;34m.\u001b[0m\u001b[0m_engine\u001b[0m \u001b[0;34m=\u001b[0m \u001b[0mself\u001b[0m\u001b[0;34m.\u001b[0m\u001b[0m_make_engine\u001b[0m\u001b[0;34m(\u001b[0m\u001b[0mf\u001b[0m\u001b[0;34m,\u001b[0m \u001b[0mself\u001b[0m\u001b[0;34m.\u001b[0m\u001b[0mengine\u001b[0m\u001b[0;34m)\u001b[0m\u001b[0;34m\u001b[0m\u001b[0;34m\u001b[0m\u001b[0m\n\u001b[0m\u001b[1;32m   1443\u001b[0m \u001b[0;34m\u001b[0m\u001b[0m\n\u001b[1;32m   1444\u001b[0m     \u001b[0;32mdef\u001b[0m \u001b[0mclose\u001b[0m\u001b[0;34m(\u001b[0m\u001b[0mself\u001b[0m\u001b[0;34m)\u001b[0m \u001b[0;34m->\u001b[0m \u001b[0;32mNone\u001b[0m\u001b[0;34m:\u001b[0m\u001b[0;34m\u001b[0m\u001b[0;34m\u001b[0m\u001b[0m\n",
            "\u001b[0;32m/usr/local/lib/python3.10/dist-packages/pandas/io/parsers/readers.py\u001b[0m in \u001b[0;36m_make_engine\u001b[0;34m(self, f, engine)\u001b[0m\n\u001b[1;32m   1733\u001b[0m                 \u001b[0;32mif\u001b[0m \u001b[0;34m\"b\"\u001b[0m \u001b[0;32mnot\u001b[0m \u001b[0;32min\u001b[0m \u001b[0mmode\u001b[0m\u001b[0;34m:\u001b[0m\u001b[0;34m\u001b[0m\u001b[0;34m\u001b[0m\u001b[0m\n\u001b[1;32m   1734\u001b[0m                     \u001b[0mmode\u001b[0m \u001b[0;34m+=\u001b[0m \u001b[0;34m\"b\"\u001b[0m\u001b[0;34m\u001b[0m\u001b[0;34m\u001b[0m\u001b[0m\n\u001b[0;32m-> 1735\u001b[0;31m             self.handles = get_handle(\n\u001b[0m\u001b[1;32m   1736\u001b[0m                 \u001b[0mf\u001b[0m\u001b[0;34m,\u001b[0m\u001b[0;34m\u001b[0m\u001b[0;34m\u001b[0m\u001b[0m\n\u001b[1;32m   1737\u001b[0m                 \u001b[0mmode\u001b[0m\u001b[0;34m,\u001b[0m\u001b[0;34m\u001b[0m\u001b[0;34m\u001b[0m\u001b[0m\n",
            "\u001b[0;32m/usr/local/lib/python3.10/dist-packages/pandas/io/common.py\u001b[0m in \u001b[0;36mget_handle\u001b[0;34m(path_or_buf, mode, encoding, compression, memory_map, is_text, errors, storage_options)\u001b[0m\n\u001b[1;32m    854\u001b[0m         \u001b[0;32mif\u001b[0m \u001b[0mioargs\u001b[0m\u001b[0;34m.\u001b[0m\u001b[0mencoding\u001b[0m \u001b[0;32mand\u001b[0m \u001b[0;34m\"b\"\u001b[0m \u001b[0;32mnot\u001b[0m \u001b[0;32min\u001b[0m \u001b[0mioargs\u001b[0m\u001b[0;34m.\u001b[0m\u001b[0mmode\u001b[0m\u001b[0;34m:\u001b[0m\u001b[0;34m\u001b[0m\u001b[0;34m\u001b[0m\u001b[0m\n\u001b[1;32m    855\u001b[0m             \u001b[0;31m# Encoding\u001b[0m\u001b[0;34m\u001b[0m\u001b[0;34m\u001b[0m\u001b[0m\n\u001b[0;32m--> 856\u001b[0;31m             handle = open(\n\u001b[0m\u001b[1;32m    857\u001b[0m                 \u001b[0mhandle\u001b[0m\u001b[0;34m,\u001b[0m\u001b[0;34m\u001b[0m\u001b[0;34m\u001b[0m\u001b[0m\n\u001b[1;32m    858\u001b[0m                 \u001b[0mioargs\u001b[0m\u001b[0;34m.\u001b[0m\u001b[0mmode\u001b[0m\u001b[0;34m,\u001b[0m\u001b[0;34m\u001b[0m\u001b[0;34m\u001b[0m\u001b[0m\n",
            "\u001b[0;31mFileNotFoundError\u001b[0m: [Errno 2] No such file or directory: 'Startups in 2021 end.csv'"
          ]
        }
      ]
    },
    {
      "cell_type": "code",
      "source": [],
      "metadata": {
        "id": "rj3jv_1ZORpi"
      },
      "execution_count": null,
      "outputs": []
    }
  ]
}