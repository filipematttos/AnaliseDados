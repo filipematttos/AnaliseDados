{
  "nbformat": 4,
  "nbformat_minor": 0,
  "metadata": {
    "colab": {
      "provenance": [],
      "include_colab_link": true
    },
    "kernelspec": {
      "name": "python3",
      "display_name": "Python 3"
    },
    "language_info": {
      "name": "python"
    }
  },
  "cells": [
    {
      "cell_type": "markdown",
      "metadata": {
        "id": "view-in-github",
        "colab_type": "text"
      },
      "source": [
        "<a href=\"https://colab.research.google.com/github/filipematttos/AnaliseDados/blob/main/dicion%C3%A1rios.ipynb\" target=\"_parent\"><img src=\"https://colab.research.google.com/assets/colab-badge.svg\" alt=\"Open In Colab\"/></a>"
      ]
    },
    {
      "cell_type": "markdown",
      "source": [
        "DICIONÁRIOS { }"
      ],
      "metadata": {
        "id": "TUAWYzT4tBqb"
      }
    },
    {
      "cell_type": "code",
      "source": [
        "pessoas = {'Pedro': 18, 'Luana': 23, 'Francisco': 42}"
      ],
      "metadata": {
        "id": "peC4svF7tR7d"
      },
      "execution_count": null,
      "outputs": []
    },
    {
      "cell_type": "code",
      "source": [],
      "metadata": {
        "id": "RHB0stbEuZRC"
      },
      "execution_count": null,
      "outputs": []
    },
    {
      "cell_type": "code",
      "source": [
        "print(pessoas)"
      ],
      "metadata": {
        "colab": {
          "base_uri": "https://localhost:8080/"
        },
        "id": "gLZ_1qPMtfjF",
        "outputId": "30b8a9ef-fb06-4f20-d121-4ef652925be5"
      },
      "execution_count": null,
      "outputs": [
        {
          "output_type": "stream",
          "name": "stdout",
          "text": [
            "{'Pedro': 18, 'Luana': 23, 'Francisco': 42}\n"
          ]
        }
      ]
    },
    {
      "cell_type": "code",
      "source": [
        "type(pessoas) #para ver o tipo de dados"
      ],
      "metadata": {
        "colab": {
          "base_uri": "https://localhost:8080/"
        },
        "id": "GdpZzyIrtiRn",
        "outputId": "2a922491-cfa9-4b7e-c67a-49ac1c2deb25"
      },
      "execution_count": null,
      "outputs": [
        {
          "output_type": "execute_result",
          "data": {
            "text/plain": [
              "dict"
            ]
          },
          "metadata": {},
          "execution_count": 12
        }
      ]
    },
    {
      "cell_type": "code",
      "source": [
        "dicionario1 = {} #criar um dicionário vazio\n",
        "dicionario2 = dict() #cria um dicionário vazio\n"
      ],
      "metadata": {
        "id": "65LF43Ootstd"
      },
      "execution_count": null,
      "outputs": []
    },
    {
      "cell_type": "code",
      "source": [
        "pessoas['Carla'] = 18 #insere um novo elemento ao dicionário\n",
        "pessoas"
      ],
      "metadata": {
        "colab": {
          "base_uri": "https://localhost:8080/"
        },
        "id": "antsHGoQuA2b",
        "outputId": "8b830aa3-d795-435f-ea39-e92bf2e7245e"
      },
      "execution_count": null,
      "outputs": [
        {
          "output_type": "execute_result",
          "data": {
            "text/plain": [
              "{'Pedro': 18, 'Luana': 23, 'Francisco': 42, 'Carla': 18}"
            ]
          },
          "metadata": {},
          "execution_count": 13
        }
      ]
    },
    {
      "cell_type": "code",
      "source": [
        "pessoas.keys() #retona as chaves do dicionário"
      ],
      "metadata": {
        "colab": {
          "base_uri": "https://localhost:8080/"
        },
        "id": "drs6hWN0tnpn",
        "outputId": "60da0a73-9af8-4d89-e339-93e92e32375c"
      },
      "execution_count": null,
      "outputs": [
        {
          "output_type": "execute_result",
          "data": {
            "text/plain": [
              "dict_keys(['Pedro', 'Luana', 'Francisco', 'Carla'])"
            ]
          },
          "metadata": {},
          "execution_count": 15
        }
      ]
    },
    {
      "cell_type": "code",
      "source": [
        "pessoas.values() #retorna os valores das chaves"
      ],
      "metadata": {
        "colab": {
          "base_uri": "https://localhost:8080/"
        },
        "id": "BfdyHEU3uVnl",
        "outputId": "e2636ef1-a46f-4576-ef66-9660ae57a445"
      },
      "execution_count": null,
      "outputs": [
        {
          "output_type": "execute_result",
          "data": {
            "text/plain": [
              "dict_values([18, 23, 42, 18])"
            ]
          },
          "metadata": {},
          "execution_count": 16
        }
      ]
    },
    {
      "cell_type": "code",
      "source": [
        "pessoas.items() #retorna todos os elementos do dicionário"
      ],
      "metadata": {
        "colab": {
          "base_uri": "https://localhost:8080/"
        },
        "id": "R9SGExVGup6q",
        "outputId": "6f7714ee-beff-437a-b71b-506ef7ff6ce9"
      },
      "execution_count": null,
      "outputs": [
        {
          "output_type": "execute_result",
          "data": {
            "text/plain": [
              "dict_items([('Pedro', 18), ('Luana', 23), ('Francisco', 42), ('Carla', 18)])"
            ]
          },
          "metadata": {},
          "execution_count": 17
        }
      ]
    },
    {
      "cell_type": "code",
      "source": [
        "pessoas1 = {'nome': 'Fernando','idade': 21, 'nome': 'Gustavo', 'idade': 18} #pergunta de prova: Em um dicionário não é possível colocar duas chaves com o mesmo nome, pois se colocar, ele vai sobrepor."
      ],
      "metadata": {
        "id": "YnaUj5WcvRiJ"
      },
      "execution_count": null,
      "outputs": []
    },
    {
      "cell_type": "code",
      "source": [
        "pessoas1"
      ],
      "metadata": {
        "colab": {
          "base_uri": "https://localhost:8080/"
        },
        "id": "O_02ctWJufzk",
        "outputId": "4a9395a5-402f-4071-9c2b-32506913f03f"
      },
      "execution_count": null,
      "outputs": [
        {
          "output_type": "execute_result",
          "data": {
            "text/plain": [
              "{'nome1': 'Fernando',\n",
              " 'idade1': 21,\n",
              " 'nome2': 'Gustavo',\n",
              " 'idade2': 18,\n",
              " 'sexo': 'M'}"
            ]
          },
          "metadata": {},
          "execution_count": 26
        }
      ]
    },
    {
      "cell_type": "code",
      "source": [
        "pessoas1['sexo'] = 'M' #acrescenta a chave 'sexo' e o valor 'm'"
      ],
      "metadata": {
        "id": "75FN4LpQwQSB"
      },
      "execution_count": null,
      "outputs": []
    },
    {
      "cell_type": "code",
      "source": [
        "pessoas1"
      ],
      "metadata": {
        "colab": {
          "base_uri": "https://localhost:8080/"
        },
        "id": "FTX8FwrRxWcL",
        "outputId": "5adf20ae-e44d-40cf-b5ad-d06503517316"
      },
      "execution_count": null,
      "outputs": [
        {
          "output_type": "execute_result",
          "data": {
            "text/plain": [
              "{'nome1': 'Fernando',\n",
              " 'idade1': 21,\n",
              " 'nome2': 'Gustavo',\n",
              " 'idade2': 18,\n",
              " 'sexo': 'M'}"
            ]
          },
          "metadata": {},
          "execution_count": 24
        }
      ]
    },
    {
      "cell_type": "code",
      "source": [
        "pessoas1"
      ],
      "metadata": {
        "colab": {
          "base_uri": "https://localhost:8080/"
        },
        "id": "uwKQJ_a7xZJu",
        "outputId": "6f7f0a35-f9b7-4226-ad08-94d3e1b5cf54"
      },
      "execution_count": null,
      "outputs": [
        {
          "output_type": "execute_result",
          "data": {
            "text/plain": [
              "{'nome1': 'Fernando',\n",
              " 'idade1': 21,\n",
              " 'nome2': 'Gustavo',\n",
              " 'idade2': 18,\n",
              " 'sexo': 'M'}"
            ]
          },
          "metadata": {},
          "execution_count": 25
        }
      ]
    },
    {
      "cell_type": "code",
      "source": [
        "del pessoas1['idade'] #apaga a chave 'idade1'\n",
        "\n",
        "pessoas1"
      ],
      "metadata": {
        "colab": {
          "base_uri": "https://localhost:8080/",
          "height": 200
        },
        "id": "SSGxCFC9xj4e",
        "outputId": "fe9a5fc5-d499-4a6c-f686-2201c8ce82a5"
      },
      "execution_count": null,
      "outputs": [
        {
          "output_type": "error",
          "ename": "NameError",
          "evalue": "ignored",
          "traceback": [
            "\u001b[0;31m---------------------------------------------------------------------------\u001b[0m",
            "\u001b[0;31mNameError\u001b[0m                                 Traceback (most recent call last)",
            "\u001b[0;32m<ipython-input-2-fecb73c64e7e>\u001b[0m in \u001b[0;36m<cell line: 1>\u001b[0;34m()\u001b[0m\n\u001b[0;32m----> 1\u001b[0;31m \u001b[0;32mdel\u001b[0m \u001b[0mpessoas1\u001b[0m\u001b[0;34m[\u001b[0m\u001b[0;34m'idade'\u001b[0m\u001b[0;34m]\u001b[0m \u001b[0;31m#apaga a chave 'idade1'\u001b[0m\u001b[0;34m\u001b[0m\u001b[0;34m\u001b[0m\u001b[0m\n\u001b[0m\u001b[1;32m      2\u001b[0m \u001b[0;34m\u001b[0m\u001b[0m\n\u001b[1;32m      3\u001b[0m \u001b[0mpessoas1\u001b[0m\u001b[0;34m\u001b[0m\u001b[0;34m\u001b[0m\u001b[0m\n",
            "\u001b[0;31mNameError\u001b[0m: name 'pessoas1' is not defined"
          ]
        }
      ]
    },
    {
      "cell_type": "code",
      "source": [
        "pessoas1"
      ],
      "metadata": {
        "colab": {
          "base_uri": "https://localhost:8080/"
        },
        "id": "HPeUKULLyVTM",
        "outputId": "d914a0ac-2aee-4e0d-d792-6f577af1b202"
      },
      "execution_count": null,
      "outputs": [
        {
          "output_type": "execute_result",
          "data": {
            "text/plain": [
              "{'nome1': 'Fernando', 'nome2': 'Gustavo', 'idade2': 18, 'sexo': 'M'}"
            ]
          },
          "metadata": {},
          "execution_count": 37
        }
      ]
    },
    {
      "cell_type": "code",
      "source": [],
      "metadata": {
        "id": "ER4v77pqyyi6"
      },
      "execution_count": null,
      "outputs": []
    },
    {
      "cell_type": "markdown",
      "source": [
        "**ITERANDO E IMPRIMINDO UM DICIONÁRIO**\n",
        "\n",
        "\n"
      ],
      "metadata": {
        "id": "c2R6rqxEy2Y6"
      }
    },
    {
      "cell_type": "code",
      "source": [
        "for k, v in pessoas.items():\n",
        "  print(f'{k} = {v}')"
      ],
      "metadata": {
        "colab": {
          "base_uri": "https://localhost:8080/",
          "height": 183
        },
        "id": "F81ZMTGKy56I",
        "outputId": "1a270d5b-8e4c-4b0e-fbc4-c06d870ed800"
      },
      "execution_count": null,
      "outputs": [
        {
          "output_type": "error",
          "ename": "NameError",
          "evalue": "ignored",
          "traceback": [
            "\u001b[0;31m---------------------------------------------------------------------------\u001b[0m",
            "\u001b[0;31mNameError\u001b[0m                                 Traceback (most recent call last)",
            "\u001b[0;32m<ipython-input-3-dbda61396e70>\u001b[0m in \u001b[0;36m<cell line: 1>\u001b[0;34m()\u001b[0m\n\u001b[0;32m----> 1\u001b[0;31m \u001b[0;32mfor\u001b[0m \u001b[0mk\u001b[0m\u001b[0;34m,\u001b[0m \u001b[0mv\u001b[0m \u001b[0;32min\u001b[0m \u001b[0mpessoas\u001b[0m\u001b[0;34m.\u001b[0m\u001b[0mitems\u001b[0m\u001b[0;34m(\u001b[0m\u001b[0;34m)\u001b[0m\u001b[0;34m:\u001b[0m\u001b[0;34m\u001b[0m\u001b[0;34m\u001b[0m\u001b[0m\n\u001b[0m\u001b[1;32m      2\u001b[0m   \u001b[0mprint\u001b[0m\u001b[0;34m(\u001b[0m\u001b[0;34mf'{k} = {v}'\u001b[0m\u001b[0;34m)\u001b[0m\u001b[0;34m\u001b[0m\u001b[0;34m\u001b[0m\u001b[0m\n",
            "\u001b[0;31mNameError\u001b[0m: name 'pessoas' is not defined"
          ]
        }
      ]
    },
    {
      "cell_type": "code",
      "source": [],
      "metadata": {
        "id": "tzvskRazzUTp"
      },
      "execution_count": null,
      "outputs": []
    },
    {
      "cell_type": "markdown",
      "source": [
        "**CARREGANDO UM DICIONÁRIO COM O INPUT**"
      ],
      "metadata": {
        "id": "_bDqOFJ4z474"
      }
    },
    {
      "cell_type": "code",
      "source": [
        "dados = dict()\n",
        "\n",
        "dados['nome'] = input('Nome: ')\n",
        "dados['idade'] = int(input('Idade: '))\n",
        "dados['salario'] = float(input('Salário: '))\n",
        "\n",
        "print()\n",
        "\n",
        "for k,v in dados.items():\n",
        "  print(f'{k} = {v}')"
      ],
      "metadata": {
        "colab": {
          "base_uri": "https://localhost:8080/"
        },
        "id": "I9ni_n38z-HW",
        "outputId": "6985af72-f52a-4240-83a0-bcf27f90e078"
      },
      "execution_count": null,
      "outputs": [
        {
          "output_type": "stream",
          "name": "stdout",
          "text": [
            "Nome: filipe\n",
            "Idade: 334\n",
            "Salário: 545566\n",
            "\n",
            "nome = filipe\n",
            "idade = 334\n",
            "salario = 545566.0\n"
          ]
        }
      ]
    },
    {
      "cell_type": "markdown",
      "source": [
        "ESTRUTURA DE DADOS - VETOR:\n",
        "\n",
        "\n",
        "\n"
      ],
      "metadata": {
        "id": "i3Ngxqpmf0GQ"
      }
    },
    {
      "cell_type": "markdown",
      "source": [
        "Os vetores e as matrizes são estruturas de dados estáticas e que suportam apenas um tipo de dado. Quando criamos um vetor numpy vazio, por padrão, é criado o tipo float. Uma vez definido seu tamanho, não é mais possível alterar. São acessador tbm por indices que iniciam em zero, ocupam menos espaço na memória que as listas e são mais rápidos tbm. Para criá-lo é necessário importar a biblioteca numpy."
      ],
      "metadata": {
        "id": "njhGogDumIyr"
      }
    },
    {
      "cell_type": "code",
      "source": [
        "import numpy as np\n",
        "\n",
        "vetor =  np.array([1,2,3,4,5])"
      ],
      "metadata": {
        "id": "VMKeqnnQmUWZ"
      },
      "execution_count": null,
      "outputs": []
    },
    {
      "cell_type": "code",
      "source": [
        "print(vetor)"
      ],
      "metadata": {
        "colab": {
          "base_uri": "https://localhost:8080/"
        },
        "id": "cRBe1J3jnizX",
        "outputId": "8ba7c8ef-2b07-4146-9984-eb7d1d3cf56c"
      },
      "execution_count": null,
      "outputs": [
        {
          "output_type": "stream",
          "name": "stdout",
          "text": [
            "[1 2 3 4 5]\n"
          ]
        }
      ]
    },
    {
      "cell_type": "code",
      "source": [
        "type(vetor) #mostra o tipo da variável"
      ],
      "metadata": {
        "colab": {
          "base_uri": "https://localhost:8080/"
        },
        "id": "55NMPCernlPm",
        "outputId": "5c3a4ec9-a6ef-4a24-b221-1ede3d943b8e"
      },
      "execution_count": null,
      "outputs": [
        {
          "output_type": "execute_result",
          "data": {
            "text/plain": [
              "numpy.ndarray"
            ]
          },
          "metadata": {},
          "execution_count": 4
        }
      ]
    },
    {
      "cell_type": "code",
      "source": [
        "vetor.dtype #trás o tipo do vetor"
      ],
      "metadata": {
        "colab": {
          "base_uri": "https://localhost:8080/"
        },
        "id": "HT48jee4nqyl",
        "outputId": "9b271cd6-ea80-489e-a248-1cd071941756"
      },
      "execution_count": null,
      "outputs": [
        {
          "output_type": "execute_result",
          "data": {
            "text/plain": [
              "dtype('int64')"
            ]
          },
          "metadata": {},
          "execution_count": 6
        }
      ]
    },
    {
      "cell_type": "code",
      "source": [
        "vetor1 = np.array([2.5, 3.7, 8.2])"
      ],
      "metadata": {
        "id": "4DzM4Z4Vn1AF"
      },
      "execution_count": null,
      "outputs": []
    },
    {
      "cell_type": "code",
      "source": [
        "vetor1.dtype #mostra o tipo da variável"
      ],
      "metadata": {
        "colab": {
          "base_uri": "https://localhost:8080/"
        },
        "id": "eIx_-EzGoGPU",
        "outputId": "f9061c02-63b4-4351-ff18-dd1c9165e17e"
      },
      "execution_count": null,
      "outputs": [
        {
          "output_type": "execute_result",
          "data": {
            "text/plain": [
              "dtype('float64')"
            ]
          },
          "metadata": {},
          "execution_count": 8
        }
      ]
    },
    {
      "cell_type": "code",
      "source": [
        "nomes = np.array(['Ana', 'Paulo', 'Gustavo'])"
      ],
      "metadata": {
        "id": "i4-PMdG9oJQk"
      },
      "execution_count": null,
      "outputs": []
    },
    {
      "cell_type": "code",
      "source": [
        "nomes.dtype #a string tem que ser menor que 7 , mostra até que tamanho a string pode ser"
      ],
      "metadata": {
        "colab": {
          "base_uri": "https://localhost:8080/"
        },
        "id": "VTN2Rzd4oYSF",
        "outputId": "d9c37c57-ccc3-4af4-ce82-45cd5c4c8812"
      },
      "execution_count": null,
      "outputs": [
        {
          "output_type": "execute_result",
          "data": {
            "text/plain": [
              "dtype('<U7')"
            ]
          },
          "metadata": {},
          "execution_count": 10
        }
      ]
    },
    {
      "cell_type": "code",
      "source": [
        "vetor[2] #retorna o valor da posição"
      ],
      "metadata": {
        "colab": {
          "base_uri": "https://localhost:8080/"
        },
        "id": "0D8rmM3NoZ4E",
        "outputId": "8fcba59f-92ee-4a4c-b0fe-45f80b202bc1"
      },
      "execution_count": null,
      "outputs": [
        {
          "output_type": "execute_result",
          "data": {
            "text/plain": [
              "3"
            ]
          },
          "metadata": {},
          "execution_count": 11
        }
      ]
    },
    {
      "cell_type": "code",
      "source": [
        "vetor[3] = 50  #sobrepões a posição 3 com 50"
      ],
      "metadata": {
        "id": "43MhgAu8ol9U",
        "colab": {
          "base_uri": "https://localhost:8080/",
          "height": 165
        },
        "outputId": "c7082b5c-5e50-4e40-df29-49fb78c70ba1"
      },
      "execution_count": null,
      "outputs": [
        {
          "output_type": "error",
          "ename": "NameError",
          "evalue": "ignored",
          "traceback": [
            "\u001b[0;31m---------------------------------------------------------------------------\u001b[0m",
            "\u001b[0;31mNameError\u001b[0m                                 Traceback (most recent call last)",
            "\u001b[0;32m<ipython-input-3-5a33c8b340be>\u001b[0m in \u001b[0;36m<cell line: 1>\u001b[0;34m()\u001b[0m\n\u001b[0;32m----> 1\u001b[0;31m \u001b[0mvetor1\u001b[0m\u001b[0;34m[\u001b[0m\u001b[0;36m3\u001b[0m\u001b[0;34m]\u001b[0m \u001b[0;34m=\u001b[0m \u001b[0;36m50\u001b[0m  \u001b[0;31m#sobrepões a posição 3 com 50\u001b[0m\u001b[0;34m\u001b[0m\u001b[0;34m\u001b[0m\u001b[0m\n\u001b[0m",
            "\u001b[0;31mNameError\u001b[0m: name 'vetor1' is not defined"
          ]
        }
      ]
    },
    {
      "cell_type": "code",
      "source": [
        "vetor"
      ],
      "metadata": {
        "colab": {
          "base_uri": "https://localhost:8080/",
          "height": 165
        },
        "id": "8Iob9IAVoue0",
        "outputId": "ccd50c53-bad0-46b6-a13c-479c30a6119f"
      },
      "execution_count": null,
      "outputs": [
        {
          "output_type": "error",
          "ename": "NameError",
          "evalue": "ignored",
          "traceback": [
            "\u001b[0;31m---------------------------------------------------------------------------\u001b[0m",
            "\u001b[0;31mNameError\u001b[0m                                 Traceback (most recent call last)",
            "\u001b[0;32m<ipython-input-5-db71d14ba8df>\u001b[0m in \u001b[0;36m<cell line: 1>\u001b[0;34m()\u001b[0m\n\u001b[0;32m----> 1\u001b[0;31m \u001b[0mvetor\u001b[0m\u001b[0;34m\u001b[0m\u001b[0;34m\u001b[0m\u001b[0m\n\u001b[0m",
            "\u001b[0;31mNameError\u001b[0m: name 'vetor' is not defined"
          ]
        }
      ]
    },
    {
      "cell_type": "code",
      "source": [
        "vetor.sort() #coloca o vetor em ordem crescente"
      ],
      "metadata": {
        "id": "zjI1jZVfo2Ez"
      },
      "execution_count": null,
      "outputs": []
    },
    {
      "cell_type": "code",
      "source": [
        "vetor"
      ],
      "metadata": {
        "colab": {
          "base_uri": "https://localhost:8080/"
        },
        "id": "g0lgqhh3peOi",
        "outputId": "8fe60bf9-ef7a-4235-dbbc-f83eb288e539"
      },
      "execution_count": null,
      "outputs": [
        {
          "output_type": "execute_result",
          "data": {
            "text/plain": [
              "array([ 1,  2,  3,  5, 50])"
            ]
          },
          "metadata": {},
          "execution_count": 17
        }
      ]
    },
    {
      "cell_type": "code",
      "source": [
        "vetor + vetor #soma o vetor com ele mesmo"
      ],
      "metadata": {
        "colab": {
          "base_uri": "https://localhost:8080/"
        },
        "id": "A8HW5UhJphAi",
        "outputId": "e85645ea-7463-492b-e589-c82ca6ec1aad"
      },
      "execution_count": null,
      "outputs": [
        {
          "output_type": "execute_result",
          "data": {
            "text/plain": [
              "array([  2,   4,   6,  10, 100])"
            ]
          },
          "metadata": {},
          "execution_count": 18
        }
      ]
    },
    {
      "cell_type": "code",
      "source": [
        "vetor * 2\n"
      ],
      "metadata": {
        "colab": {
          "base_uri": "https://localhost:8080/"
        },
        "id": "SEdcZR4pplRC",
        "outputId": "3cd3d2b2-3365-46ff-dbae-5a962d772c8f"
      },
      "execution_count": null,
      "outputs": [
        {
          "output_type": "execute_result",
          "data": {
            "text/plain": [
              "array([  2,   4,   6,  10, 100])"
            ]
          },
          "metadata": {},
          "execution_count": 19
        }
      ]
    },
    {
      "cell_type": "code",
      "source": [
        "del vetor #apaga todo o vetor\n",
        "\n",
        "vetor"
      ],
      "metadata": {
        "colab": {
          "base_uri": "https://localhost:8080/",
          "height": 200
        },
        "id": "DlsaL2Rxpvqh",
        "outputId": "e67d7b40-dfad-48d2-ef8e-172ab56cec27"
      },
      "execution_count": null,
      "outputs": [
        {
          "output_type": "error",
          "ename": "NameError",
          "evalue": "ignored",
          "traceback": [
            "\u001b[0;31m---------------------------------------------------------------------------\u001b[0m",
            "\u001b[0;31mNameError\u001b[0m                                 Traceback (most recent call last)",
            "\u001b[0;32m<ipython-input-21-eb2a178f672d>\u001b[0m in \u001b[0;36m<cell line: 1>\u001b[0;34m()\u001b[0m\n\u001b[0;32m----> 1\u001b[0;31m \u001b[0;32mdel\u001b[0m \u001b[0mvetor\u001b[0m \u001b[0;31m#apaga todo o vetor\u001b[0m\u001b[0;34m\u001b[0m\u001b[0;34m\u001b[0m\u001b[0m\n\u001b[0m\u001b[1;32m      2\u001b[0m \u001b[0;34m\u001b[0m\u001b[0m\n\u001b[1;32m      3\u001b[0m \u001b[0mvetor\u001b[0m\u001b[0;34m\u001b[0m\u001b[0;34m\u001b[0m\u001b[0m\n",
            "\u001b[0;31mNameError\u001b[0m: name 'vetor' is not defined"
          ]
        }
      ]
    },
    {
      "cell_type": "code",
      "source": [
        "nomes"
      ],
      "metadata": {
        "colab": {
          "base_uri": "https://localhost:8080/"
        },
        "id": "qCWxxmjMqHX4",
        "outputId": "bfff04da-dda4-4235-a4f7-fa5178ccf1d8"
      },
      "execution_count": null,
      "outputs": [
        {
          "output_type": "execute_result",
          "data": {
            "text/plain": [
              "array(['Ana', 'Paulo', 'Gustavo'], dtype='<U7')"
            ]
          },
          "metadata": {},
          "execution_count": 22
        }
      ]
    },
    {
      "cell_type": "code",
      "source": [
        "#CRIAR UM VETOR COM ARANGE\n",
        "\n",
        "vetor = np.arange(10) #cria um vetor com númros sequenciais\n"
      ],
      "metadata": {
        "id": "xJEfcKD1qO9Y"
      },
      "execution_count": null,
      "outputs": []
    },
    {
      "cell_type": "code",
      "source": [
        "vetor"
      ],
      "metadata": {
        "colab": {
          "base_uri": "https://localhost:8080/"
        },
        "id": "fhAWC8VDqvSj",
        "outputId": "7142738c-b944-4124-aba3-aa2a1db94e3b"
      },
      "execution_count": null,
      "outputs": [
        {
          "output_type": "execute_result",
          "data": {
            "text/plain": [
              "array([0, 1, 2, 3, 4, 5, 6, 7, 8, 9])"
            ]
          },
          "metadata": {},
          "execution_count": 26
        }
      ]
    },
    {
      "cell_type": "code",
      "source": [
        "#CRIA UM VETOR COM NÚMEROS ALEATÓRIOS\n",
        "\n",
        "import random\n",
        "\n",
        "\n",
        "#cria um vetor com 10 números dentro da faixa de 0 a 100\n",
        "vetor1 = np.random.randint(100, size=(10))\n",
        "\n",
        "vetor1"
      ],
      "metadata": {
        "colab": {
          "base_uri": "https://localhost:8080/"
        },
        "id": "Nf27bFnOqvu_",
        "outputId": "56e3f4e1-ad52-47cc-d3b1-fbf37e84fd60"
      },
      "execution_count": null,
      "outputs": [
        {
          "output_type": "execute_result",
          "data": {
            "text/plain": [
              "array([65, 28, 16, 24, 86,  2, 81, 64, 83, 55])"
            ]
          },
          "metadata": {},
          "execution_count": 27
        }
      ]
    },
    {
      "cell_type": "markdown",
      "source": [
        "**ALGUMAS FUNÇÕES USADAS COM VETORES**:\n"
      ],
      "metadata": {
        "id": "phlFdP1FrqIx"
      }
    },
    {
      "cell_type": "code",
      "source": [
        "np.max(vetor1) #retorna o maior valor do vetor"
      ],
      "metadata": {
        "colab": {
          "base_uri": "https://localhost:8080/"
        },
        "id": "23o00eB7rvxA",
        "outputId": "d172c209-cf19-4f84-f04e-48b6d9d333f1"
      },
      "execution_count": null,
      "outputs": [
        {
          "output_type": "execute_result",
          "data": {
            "text/plain": [
              "86"
            ]
          },
          "metadata": {},
          "execution_count": 28
        }
      ]
    },
    {
      "cell_type": "code",
      "source": [
        "np.min(vetor1) #retorna o menor valor do vetor"
      ],
      "metadata": {
        "colab": {
          "base_uri": "https://localhost:8080/"
        },
        "id": "yz5H4RbRr0pu",
        "outputId": "4d0adfd7-2387-45aa-e998-ee852409b128"
      },
      "execution_count": null,
      "outputs": [
        {
          "output_type": "execute_result",
          "data": {
            "text/plain": [
              "2"
            ]
          },
          "metadata": {},
          "execution_count": 29
        }
      ]
    },
    {
      "cell_type": "code",
      "source": [
        "np.mean(vetor1) #retorna a média aritmética dos valores do vetor"
      ],
      "metadata": {
        "colab": {
          "base_uri": "https://localhost:8080/"
        },
        "id": "TeWgfxlNr3Le",
        "outputId": "68073a94-fc02-4e1f-83f6-dbb6d3678206"
      },
      "execution_count": null,
      "outputs": [
        {
          "output_type": "execute_result",
          "data": {
            "text/plain": [
              "50.4"
            ]
          },
          "metadata": {},
          "execution_count": 30
        }
      ]
    },
    {
      "cell_type": "code",
      "source": [
        "np.sum(vetor1) #retorna a soma doa valroes do vetor"
      ],
      "metadata": {
        "colab": {
          "base_uri": "https://localhost:8080/"
        },
        "id": "1qbCGcGKr64e",
        "outputId": "27a464e7-4711-42c5-9487-776da601c48a"
      },
      "execution_count": null,
      "outputs": [
        {
          "output_type": "execute_result",
          "data": {
            "text/plain": [
              "504"
            ]
          },
          "metadata": {},
          "execution_count": 31
        }
      ]
    },
    {
      "cell_type": "code",
      "source": [],
      "metadata": {
        "id": "cTRknliHsHjt"
      },
      "execution_count": null,
      "outputs": []
    },
    {
      "cell_type": "markdown",
      "source": [],
      "metadata": {
        "id": "lu44dFQrsbUh"
      }
    },
    {
      "cell_type": "markdown",
      "source": [
        "**PARA CRIAR UM VETOR VÁZIO**:"
      ],
      "metadata": {
        "id": "E4Hw35B8sbV1"
      }
    },
    {
      "cell_type": "code",
      "source": [
        "vetor3 = np.empty(5) #cria um vetor vazio de 5 posições"
      ],
      "metadata": {
        "id": "w5ilOyDEsuvH"
      },
      "execution_count": null,
      "outputs": []
    },
    {
      "cell_type": "code",
      "source": [
        "vetor3.dtype"
      ],
      "metadata": {
        "colab": {
          "base_uri": "https://localhost:8080/"
        },
        "id": "-sGqeeFbsvT8",
        "outputId": "2d5adc64-5914-46b9-e878-3e97ae6730d6"
      },
      "execution_count": null,
      "outputs": [
        {
          "output_type": "execute_result",
          "data": {
            "text/plain": [
              "dtype('float64')"
            ]
          },
          "metadata": {},
          "execution_count": 35
        }
      ]
    },
    {
      "cell_type": "code",
      "source": [
        "vetor3"
      ],
      "metadata": {
        "colab": {
          "base_uri": "https://localhost:8080/"
        },
        "id": "oxbkoLyysxts",
        "outputId": "79de73e5-5c23-45de-b987-6dc712b05642"
      },
      "execution_count": null,
      "outputs": [
        {
          "output_type": "execute_result",
          "data": {
            "text/plain": [
              "array([2.12518741e-316, 0.00000000e+000, 7.49088705e+247, 9.76518510e+199,\n",
              "       8.69555537e-322])"
            ]
          },
          "metadata": {},
          "execution_count": 36
        }
      ]
    },
    {
      "cell_type": "code",
      "source": [
        "vetor3[0] = 7\n",
        "vetor3[1] = 12\n",
        "vetor3[2] = 55\n",
        "vetor3[3] = 35\n",
        "vetor3[4] = 10"
      ],
      "metadata": {
        "id": "dp4baq0Fs1KM"
      },
      "execution_count": null,
      "outputs": []
    },
    {
      "cell_type": "code",
      "source": [
        "vetor3"
      ],
      "metadata": {
        "colab": {
          "base_uri": "https://localhost:8080/"
        },
        "id": "tsBGf_N2uI1K",
        "outputId": "835802ea-8ba0-48e7-c4f0-545d6d762269"
      },
      "execution_count": null,
      "outputs": [
        {
          "output_type": "execute_result",
          "data": {
            "text/plain": [
              "array([ 7., 12., 55., 35., 10.])"
            ]
          },
          "metadata": {},
          "execution_count": 38
        }
      ]
    },
    {
      "cell_type": "code",
      "source": [],
      "metadata": {
        "id": "fB-k1Op9uJnp"
      },
      "execution_count": null,
      "outputs": []
    },
    {
      "cell_type": "markdown",
      "source": [
        "**CARREGANDO UM VETOR PELO TECLADO:**"
      ],
      "metadata": {
        "id": "wYc9Ts7xuU-e"
      }
    },
    {
      "cell_type": "code",
      "source": [],
      "metadata": {
        "id": "DKGTqLl7uaf9"
      },
      "execution_count": null,
      "outputs": []
    },
    {
      "cell_type": "code",
      "source": [
        "valores = np.empty(5) #cria atumaticamente um vetor tipo float\n",
        "\n",
        "for i in range(5):\n",
        "  valores[i] = input('Número:')\n",
        "\n",
        "print(valores)"
      ],
      "metadata": {
        "colab": {
          "base_uri": "https://localhost:8080/"
        },
        "id": "dIM06CR5uahC",
        "outputId": "b4ac9c1f-d170-47c3-9fe0-6c0c34bfe642"
      },
      "execution_count": null,
      "outputs": [
        {
          "output_type": "stream",
          "name": "stdout",
          "text": [
            "Número:1\n",
            "Número:2\n",
            "Número:3\n",
            "Número:4\n",
            "Número:5\n",
            "[1. 2. 3. 4. 5.]\n"
          ]
        }
      ]
    },
    {
      "cell_type": "code",
      "source": [
        "valores.dtype"
      ],
      "metadata": {
        "colab": {
          "base_uri": "https://localhost:8080/"
        },
        "id": "1PX3__QvwWmx",
        "outputId": "2b6c4426-fcf8-4bb6-88c6-ddfddadb8f6d"
      },
      "execution_count": null,
      "outputs": [
        {
          "output_type": "execute_result",
          "data": {
            "text/plain": [
              "dtype('float64')"
            ]
          },
          "metadata": {},
          "execution_count": 42
        }
      ]
    },
    {
      "cell_type": "code",
      "source": [
        "valores1 = np.empty(5,dtype='int64') #para criar um vetor do tipo inteiro\n",
        "for i in range(5):\n",
        "  valores[i] = input('Número:')\n",
        "\n",
        "print(valores1)"
      ],
      "metadata": {
        "colab": {
          "base_uri": "https://localhost:8080/"
        },
        "id": "J1mrFjDFuslJ",
        "outputId": "c930f661-e747-49a2-ef36-18478208f174"
      },
      "execution_count": null,
      "outputs": [
        {
          "output_type": "stream",
          "name": "stdout",
          "text": [
            "Número:2\n",
            "Número:5\n",
            "Número:5\n",
            "Número:7\n",
            "Número:8\n",
            "[2. 5. 5. 7. 8.]\n"
          ]
        }
      ]
    },
    {
      "cell_type": "code",
      "source": [
        "valores1.dtype"
      ],
      "metadata": {
        "colab": {
          "base_uri": "https://localhost:8080/"
        },
        "id": "oBdNwG42wLMg",
        "outputId": "022533b9-227f-4116-b519-7ea941f9d66e"
      },
      "execution_count": null,
      "outputs": [
        {
          "output_type": "execute_result",
          "data": {
            "text/plain": [
              "dtype('int64')"
            ]
          },
          "metadata": {},
          "execution_count": 43
        }
      ]
    },
    {
      "cell_type": "code",
      "source": [
        "nomes = np.empty(5, dtype='U15') #para criar um vetor do tipo inteiro\n",
        "for i in range(5):\n",
        "  nomes[i] = input('Nomes:')\n",
        "\n",
        "print(nomes)"
      ],
      "metadata": {
        "colab": {
          "base_uri": "https://localhost:8080/"
        },
        "id": "FqrLei0cwdOF",
        "outputId": "723cc155-5f4a-4a37-f95e-18f3b622c85e"
      },
      "execution_count": null,
      "outputs": [
        {
          "output_type": "stream",
          "name": "stdout",
          "text": [
            "Nomes:Filipe\n",
            "Nomes:Julia\n",
            "Nomes:Fabio\n",
            "Nomes:Duda\n",
            "Nomes:Gustavo\n",
            "['Filipe' 'Julia' 'Fabio' 'Duda' 'Gustavo']\n"
          ]
        }
      ]
    },
    {
      "cell_type": "markdown",
      "source": [
        "\n",
        "**MATRIZES:**\n"
      ],
      "metadata": {
        "id": "BuKl8drOxv92"
      }
    },
    {
      "cell_type": "code",
      "source": [
        "matriz = np.array([[1,2,3],[4,5,6]])"
      ],
      "metadata": {
        "id": "ftnldwv7yIUQ"
      },
      "execution_count": null,
      "outputs": []
    },
    {
      "cell_type": "code",
      "source": [
        "matriz\n"
      ],
      "metadata": {
        "colab": {
          "base_uri": "https://localhost:8080/"
        },
        "id": "VuQvREgdyaBc",
        "outputId": "ae7c315c-bae9-4c2a-bf1a-fd00e79dc64f"
      },
      "execution_count": null,
      "outputs": [
        {
          "output_type": "execute_result",
          "data": {
            "text/plain": [
              "array([[1, 2, 3],\n",
              "       [4, 5, 6]])"
            ]
          },
          "metadata": {},
          "execution_count": 49
        }
      ]
    },
    {
      "cell_type": "code",
      "source": [
        "matriz.shape #retorna a dimensão da matriz"
      ],
      "metadata": {
        "colab": {
          "base_uri": "https://localhost:8080/"
        },
        "id": "sZgwahgbybdR",
        "outputId": "c594ac87-bfa9-4637-eadf-4ff59e4f3faf"
      },
      "execution_count": null,
      "outputs": [
        {
          "output_type": "execute_result",
          "data": {
            "text/plain": [
              "(2, 3)"
            ]
          },
          "metadata": {},
          "execution_count": 50
        }
      ]
    },
    {
      "cell_type": "code",
      "source": [
        "matriz[0,2]"
      ],
      "metadata": {
        "colab": {
          "base_uri": "https://localhost:8080/"
        },
        "id": "rsjLK6C3yn9P",
        "outputId": "d9813288-2002-4735-e8c1-0a9c3f0eb25e"
      },
      "execution_count": null,
      "outputs": [
        {
          "output_type": "execute_result",
          "data": {
            "text/plain": [
              "3"
            ]
          },
          "metadata": {},
          "execution_count": 51
        }
      ]
    },
    {
      "cell_type": "code",
      "source": [],
      "metadata": {
        "id": "8dnhYIenytFL"
      },
      "execution_count": null,
      "outputs": []
    },
    {
      "cell_type": "markdown",
      "source": [
        "**CRIANDO MATRIZES ESPECÍFICAS**"
      ],
      "metadata": {
        "id": "LfJ3p88ey_2k"
      }
    },
    {
      "cell_type": "code",
      "source": [
        "#MATRIZ IDENTIDADE:  diagonal principal com 1\n",
        "\n",
        "I = np.eye(5)\n",
        "print(I)"
      ],
      "metadata": {
        "colab": {
          "base_uri": "https://localhost:8080/"
        },
        "id": "XTFUayNmzFoW",
        "outputId": "4bce31db-fc65-4925-a59e-d21d05f8dd32"
      },
      "execution_count": null,
      "outputs": [
        {
          "output_type": "stream",
          "name": "stdout",
          "text": [
            "[[1. 0. 0. 0. 0.]\n",
            " [0. 1. 0. 0. 0.]\n",
            " [0. 0. 1. 0. 0.]\n",
            " [0. 0. 0. 1. 0.]\n",
            " [0. 0. 0. 0. 1.]]\n"
          ]
        }
      ]
    },
    {
      "cell_type": "code",
      "source": [
        "#MATRIZ DIAGONAL: DIAGONAL PRINCIPAL COM NUMEROS DE 0 A 5\n",
        "\n",
        "D = np.diag(np.arange(5))\n",
        "print(D)"
      ],
      "metadata": {
        "colab": {
          "base_uri": "https://localhost:8080/"
        },
        "id": "gwY7D2XlziIT",
        "outputId": "50f60e6b-82ba-435b-ea7b-4fa2b5276124"
      },
      "execution_count": null,
      "outputs": [
        {
          "output_type": "stream",
          "name": "stdout",
          "text": [
            "[[0 0 0 0 0]\n",
            " [0 1 0 0 0]\n",
            " [0 0 2 0 0]\n",
            " [0 0 0 3 0]\n",
            " [0 0 0 0 4]]\n"
          ]
        }
      ]
    },
    {
      "cell_type": "code",
      "source": [
        "#MATRIZ DE ZEROS\n",
        "\n",
        "Z = np.zeros([3,3])\n",
        "print(Z)\n",
        "\n"
      ],
      "metadata": {
        "colab": {
          "base_uri": "https://localhost:8080/"
        },
        "id": "R8b18WzEzTRR",
        "outputId": "26566b60-ec68-48df-e130-568a3a077ae8"
      },
      "execution_count": null,
      "outputs": [
        {
          "output_type": "stream",
          "name": "stdout",
          "text": [
            "[[0. 0. 0.]\n",
            " [0. 0. 0.]\n",
            " [0. 0. 0.]]\n"
          ]
        }
      ]
    },
    {
      "cell_type": "code",
      "source": [
        "#MATRIZ DE UNS\n",
        "\n",
        "U = np.ones([3,3])\n",
        "print(U)"
      ],
      "metadata": {
        "colab": {
          "base_uri": "https://localhost:8080/"
        },
        "id": "JehDq0Jz0UAp",
        "outputId": "70f8bc6f-7f8c-4018-96fb-9f02f54d718c"
      },
      "execution_count": null,
      "outputs": [
        {
          "output_type": "stream",
          "name": "stdout",
          "text": [
            "[[1. 1. 1.]\n",
            " [1. 1. 1.]\n",
            " [1. 1. 1.]]\n"
          ]
        }
      ]
    },
    {
      "cell_type": "code",
      "source": [
        "#CRIANDO UMA MATRIZ COM NÚMEROS ALEATÓRIOS\n",
        "\n",
        "matriz = np.random.randint(100, size=(5,3))\n",
        "print(matriz)\n",
        "\n"
      ],
      "metadata": {
        "colab": {
          "base_uri": "https://localhost:8080/"
        },
        "id": "0M4BDuDS0cZN",
        "outputId": "bdb3b5bd-828f-4464-9f7f-4e2210185178"
      },
      "execution_count": null,
      "outputs": [
        {
          "output_type": "stream",
          "name": "stdout",
          "text": [
            "[[96 17 57]\n",
            " [11 48 88]\n",
            " [22 36 16]\n",
            " [54  6 45]\n",
            " [31  5 57]]\n"
          ]
        }
      ]
    },
    {
      "cell_type": "code",
      "source": [],
      "metadata": {
        "id": "fEUmvEQp1eK0"
      },
      "execution_count": null,
      "outputs": []
    }
  ]
}